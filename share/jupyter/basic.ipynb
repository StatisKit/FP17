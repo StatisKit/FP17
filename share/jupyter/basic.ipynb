{
 "cells": [
  {
   "cell_type": "markdown",
   "metadata": {},
   "source": [
    "# Wrapping a basic library\n",
    "\n",
    "We here aim at presenting the interactive wrapping workflow.\n",
    "For the sake of simplicity, we consider a basic example of a *C++* library.\n",
    "\n",
    "First, we need:\n",
    "\n",
    "* to detect if the operating system (OS) is a Windows OS or a Unix OS."
   ]
  },
  {
   "cell_type": "code",
   "execution_count": 1,
   "metadata": {},
   "outputs": [],
   "source": [
    "import platform\n",
    "is_windows = any(platform.win32_ver())"
   ]
  },
  {
   "cell_type": "markdown",
   "metadata": {},
   "source": [
    "* to detect the version of *Python* installed and to save it in the `PYTHON_VERSION` environment variable."
   ]
  },
  {
   "cell_type": "code",
   "execution_count": 2,
   "metadata": {},
   "outputs": [],
   "source": [
    "import os\n",
    "import sys\n",
    "os.environ['PYTHON_VERSION'] = str(sys.version_info.major) + '.' + str(sys.version_info.minor)"
   ]
  },
  {
   "cell_type": "markdown",
   "metadata": {},
   "source": [
    "* to import **AutoWIG**."
   ]
  },
  {
   "cell_type": "code",
   "execution_count": 3,
   "metadata": {},
   "outputs": [],
   "source": [
    "import autowig"
   ]
  },
  {
   "cell_type": "markdown",
   "metadata": {},
   "source": [
    "Then, we need to install and compile the *C++* library.\n",
    "To do so, we use available **Conda** recipes."
   ]
  },
  {
   "cell_type": "code",
   "execution_count": 4,
   "metadata": {
    "scrolled": true
   },
   "outputs": [
    {
     "name": "stdout",
     "output_type": "stream",
     "text": [
      "BUILD START: libbasic-1.0.0-0\n",
      "    (actual version deferred until further download or env creation)\n",
      "\n",
      "The following NEW packages will be INSTALLED:\n",
      "\n",
      "    ca-certificates: 2017.7.27.1-0      conda-forge\n",
      "    certifi:         2017.7.27.1-py27_0 conda-forge\n",
      "    libtoolchain:    1.0.0-py27_0       local      \n",
      "    ncurses:         5.9-10             conda-forge\n",
      "    openssl:         1.0.2l-0           conda-forge\n",
      "    path.py:         10.3.1-py27_0      conda-forge\n",
      "    pip:             9.0.1-py27_0       conda-forge\n",
      "    python:          2.7.14-0           conda-forge\n",
      "    python-scons:    3.0.0-py27_0       local      \n",
      "    pyyaml:          3.12-py27_1        conda-forge\n",
      "    readline:        6.2-0              conda-forge\n",
      "    scons-tools:     1.0.0-py27_0       local      \n",
      "    setuptools:      36.3.0-py27_0      conda-forge\n",
      "    six:             1.11.0-py27_1      conda-forge\n",
      "    sqlite:          3.13.0-1           conda-forge\n",
      "    tk:              8.5.19-2           conda-forge\n",
      "    wheel:           0.30.0-py_1        conda-forge\n",
      "    yaml:            0.1.6-0            conda-forge\n",
      "    zlib:            1.2.8-3            conda-forge\n",
      "\n",
      "\n",
      "WARNING: conda-build appears to be out of date. You have version 2.1.17 but the\n",
      "latest version is 3.0.25. Run\n",
      "\n",
      "conda update -n root conda-build\n",
      "\n",
      "to get the latest version.\n",
      "\n",
      "Copying /Users/pfernique/Desktop/FP17 to /Users/pfernique/.miniconda/conda-bld/libbasic_1507558719737/work\n",
      "fatal: No names found, cannot describe anything.\n",
      "WARNING:conda_build.environ:Failed to obtain git tag information.  Are you using annotated tags?\n",
      "fatal: No names found, cannot describe anything.\n",
      "WARNING:conda_build.environ:Failed to obtain git tag information.  Are you using annotated tags?\n",
      "fatal: No names found, cannot describe anything.\n",
      "WARNING:conda_build.environ:Failed to obtain git tag information.  Are you using annotated tags?\n",
      "fatal: No names found, cannot describe anything.\n",
      "WARNING:conda_build.environ:Failed to obtain git tag information.  Are you using annotated tags?\n",
      "fatal: No names found, cannot describe anything.\n",
      "WARNING:conda_build.environ:Failed to obtain git tag information.  Are you using annotated tags?\n",
      "fatal: No names found, cannot describe anything.\n",
      "WARNING:conda_build.environ:Failed to obtain git tag information.  Are you using annotated tags?\n",
      "BUILD START (revised): libbasic-1.0.0-0\n",
      "Package: libbasic-1.0.0-0\n",
      "source tree in: /Users/pfernique/.miniconda/conda-bld/libbasic_1507558719737/work\n",
      "fatal: No names found, cannot describe anything.\n",
      "WARNING:conda_build.environ:Failed to obtain git tag information.  Are you using annotated tags?\n",
      "+ source /Users/pfernique/.miniconda/bin/activate /Users/pfernique/.miniconda/conda-bld/libbasic_1507558719737/_b_env_placehold_placehold_placehold_placehold_placehold_placehold_placehold_placehold_placehold_placehold_placehold_placehold_placehold_placehold_placehold_placehold_placehold_placehold_placeho\n",
      "+ scons cpp --prefix=/Users/pfernique/.miniconda/conda-bld/libbasic_1507558719737/_b_env_placehold_placehold_placehold_placehold_placehold_placehold_placehold_placehold_placehold_placehold_placehold_placehold_placehold_placehold_placehold_placehold_placehold_placehold_placeho -j8\n",
      "scons: Reading SConscript files ...\n",
      "scons: done reading SConscript files.\n",
      "scons: Building targets ...\n",
      "Install file: \"build/cpp/base.h\" as \"/Users/pfernique/.miniconda/conda-bld/libbasic_1507558719737/_b_env_placehold_placehold_placehold_placehold_placehold_placehold_placehold_placehold_placehold_placehold_placehold_placehold_placehold_placehold_placehold_placehold_placehold_placehold_placeho/include/basic/base.h\"\n",
      "Install file: \"build/cpp/binomial.h\" as \"/Users/pfernique/.miniconda/conda-bld/libbasic_1507558719737/_b_env_placehold_placehold_placehold_placehold_placehold_placehold_placehold_placehold_placehold_placehold_placehold_placehold_placehold_placehold_placehold_placehold_placehold_placehold_placeho/include/basic/binomial.h\"\n",
      "Install file: \"build/cpp/overload.h\" as \"/Users/pfernique/.miniconda/conda-bld/libbasic_1507558719737/_b_env_placehold_placehold_placehold_placehold_placehold_placehold_placehold_placehold_placehold_placehold_placehold_placehold_placehold_placehold_placehold_placehold_placehold_placehold_placeho/include/basic/overload.h\"\n",
      "g++ -o build/cpp/overload.os -c -x c++ -std=c++11 -stdlib=libc++ -fvisibility=hidden -ferror-limit=0 -fPIC -DLIBBASIC -I/Users/pfernique/.miniconda/conda-bld/libbasic_1507558719737/_b_env_placehold_placehold_placehold_placehold_placehold_placehold_placehold_placehold_placehold_placehold_placehold_placehold_placehold_placehold_placehold_placehold_placehold_placehold_placeho/include build/cpp/overload.cpp\n",
      "g++ -o build/cpp/binomial.os -c -x c++ -std=c++11 -stdlib=libc++ -fvisibility=hidden -ferror-limit=0 -fPIC -DLIBBASIC -I/Users/pfernique/.miniconda/conda-bld/libbasic_1507558719737/_b_env_placehold_placehold_placehold_placehold_placehold_placehold_placehold_placehold_placehold_placehold_placehold_placehold_placehold_placehold_placehold_placehold_placehold_placehold_placeho/include build/cpp/binomial.cpp\n",
      "g++ -o /Users/pfernique/.miniconda/conda-bld/libbasic_1507558719737/_b_env_placehold_placehold_placehold_placehold_placehold_placehold_placehold_placehold_placehold_placehold_placehold_placehold_placehold_placehold_placehold_placehold_placehold_placehold_placeho/lib/libbasic.dylib -dynamiclib build/cpp/binomial.os build/cpp/overload.os -L/Users/pfernique/.miniconda/conda-bld/libbasic_1507558719737/_b_env_placehold_placehold_placehold_placehold_placehold_placehold_placehold_placehold_placehold_placehold_placehold_placehold_placehold_placehold_placehold_placehold_placehold_placehold_placeho/lib -flat_namespace -undefined suppress\n",
      "scons: done building targets.\n",
      "INFO:conda_build.build:Packaging libbasic-1.0.0-0\n",
      "fatal: No names found, cannot describe anything.\n",
      "WARNING:conda_build.environ:Failed to obtain git tag information.  Are you using annotated tags?\n",
      "number of files: 4\n",
      "Fixing permissions\n",
      "Fixing linking of /Users/pfernique/.miniconda/conda-bld/libbasic_1507558719737/_b_env_placehold_placehold_placehold_placehold_placehold_placehold_placehold_placehold_placehold_placehold_placehold_placehold_placehold_placehold_placehold_placehold_placehold_placehold_placeho/lib/libbasic.dylib in /Users/pfernique/.miniconda/conda-bld/libbasic_1507558719737/_b_env_placehold_placehold_placehold_placehold_placehold_placehold_placehold_placehold_placehold_placehold_placehold_placehold_placehold_placehold_placehold_placehold_placehold_placehold_placeho/lib/libbasic.dylib\n",
      "Fixing linking of /usr/lib/libc++.1.dylib in /Users/pfernique/.miniconda/conda-bld/libbasic_1507558719737/_b_env_placehold_placehold_placehold_placehold_placehold_placehold_placehold_placehold_placehold_placehold_placehold_placehold_placehold_placehold_placehold_placehold_placehold_placehold_placeho/lib/libbasic.dylib\n",
      "Fixing linking of /usr/lib/libSystem.B.dylib in /Users/pfernique/.miniconda/conda-bld/libbasic_1507558719737/_b_env_placehold_placehold_placehold_placehold_placehold_placehold_placehold_placehold_placehold_placehold_placehold_placehold_placehold_placehold_placehold_placehold_placehold_placehold_placeho/lib/libbasic.dylib\n",
      "\n",
      "install_name_tool -add_rpath @loader_path/ /Users/pfernique/.miniconda/conda-bld/libbasic_1507558719737/_b_env_placehold_placehold_placehold_placehold_placehold_placehold_placehold_placehold_placehold_placehold_placehold_placehold_placehold_placehold_placehold_placehold_placehold_placehold_placeho/lib/libbasic.dylib\n",
      "\n",
      "Fixing permissions\n",
      "/Users/pfernique/.miniconda/conda-bld/osx-64/libbasic-1.0.0-0.tar.bz2\n",
      "updating index in: /Users/pfernique/.miniconda/conda-bld\n",
      "updating index in: /Users/pfernique/.miniconda/conda-bld/noarch\n",
      "updating index in: /Users/pfernique/.miniconda/conda-bld/osx-64\n",
      "updating: libbasic-1.0.0-0.tar.bz2\n",
      "updating index in: /Users/pfernique/.miniconda/conda-bld\n",
      "Nothing to test for: /Users/pfernique/.miniconda/conda-bld/osx-64/libbasic-1.0.0-0.tar.bz2\n",
      "INFO:conda_build.config:--dirty flag and --keep-old-work not specified.Removing build/test folder after successful build/test.\n",
      "\n",
      "# Automatic uploading is disabled\n",
      "# If you want to upload package(s) to anaconda.org later, type:\n",
      "\n",
      "anaconda upload /Users/pfernique/.miniconda/conda-bld/osx-64/libbasic-1.0.0-0.tar.bz2\n",
      "\n",
      "# To have conda build upload to anaconda.org automatically, use\n",
      "# $ conda config --set anaconda_upload yes\n",
      "\n",
      "anaconda_upload is not set.  Not uploading wheels: []\n",
      "\n",
      "\n",
      "\n",
      "####################################################################################\n",
      "Source and build intermediates have been left in /Users/pfernique/.miniconda/conda-bld.\n",
      "There are currently 19 accumulated.\n",
      "To remove them, you can run the ```conda build purge``` command\n"
     ]
    },
    {
     "name": "stdout",
     "output_type": "stream",
     "text": [
      "Fetching package metadata .................\n",
      "Solving package specifications: .\n",
      "\n",
      "Package plan for installation in environment /Users/pfernique/.miniconda/envs/FP17:\n",
      "\n",
      "The following NEW packages will be INSTALLED:\n",
      "\n",
      "    libbasic: 1.0.0-0 local\n",
      "\n"
     ]
    }
   ],
   "source": [
    "if is_windows:\n",
    "    !conda build --python=%PYTHON_VERSION% ..\\..\\bin\\conda\\libbasic -c statiskit -c conda-forge\n",
    "else:\n",
    "    !conda build --python=$PYTHON_VERSION ../../bin/conda/libbasic -c statiskit -c conda-forge\n",
    "!conda install -y libbasic --use-local -c statiskit -c conda-forge --force"
   ]
  },
  {
   "cell_type": "markdown",
   "metadata": {},
   "source": [
    "Once these preliminaries are done, we can proceed to the actual generation of wrappers for this *C++* library.\n",
    "For this, we create an empty Abstract Semantic Graph (ASG)."
   ]
  },
  {
   "cell_type": "code",
   "execution_count": 5,
   "metadata": {},
   "outputs": [],
   "source": [
    "asg = autowig.AbstractSemanticGraph()"
   ]
  },
  {
   "cell_type": "markdown",
   "metadata": {},
   "source": [
    "We then parse the headers of this *C++* library with relevant compilation flags."
   ]
  },
  {
   "cell_type": "code",
   "execution_count": 6,
   "metadata": {},
   "outputs": [
    {
     "name": "stdout",
     "output_type": "stream",
     "text": [
      "CPU times: user 864 ms, sys: 118 ms, total: 982 ms\n",
      "Wall time: 1.31 s\n"
     ]
    }
   ],
   "source": [
    "%%time\n",
    "\n",
    "try:\n",
    "    from path import path as Path\n",
    "except:\n",
    "    from path import Path\n",
    "prefix = Path(sys.prefix).abspath()\n",
    "if is_windows:\n",
    "    headers = [prefix/'Library'/'include'/'basic'/'overload.h',\n",
    "               prefix/'Library'/'include'/'basic'/'binomial.h']\n",
    "else:\n",
    "    headers = [prefix/'include'/'basic'/'overload.h',\n",
    "               prefix/'include'/'basic'/'binomial.h']\n",
    "    \n",
    "flags = ['-x', 'c++', '-std=c++11']\n",
    "if is_windows:\n",
    "    flags.append('-I' + str((prefix/'Library'/'include').abspath()))\n",
    "else:\n",
    "    flags.append('-I' + str((prefix/'include').abspath()))\n",
    "    \n",
    "asg = autowig.parser(asg, headers,\n",
    "                          flags,\n",
    "                          silent = True)"
   ]
  },
  {
   "cell_type": "markdown",
   "metadata": {},
   "source": [
    "Since most of **AutoWIG** guidelines are respected in this *C++* library, the `default` `controller` implementation is suitable."
   ]
  },
  {
   "cell_type": "code",
   "execution_count": 7,
   "metadata": {},
   "outputs": [
    {
     "name": "stdout",
     "output_type": "stream",
     "text": [
      "CPU times: user 361 ms, sys: 9.52 ms, total: 370 ms\n",
      "Wall time: 364 ms\n"
     ]
    }
   ],
   "source": [
    "%%time\n",
    "\n",
    "asg = autowig.controller(asg)"
   ]
  },
  {
   "cell_type": "markdown",
   "metadata": {},
   "source": [
    "In order to wrap the library we need to select the `boost_python_internal` `generator` implementation."
   ]
  },
  {
   "cell_type": "code",
   "execution_count": 8,
   "metadata": {},
   "outputs": [
    {
     "name": "stdout",
     "output_type": "stream",
     "text": [
      "CPU times: user 66.9 ms, sys: 1.82 ms, total: 68.8 ms\n",
      "Wall time: 67.4 ms\n"
     ]
    }
   ],
   "source": [
    "%%time\n",
    "\n",
    "autowig.generator.plugin = 'boost_python_internal'  \n",
    "wrappers = autowig.generator(asg,\n",
    "                             module = Path('.')/'..'/'..'/'src'/'py'/'_basic.cpp',\n",
    "                             decorator = Path('.')/'..'/'..'/'src'/'py'/'basic'/'_basic.py',\n",
    "                             prefix = 'wrapper_')"
   ]
  },
  {
   "cell_type": "markdown",
   "metadata": {},
   "source": [
    "The wrappers are only generated in-memory.\n",
    "It is therefore needed to write them on the disk to complete the process."
   ]
  },
  {
   "cell_type": "code",
   "execution_count": 9,
   "metadata": {},
   "outputs": [
    {
     "name": "stdout",
     "output_type": "stream",
     "text": [
      "CPU times: user 558 ms, sys: 605 ms, total: 1.16 s\n",
      "Wall time: 10.5 s\n"
     ]
    }
   ],
   "source": [
    "%%time\n",
    "\n",
    "wrappers.write()"
   ]
  },
  {
   "cell_type": "markdown",
   "metadata": {},
   "source": [
    "Here is the list of the generated wrappers (untracked files)."
   ]
  },
  {
   "cell_type": "code",
   "execution_count": 10,
   "metadata": {},
   "outputs": [
    {
     "name": "stdout",
     "output_type": "stream",
     "text": [
      "On branch master\r\n",
      "Your branch is ahead of 'origin/master' by 1 commit.\r\n",
      "  (use \"git push\" to publish your local commits)\r\n",
      "\r\n",
      "Changes not staged for commit:\r\n",
      "  (use \"git add <file>...\" to update what will be committed)\r\n",
      "  (use \"git checkout -- <file>...\" to discard changes in working directory)\r\n",
      "\r\n",
      "\t\u001b[31mmodified:   index.ipynb\u001b[m\r\n",
      "\r\n",
      "Untracked files:\r\n",
      "  (use \"git add <file>...\" to include in what will be committed)\r\n",
      "\r\n",
      "\t\u001b[31m.ipynb_checkpoints/\u001b[m\r\n",
      "\t\u001b[31m../../src/py/_basic.cpp\u001b[m\r\n",
      "\t\u001b[31m../../src/py/_basic.h\u001b[m\r\n",
      "\t\u001b[31m../../src/py/basic/_basic.py\u001b[m\r\n",
      "\t\u001b[31m../../src/py/wrapper_0f744e8d056f5d469a887c7c78eaf8fe.cpp\u001b[m\r\n",
      "\t\u001b[31m../../src/py/wrapper_4046a8421fe9587c9dfbc97778162c7d.cpp\u001b[m\r\n",
      "\t\u001b[31m../../src/py/wrapper_92d464d1243554009adc48a065a5be3e.cpp\u001b[m\r\n",
      "\t\u001b[31m../../src/py/wrapper_f926cb231a7f5da09f313cd361ff94c7.cpp\u001b[m\r\n",
      "\r\n",
      "no changes added to commit (use \"git add\" and/or \"git commit -a\")\r\n"
     ]
    }
   ],
   "source": [
    "!git status"
   ]
  },
  {
   "cell_type": "markdown",
   "metadata": {},
   "source": [
    "And here, we present the wrappers generated for the `BinomialDistribution` class."
   ]
  },
  {
   "cell_type": "code",
   "execution_count": 11,
   "metadata": {},
   "outputs": [
    {
     "name": "stdout",
     "output_type": "stream",
     "text": [
      "\u001b[36m#\u001b[39;49;00m\u001b[36minclude\u001b[39;49;00m \u001b[37m\"_basic.h\"\u001b[39;49;00m\u001b[36m\u001b[39;49;00m\r\n",
      "\r\n",
      "\r\n",
      "\r\n",
      "\u001b[34mnamespace\u001b[39;49;00m autowig\r\n",
      "{\r\n",
      "\r\n",
      "}\r\n",
      "\r\n",
      "\u001b[36m#\u001b[39;49;00m\u001b[36mif defined(_MSC_VER)\u001b[39;49;00m\u001b[36m\u001b[39;49;00m\r\n",
      "    \u001b[36m#\u001b[39;49;00m\u001b[36mif (_MSC_VER == 1900)\u001b[39;49;00m\u001b[36m\u001b[39;49;00m\r\n",
      "\u001b[34mnamespace\u001b[39;49;00m boost\r\n",
      "{\r\n",
      "    \u001b[34mtemplate\u001b[39;49;00m <> \u001b[34mclass\u001b[39;49;00m \u001b[04m\u001b[31;01m:\u001b[39;49;00m\u001b[04m\u001b[31;01m:\u001b[39;49;00m\u001b[04m\u001b[32mBinomialDistribution\u001b[39;49;00m \u001b[34mconst\u001b[39;49;00m \u001b[34mvolatile\u001b[39;49;00m * get_pointer<\u001b[34mclass\u001b[39;49;00m \u001b[04m\u001b[31;01m:\u001b[39;49;00m\u001b[04m\u001b[31;01m:\u001b[39;49;00m\u001b[04m\u001b[32mBinomialDistribution\u001b[39;49;00m \u001b[34mconst\u001b[39;49;00m \u001b[34mvolatile\u001b[39;49;00m >(\u001b[34mclass\u001b[39;49;00m \u001b[04m\u001b[31;01m:\u001b[39;49;00m\u001b[04m\u001b[31;01m:\u001b[39;49;00m\u001b[04m\u001b[32mBinomialDistribution\u001b[39;49;00m \u001b[34mconst\u001b[39;49;00m \u001b[34mvolatile\u001b[39;49;00m *c) { \u001b[34mreturn\u001b[39;49;00m c; }\r\n",
      "}\r\n",
      "    \u001b[36m#\u001b[39;49;00m\u001b[36mendif\u001b[39;49;00m\u001b[36m\u001b[39;49;00m\r\n",
      "\u001b[36m#\u001b[39;49;00m\u001b[36mendif\u001b[39;49;00m\u001b[36m\u001b[39;49;00m\r\n",
      "\r\n",
      "\r\n",
      "\r\n",
      "\u001b[36mvoid\u001b[39;49;00m wrapper_4046a8421fe9587c9dfbc97778162c7d()\r\n",
      "{\r\n",
      "\r\n",
      "    \u001b[36mdouble\u001b[39;49;00m  (::BinomialDistribution::*method_pointer_3a3ff64f25e358a6a10b1cd3b3425b82)(\u001b[36munsigned\u001b[39;49;00m \u001b[36mint\u001b[39;49;00m \u001b[34mconst\u001b[39;49;00m) \u001b[34mconst\u001b[39;49;00m = &::BinomialDistribution::pmf;\r\n",
      "    \u001b[36mdouble\u001b[39;49;00m  (::BinomialDistribution::*method_pointer_3c97a500c9575c259d5cbdd76120ff4f)() \u001b[34mconst\u001b[39;49;00m = &::BinomialDistribution::get_pi;\r\n",
      "    \u001b[36mvoid\u001b[39;49;00m  (::BinomialDistribution::*method_pointer_d364a0529e33516f8ecbb7dcedd60aa0)(\u001b[36mdouble\u001b[39;49;00m \u001b[34mconst\u001b[39;49;00m) = &::BinomialDistribution::set_pi;\r\n",
      "    boost::python::class_< \u001b[34mclass\u001b[39;49;00m \u001b[04m\u001b[31;01m:\u001b[39;49;00m\u001b[04m\u001b[31;01m:\u001b[39;49;00m\u001b[04m\u001b[32mBinomialDistribution\u001b[39;49;00m, autowig::Held< \u001b[34mclass\u001b[39;49;00m \u001b[04m\u001b[31;01m:\u001b[39;49;00m\u001b[04m\u001b[31;01m:\u001b[39;49;00m\u001b[04m\u001b[32mBinomialDistribution\u001b[39;49;00m >::Type > class_4046a8421fe9587c9dfbc97778162c7d(\u001b[33m\"\u001b[39;49;00m\u001b[33mBinomialDistribution\u001b[39;49;00m\u001b[33m\"\u001b[39;49;00m, \u001b[33m\"\u001b[39;49;00m\u001b[33m\"\u001b[39;49;00m, boost::python::no_init);\r\n",
      "    class_4046a8421fe9587c9dfbc97778162c7d.def(boost::python::init< \u001b[36munsigned\u001b[39;49;00m \u001b[36mint\u001b[39;49;00m \u001b[34mconst\u001b[39;49;00m, \u001b[36mdouble\u001b[39;49;00m \u001b[34mconst\u001b[39;49;00m >(\u001b[33m\"\u001b[39;49;00m\u001b[33m\"\u001b[39;49;00m));\r\n",
      "    class_4046a8421fe9587c9dfbc97778162c7d.def(boost::python::init< \u001b[34mclass\u001b[39;49;00m \u001b[04m\u001b[31;01m:\u001b[39;49;00m\u001b[04m\u001b[31;01m:\u001b[39;49;00m\u001b[04m\u001b[32mBinomialDistribution\u001b[39;49;00m \u001b[34mconst\u001b[39;49;00m & >(\u001b[33m\"\u001b[39;49;00m\u001b[33m\"\u001b[39;49;00m));\r\n",
      "    class_4046a8421fe9587c9dfbc97778162c7d.def(\u001b[33m\"\u001b[39;49;00m\u001b[33mpmf\u001b[39;49;00m\u001b[33m\"\u001b[39;49;00m, method_pointer_3a3ff64f25e358a6a10b1cd3b3425b82, \u001b[33m\"\u001b[39;49;00m\u001b[33mCompute the probability of a value\u001b[39;49;00m\u001b[33m\\n\u001b[39;49;00m\u001b[33m\\n\u001b[39;49;00m\u001b[33mThe probability is given by the flowwing formula\u001b[39;49;00m\u001b[33m\\n\u001b[39;49;00m\u001b[33m:cite:`{JKK96}`\u001b[39;49;00m\u001b[33m\\n\u001b[39;49;00m\u001b[33m\\n\u001b[39;49;00m\u001b[33m:Parameter:\u001b[39;49;00m\u001b[33m\\n\u001b[39;49;00m\u001b[33m    `value` (:cpp:any:`unsigned` int) - Undocumented\u001b[39;49;00m\u001b[33m\\n\u001b[39;49;00m\u001b[33m\\n\u001b[39;49;00m\u001b[33m:Returns:\u001b[39;49;00m\u001b[33m\\n\u001b[39;49;00m\u001b[33m    The probability\u001b[39;49;00m\u001b[33m\\n\u001b[39;49;00m\u001b[33m\\n\u001b[39;49;00m\u001b[33m:Return Type:\u001b[39;49;00m\u001b[33m\\n\u001b[39;49;00m\u001b[33m    :cpp:any:`double`\u001b[39;49;00m\u001b[33m\\n\u001b[39;49;00m\u001b[33m\\n\u001b[39;49;00m\u001b[33m\"\u001b[39;49;00m);\r\n",
      "    class_4046a8421fe9587c9dfbc97778162c7d.def(\u001b[33m\"\u001b[39;49;00m\u001b[33mget_pi\u001b[39;49;00m\u001b[33m\"\u001b[39;49;00m, method_pointer_3c97a500c9575c259d5cbdd76120ff4f, \u001b[33m\"\u001b[39;49;00m\u001b[33m\"\u001b[39;49;00m);\r\n",
      "    class_4046a8421fe9587c9dfbc97778162c7d.def(\u001b[33m\"\u001b[39;49;00m\u001b[33mset_pi\u001b[39;49;00m\u001b[33m\"\u001b[39;49;00m, method_pointer_d364a0529e33516f8ecbb7dcedd60aa0, \u001b[33m\"\u001b[39;49;00m\u001b[33m:Parameter:\u001b[39;49;00m\u001b[33m\\n\u001b[39;49;00m\u001b[33m    `pi` (:cpp:any:`double`) - New probability value\u001b[39;49;00m\u001b[33m\\n\u001b[39;49;00m\u001b[33m\\n\u001b[39;49;00m\u001b[33m:Return Type:\u001b[39;49;00m\u001b[33m\\n\u001b[39;49;00m\u001b[33m    :cpp:any:`void`\u001b[39;49;00m\u001b[33m\\n\u001b[39;49;00m\u001b[33m\\n\u001b[39;49;00m\u001b[33m:Raises:\u001b[39;49;00m\u001b[33m\\n\u001b[39;49;00m\u001b[33m    :cpp:any:`\u001b[39;49;00m\u001b[33m\\\\\u001b[39;49;00m\u001b[33mref` - ::ProbabilityError If the new probability value is not in the interval\u001b[39;49;00m\u001b[33m\\n\u001b[39;49;00m\u001b[33m                      :math:`\u001b[39;49;00m\u001b[33m\\\\\u001b[39;49;00m\u001b[33mleft[0,1\u001b[39;49;00m\u001b[33m\\\\\u001b[39;49;00m\u001b[33mright]`\u001b[39;49;00m\u001b[33m\\n\u001b[39;49;00m\u001b[33m\\n\u001b[39;49;00m\u001b[33m.. warning::\u001b[39;49;00m\u001b[33m\\n\u001b[39;49;00m\u001b[33m\\n\u001b[39;49;00m\u001b[33m    The probability value must be in the interval :math:`\u001b[39;49;00m\u001b[33m\\\\\u001b[39;49;00m\u001b[33mleft[0,1\u001b[39;49;00m\u001b[33m\\\\\u001b[39;49;00m\u001b[33mright]`\u001b[39;49;00m\u001b[33m\\n\u001b[39;49;00m\u001b[33m\\n\u001b[39;49;00m\u001b[33m\"\u001b[39;49;00m);\r\n",
      "    class_4046a8421fe9587c9dfbc97778162c7d.def_readwrite(\u001b[33m\"\u001b[39;49;00m\u001b[33mn\u001b[39;49;00m\u001b[33m\"\u001b[39;49;00m, &::BinomialDistribution::n, \u001b[33m\"\u001b[39;49;00m\u001b[33m\"\u001b[39;49;00m);\r\n",
      "\r\n",
      "}\r\n"
     ]
    }
   ],
   "source": [
    "if is_windows:\n",
    "    !pygmentize ..\\..\\src\\py\\wrapper_4046a8421fe9587c9dfbc97778162c7d.cpp\n",
    "else:\n",
    "    !pygmentize ../../src/py/wrapper_4046a8421fe9587c9dfbc97778162c7d.cpp"
   ]
  },
  {
   "cell_type": "markdown",
   "metadata": {},
   "source": [
    "Once the wrappers are written on disk, we need to compile and install the *Python* bindings.\n",
    "To do so, we use available **Conda** recipes."
   ]
  },
  {
   "cell_type": "code",
   "execution_count": 12,
   "metadata": {},
   "outputs": [
    {
     "name": "stdout",
     "output_type": "stream",
     "text": [
      "BUILD START: python-basic-1.0.0-py27_0\n",
      "    (actual version deferred until further download or env creation)\n",
      "\n",
      "The following NEW packages will be INSTALLED:\n",
      "\n",
      "    alabaster:                0.7.10-py27_1      conda-forge\n",
      "    asn1crypto:               0.22.0-py27_0      conda-forge\n",
      "    babel:                    2.4.0-py27_0       conda-forge\n",
      "    ca-certificates:          2017.7.27.1-0      conda-forge\n",
      "    certifi:                  2017.7.27.1-py27_0 conda-forge\n",
      "    cffi:                     1.10.0-py27_0      conda-forge\n",
      "    chardet:                  3.0.4-py27_0       conda-forge\n",
      "    coverage:                 4.4.1-py27_0       conda-forge\n",
      "    cryptography:             2.0.3-py27_0       conda-forge\n",
      "    docutils:                 0.14-py27_0        conda-forge\n",
      "    enum34:                   1.1.6-py27_1       conda-forge\n",
      "    freetype:                 2.7-1              conda-forge\n",
      "    icu:                      58.1-1             conda-forge\n",
      "    idna:                     2.6-py27_1         conda-forge\n",
      "    imagesize:                0.7.1-py27_0       conda-forge\n",
      "    ipaddress:                1.0.18-py27_0      conda-forge\n",
      "    jinja2:                   2.9.6-py27_0       conda-forge\n",
      "    jpeg:                     9b-1               conda-forge\n",
      "    libbasic:                 1.0.0-0            local      \n",
      "    libboost:                 1.61.0-py27_0      local      \n",
      "    libffi:                   3.2.1-3            conda-forge\n",
      "    libpng:                   1.6.28-1           conda-forge\n",
      "    libruntime:               1.0.0-0            local      \n",
      "    libtiff:                  4.0.7-0            conda-forge\n",
      "    libtoolchain:             1.0.0-py27_0       local      \n",
      "    markupsafe:               1.0-py27_0         conda-forge\n",
      "    ncurses:                  5.9-10             conda-forge\n",
      "    nose:                     1.3.7-py27_2       conda-forge\n",
      "    olefile:                  0.44-py27_0        conda-forge\n",
      "    openssl:                  1.0.2l-0           conda-forge\n",
      "    path.py:                  10.3.1-py27_0      conda-forge\n",
      "    pillow:                   4.3.0-py27_0       conda-forge\n",
      "    pip:                      9.0.1-py27_0       conda-forge\n",
      "    pycparser:                2.18-py27_0        conda-forge\n",
      "    pygments:                 2.2.0-py27_0       conda-forge\n",
      "    pyopenssl:                17.2.0-py27_0      conda-forge\n",
      "    pysocks:                  1.6.7-py27_0       conda-forge\n",
      "    python:                   2.7.14-0           conda-forge\n",
      "    python-scons:             3.0.0-py27_0       local      \n",
      "    python-toolchain:         1.0.0-py27_0       local      \n",
      "    pytz:                     2017.2-py27_0      conda-forge\n",
      "    pyyaml:                   3.12-py27_1        conda-forge\n",
      "    readline:                 6.2-0              conda-forge\n",
      "    requests:                 2.18.4-py27_1      conda-forge\n",
      "    scons-tools:              1.0.0-py27_0       local      \n",
      "    setuptools:               36.3.0-py27_0      conda-forge\n",
      "    six:                      1.11.0-py27_1      conda-forge\n",
      "    snowballstemmer:          1.2.1-py27_0       conda-forge\n",
      "    sphinx:                   1.6.4-py27_0       conda-forge\n",
      "    sphinxcontrib-websupport: 1.0.1-py27_0       conda-forge\n",
      "    sqlite:                   3.13.0-1           conda-forge\n",
      "    tk:                       8.5.19-2           conda-forge\n",
      "    typing:                   3.6.2-py27_0       conda-forge\n",
      "    urllib3:                  1.22-py27_0        conda-forge\n",
      "    wheel:                    0.30.0-py_1        conda-forge\n",
      "    xz:                       5.2.3-0            conda-forge\n",
      "    yaml:                     0.1.6-0            conda-forge\n",
      "    zlib:                     1.2.8-3            conda-forge\n",
      "\n",
      "\n",
      "WARNING: conda-build appears to be out of date. You have version 2.1.17 but the\n",
      "latest version is 3.0.25. Run\n",
      "\n",
      "conda update -n root conda-build\n",
      "\n",
      "to get the latest version.\n",
      "\n",
      "Copying /Users/pfernique/Desktop/FP17 to /Users/pfernique/.miniconda/conda-bld/python-basic_1507558796846/work\n",
      "fatal: No names found, cannot describe anything.\n",
      "WARNING:conda_build.environ:Failed to obtain git tag information.  Are you using annotated tags?\n",
      "fatal: No names found, cannot describe anything.\n",
      "WARNING:conda_build.environ:Failed to obtain git tag information.  Are you using annotated tags?\n",
      "fatal: No names found, cannot describe anything.\n",
      "WARNING:conda_build.environ:Failed to obtain git tag information.  Are you using annotated tags?\n",
      "fatal: No names found, cannot describe anything.\n",
      "WARNING:conda_build.environ:Failed to obtain git tag information.  Are you using annotated tags?\n",
      "fatal: No names found, cannot describe anything.\n",
      "WARNING:conda_build.environ:Failed to obtain git tag information.  Are you using annotated tags?\n",
      "fatal: No names found, cannot describe anything.\n",
      "WARNING:conda_build.environ:Failed to obtain git tag information.  Are you using annotated tags?\n",
      "BUILD START (revised): python-basic-1.0.0-py27_0\n",
      "Package: python-basic-1.0.0-py27_0\n",
      "source tree in: /Users/pfernique/.miniconda/conda-bld/python-basic_1507558796846/work\n",
      "fatal: No names found, cannot describe anything.\n",
      "WARNING:conda_build.environ:Failed to obtain git tag information.  Are you using annotated tags?\n",
      "+ source /Users/pfernique/.miniconda/bin/activate /Users/pfernique/.miniconda/conda-bld/python-basic_1507558796846/_b_env_placehold_placehold_placehold_placehold_placehold_placehold_placehold_placehold_placehold_placehold_placehold_placehold_placehold_placehold_placehold_placehold_placehold_placehold_pla\n",
      "+ scons py --prefix=/Users/pfernique/.miniconda/conda-bld/python-basic_1507558796846/_b_env_placehold_placehold_placehold_placehold_placehold_placehold_placehold_placehold_placehold_placehold_placehold_placehold_placehold_placehold_placehold_placehold_placehold_placehold_pla -j8 --package=basic\n",
      "scons: Reading SConscript files ...\n",
      "scons: done reading SConscript files.\n",
      "scons: Building targets ...\n",
      "Install file: \"build/cpp/binomial.h\" as \"/Users/pfernique/.miniconda/conda-bld/python-basic_1507558796846/_b_env_placehold_placehold_placehold_placehold_placehold_placehold_placehold_placehold_placehold_placehold_placehold_placehold_placehold_placehold_placehold_placehold_placehold_placehold_pla/include/basic/binomial.h\"\n",
      "Install file: \"build/cpp/overload.h\" as \"/Users/pfernique/.miniconda/conda-bld/python-basic_1507558796846/_b_env_placehold_placehold_placehold_placehold_placehold_placehold_placehold_placehold_placehold_placehold_placehold_placehold_placehold_placehold_placehold_placehold_placehold_placehold_pla/include/basic/overload.h\"\n",
      "Creating 'build/py/response_file.rsp'\n",
      "Install file: \"build/cpp/base.h\" as \"/Users/pfernique/.miniconda/conda-bld/python-basic_1507558796846/_b_env_placehold_placehold_placehold_placehold_placehold_placehold_placehold_placehold_placehold_placehold_placehold_placehold_placehold_placehold_placehold_placehold_placehold_placehold_pla/include/basic/base.h\"\n",
      "g++ -o build/py/_basic.h.pch -x c++-header -c -std=c++11 -stdlib=libc++ -fvisibility=hidden -ferror-limit=0 -DBOOST_PYTHON_DYNAMIC_LIB -DBOOST_ALL_NO_LIB -I/Users/pfernique/.miniconda/conda-bld/python-basic_1507558796846/_b_env_placehold_placehold_placehold_placehold_placehold_placehold_placehold_placehold_placehold_placehold_placehold_placehold_placehold_placehold_placehold_placehold_placehold_placehold_pla/include -I/Users/pfernique/.miniconda/conda-bld/python-basic_1507558796846/_b_env_placehold_placehold_placehold_placehold_placehold_placehold_placehold_placehold_placehold_placehold_placehold_placehold_placehold_placehold_placehold_placehold_placehold_placehold_pla/include/python2.7 build/py/_basic.h\n",
      "g++ -o build/cpp/overload.os -c -x c++ -std=c++11 -stdlib=libc++ -fvisibility=hidden -ferror-limit=0 -fPIC -DLIBBASIC -I/Users/pfernique/.miniconda/conda-bld/python-basic_1507558796846/_b_env_placehold_placehold_placehold_placehold_placehold_placehold_placehold_placehold_placehold_placehold_placehold_placehold_placehold_placehold_placehold_placehold_placehold_placehold_pla/include build/cpp/overload.cpp\n",
      "g++ -o build/cpp/binomial.os -c -x c++ -std=c++11 -stdlib=libc++ -fvisibility=hidden -ferror-limit=0 -fPIC -DLIBBASIC -I/Users/pfernique/.miniconda/conda-bld/python-basic_1507558796846/_b_env_placehold_placehold_placehold_placehold_placehold_placehold_placehold_placehold_placehold_placehold_placehold_placehold_placehold_placehold_placehold_placehold_placehold_placehold_pla/include build/cpp/binomial.cpp\n"
     ]
    },
    {
     "name": "stdout",
     "output_type": "stream",
     "text": [
      "g++ -o /Users/pfernique/.miniconda/conda-bld/python-basic_1507558796846/_b_env_placehold_placehold_placehold_placehold_placehold_placehold_placehold_placehold_placehold_placehold_placehold_placehold_placehold_placehold_placehold_placehold_placehold_placehold_pla/lib/libbasic.dylib -dynamiclib build/cpp/binomial.os build/cpp/overload.os -L/Users/pfernique/.miniconda/conda-bld/python-basic_1507558796846/_b_env_placehold_placehold_placehold_placehold_placehold_placehold_placehold_placehold_placehold_placehold_placehold_placehold_placehold_placehold_placehold_placehold_placehold_placehold_pla/lib -flat_namespace -undefined suppress\n",
      "Install file: \"src/py/basic/__init__.py\" as \"/Users/pfernique/.miniconda/conda-bld/python-basic_1507558796846/_b_env_placehold_placehold_placehold_placehold_placehold_placehold_placehold_placehold_placehold_placehold_placehold_placehold_placehold_placehold_placehold_placehold_placehold_placehold_pla/lib/python2.7/site-packages/basic/__init__.py\"\n",
      "Install file: \"src/py/basic/_basic.py\" as \"/Users/pfernique/.miniconda/conda-bld/python-basic_1507558796846/_b_env_placehold_placehold_placehold_placehold_placehold_placehold_placehold_placehold_placehold_placehold_placehold_placehold_placehold_placehold_placehold_placehold_placehold_placehold_pla/lib/python2.7/site-packages/basic/_basic.py\"\n",
      "g++ -include /Users/pfernique/.miniconda/conda-bld/python-basic_1507558796846/work/build/py/_basic.h -o build/py/wrapper_0f744e8d056f5d469a887c7c78eaf8fe.os -c -x c++ -std=c++11 -stdlib=libc++ -fvisibility=hidden -ferror-limit=0 -fPIC -DBOOST_PYTHON_DYNAMIC_LIB -DBOOST_ALL_NO_LIB -I/Users/pfernique/.miniconda/conda-bld/python-basic_1507558796846/_b_env_placehold_placehold_placehold_placehold_placehold_placehold_placehold_placehold_placehold_placehold_placehold_placehold_placehold_placehold_placehold_placehold_placehold_placehold_pla/include -I/Users/pfernique/.miniconda/conda-bld/python-basic_1507558796846/_b_env_placehold_placehold_placehold_placehold_placehold_placehold_placehold_placehold_placehold_placehold_placehold_placehold_placehold_placehold_placehold_placehold_placehold_placehold_pla/include/python2.7 build/py/wrapper_0f744e8d056f5d469a887c7c78eaf8fe.cpp\n",
      "g++ -include /Users/pfernique/.miniconda/conda-bld/python-basic_1507558796846/work/build/py/_basic.h -o build/py/wrapper_f926cb231a7f5da09f313cd361ff94c7.os -c -x c++ -std=c++11 -stdlib=libc++ -fvisibility=hidden -ferror-limit=0 -fPIC -DBOOST_PYTHON_DYNAMIC_LIB -DBOOST_ALL_NO_LIB -I/Users/pfernique/.miniconda/conda-bld/python-basic_1507558796846/_b_env_placehold_placehold_placehold_placehold_placehold_placehold_placehold_placehold_placehold_placehold_placehold_placehold_placehold_placehold_placehold_placehold_placehold_placehold_pla/include -I/Users/pfernique/.miniconda/conda-bld/python-basic_1507558796846/_b_env_placehold_placehold_placehold_placehold_placehold_placehold_placehold_placehold_placehold_placehold_placehold_placehold_placehold_placehold_placehold_placehold_placehold_placehold_pla/include/python2.7 build/py/wrapper_f926cb231a7f5da09f313cd361ff94c7.cpp\n",
      "g++ -include /Users/pfernique/.miniconda/conda-bld/python-basic_1507558796846/work/build/py/_basic.h -o build/py/wrapper_92d464d1243554009adc48a065a5be3e.os -c -x c++ -std=c++11 -stdlib=libc++ -fvisibility=hidden -ferror-limit=0 -fPIC -DBOOST_PYTHON_DYNAMIC_LIB -DBOOST_ALL_NO_LIB -I/Users/pfernique/.miniconda/conda-bld/python-basic_1507558796846/_b_env_placehold_placehold_placehold_placehold_placehold_placehold_placehold_placehold_placehold_placehold_placehold_placehold_placehold_placehold_placehold_placehold_placehold_placehold_pla/include -I/Users/pfernique/.miniconda/conda-bld/python-basic_1507558796846/_b_env_placehold_placehold_placehold_placehold_placehold_placehold_placehold_placehold_placehold_placehold_placehold_placehold_placehold_placehold_placehold_placehold_placehold_placehold_pla/include/python2.7 build/py/wrapper_92d464d1243554009adc48a065a5be3e.cpp\n",
      "g++ -include /Users/pfernique/.miniconda/conda-bld/python-basic_1507558796846/work/build/py/_basic.h -o build/py/_basic.os -c -x c++ -std=c++11 -stdlib=libc++ -fvisibility=hidden -ferror-limit=0 -fPIC -DBOOST_PYTHON_DYNAMIC_LIB -DBOOST_ALL_NO_LIB -I/Users/pfernique/.miniconda/conda-bld/python-basic_1507558796846/_b_env_placehold_placehold_placehold_placehold_placehold_placehold_placehold_placehold_placehold_placehold_placehold_placehold_placehold_placehold_placehold_placehold_placehold_placehold_pla/include -I/Users/pfernique/.miniconda/conda-bld/python-basic_1507558796846/_b_env_placehold_placehold_placehold_placehold_placehold_placehold_placehold_placehold_placehold_placehold_placehold_placehold_placehold_placehold_placehold_placehold_placehold_placehold_pla/include/python2.7 build/py/_basic.cpp\n",
      "g++ -include /Users/pfernique/.miniconda/conda-bld/python-basic_1507558796846/work/build/py/_basic.h -o build/py/wrapper_4046a8421fe9587c9dfbc97778162c7d.os -c -x c++ -std=c++11 -stdlib=libc++ -fvisibility=hidden -ferror-limit=0 -fPIC -DBOOST_PYTHON_DYNAMIC_LIB -DBOOST_ALL_NO_LIB -I/Users/pfernique/.miniconda/conda-bld/python-basic_1507558796846/_b_env_placehold_placehold_placehold_placehold_placehold_placehold_placehold_placehold_placehold_placehold_placehold_placehold_placehold_placehold_placehold_placehold_placehold_placehold_pla/include -I/Users/pfernique/.miniconda/conda-bld/python-basic_1507558796846/_b_env_placehold_placehold_placehold_placehold_placehold_placehold_placehold_placehold_placehold_placehold_placehold_placehold_placehold_placehold_placehold_placehold_placehold_placehold_pla/include/python2.7 build/py/wrapper_4046a8421fe9587c9dfbc97778162c7d.cpp\n",
      "gcc -o /Users/pfernique/.miniconda/conda-bld/python-basic_1507558796846/_b_env_placehold_placehold_placehold_placehold_placehold_placehold_placehold_placehold_placehold_placehold_placehold_placehold_placehold_placehold_placehold_placehold_placehold_placehold_pla/lib/python2.7/site-packages/basic/__basic.so @/Users/pfernique/.miniconda/conda-bld/python-basic_1507558796846/work/build/py/response_file.rsp -bundle -L/Users/pfernique/.miniconda/conda-bld/python-basic_1507558796846/_b_env_placehold_placehold_placehold_placehold_placehold_placehold_placehold_placehold_placehold_placehold_placehold_placehold_placehold_placehold_placehold_placehold_placehold_placehold_pla/lib -lboost_python -lpython2.7 -lbasic -flat_namespace -undefined suppress\n",
      "scons: done building targets.\n",
      "INFO:conda_build.build:Packaging python-basic-1.0.0-py27_0\n",
      "fatal: No names found, cannot describe anything.\n",
      "WARNING:conda_build.environ:Failed to obtain git tag information.  Are you using annotated tags?\n",
      "compiling .pyc files...\n",
      "number of files: 5\n",
      "Fixing permissions\n",
      "Fixing linking of @rpath/libboost_python.dylib in /Users/pfernique/.miniconda/conda-bld/python-basic_1507558796846/_b_env_placehold_placehold_placehold_placehold_placehold_placehold_placehold_placehold_placehold_placehold_placehold_placehold_placehold_placehold_placehold_placehold_placehold_placehold_pla/lib/python2.7/site-packages/basic/__basic.so\n",
      "Fixing linking of @rpath/libpython2.7.dylib in /Users/pfernique/.miniconda/conda-bld/python-basic_1507558796846/_b_env_placehold_placehold_placehold_placehold_placehold_placehold_placehold_placehold_placehold_placehold_placehold_placehold_placehold_placehold_placehold_placehold_placehold_placehold_pla/lib/python2.7/site-packages/basic/__basic.so\n",
      "Fixing linking of /Users/pfernique/.miniconda/conda-bld/python-basic_1507558796846/_b_env_placehold_placehold_placehold_placehold_placehold_placehold_placehold_placehold_placehold_placehold_placehold_placehold_placehold_placehold_placehold_placehold_placehold_placehold_pla/lib/libbasic.dylib in /Users/pfernique/.miniconda/conda-bld/python-basic_1507558796846/_b_env_placehold_placehold_placehold_placehold_placehold_placehold_placehold_placehold_placehold_placehold_placehold_placehold_placehold_placehold_placehold_placehold_placehold_placehold_pla/lib/python2.7/site-packages/basic/__basic.so\n",
      "Fixing linking of /usr/lib/libSystem.B.dylib in /Users/pfernique/.miniconda/conda-bld/python-basic_1507558796846/_b_env_placehold_placehold_placehold_placehold_placehold_placehold_placehold_placehold_placehold_placehold_placehold_placehold_placehold_placehold_placehold_placehold_placehold_placehold_pla/lib/python2.7/site-packages/basic/__basic.so\n"
     ]
    },
    {
     "name": "stdout",
     "output_type": "stream",
     "text": [
      "\n",
      "install_name_tool -add_rpath @loader_path/../../../ /Users/pfernique/.miniconda/conda-bld/python-basic_1507558796846/_b_env_placehold_placehold_placehold_placehold_placehold_placehold_placehold_placehold_placehold_placehold_placehold_placehold_placehold_placehold_placehold_placehold_placehold_placehold_pla/lib/python2.7/site-packages/basic/__basic.so\n",
      "\n",
      "Fixing permissions\n",
      "/Users/pfernique/.miniconda/conda-bld/osx-64/python-basic-1.0.0-py27_0.tar.bz2\n",
      "updating index in: /Users/pfernique/.miniconda/conda-bld\n",
      "updating index in: /Users/pfernique/.miniconda/conda-bld/noarch\n",
      "updating index in: /Users/pfernique/.miniconda/conda-bld/osx-64\n",
      "updating: python-basic-1.0.0-py27_0.tar.bz2\n",
      "updating index in: /Users/pfernique/.miniconda/conda-bld\n",
      "TEST START: /Users/pfernique/.miniconda/conda-bld/osx-64/python-basic-1.0.0-py27_0.tar.bz2\n",
      "Deleting work directory, /Users/pfernique/.miniconda/conda-bld/python-basic_1507558796846/work\n",
      "\n",
      "The following NEW packages will be INSTALLED:\n",
      "\n",
      "    ca-certificates: 2017.7.27.1-0      conda-forge\n",
      "    certifi:         2017.7.27.1-py27_0 conda-forge\n",
      "    icu:             58.1-1             conda-forge\n",
      "    libbasic:        1.0.0-0            local      \n",
      "    libboost:        1.61.0-py27_0      local      \n",
      "    libruntime:      1.0.0-0            local      \n",
      "    ncurses:         5.9-10             conda-forge\n",
      "    openssl:         1.0.2l-0           conda-forge\n",
      "    pip:             9.0.1-py27_0       conda-forge\n",
      "    python:          2.7.14-0           conda-forge\n",
      "    python-basic:    1.0.0-py27_0       local      \n",
      "    readline:        6.2-0              conda-forge\n",
      "    setuptools:      36.3.0-py27_0      conda-forge\n",
      "    sqlite:          3.13.0-1           conda-forge\n",
      "    tk:              8.5.19-2           conda-forge\n",
      "    wheel:           0.30.0-py_1        conda-forge\n",
      "    zlib:            1.2.8-3            conda-forge\n",
      "\n",
      "\n",
      "WARNING: conda-build appears to be out of date. You have version 2.1.17 but the\n",
      "latest version is 3.0.25. Run\n",
      "\n",
      "conda update -n root conda-build\n",
      "\n",
      "to get the latest version.\n",
      "\n",
      "+ source /Users/pfernique/.miniconda/bin/activate /Users/pfernique/.miniconda/conda-bld/python-basic_1507558796846/_t_env\n",
      "+ /bin/bash -x -e /Users/pfernique/.miniconda/conda-bld/python-basic_1507558796846/test_tmp/run_test.sh\n",
      "+ python -c 'from basic import __basic'\n",
      "TEST END: /Users/pfernique/.miniconda/conda-bld/osx-64/python-basic-1.0.0-py27_0.tar.bz2\n",
      "INFO:conda_build.config:--dirty flag and --keep-old-work not specified.Removing build/test folder after successful build/test.\n",
      "\n",
      "# Automatic uploading is disabled\n",
      "# If you want to upload package(s) to anaconda.org later, type:\n",
      "\n",
      "anaconda upload /Users/pfernique/.miniconda/conda-bld/osx-64/python-basic-1.0.0-py27_0.tar.bz2\n",
      "\n",
      "# To have conda build upload to anaconda.org automatically, use\n",
      "# $ conda config --set anaconda_upload yes\n",
      "\n",
      "anaconda_upload is not set.  Not uploading wheels: []\n",
      "\n",
      "\n",
      "\n",
      "####################################################################################\n",
      "Source and build intermediates have been left in /Users/pfernique/.miniconda/conda-bld.\n",
      "There are currently 19 accumulated.\n",
      "To remove them, you can run the ```conda build purge``` command\n",
      "Fetching package metadata ...............\n",
      "Solving package specifications: .\n",
      "\n",
      "Package plan for installation in environment /Users/pfernique/.miniconda/envs/FP17:\n",
      "\n",
      "The following NEW packages will be INSTALLED:\n",
      "\n",
      "    python-basic: 1.0.0-py27_0 local\n",
      "\n"
     ]
    }
   ],
   "source": [
    "if is_windows:\n",
    "    !conda build --python=%PYTHON_VERSION% ..\\..\\bin\\conda\\python-basic -c statiskit -c conda-forge\n",
    "else:\n",
    "    !conda build --python=$PYTHON_VERSION ../../bin/conda/python-basic -c statiskit -c conda-forge\n",
    "!conda install -y python-basic --use-local -c statiskit --force"
   ]
  },
  {
   "cell_type": "markdown",
   "metadata": {},
   "source": [
    "Finally, we can hereafter use the *C++* library in the *Python* interpreter."
   ]
  },
  {
   "cell_type": "code",
   "execution_count": 13,
   "metadata": {},
   "outputs": [
    {
     "data": {
      "text/latex": [
       "$\\mathcal{B}\\left(1, 0.5\\right)$"
      ],
      "text/plain": [
       "<basic.__basic.BinomialDistribution at 0x1138acec0>"
      ]
     },
     "execution_count": 13,
     "metadata": {},
     "output_type": "execute_result"
    }
   ],
   "source": [
    "import basic\n",
    "binomial = basic.BinomialDistribution(1, .5)\n",
    "binomial"
   ]
  },
  {
   "cell_type": "code",
   "execution_count": 14,
   "metadata": {},
   "outputs": [
    {
     "data": {
      "text/plain": [
       "0.5"
      ]
     },
     "execution_count": 14,
     "metadata": {},
     "output_type": "execute_result"
    }
   ],
   "source": [
    "binomial.pmf(0)"
   ]
  },
  {
   "cell_type": "code",
   "execution_count": 15,
   "metadata": {},
   "outputs": [
    {
     "data": {
      "text/plain": [
       "0.5"
      ]
     },
     "execution_count": 15,
     "metadata": {},
     "output_type": "execute_result"
    }
   ],
   "source": [
    "binomial.pmf(1)"
   ]
  },
  {
   "cell_type": "code",
   "execution_count": 16,
   "metadata": {},
   "outputs": [
    {
     "data": {
      "text/latex": [
       "$\\mathcal{B}\\left(0, 0.5\\right)$"
      ],
      "text/plain": [
       "<basic.__basic.BinomialDistribution at 0x1138acec0>"
      ]
     },
     "execution_count": 16,
     "metadata": {},
     "output_type": "execute_result"
    }
   ],
   "source": [
    "binomial.n = 0\n",
    "binomial"
   ]
  },
  {
   "cell_type": "code",
   "execution_count": 17,
   "metadata": {},
   "outputs": [
    {
     "data": {
      "text/plain": [
       "1.0"
      ]
     },
     "execution_count": 17,
     "metadata": {},
     "output_type": "execute_result"
    }
   ],
   "source": [
    "binomial.pmf(0)"
   ]
  },
  {
   "cell_type": "code",
   "execution_count": 18,
   "metadata": {},
   "outputs": [
    {
     "name": "stdout",
     "output_type": "stream",
     "text": [
      "a probability must be in the interval [0,1]\n"
     ]
    }
   ],
   "source": [
    "try:\n",
    "    binomial.set_pi(1.1)\n",
    "except basic.ProbabilityError as error:\n",
    "    print(error)\n",
    "else:\n",
    "    raise Exception('A `basic.ProbabilityError` should have been raised')"
   ]
  },
  {
   "cell_type": "markdown",
   "metadata": {},
   "source": [
    "Here is a report concerning objects wrapped using this notebook."
   ]
  },
  {
   "cell_type": "code",
   "execution_count": 19,
   "metadata": {},
   "outputs": [
    {
     "name": "stdout",
     "output_type": "stream",
     "text": [
      "Headers: 3 (374 SLOC)\n",
      "Variables: 1 (0.0%)\n",
      "Functions: 15 (0.0%)\n",
      "Classes: 4 (100.0%)\n"
     ]
    }
   ],
   "source": [
    "import fp17\n",
    "fp17.report(asg)"
   ]
  }
 ],
 "metadata": {
  "anaconda-cloud": {},
  "kernelspec": {
   "display_name": "Python 2",
   "language": "python",
   "name": "python2"
  },
  "language_info": {
   "codemirror_mode": {
    "name": "ipython",
    "version": 2
   },
   "file_extension": ".py",
   "mimetype": "text/x-python",
   "name": "python",
   "nbconvert_exporter": "python",
   "pygments_lexer": "ipython2",
   "version": "2.7.13"
  },
  "toc": {
   "colors": {
    "hover_highlight": "#DAA520",
    "navigate_num": "#000000",
    "navigate_text": "#333333",
    "running_highlight": "#FF0000",
    "selected_highlight": "#FFD700",
    "sidebar_border": "#EEEEEE",
    "wrapper_background": "#FFFFFF"
   },
   "moveMenuLeft": true,
   "nav_menu": {
    "height": "30px",
    "width": "252px"
   },
   "navigate_menu": true,
   "number_sections": true,
   "sideBar": true,
   "threshold": 4,
   "toc_cell": false,
   "toc_section_display": "block",
   "toc_window_display": false,
   "widenNotebook": false
  }
 },
 "nbformat": 4,
 "nbformat_minor": 1
}
