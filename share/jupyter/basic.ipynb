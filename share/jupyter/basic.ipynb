{
 "cells": [
  {
   "cell_type": "markdown",
   "metadata": {},
   "source": [
    "# Wrapping a basic library\n",
    "\n",
    "We here aim at presenting the interactive wrapping workflow.\n",
    "For the sake of simplicity, we consider a basic example of a *C++* library.\n",
    "\n",
    "First, we need:\n",
    "\n",
    "* to detect if the operating system (OS) is a Windows OS or a Unix OS."
   ]
  },
  {
   "cell_type": "code",
   "execution_count": 1,
   "metadata": {},
   "outputs": [],
   "source": [
    "import platform\n",
    "is_windows = any(platform.win32_ver())"
   ]
  },
  {
   "cell_type": "markdown",
   "metadata": {},
   "source": [
    "On Windows OSes, the visual studio version used to compile future wrappers must be given."
   ]
  },
  {
   "cell_type": "code",
   "execution_count": 2,
   "metadata": {},
   "outputs": [],
   "source": [
    "if is_windows:\n",
    "    kwargs = dict(msvc_version = '12.0')\n",
    "else:\n",
    "    kwargs = dict()"
   ]
  },
  {
   "cell_type": "markdown",
   "metadata": {},
   "source": [
    "* to detect the version of *Python* installed and to save it in the `PYTHON_VERSION` environment variable."
   ]
  },
  {
   "cell_type": "code",
   "execution_count": 3,
   "metadata": {},
   "outputs": [],
   "source": [
    "import sys\n",
    "PYTHON_VERSION = str(sys.version_info.major) + '.' + str(sys.version_info.minor)"
   ]
  },
  {
   "cell_type": "markdown",
   "metadata": {},
   "source": [
    "* to import **AutoWIG**."
   ]
  },
  {
   "cell_type": "code",
   "execution_count": 4,
   "metadata": {},
   "outputs": [],
   "source": [
    "import autowig"
   ]
  },
  {
   "cell_type": "markdown",
   "metadata": {},
   "source": [
    "* to import **subprocess**."
   ]
  },
  {
   "cell_type": "code",
   "execution_count": 5,
   "metadata": {},
   "outputs": [],
   "source": [
    "import subprocess"
   ]
  },
  {
   "cell_type": "markdown",
   "metadata": {},
   "source": [
    "* to detect the **Git** repository root"
   ]
  },
  {
   "cell_type": "code",
   "execution_count": 6,
   "metadata": {},
   "outputs": [],
   "source": [
    "import os\n",
    "GIT_ROOT = subprocess.check_output('git rev-parse --show-toplevel', shell=True).decode()\n",
    "GIT_ROOT = GIT_ROOT.replace('/', os.sep).strip()"
   ]
  },
  {
   "cell_type": "markdown",
   "metadata": {},
   "source": [
    "Then, we need to install and compile the *C++* library.\n",
    "To do so, we use available **Conda** recipes."
   ]
  },
  {
   "cell_type": "code",
   "execution_count": 7,
   "metadata": {
    "scrolled": true
   },
   "outputs": [
    {
     "data": {
      "text/plain": [
       "0"
      ]
     },
     "execution_count": 7,
     "metadata": {},
     "output_type": "execute_result"
    }
   ],
   "source": [
    "subprocess.call('conda remove -y libbasic', shell=True)\n",
    "CONDA_RECIPE = os.path.join(GIT_ROOT, 'bin', 'conda', 'libbasic')\n",
    "subprocess.check_call('conda build --python=' + PYTHON_VERSION + ' ' + CONDA_RECIPE + ' -c statiskit -c defaults --override-channels',\n",
    "                      shell=True)\n",
    "subprocess.check_call('conda install -y libbasic --use-local -c statiskit -c defaults --override-channels',\n",
    "                      shell=True)"
   ]
  },
  {
   "cell_type": "markdown",
   "metadata": {},
   "source": [
    "Once these preliminaries are done, we can proceed to the actual generation of wrappers for this *C++* library.\n",
    "For this, we create an empty Abstract Semantic Graph (ASG)."
   ]
  },
  {
   "cell_type": "code",
   "execution_count": 8,
   "metadata": {},
   "outputs": [],
   "source": [
    "asg = autowig.AbstractSemanticGraph()"
   ]
  },
  {
   "cell_type": "markdown",
   "metadata": {},
   "source": [
    "We then parse the headers of this *C++* library with relevant compilation flags."
   ]
  },
  {
   "cell_type": "code",
   "execution_count": 9,
   "metadata": {},
   "outputs": [
    {
     "name": "stdout",
     "output_type": "stream",
     "text": [
      "CPU times: user 440 ms, sys: 20 ms, total: 460 ms\n",
      "Wall time: 550 ms\n"
     ]
    }
   ],
   "source": [
    "%%time\n",
    "\n",
    "try:\n",
    "    from path import path as Path\n",
    "except:\n",
    "    from path import Path\n",
    "prefix = Path(sys.prefix).abspath()\n",
    "if is_windows:\n",
    "    headers = [prefix/'Library'/'include'/'basic'/'overload.h',\n",
    "               prefix/'Library'/'include'/'basic'/'binomial.h']\n",
    "else:\n",
    "    headers = [prefix/'include'/'basic'/'overload.h',\n",
    "               prefix/'include'/'basic'/'binomial.h']\n",
    "    \n",
    "flags = ['-x', 'c++', '-std=c++11']\n",
    "if is_windows:\n",
    "    flags.append('-I' + str((prefix/'Library'/'include').abspath()))\n",
    "else:\n",
    "    flags.append('-I' + str((prefix/'include').abspath()))\n",
    "    \n",
    "if autowig.parser.plugin == 'libclang':\n",
    "    kwargs['silent'] = True\n",
    "    \n",
    "asg = autowig.parser(asg, headers,\n",
    "                          flags,\n",
    "                          **kwargs)"
   ]
  },
  {
   "cell_type": "markdown",
   "metadata": {},
   "source": [
    "Since most of **AutoWIG** guidelines are respected in this *C++* library, the `default` `controller` implementation is suitable."
   ]
  },
  {
   "cell_type": "code",
   "execution_count": 10,
   "metadata": {},
   "outputs": [
    {
     "name": "stdout",
     "output_type": "stream",
     "text": [
      "CPU times: user 244 ms, sys: 4 ms, total: 248 ms\n",
      "Wall time: 249 ms\n"
     ]
    }
   ],
   "source": [
    "%%time\n",
    "\n",
    "asg = autowig.controller(asg)"
   ]
  },
  {
   "cell_type": "markdown",
   "metadata": {},
   "source": [
    "In order to wrap the library we need to select the `boost_python_internal` `generator` implementation."
   ]
  },
  {
   "cell_type": "code",
   "execution_count": 11,
   "metadata": {},
   "outputs": [
    {
     "name": "stdout",
     "output_type": "stream",
     "text": [
      "CPU times: user 48 ms, sys: 0 ns, total: 48 ms\n",
      "Wall time: 48.1 ms\n"
     ]
    }
   ],
   "source": [
    "%%time\n",
    "\n",
    "autowig.generator.plugin = 'boost_python_internal'  \n",
    "wrappers = autowig.generator(asg,\n",
    "                             module = os.path.join(GIT_ROOT, 'src', 'py', '_basic.cpp'),\n",
    "                             decorator = os.path.join(GIT_ROOT, 'src', 'py', 'basic', '_basic.py'),\n",
    "                             prefix = 'wrapper_')"
   ]
  },
  {
   "cell_type": "markdown",
   "metadata": {},
   "source": [
    "The wrappers are only generated in-memory.\n",
    "It is therefore needed to write them on the disk to complete the process."
   ]
  },
  {
   "cell_type": "code",
   "execution_count": 12,
   "metadata": {},
   "outputs": [
    {
     "name": "stdout",
     "output_type": "stream",
     "text": [
      "CPU times: user 412 ms, sys: 524 ms, total: 936 ms\n",
      "Wall time: 2.7 s\n"
     ]
    }
   ],
   "source": [
    "%%time\n",
    "\n",
    "wrappers.write()"
   ]
  },
  {
   "cell_type": "markdown",
   "metadata": {},
   "source": [
    "Here is the list of the generated wrappers (untracked files)."
   ]
  },
  {
   "cell_type": "code",
   "execution_count": 13,
   "metadata": {},
   "outputs": [
    {
     "name": "stdout",
     "output_type": "stream",
     "text": [
      "On branch master\r\n",
      "Your branch is up to date with 'origin/master'.\r\n",
      "\r\n",
      "Untracked files:\r\n",
      "  (use \"git add <file>...\" to include in what will be committed)\r\n",
      "\r\n",
      "\t\u001b[31m../../src/py/_basic.cpp\u001b[m\r\n",
      "\t\u001b[31m../../src/py/_basic.h\u001b[m\r\n",
      "\t\u001b[31m../../src/py/basic/_basic.py\u001b[m\r\n",
      "\t\u001b[31m../../src/py/wrapper_0f744e8d056f5d469a887c7c78eaf8fe.cpp\u001b[m\r\n",
      "\t\u001b[31m../../src/py/wrapper_4046a8421fe9587c9dfbc97778162c7d.cpp\u001b[m\r\n",
      "\t\u001b[31m../../src/py/wrapper_92d464d1243554009adc48a065a5be3e.cpp\u001b[m\r\n",
      "\t\u001b[31m../../src/py/wrapper_f926cb231a7f5da09f313cd361ff94c7.cpp\u001b[m\r\n",
      "\r\n",
      "nothing added to commit but untracked files present (use \"git add\" to track)\r\n"
     ]
    }
   ],
   "source": [
    "!git status"
   ]
  },
  {
   "cell_type": "markdown",
   "metadata": {},
   "source": [
    "And here, we present the wrappers generated for the `BinomialDistribution` class."
   ]
  },
  {
   "cell_type": "code",
   "execution_count": 14,
   "metadata": {},
   "outputs": [
    {
     "name": "stdout",
     "output_type": "stream",
     "text": [
      "\u001b[36m#\u001b[39;49;00m\u001b[36minclude\u001b[39;49;00m \u001b[37m\"_basic.h\"\u001b[39;49;00m\u001b[36m\u001b[39;49;00m\r\n",
      "\r\n",
      "\r\n",
      "\r\n",
      "\u001b[34mnamespace\u001b[39;49;00m autowig\r\n",
      "{\r\n",
      "\r\n",
      "}\r\n",
      "\r\n",
      "\u001b[36m#\u001b[39;49;00m\u001b[36mif defined(_MSC_VER)\u001b[39;49;00m\u001b[36m\u001b[39;49;00m\r\n",
      "    \u001b[36m#\u001b[39;49;00m\u001b[36mif (_MSC_VER == 1900)\u001b[39;49;00m\u001b[36m\u001b[39;49;00m\r\n",
      "\u001b[34mnamespace\u001b[39;49;00m boost\r\n",
      "{\r\n",
      "    \u001b[34mtemplate\u001b[39;49;00m <> \u001b[34mclass\u001b[39;49;00m \u001b[04m\u001b[31;01m:\u001b[39;49;00m\u001b[04m\u001b[31;01m:\u001b[39;49;00m\u001b[04m\u001b[32mBinomialDistribution\u001b[39;49;00m \u001b[34mconst\u001b[39;49;00m \u001b[34mvolatile\u001b[39;49;00m * get_pointer<\u001b[34mclass\u001b[39;49;00m \u001b[04m\u001b[31;01m:\u001b[39;49;00m\u001b[04m\u001b[31;01m:\u001b[39;49;00m\u001b[04m\u001b[32mBinomialDistribution\u001b[39;49;00m \u001b[34mconst\u001b[39;49;00m \u001b[34mvolatile\u001b[39;49;00m >(\u001b[34mclass\u001b[39;49;00m \u001b[04m\u001b[31;01m:\u001b[39;49;00m\u001b[04m\u001b[31;01m:\u001b[39;49;00m\u001b[04m\u001b[32mBinomialDistribution\u001b[39;49;00m \u001b[34mconst\u001b[39;49;00m \u001b[34mvolatile\u001b[39;49;00m *c) { \u001b[34mreturn\u001b[39;49;00m c; }\r\n",
      "}\r\n",
      "    \u001b[36m#\u001b[39;49;00m\u001b[36mendif\u001b[39;49;00m\u001b[36m\u001b[39;49;00m\r\n",
      "\u001b[36m#\u001b[39;49;00m\u001b[36mendif\u001b[39;49;00m\u001b[36m\u001b[39;49;00m\r\n",
      "\r\n",
      "\r\n",
      "\r\n",
      "\u001b[36mvoid\u001b[39;49;00m wrapper_4046a8421fe9587c9dfbc97778162c7d()\r\n",
      "{\r\n",
      "\r\n",
      "    \u001b[36mdouble\u001b[39;49;00m  (::BinomialDistribution::*method_pointer_3a3ff64f25e358a6a10b1cd3b3425b82)(\u001b[36munsigned\u001b[39;49;00m \u001b[36mint\u001b[39;49;00m \u001b[34mconst\u001b[39;49;00m) \u001b[34mconst\u001b[39;49;00m = &::BinomialDistribution::pmf;\r\n",
      "    \u001b[36mdouble\u001b[39;49;00m  (::BinomialDistribution::*method_pointer_3c97a500c9575c259d5cbdd76120ff4f)() \u001b[34mconst\u001b[39;49;00m = &::BinomialDistribution::get_pi;\r\n",
      "    \u001b[36mvoid\u001b[39;49;00m  (::BinomialDistribution::*method_pointer_d364a0529e33516f8ecbb7dcedd60aa0)(\u001b[36mdouble\u001b[39;49;00m \u001b[34mconst\u001b[39;49;00m) = &::BinomialDistribution::set_pi;\r\n",
      "    boost::python::class_< \u001b[34mclass\u001b[39;49;00m \u001b[04m\u001b[31;01m:\u001b[39;49;00m\u001b[04m\u001b[31;01m:\u001b[39;49;00m\u001b[04m\u001b[32mBinomialDistribution\u001b[39;49;00m, autowig::Held< \u001b[34mclass\u001b[39;49;00m \u001b[04m\u001b[31;01m:\u001b[39;49;00m\u001b[04m\u001b[31;01m:\u001b[39;49;00m\u001b[04m\u001b[32mBinomialDistribution\u001b[39;49;00m >::Type > class_4046a8421fe9587c9dfbc97778162c7d(\u001b[33m\"\u001b[39;49;00m\u001b[33mBinomialDistribution\u001b[39;49;00m\u001b[33m\"\u001b[39;49;00m, \u001b[33m\"\u001b[39;49;00m\u001b[33m\"\u001b[39;49;00m, boost::python::no_init);\r\n",
      "    class_4046a8421fe9587c9dfbc97778162c7d.def(boost::python::init< \u001b[36munsigned\u001b[39;49;00m \u001b[36mint\u001b[39;49;00m \u001b[34mconst\u001b[39;49;00m, \u001b[36mdouble\u001b[39;49;00m \u001b[34mconst\u001b[39;49;00m >(\u001b[33m\"\u001b[39;49;00m\u001b[33m\"\u001b[39;49;00m));\r\n",
      "    class_4046a8421fe9587c9dfbc97778162c7d.def(boost::python::init< \u001b[34mclass\u001b[39;49;00m \u001b[04m\u001b[31;01m:\u001b[39;49;00m\u001b[04m\u001b[31;01m:\u001b[39;49;00m\u001b[04m\u001b[32mBinomialDistribution\u001b[39;49;00m \u001b[34mconst\u001b[39;49;00m & >(\u001b[33m\"\u001b[39;49;00m\u001b[33m\"\u001b[39;49;00m));\r\n",
      "    class_4046a8421fe9587c9dfbc97778162c7d.def(\u001b[33m\"\u001b[39;49;00m\u001b[33mpmf\u001b[39;49;00m\u001b[33m\"\u001b[39;49;00m, method_pointer_3a3ff64f25e358a6a10b1cd3b3425b82, \u001b[33m\"\u001b[39;49;00m\u001b[33mCompute the probability of a value\u001b[39;49;00m\u001b[33m\\n\u001b[39;49;00m\u001b[33m\\n\u001b[39;49;00m\u001b[33mThe probability is given by the flowwing formula\u001b[39;49;00m\u001b[33m\\n\u001b[39;49;00m\u001b[33m:cite:`{JKK96}`\u001b[39;49;00m\u001b[33m\\n\u001b[39;49;00m\u001b[33m\\n\u001b[39;49;00m\u001b[33m:Parameter:\u001b[39;49;00m\u001b[33m\\n\u001b[39;49;00m\u001b[33m    `value` (:cpp:any:`unsigned` int) - Undocumented\u001b[39;49;00m\u001b[33m\\n\u001b[39;49;00m\u001b[33m\\n\u001b[39;49;00m\u001b[33m:Returns:\u001b[39;49;00m\u001b[33m\\n\u001b[39;49;00m\u001b[33m    The probability\u001b[39;49;00m\u001b[33m\\n\u001b[39;49;00m\u001b[33m\\n\u001b[39;49;00m\u001b[33m:Return Type:\u001b[39;49;00m\u001b[33m\\n\u001b[39;49;00m\u001b[33m    :cpp:any:`double`\u001b[39;49;00m\u001b[33m\\n\u001b[39;49;00m\u001b[33m\\n\u001b[39;49;00m\u001b[33m\"\u001b[39;49;00m);\r\n",
      "    class_4046a8421fe9587c9dfbc97778162c7d.def(\u001b[33m\"\u001b[39;49;00m\u001b[33mget_pi\u001b[39;49;00m\u001b[33m\"\u001b[39;49;00m, method_pointer_3c97a500c9575c259d5cbdd76120ff4f, \u001b[33m\"\u001b[39;49;00m\u001b[33m\"\u001b[39;49;00m);\r\n",
      "    class_4046a8421fe9587c9dfbc97778162c7d.def(\u001b[33m\"\u001b[39;49;00m\u001b[33mset_pi\u001b[39;49;00m\u001b[33m\"\u001b[39;49;00m, method_pointer_d364a0529e33516f8ecbb7dcedd60aa0, \u001b[33m\"\u001b[39;49;00m\u001b[33m:Parameter:\u001b[39;49;00m\u001b[33m\\n\u001b[39;49;00m\u001b[33m    `pi` (:cpp:any:`double`) - New probability value\u001b[39;49;00m\u001b[33m\\n\u001b[39;49;00m\u001b[33m\\n\u001b[39;49;00m\u001b[33m:Return Type:\u001b[39;49;00m\u001b[33m\\n\u001b[39;49;00m\u001b[33m    :cpp:any:`void`\u001b[39;49;00m\u001b[33m\\n\u001b[39;49;00m\u001b[33m\\n\u001b[39;49;00m\u001b[33m:Raises:\u001b[39;49;00m\u001b[33m\\n\u001b[39;49;00m\u001b[33m    :cpp:any:`\u001b[39;49;00m\u001b[33m\\\\\u001b[39;49;00m\u001b[33mref` - ::ProbabilityError If the new probability value is not in the interval\u001b[39;49;00m\u001b[33m\\n\u001b[39;49;00m\u001b[33m                      :math:`\u001b[39;49;00m\u001b[33m\\\\\u001b[39;49;00m\u001b[33mleft[0,1\u001b[39;49;00m\u001b[33m\\\\\u001b[39;49;00m\u001b[33mright]`\u001b[39;49;00m\u001b[33m\\n\u001b[39;49;00m\u001b[33m\\n\u001b[39;49;00m\u001b[33m.. warning::\u001b[39;49;00m\u001b[33m\\n\u001b[39;49;00m\u001b[33m\\n\u001b[39;49;00m\u001b[33m    The probability value must be in the interval :math:`\u001b[39;49;00m\u001b[33m\\\\\u001b[39;49;00m\u001b[33mleft[0,1\u001b[39;49;00m\u001b[33m\\\\\u001b[39;49;00m\u001b[33mright]`\u001b[39;49;00m\u001b[33m\\n\u001b[39;49;00m\u001b[33m\\n\u001b[39;49;00m\u001b[33m\"\u001b[39;49;00m);\r\n",
      "    class_4046a8421fe9587c9dfbc97778162c7d.def_readwrite(\u001b[33m\"\u001b[39;49;00m\u001b[33mn\u001b[39;49;00m\u001b[33m\"\u001b[39;49;00m, &::BinomialDistribution::n, \u001b[33m\"\u001b[39;49;00m\u001b[33m\"\u001b[39;49;00m);\r\n",
      "\r\n",
      "}\r\n"
     ]
    }
   ],
   "source": [
    "WRAPPER = os.path.join(GIT_ROOT, 'src', 'py', 'wrapper_4046a8421fe9587c9dfbc97778162c7d.cpp')\n",
    "!pygmentize {WRAPPER}"
   ]
  },
  {
   "cell_type": "markdown",
   "metadata": {},
   "source": [
    "Once the wrappers are written on disk, we need to compile and install the *Python* bindings.\n",
    "To do so, we use available **Conda** recipes."
   ]
  },
  {
   "cell_type": "code",
   "execution_count": 15,
   "metadata": {
    "scrolled": true
   },
   "outputs": [
    {
     "data": {
      "text/plain": [
       "0"
      ]
     },
     "execution_count": 15,
     "metadata": {},
     "output_type": "execute_result"
    }
   ],
   "source": [
    "subprocess.call('conda remove -y python-basic', shell=True)\n",
    "CONDA_RECIPE = os.path.join(GIT_ROOT, 'bin', 'conda', 'python-basic')\n",
    "subprocess.check_call('conda build --python=' + PYTHON_VERSION + ' ' + CONDA_RECIPE + ' -c statiskit -c defaults --override-channels',\n",
    "                      shell=True)\n",
    "subprocess.check_call('conda install -y python-basic --use-local -c statiskit -c defaults --override-channels',\n",
    "                      shell=True)"
   ]
  },
  {
   "cell_type": "markdown",
   "metadata": {},
   "source": [
    "Finally, we can hereafter use the *C++* library in the *Python* interpreter."
   ]
  },
  {
   "cell_type": "code",
   "execution_count": 16,
   "metadata": {},
   "outputs": [
    {
     "data": {
      "text/latex": [
       "$\\mathcal{B}\\left(1, 0.5\\right)$"
      ],
      "text/plain": [
       "<basic.__basic.BinomialDistribution at 0x7f56a0157d08>"
      ]
     },
     "execution_count": 16,
     "metadata": {},
     "output_type": "execute_result"
    }
   ],
   "source": [
    "import basic\n",
    "binomial = basic.BinomialDistribution(1, .5)\n",
    "binomial"
   ]
  },
  {
   "cell_type": "code",
   "execution_count": 17,
   "metadata": {},
   "outputs": [
    {
     "data": {
      "text/plain": [
       "0.5"
      ]
     },
     "execution_count": 17,
     "metadata": {},
     "output_type": "execute_result"
    }
   ],
   "source": [
    "binomial.pmf(0)"
   ]
  },
  {
   "cell_type": "code",
   "execution_count": 18,
   "metadata": {},
   "outputs": [
    {
     "data": {
      "text/plain": [
       "0.5"
      ]
     },
     "execution_count": 18,
     "metadata": {},
     "output_type": "execute_result"
    }
   ],
   "source": [
    "binomial.pmf(1)"
   ]
  },
  {
   "cell_type": "code",
   "execution_count": 19,
   "metadata": {},
   "outputs": [
    {
     "data": {
      "text/latex": [
       "$\\mathcal{B}\\left(0, 0.5\\right)$"
      ],
      "text/plain": [
       "<basic.__basic.BinomialDistribution at 0x7f56a0157d08>"
      ]
     },
     "execution_count": 19,
     "metadata": {},
     "output_type": "execute_result"
    }
   ],
   "source": [
    "binomial.n = 0\n",
    "binomial"
   ]
  },
  {
   "cell_type": "code",
   "execution_count": 20,
   "metadata": {},
   "outputs": [
    {
     "data": {
      "text/plain": [
       "1.0"
      ]
     },
     "execution_count": 20,
     "metadata": {},
     "output_type": "execute_result"
    }
   ],
   "source": [
    "binomial.pmf(0)"
   ]
  },
  {
   "cell_type": "code",
   "execution_count": 21,
   "metadata": {},
   "outputs": [
    {
     "name": "stdout",
     "output_type": "stream",
     "text": [
      "a probability must be in the interval [0,1]\n"
     ]
    }
   ],
   "source": [
    "try:\n",
    "    binomial.set_pi(1.1)\n",
    "except basic.ProbabilityError as error:\n",
    "    print(error)\n",
    "else:\n",
    "    raise Exception('A `basic.ProbabilityError` should have been raised')"
   ]
  },
  {
   "cell_type": "markdown",
   "metadata": {},
   "source": [
    "Here is a report concerning objects wrapped using this notebook."
   ]
  },
  {
   "cell_type": "code",
   "execution_count": 22,
   "metadata": {},
   "outputs": [
    {
     "name": "stdout",
     "output_type": "stream",
     "text": [
      "Headers: 3 (170 SLOC)\n",
      "Variables: 1 (1 wrapped)\n",
      "Functions: 15 (10 wrapped)\n",
      "Classes: 4 (4 wrapped)\n"
     ]
    }
   ],
   "source": [
    "import fp17\n",
    "fp17.report(asg)"
   ]
  }
 ],
 "metadata": {
  "anaconda-cloud": {},
  "kernelspec": {
   "display_name": "Python 2",
   "language": "python",
   "name": "python2"
  },
  "language_info": {
   "codemirror_mode": {
    "name": "ipython",
    "version": 2
   },
   "file_extension": ".py",
   "mimetype": "text/x-python",
   "name": "python",
   "nbconvert_exporter": "python",
   "pygments_lexer": "ipython2",
   "version": "2.7.14"
  },
  "toc": {
   "colors": {
    "hover_highlight": "#DAA520",
    "navigate_num": "#000000",
    "navigate_text": "#333333",
    "running_highlight": "#FF0000",
    "selected_highlight": "#FFD700",
    "sidebar_border": "#EEEEEE",
    "wrapper_background": "#FFFFFF"
   },
   "moveMenuLeft": true,
   "nav_menu": {
    "height": "30px",
    "width": "252px"
   },
   "navigate_menu": true,
   "number_sections": true,
   "sideBar": true,
   "threshold": 4,
   "toc_cell": false,
   "toc_section_display": "block",
   "toc_window_display": false,
   "widenNotebook": false
  }
 },
 "nbformat": 4,
 "nbformat_minor": 1
}
