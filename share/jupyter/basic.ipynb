{
 "cells": [
  {
   "cell_type": "markdown",
   "metadata": {},
   "source": [
    "# Wrapping a basic library\n",
    "\n",
    "We here aim at presenting the interactive wrapping workflow.\n",
    "For the sake of simplicity, we consider a basic example of a *C++* library"
   ]
  },
  {
   "cell_type": "markdown",
   "metadata": {},
   "source": [
    "First, import **AutoWIG**."
   ]
  },
  {
   "cell_type": "code",
   "execution_count": 1,
   "metadata": {
    "collapsed": true
   },
   "outputs": [],
   "source": [
    "import autowig"
   ]
  },
  {
   "cell_type": "markdown",
   "metadata": {},
   "source": [
    "Then, to install and compile the *C++* library we use available **Conda** recipes."
   ]
  },
  {
   "cell_type": "code",
   "execution_count": 2,
   "metadata": {
    "scrolled": true
   },
   "outputs": [
    {
     "name": "stdout",
     "output_type": "stream",
     "text": [
      "BUILD START: libbasic-1.0.0-0\n",
      "    (actual version deferred until further download or env creation)\n",
      "updating index in: /home/main/miniconda/conda-bld/linux-64\n",
      "updating index in: /home/main/miniconda/conda-bld/noarch\n",
      "\n",
      "The following NEW packages will be INSTALLED:\n",
      "\n",
      "    ca-certificates: 2017.7.27.1-0      conda-forge\n",
      "    certifi:         2017.7.27.1-py36_0 conda-forge\n",
      "    libdev:          1.0.0-py36_0       statiskit  \n",
      "    ncurses:         5.9-10             conda-forge\n",
      "    openssl:         1.0.2l-0           conda-forge\n",
      "    path.py:         10.3.1-py36_0      conda-forge\n",
      "    pip:             9.0.1-py36_0       conda-forge\n",
      "    python:          3.6.2-0            conda-forge\n",
      "    python-scons:    3.0.0-py36_0       statiskit  \n",
      "    pyyaml:          3.12-py36_1        conda-forge\n",
      "    readline:        6.2-0              conda-forge\n",
      "    setuptools:      36.3.0-py36_0      conda-forge\n",
      "    six:             1.10.0-py36_1      conda-forge\n",
      "    sqlite:          3.13.0-1           conda-forge\n",
      "    tk:              8.5.19-2           conda-forge\n",
      "    wheel:           0.29.0-py36_0      conda-forge\n",
      "    xz:              5.2.3-0            conda-forge\n",
      "    yaml:            0.1.6-0            conda-forge\n",
      "    zlib:            1.2.11-0           conda-forge\n",
      "\n",
      "\n",
      "WARNING: conda-build appears to be out of date. You have version 2.1.17 but the\n",
      "latest version is 3.0.17. Run\n",
      "\n",
      "conda update -n root conda-build\n",
      "\n",
      "to get the latest version.\n",
      "\n",
      "Copying /home/main/FP17 to /home/main/miniconda/conda-bld/libbasic_1505288405718/work\n",
      "fatal: No names found, cannot describe anything.\n",
      "WARNING:conda_build.environ:Failed to obtain git tag information.  Are you using annotated tags?\n",
      "fatal: No names found, cannot describe anything.\n",
      "WARNING:conda_build.environ:Failed to obtain git tag information.  Are you using annotated tags?\n",
      "fatal: No names found, cannot describe anything.\n",
      "WARNING:conda_build.environ:Failed to obtain git tag information.  Are you using annotated tags?\n",
      "fatal: No names found, cannot describe anything.\n",
      "WARNING:conda_build.environ:Failed to obtain git tag information.  Are you using annotated tags?\n",
      "fatal: No names found, cannot describe anything.\n",
      "WARNING:conda_build.environ:Failed to obtain git tag information.  Are you using annotated tags?\n",
      "fatal: No names found, cannot describe anything.\n",
      "WARNING:conda_build.environ:Failed to obtain git tag information.  Are you using annotated tags?\n",
      "BUILD START (revised): libbasic-1.0.0-0\n",
      "Package: libbasic-1.0.0-0\n",
      "source tree in: /home/main/miniconda/conda-bld/libbasic_1505288405718/work\n",
      "fatal: No names found, cannot describe anything.\n",
      "WARNING:conda_build.environ:Failed to obtain git tag information.  Are you using annotated tags?\n",
      "+ source /home/main/miniconda/bin/activate /home/main/miniconda/conda-bld/libbasic_1505288405718/_b_env_placehold_placehold_placehold_placehold_placehold_placehold_placehold_placehold_placehold_placehold_placehold_placehold_placehold_placehold_placehold_placehold_placehold_placehold_placehold_plac\n",
      "+ scons cpp --prefix=/home/main/miniconda/conda-bld/libbasic_1505288405718/_b_env_placehold_placehold_placehold_placehold_placehold_placehold_placehold_placehold_placehold_placehold_placehold_placehold_placehold_placehold_placehold_placehold_placehold_placehold_placehold_plac -j8\n",
      "scons: Reading SConscript files ...\n",
      "scons: done reading SConscript files.\n",
      "scons: Building targets ...\n",
      "Install file: \"build/cpp/base.h\" as \"/home/main/miniconda/conda-bld/libbasic_1505288405718/_b_env_placehold_placehold_placehold_placehold_placehold_placehold_placehold_placehold_placehold_placehold_placehold_placehold_placehold_placehold_placehold_placehold_placehold_placehold_placehold_plac/include/basic/base.h\"\n",
      "Install file: \"build/cpp/binomial.h\" as \"/home/main/miniconda/conda-bld/libbasic_1505288405718/_b_env_placehold_placehold_placehold_placehold_placehold_placehold_placehold_placehold_placehold_placehold_placehold_placehold_placehold_placehold_placehold_placehold_placehold_placehold_placehold_plac/include/basic/binomial.h\"\n",
      "Install file: \"build/cpp/overload.h\" as \"/home/main/miniconda/conda-bld/libbasic_1505288405718/_b_env_placehold_placehold_placehold_placehold_placehold_placehold_placehold_placehold_placehold_placehold_placehold_placehold_placehold_placehold_placehold_placehold_placehold_placehold_placehold_plac/include/basic/overload.h\"\n",
      "g++ -o build/cpp/overload.os -c -x c++ -std=c++11 -fmax-errors=0 -Wl,--no-undefined -fvisibility=hidden -fPIC -DLIBBASIC -I/home/main/miniconda/conda-bld/libbasic_1505288405718/_b_env_placehold_placehold_placehold_placehold_placehold_placehold_placehold_placehold_placehold_placehold_placehold_placehold_placehold_placehold_placehold_placehold_placehold_placehold_placehold_plac/include build/cpp/overload.cpp\n",
      "g++ -o build/cpp/binomial.os -c -x c++ -std=c++11 -fmax-errors=0 -Wl,--no-undefined -fvisibility=hidden -fPIC -DLIBBASIC -I/home/main/miniconda/conda-bld/libbasic_1505288405718/_b_env_placehold_placehold_placehold_placehold_placehold_placehold_placehold_placehold_placehold_placehold_placehold_placehold_placehold_placehold_placehold_placehold_placehold_placehold_placehold_plac/include build/cpp/binomial.cpp\n",
      "g++ -o /home/main/miniconda/conda-bld/libbasic_1505288405718/_b_env_placehold_placehold_placehold_placehold_placehold_placehold_placehold_placehold_placehold_placehold_placehold_placehold_placehold_placehold_placehold_placehold_placehold_placehold_placehold_plac/lib/libbasic.so -shared build/cpp/binomial.os build/cpp/overload.os -L/home/main/miniconda/conda-bld/libbasic_1505288405718/_b_env_placehold_placehold_placehold_placehold_placehold_placehold_placehold_placehold_placehold_placehold_placehold_placehold_placehold_placehold_placehold_placehold_placehold_placehold_placehold_plac/lib\n",
      "scons: done building targets.\n",
      "INFO:conda_build.build:Packaging libbasic-1.0.0-0\n",
      "fatal: No names found, cannot describe anything.\n",
      "WARNING:conda_build.environ:Failed to obtain git tag information.  Are you using annotated tags?\n",
      "number of files: 4\n",
      "Fixing permissions\n",
      "patchelf: file: /home/main/miniconda/conda-bld/libbasic_1505288405718/_b_env_placehold_placehold_placehold_placehold_placehold_placehold_placehold_placehold_placehold_placehold_placehold_placehold_placehold_placehold_placehold_placehold_placehold_placehold_placehold_plac/lib/libbasic.so\n",
      "    setting rpath to: $ORIGIN/.\n",
      "Fixing permissions\n",
      "/home/main/miniconda/conda-bld/linux-64/libbasic-1.0.0-0.tar.bz2\n",
      "updating index in: /home/main/miniconda/conda-bld\n",
      "updating index in: /home/main/miniconda/conda-bld/noarch\n",
      "updating index in: /home/main/miniconda/conda-bld/linux-64\n",
      "updating: libbasic-1.0.0-0.tar.bz2\n",
      "updating index in: /home/main/miniconda/conda-bld\n",
      "Nothing to test for: /home/main/miniconda/conda-bld/linux-64/libbasic-1.0.0-0.tar.bz2\n",
      "INFO:conda_build.config:--dirty flag and --keep-old-work not specified.Removing build/test folder after successful build/test.\n",
      "\n",
      "# Automatic uploading is disabled\n",
      "# If you want to upload package(s) to anaconda.org later, type:\n",
      "\n",
      "anaconda upload /home/main/miniconda/conda-bld/linux-64/libbasic-1.0.0-0.tar.bz2\n",
      "\n",
      "# To have conda build upload to anaconda.org automatically, use\n",
      "# $ conda config --set anaconda_upload yes\n",
      "\n",
      "anaconda_upload is not set.  Not uploading wheels: []\n",
      "Fetching package metadata ...............\n",
      "Solving package specifications: .\n",
      "\n",
      "Package plan for installation in environment /home/main/miniconda:\n",
      "\n",
      "The following NEW packages will be INSTALLED:\n",
      "\n",
      "    libbasic: 1.0.0-0 local\n",
      "\n"
     ]
    }
   ],
   "source": [
    "!conda build ../../bin/conda/libbasic -c statiskit -c conda-forge\n",
    "!conda install -y libbasic --use-local -c statiskit -c conda-forge"
   ]
  },
  {
   "cell_type": "markdown",
   "metadata": {},
   "source": [
    "Once the headers have been installed in the system, we parse them with relevant compilation flags."
   ]
  },
  {
   "cell_type": "code",
   "execution_count": 3,
   "metadata": {},
   "outputs": [
    {
     "name": "stdout",
     "output_type": "stream",
     "text": [
      "CPU times: user 136 ms, sys: 12 ms, total: 148 ms\n",
      "Wall time: 222 ms\n"
     ]
    }
   ],
   "source": [
    "%%time\n",
    "import sys\n",
    "asg = autowig.AbstractSemanticGraph()\n",
    "asg = autowig.parser(asg, [sys.prefix + '/include/basic/overload.h',\n",
    "                           sys.prefix + '/include/basic/binomial.h'],\n",
    "                          ['-x', 'c++', '-std=c++11'],\n",
    "                          silent = True)"
   ]
  },
  {
   "cell_type": "markdown",
   "metadata": {},
   "source": [
    "Since most of **AutoWIG** guidelines are respected, the `default` `controller` implementation is suitable."
   ]
  },
  {
   "cell_type": "code",
   "execution_count": 4,
   "metadata": {},
   "outputs": [
    {
     "name": "stdout",
     "output_type": "stream",
     "text": [
      "CPU times: user 56 ms, sys: 8 ms, total: 64 ms\n",
      "Wall time: 61.7 ms\n"
     ]
    }
   ],
   "source": [
    "%%time\n",
    "autowig.controller.plugin = 'default'\n",
    "asg = autowig.controller(asg)"
   ]
  },
  {
   "cell_type": "markdown",
   "metadata": {},
   "source": [
    "In order to wrap the library we need to select the `boost_python_internal` `generator` implementation."
   ]
  },
  {
   "cell_type": "code",
   "execution_count": 5,
   "metadata": {},
   "outputs": [
    {
     "name": "stdout",
     "output_type": "stream",
     "text": [
      "CPU times: user 48 ms, sys: 0 ns, total: 48 ms\n",
      "Wall time: 47.8 ms\n"
     ]
    }
   ],
   "source": [
    "%%time\n",
    "autowig.generator.plugin = 'boost_python_internal'\n",
    "wrappers = autowig.generator(asg,\n",
    "                             module = '../../src/py/_basic.cpp',\n",
    "                             decorator = '../../src/py/basic/_basic.py',\n",
    "                             prefix = 'wrapper_')"
   ]
  },
  {
   "cell_type": "markdown",
   "metadata": {},
   "source": [
    "The wrappers are only generated in-memory.\n",
    "It is therefore needed to write them on the disk to complete the process."
   ]
  },
  {
   "cell_type": "code",
   "execution_count": 6,
   "metadata": {},
   "outputs": [
    {
     "name": "stdout",
     "output_type": "stream",
     "text": [
      "CPU times: user 396 ms, sys: 396 ms, total: 792 ms\n",
      "Wall time: 2.17 s\n"
     ]
    }
   ],
   "source": [
    "%%time\n",
    "wrappers.write()"
   ]
  },
  {
   "cell_type": "markdown",
   "metadata": {},
   "source": [
    "Here is the list of the generated wrappers (untracked files)."
   ]
  },
  {
   "cell_type": "code",
   "execution_count": 7,
   "metadata": {},
   "outputs": [
    {
     "name": "stdout",
     "output_type": "stream",
     "text": [
      "On branch master\r\n",
      "Your branch is up-to-date with 'origin/master'.\r\n",
      "\r\n",
      "Untracked files:\r\n",
      "  (use \"git add <file>...\" to include in what will be committed)\r\n",
      "\r\n",
      "\t\u001b[31m../../src/py/_basic.cpp\u001b[m\r\n",
      "\t\u001b[31m../../src/py/_basic.h\u001b[m\r\n",
      "\t\u001b[31m../../src/py/basic/_basic.py\u001b[m\r\n",
      "\t\u001b[31m../../src/py/wrapper_0f744e8d056f5d469a887c7c78eaf8fe.cpp\u001b[m\r\n",
      "\t\u001b[31m../../src/py/wrapper_4046a8421fe9587c9dfbc97778162c7d.cpp\u001b[m\r\n",
      "\t\u001b[31m../../src/py/wrapper_92d464d1243554009adc48a065a5be3e.cpp\u001b[m\r\n",
      "\t\u001b[31m../../src/py/wrapper_f926cb231a7f5da09f313cd361ff94c7.cpp\u001b[m\r\n",
      "\r\n",
      "nothing added to commit but untracked files present (use \"git add\" to track)\r\n"
     ]
    }
   ],
   "source": [
    "!git status"
   ]
  },
  {
   "cell_type": "markdown",
   "metadata": {},
   "source": [
    "And here, we present the wrappers for the `BinomialDistribution` class."
   ]
  },
  {
   "cell_type": "code",
   "execution_count": 8,
   "metadata": {},
   "outputs": [
    {
     "name": "stdout",
     "output_type": "stream",
     "text": [
      "\u001b[36m#\u001b[39;49;00m\u001b[36minclude\u001b[39;49;00m \u001b[37m\"_basic.h\"\u001b[39;49;00m\u001b[36m\u001b[39;49;00m\r\n",
      "\r\n",
      "\r\n",
      "\r\n",
      "\u001b[34mnamespace\u001b[39;49;00m autowig\r\n",
      "{\r\n",
      "\r\n",
      "}\r\n",
      "\r\n",
      "\u001b[36m#\u001b[39;49;00m\u001b[36mif defined(_MSC_VER)\u001b[39;49;00m\u001b[36m\u001b[39;49;00m\r\n",
      "    \u001b[36m#\u001b[39;49;00m\u001b[36mif (_MSC_VER == 1900)\u001b[39;49;00m\u001b[36m\u001b[39;49;00m\r\n",
      "\u001b[34mnamespace\u001b[39;49;00m boost\r\n",
      "{\r\n",
      "    \u001b[34mtemplate\u001b[39;49;00m <> \u001b[34mclass\u001b[39;49;00m \u001b[04m\u001b[31;01m:\u001b[39;49;00m\u001b[04m\u001b[31;01m:\u001b[39;49;00m\u001b[04m\u001b[32mBinomialDistribution\u001b[39;49;00m \u001b[34mconst\u001b[39;49;00m \u001b[34mvolatile\u001b[39;49;00m * get_pointer<\u001b[34mclass\u001b[39;49;00m \u001b[04m\u001b[31;01m:\u001b[39;49;00m\u001b[04m\u001b[31;01m:\u001b[39;49;00m\u001b[04m\u001b[32mBinomialDistribution\u001b[39;49;00m \u001b[34mconst\u001b[39;49;00m \u001b[34mvolatile\u001b[39;49;00m >(\u001b[34mclass\u001b[39;49;00m \u001b[04m\u001b[31;01m:\u001b[39;49;00m\u001b[04m\u001b[31;01m:\u001b[39;49;00m\u001b[04m\u001b[32mBinomialDistribution\u001b[39;49;00m \u001b[34mconst\u001b[39;49;00m \u001b[34mvolatile\u001b[39;49;00m *c) { \u001b[34mreturn\u001b[39;49;00m c; }\r\n",
      "}\r\n",
      "    \u001b[36m#\u001b[39;49;00m\u001b[36mendif\u001b[39;49;00m\u001b[36m\u001b[39;49;00m\r\n",
      "\u001b[36m#\u001b[39;49;00m\u001b[36mendif\u001b[39;49;00m\u001b[36m\u001b[39;49;00m\r\n",
      "\r\n",
      "\r\n",
      "\r\n",
      "\u001b[36mvoid\u001b[39;49;00m wrapper_4046a8421fe9587c9dfbc97778162c7d()\r\n",
      "{\r\n",
      "\r\n",
      "    \u001b[36mdouble\u001b[39;49;00m  (::BinomialDistribution::*method_pointer_3a3ff64f25e358a6a10b1cd3b3425b82)(\u001b[36munsigned\u001b[39;49;00m \u001b[36mint\u001b[39;49;00m \u001b[34mconst\u001b[39;49;00m) \u001b[34mconst\u001b[39;49;00m = &::BinomialDistribution::pmf;\r\n",
      "    \u001b[36mdouble\u001b[39;49;00m  (::BinomialDistribution::*method_pointer_3c97a500c9575c259d5cbdd76120ff4f)() \u001b[34mconst\u001b[39;49;00m = &::BinomialDistribution::get_pi;\r\n",
      "    \u001b[36mvoid\u001b[39;49;00m  (::BinomialDistribution::*method_pointer_d364a0529e33516f8ecbb7dcedd60aa0)(\u001b[36mdouble\u001b[39;49;00m \u001b[34mconst\u001b[39;49;00m) = &::BinomialDistribution::set_pi;\r\n",
      "    boost::python::class_< \u001b[34mclass\u001b[39;49;00m \u001b[04m\u001b[31;01m:\u001b[39;49;00m\u001b[04m\u001b[31;01m:\u001b[39;49;00m\u001b[04m\u001b[32mBinomialDistribution\u001b[39;49;00m, autowig::Held< \u001b[34mclass\u001b[39;49;00m \u001b[04m\u001b[31;01m:\u001b[39;49;00m\u001b[04m\u001b[31;01m:\u001b[39;49;00m\u001b[04m\u001b[32mBinomialDistribution\u001b[39;49;00m >::Type > class_4046a8421fe9587c9dfbc97778162c7d(\u001b[33m\"\u001b[39;49;00m\u001b[33mBinomialDistribution\u001b[39;49;00m\u001b[33m\"\u001b[39;49;00m, \u001b[33m\"\u001b[39;49;00m\u001b[33m\"\u001b[39;49;00m, boost::python::no_init);\r\n",
      "    class_4046a8421fe9587c9dfbc97778162c7d.def(boost::python::init< \u001b[36munsigned\u001b[39;49;00m \u001b[36mint\u001b[39;49;00m \u001b[34mconst\u001b[39;49;00m, \u001b[36mdouble\u001b[39;49;00m \u001b[34mconst\u001b[39;49;00m >(\u001b[33m\"\u001b[39;49;00m\u001b[33m\"\u001b[39;49;00m));\r\n",
      "    class_4046a8421fe9587c9dfbc97778162c7d.def(boost::python::init< \u001b[34mclass\u001b[39;49;00m \u001b[04m\u001b[31;01m:\u001b[39;49;00m\u001b[04m\u001b[31;01m:\u001b[39;49;00m\u001b[04m\u001b[32mBinomialDistribution\u001b[39;49;00m \u001b[34mconst\u001b[39;49;00m & >(\u001b[33m\"\u001b[39;49;00m\u001b[33m\"\u001b[39;49;00m));\r\n",
      "    class_4046a8421fe9587c9dfbc97778162c7d.def(\u001b[33m\"\u001b[39;49;00m\u001b[33mpmf\u001b[39;49;00m\u001b[33m\"\u001b[39;49;00m, method_pointer_3a3ff64f25e358a6a10b1cd3b3425b82, \u001b[33m\"\u001b[39;49;00m\u001b[33mCompute the probability of a value\u001b[39;49;00m\u001b[33m\\n\u001b[39;49;00m\u001b[33m\\n\u001b[39;49;00m\u001b[33mThe probability is given by the flowwing formula\u001b[39;49;00m\u001b[33m\\n\u001b[39;49;00m\u001b[33m:cite:`{JKK96}`\u001b[39;49;00m\u001b[33m\\n\u001b[39;49;00m\u001b[33m\\n\u001b[39;49;00m\u001b[33m:Parameter:\u001b[39;49;00m\u001b[33m\\n\u001b[39;49;00m\u001b[33m    `value` (:cpp:any:`unsigned` int) - Undocumented\u001b[39;49;00m\u001b[33m\\n\u001b[39;49;00m\u001b[33m\\n\u001b[39;49;00m\u001b[33m:Returns:\u001b[39;49;00m\u001b[33m\\n\u001b[39;49;00m\u001b[33m    The probability\u001b[39;49;00m\u001b[33m\\n\u001b[39;49;00m\u001b[33m\\n\u001b[39;49;00m\u001b[33m:Return Type:\u001b[39;49;00m\u001b[33m\\n\u001b[39;49;00m\u001b[33m    :cpp:any:`double`\u001b[39;49;00m\u001b[33m\\n\u001b[39;49;00m\u001b[33m\\n\u001b[39;49;00m\u001b[33m\"\u001b[39;49;00m);\r\n",
      "    class_4046a8421fe9587c9dfbc97778162c7d.def(\u001b[33m\"\u001b[39;49;00m\u001b[33mget_pi\u001b[39;49;00m\u001b[33m\"\u001b[39;49;00m, method_pointer_3c97a500c9575c259d5cbdd76120ff4f, \u001b[33m\"\u001b[39;49;00m\u001b[33m\"\u001b[39;49;00m);\r\n",
      "    class_4046a8421fe9587c9dfbc97778162c7d.def(\u001b[33m\"\u001b[39;49;00m\u001b[33mset_pi\u001b[39;49;00m\u001b[33m\"\u001b[39;49;00m, method_pointer_d364a0529e33516f8ecbb7dcedd60aa0, \u001b[33m\"\u001b[39;49;00m\u001b[33m:Parameter:\u001b[39;49;00m\u001b[33m\\n\u001b[39;49;00m\u001b[33m    `pi` (:cpp:any:`double`) - New probability value\u001b[39;49;00m\u001b[33m\\n\u001b[39;49;00m\u001b[33m\\n\u001b[39;49;00m\u001b[33m:Return Type:\u001b[39;49;00m\u001b[33m\\n\u001b[39;49;00m\u001b[33m    :cpp:any:`void`\u001b[39;49;00m\u001b[33m\\n\u001b[39;49;00m\u001b[33m\\n\u001b[39;49;00m\u001b[33m:Raises:\u001b[39;49;00m\u001b[33m\\n\u001b[39;49;00m\u001b[33m    :cpp:any:`\u001b[39;49;00m\u001b[33m\\\\\u001b[39;49;00m\u001b[33mref` - ::ProbabilityError If the new probability value is not in the interval\u001b[39;49;00m\u001b[33m\\n\u001b[39;49;00m\u001b[33m                      :math:`\u001b[39;49;00m\u001b[33m\\\\\u001b[39;49;00m\u001b[33mleft[0,1\u001b[39;49;00m\u001b[33m\\\\\u001b[39;49;00m\u001b[33mright]`\u001b[39;49;00m\u001b[33m\\n\u001b[39;49;00m\u001b[33m\\n\u001b[39;49;00m\u001b[33m.. warning::\u001b[39;49;00m\u001b[33m\\n\u001b[39;49;00m\u001b[33m\\n\u001b[39;49;00m\u001b[33m    The probability value must be in the interval :math:`\u001b[39;49;00m\u001b[33m\\\\\u001b[39;49;00m\u001b[33mleft[0,1\u001b[39;49;00m\u001b[33m\\\\\u001b[39;49;00m\u001b[33mright]`\u001b[39;49;00m\u001b[33m\\n\u001b[39;49;00m\u001b[33m\\n\u001b[39;49;00m\u001b[33m\"\u001b[39;49;00m);\r\n",
      "    class_4046a8421fe9587c9dfbc97778162c7d.def_readwrite(\u001b[33m\"\u001b[39;49;00m\u001b[33mn\u001b[39;49;00m\u001b[33m\"\u001b[39;49;00m, &::BinomialDistribution::n, \u001b[33m\"\u001b[39;49;00m\u001b[33m\"\u001b[39;49;00m);\r\n",
      "\r\n",
      "}\r\n"
     ]
    }
   ],
   "source": [
    "!pygmentize ../../src/py/wrapper_4046a8421fe9587c9dfbc97778162c7d.cpp"
   ]
  },
  {
   "cell_type": "markdown",
   "metadata": {},
   "source": [
    "Once the wrappers are written on disk, we need to compile and install the *Python* bindings."
   ]
  },
  {
   "cell_type": "code",
   "execution_count": 9,
   "metadata": {},
   "outputs": [
    {
     "name": "stdout",
     "output_type": "stream",
     "text": [
      "BUILD START: python-basic-1.0.0-py27_0\n",
      "    (actual version deferred until further download or env creation)\n",
      "\n",
      "The following NEW packages will be INSTALLED:\n",
      "\n",
      "    ca-certificates: 2017.7.27.1-0      conda-forge\n",
      "    certifi:         2017.7.27.1-py27_0 conda-forge\n",
      "    coverage:        4.4.1-py27_0       conda-forge\n",
      "    icu:             58.1-1             conda-forge\n",
      "    libbasic:        1.0.0-0            local      \n",
      "    libboost:        1.61.0-py27_0      statiskit  \n",
      "    libdev:          1.0.0-py27_0       statiskit  \n",
      "    librun:          1.0.0-0            statiskit  \n",
      "    ncurses:         5.9-10             conda-forge\n",
      "    nose:            1.3.7-py27_2       conda-forge\n",
      "    openssl:         1.0.2l-0           conda-forge\n",
      "    path.py:         10.3.1-py27_0      conda-forge\n",
      "    pip:             9.0.1-py27_0       conda-forge\n",
      "    python:          2.7.13-1           conda-forge\n",
      "    python-dev:      1.0.0-py27_0       statiskit  \n",
      "    python-scons:    3.0.0-py27_0       statiskit  \n",
      "    pyyaml:          3.12-py27_1        conda-forge\n",
      "    readline:        6.2-0              conda-forge\n",
      "    setuptools:      36.3.0-py27_0      conda-forge\n",
      "    six:             1.10.0-py27_1      conda-forge\n",
      "    sqlite:          3.13.0-1           conda-forge\n",
      "    tk:              8.5.19-2           conda-forge\n",
      "    wheel:           0.29.0-py27_0      conda-forge\n",
      "    yaml:            0.1.6-0            conda-forge\n",
      "    zlib:            1.2.11-0           conda-forge\n",
      "\n",
      "\n",
      "WARNING: conda-build appears to be out of date. You have version 2.1.17 but the\n",
      "latest version is 3.0.17. Run\n",
      "\n",
      "conda update -n root conda-build\n",
      "\n",
      "to get the latest version.\n",
      "\n",
      "Copying /home/main/FP17 to /home/main/miniconda/conda-bld/python-basic_1505288458048/work\n",
      "fatal: No names found, cannot describe anything.\n",
      "WARNING:conda_build.environ:Failed to obtain git tag information.  Are you using annotated tags?\n",
      "fatal: No names found, cannot describe anything.\n",
      "WARNING:conda_build.environ:Failed to obtain git tag information.  Are you using annotated tags?\n",
      "fatal: No names found, cannot describe anything.\n",
      "WARNING:conda_build.environ:Failed to obtain git tag information.  Are you using annotated tags?\n",
      "fatal: No names found, cannot describe anything.\n",
      "WARNING:conda_build.environ:Failed to obtain git tag information.  Are you using annotated tags?\n",
      "fatal: No names found, cannot describe anything.\n",
      "WARNING:conda_build.environ:Failed to obtain git tag information.  Are you using annotated tags?\n",
      "fatal: No names found, cannot describe anything.\n",
      "WARNING:conda_build.environ:Failed to obtain git tag information.  Are you using annotated tags?\n",
      "BUILD START (revised): python-basic-1.0.0-py27_0\n",
      "Package: python-basic-1.0.0-py27_0\n",
      "source tree in: /home/main/miniconda/conda-bld/python-basic_1505288458048/work\n",
      "fatal: No names found, cannot describe anything.\n",
      "WARNING:conda_build.environ:Failed to obtain git tag information.  Are you using annotated tags?\n",
      "+ source /home/main/miniconda/bin/activate /home/main/miniconda/conda-bld/python-basic_1505288458048/_b_env_placehold_placehold_placehold_placehold_placehold_placehold_placehold_placehold_placehold_placehold_placehold_placehold_placehold_placehold_placehold_placehold_placehold_placehold_placehold_\n",
      "+ scons py --prefix=/home/main/miniconda/conda-bld/python-basic_1505288458048/_b_env_placehold_placehold_placehold_placehold_placehold_placehold_placehold_placehold_placehold_placehold_placehold_placehold_placehold_placehold_placehold_placehold_placehold_placehold_placehold_ -j8 --package=basic\n",
      "scons: Reading SConscript files ...\n",
      "scons: done reading SConscript files.\n",
      "scons: Building targets ...\n",
      "g++ -o build/py/_basic.h.gch -x c++-header -c -fPIC -std=c++11 -DBOOST_PYTHON_DYNAMIC_LIB -DBOOST_ALL_NO_LIB -I/home/main/miniconda/conda-bld/python-basic_1505288458048/_b_env_placehold_placehold_placehold_placehold_placehold_placehold_placehold_placehold_placehold_placehold_placehold_placehold_placehold_placehold_placehold_placehold_placehold_placehold_placehold_/include -I/home/main/miniconda/conda-bld/python-basic_1505288458048/_b_env_placehold_placehold_placehold_placehold_placehold_placehold_placehold_placehold_placehold_placehold_placehold_placehold_placehold_placehold_placehold_placehold_placehold_placehold_placehold_/include/python2.7 build/py/_basic.h\n",
      "Creating 'build/py/response_file.rsp'\n",
      "Install file: \"build/cpp/base.h\" as \"/home/main/miniconda/conda-bld/python-basic_1505288458048/_b_env_placehold_placehold_placehold_placehold_placehold_placehold_placehold_placehold_placehold_placehold_placehold_placehold_placehold_placehold_placehold_placehold_placehold_placehold_placehold_/include/basic/base.h\"\n",
      "Install file: \"build/cpp/binomial.h\" as \"/home/main/miniconda/conda-bld/python-basic_1505288458048/_b_env_placehold_placehold_placehold_placehold_placehold_placehold_placehold_placehold_placehold_placehold_placehold_placehold_placehold_placehold_placehold_placehold_placehold_placehold_placehold_/include/basic/binomial.h\"\n",
      "Install file: \"build/cpp/overload.h\" as \"/home/main/miniconda/conda-bld/python-basic_1505288458048/_b_env_placehold_placehold_placehold_placehold_placehold_placehold_placehold_placehold_placehold_placehold_placehold_placehold_placehold_placehold_placehold_placehold_placehold_placehold_placehold_/include/basic/overload.h\"\n",
      "g++ -o build/cpp/overload.os -c -x c++ -std=c++11 -fmax-errors=0 -Wl,--no-undefined -fvisibility=hidden -fPIC -DLIBBASIC -I/home/main/miniconda/conda-bld/python-basic_1505288458048/_b_env_placehold_placehold_placehold_placehold_placehold_placehold_placehold_placehold_placehold_placehold_placehold_placehold_placehold_placehold_placehold_placehold_placehold_placehold_placehold_/include build/cpp/overload.cpp\n",
      "g++ -o build/cpp/binomial.os -c -x c++ -std=c++11 -fmax-errors=0 -Wl,--no-undefined -fvisibility=hidden -fPIC -DLIBBASIC -I/home/main/miniconda/conda-bld/python-basic_1505288458048/_b_env_placehold_placehold_placehold_placehold_placehold_placehold_placehold_placehold_placehold_placehold_placehold_placehold_placehold_placehold_placehold_placehold_placehold_placehold_placehold_/include build/cpp/binomial.cpp\n",
      "g++ -o /home/main/miniconda/conda-bld/python-basic_1505288458048/_b_env_placehold_placehold_placehold_placehold_placehold_placehold_placehold_placehold_placehold_placehold_placehold_placehold_placehold_placehold_placehold_placehold_placehold_placehold_placehold_/lib/libbasic.so -shared build/cpp/binomial.os build/cpp/overload.os -L/home/main/miniconda/conda-bld/python-basic_1505288458048/_b_env_placehold_placehold_placehold_placehold_placehold_placehold_placehold_placehold_placehold_placehold_placehold_placehold_placehold_placehold_placehold_placehold_placehold_placehold_placehold_/lib\n",
      "Install file: \"src/py/basic/_basic.py\" as \"/home/main/miniconda/conda-bld/python-basic_1505288458048/_b_env_placehold_placehold_placehold_placehold_placehold_placehold_placehold_placehold_placehold_placehold_placehold_placehold_placehold_placehold_placehold_placehold_placehold_placehold_placehold_/lib/python2.7/site-packages/basic/_basic.py\"\n",
      "Install file: \"src/py/basic/__init__.py\" as \"/home/main/miniconda/conda-bld/python-basic_1505288458048/_b_env_placehold_placehold_placehold_placehold_placehold_placehold_placehold_placehold_placehold_placehold_placehold_placehold_placehold_placehold_placehold_placehold_placehold_placehold_placehold_/lib/python2.7/site-packages/basic/__init__.py\"\n",
      "In file included from /home/main/miniconda/conda-bld/python-basic_1505288458048/_b_env_placehold_placehold_placehold_placehold_placehold_placehold_placehold_placehold_placehold_placehold_placehold_placehold_placehold_placehold_placehold_placehold_placehold_placehold_placehold_/include/boost/python/detail/is_xxx.hpp:8:0,\n",
      "                 from /home/main/miniconda/conda-bld/python-basic_1505288458048/_b_env_placehold_placehold_placehold_placehold_placehold_placehold_placehold_placehold_placehold_placehold_placehold_placehold_placehold_placehold_placehold_placehold_placehold_placehold_placehold_/include/boost/python/detail/is_auto_ptr.hpp:9,\n",
      "                 from /home/main/miniconda/conda-bld/python-basic_1505288458048/_b_env_placehold_placehold_placehold_placehold_placehold_placehold_placehold_placehold_placehold_placehold_placehold_placehold_placehold_placehold_placehold_placehold_placehold_placehold_placehold_/include/boost/python/detail/copy_ctor_mutates_rhs.hpp:8,\n",
      "                 from /home/main/miniconda/conda-bld/python-basic_1505288458048/_b_env_placehold_placehold_placehold_placehold_placehold_placehold_placehold_placehold_placehold_placehold_placehold_placehold_placehold_placehold_placehold_placehold_placehold_placehold_placehold_/include/boost/python/detail/value_arg.hpp:7,\n",
      "                 from /home/main/miniconda/conda-bld/python-basic_1505288458048/_b_env_placehold_placehold_placehold_placehold_placehold_placehold_placehold_placehold_placehold_placehold_placehold_placehold_placehold_placehold_placehold_placehold_placehold_placehold_placehold_/include/boost/python/object/forward.hpp:13,\n",
      "                 from /home/main/miniconda/conda-bld/python-basic_1505288458048/_b_env_placehold_placehold_placehold_placehold_placehold_placehold_placehold_placehold_placehold_placehold_placehold_placehold_placehold_placehold_placehold_placehold_placehold_placehold_placehold_/include/boost/python/object/pointer_holder.hpp:16,\n",
      "                 from /home/main/miniconda/conda-bld/python-basic_1505288458048/_b_env_placehold_placehold_placehold_placehold_placehold_placehold_placehold_placehold_placehold_placehold_placehold_placehold_placehold_placehold_placehold_placehold_placehold_placehold_placehold_/include/boost/python/to_python_indirect.hpp:10,\n",
      "                 from /home/main/miniconda/conda-bld/python-basic_1505288458048/_b_env_placehold_placehold_placehold_placehold_placehold_placehold_placehold_placehold_placehold_placehold_placehold_placehold_placehold_placehold_placehold_placehold_placehold_placehold_placehold_/include/boost/python/converter/arg_to_python.hpp:10,\n",
      "                 from /home/main/miniconda/conda-bld/python-basic_1505288458048/_b_env_placehold_placehold_placehold_placehold_placehold_placehold_placehold_placehold_placehold_placehold_placehold_placehold_placehold_placehold_placehold_placehold_placehold_placehold_placehold_/include/boost/python/call.hpp:15,\n",
      "                 from /home/main/miniconda/conda-bld/python-basic_1505288458048/_b_env_placehold_placehold_placehold_placehold_placehold_placehold_placehold_placehold_placehold_placehold_placehold_placehold_placehold_placehold_placehold_placehold_placehold_placehold_placehold_/include/boost/python/object_core.hpp:14,\n",
      "                 from /home/main/miniconda/conda-bld/python-basic_1505288458048/_b_env_placehold_placehold_placehold_placehold_placehold_placehold_placehold_placehold_placehold_placehold_placehold_placehold_placehold_placehold_placehold_placehold_placehold_placehold_placehold_/include/boost/python/args.hpp:25,\n",
      "                 from /home/main/miniconda/conda-bld/python-basic_1505288458048/_b_env_placehold_placehold_placehold_placehold_placehold_placehold_placehold_placehold_placehold_placehold_placehold_placehold_placehold_placehold_placehold_placehold_placehold_placehold_placehold_/include/boost/python.hpp:11,\n",
      "                 from build/py/_basic.h:4:\n",
      "/home/main/miniconda/conda-bld/python-basic_1505288458048/_b_env_placehold_placehold_placehold_placehold_placehold_placehold_placehold_placehold_placehold_placehold_placehold_placehold_placehold_placehold_placehold_placehold_placehold_placehold_placehold_/include/boost/python/detail/is_auto_ptr.hpp:17:40: warning: 'template<class> class std::auto_ptr' is deprecated [-Wdeprecated-declarations]\n",
      " BOOST_PYTHON_IS_XXX_DEF(auto_ptr, std::auto_ptr, 1)\n",
      "                                        ^\n",
      "/home/main/miniconda/conda-bld/python-basic_1505288458048/_b_env_placehold_placehold_placehold_placehold_placehold_placehold_placehold_placehold_placehold_placehold_placehold_placehold_placehold_placehold_placehold_placehold_placehold_placehold_placehold_/include/boost/detail/is_xxx.hpp:20:4: note: in definition of macro 'BOOST_DETAIL_IS_XXX_DEF'\n",
      "    qualified_name< BOOST_PP_ENUM_PARAMS_Z(1, nargs, T) >        \\\n",
      "    ^\n",
      "/home/main/miniconda/conda-bld/python-basic_1505288458048/_b_env_placehold_placehold_placehold_placehold_placehold_placehold_placehold_placehold_placehold_placehold_placehold_placehold_placehold_placehold_placehold_placehold_placehold_placehold_placehold_/include/boost/python/detail/is_auto_ptr.hpp:17:1: note: in expansion of macro 'BOOST_PYTHON_IS_XXX_DEF'\n",
      " BOOST_PYTHON_IS_XXX_DEF(auto_ptr, std::auto_ptr, 1)\n",
      " ^\n",
      "In file included from /usr/include/c++/5/memory:81:0,\n",
      "                 from /home/main/miniconda/conda-bld/python-basic_1505288458048/_b_env_placehold_placehold_placehold_placehold_placehold_placehold_placehold_placehold_placehold_placehold_placehold_placehold_placehold_placehold_placehold_placehold_placehold_placehold_placehold_/include/boost/function/function_base.hpp:16,\n",
      "                 from /home/main/miniconda/conda-bld/python-basic_1505288458048/_b_env_placehold_placehold_placehold_placehold_placehold_placehold_placehold_placehold_placehold_placehold_placehold_placehold_placehold_placehold_placehold_placehold_placehold_placehold_placehold_/include/boost/function/detail/prologue.hpp:17,\n",
      "                 from /home/main/miniconda/conda-bld/python-basic_1505288458048/_b_env_placehold_placehold_placehold_placehold_placehold_placehold_placehold_placehold_placehold_placehold_placehold_placehold_placehold_placehold_placehold_placehold_placehold_placehold_placehold_/include/boost/function/function_template.hpp:13,\n",
      "                 from /home/main/miniconda/conda-bld/python-basic_1505288458048/_b_env_placehold_placehold_placehold_placehold_placehold_placehold_placehold_placehold_placehold_placehold_placehold_placehold_placehold_placehold_placehold_placehold_placehold_placehold_placehold_/include/boost/function/detail/maybe_include.hpp:13,\n",
      "                 from /home/main/miniconda/conda-bld/python-basic_1505288458048/_b_env_placehold_placehold_placehold_placehold_placehold_placehold_placehold_placehold_placehold_placehold_placehold_placehold_placehold_placehold_placehold_placehold_placehold_placehold_placehold_/include/boost/function/function0.hpp:11,\n",
      "                 from /home/main/miniconda/conda-bld/python-basic_1505288458048/_b_env_placehold_placehold_placehold_placehold_placehold_placehold_placehold_placehold_placehold_placehold_placehold_placehold_placehold_placehold_placehold_placehold_placehold_placehold_placehold_/include/boost/python/errors.hpp:13,\n",
      "                 from /home/main/miniconda/conda-bld/python-basic_1505288458048/_b_env_placehold_placehold_placehold_placehold_placehold_placehold_placehold_placehold_placehold_placehold_placehold_placehold_placehold_placehold_placehold_placehold_placehold_placehold_placehold_/include/boost/python/handle.hpp:11,\n",
      "                 from /home/main/miniconda/conda-bld/python-basic_1505288458048/_b_env_placehold_placehold_placehold_placehold_placehold_placehold_placehold_placehold_placehold_placehold_placehold_placehold_placehold_placehold_placehold_placehold_placehold_placehold_placehold_/include/boost/python/args_fwd.hpp:10,\n",
      "                 from /home/main/miniconda/conda-bld/python-basic_1505288458048/_b_env_placehold_placehold_placehold_placehold_placehold_placehold_placehold_placehold_placehold_placehold_placehold_placehold_placehold_placehold_placehold_placehold_placehold_placehold_placehold_/include/boost/python/args.hpp:10,\n",
      "                 from /home/main/miniconda/conda-bld/python-basic_1505288458048/_b_env_placehold_placehold_placehold_placehold_placehold_placehold_placehold_placehold_placehold_placehold_placehold_placehold_placehold_placehold_placehold_placehold_placehold_placehold_placehold_/include/boost/python.hpp:11,\n",
      "                 from build/py/_basic.h:4:\n",
      "/usr/include/c++/5/bits/unique_ptr.h:49:28: note: declared here\n",
      "   template<typename> class auto_ptr;\n",
      "                            ^\n"
     ]
    },
    {
     "name": "stdout",
     "output_type": "stream",
     "text": [
      "In file included from /home/main/miniconda/conda-bld/python-basic_1505288458048/_b_env_placehold_placehold_placehold_placehold_placehold_placehold_placehold_placehold_placehold_placehold_placehold_placehold_placehold_placehold_placehold_placehold_placehold_placehold_placehold_/include/boost/python/converter/arg_to_python.hpp:10:0,\n",
      "                 from /home/main/miniconda/conda-bld/python-basic_1505288458048/_b_env_placehold_placehold_placehold_placehold_placehold_placehold_placehold_placehold_placehold_placehold_placehold_placehold_placehold_placehold_placehold_placehold_placehold_placehold_placehold_/include/boost/python/call.hpp:15,\n",
      "                 from /home/main/miniconda/conda-bld/python-basic_1505288458048/_b_env_placehold_placehold_placehold_placehold_placehold_placehold_placehold_placehold_placehold_placehold_placehold_placehold_placehold_placehold_placehold_placehold_placehold_placehold_placehold_/include/boost/python/object_core.hpp:14,\n",
      "                 from /home/main/miniconda/conda-bld/python-basic_1505288458048/_b_env_placehold_placehold_placehold_placehold_placehold_placehold_placehold_placehold_placehold_placehold_placehold_placehold_placehold_placehold_placehold_placehold_placehold_placehold_placehold_/include/boost/python/args.hpp:25,\n",
      "                 from /home/main/miniconda/conda-bld/python-basic_1505288458048/_b_env_placehold_placehold_placehold_placehold_placehold_placehold_placehold_placehold_placehold_placehold_placehold_placehold_placehold_placehold_placehold_placehold_placehold_placehold_placehold_/include/boost/python.hpp:11,\n",
      "                 from build/py/_basic.h:4:\n",
      "/home/main/miniconda/conda-bld/python-basic_1505288458048/_b_env_placehold_placehold_placehold_placehold_placehold_placehold_placehold_placehold_placehold_placehold_placehold_placehold_placehold_placehold_placehold_placehold_placehold_placehold_placehold_/include/boost/python/to_python_indirect.hpp: In static member function 'static PyObject* boost::python::detail::make_owning_holder::execute(T*)':\n",
      "/home/main/miniconda/conda-bld/python-basic_1505288458048/_b_env_placehold_placehold_placehold_placehold_placehold_placehold_placehold_placehold_placehold_placehold_placehold_placehold_placehold_placehold_placehold_placehold_placehold_placehold_placehold_/include/boost/python/to_python_indirect.hpp:90:24: warning: 'template<class> class std::auto_ptr' is deprecated [-Wdeprecated-declarations]\n",
      "           typedef std::auto_ptr<T> smart_pointer;\n",
      "                        ^\n",
      "In file included from /usr/include/c++/5/memory:81:0,\n",
      "                 from /home/main/miniconda/conda-bld/python-basic_1505288458048/_b_env_placehold_placehold_placehold_placehold_placehold_placehold_placehold_placehold_placehold_placehold_placehold_placehold_placehold_placehold_placehold_placehold_placehold_placehold_placehold_/include/boost/function/function_base.hpp:16,\n",
      "                 from /home/main/miniconda/conda-bld/python-basic_1505288458048/_b_env_placehold_placehold_placehold_placehold_placehold_placehold_placehold_placehold_placehold_placehold_placehold_placehold_placehold_placehold_placehold_placehold_placehold_placehold_placehold_/include/boost/function/detail/prologue.hpp:17,\n",
      "                 from /home/main/miniconda/conda-bld/python-basic_1505288458048/_b_env_placehold_placehold_placehold_placehold_placehold_placehold_placehold_placehold_placehold_placehold_placehold_placehold_placehold_placehold_placehold_placehold_placehold_placehold_placehold_/include/boost/function/function_template.hpp:13,\n",
      "                 from /home/main/miniconda/conda-bld/python-basic_1505288458048/_b_env_placehold_placehold_placehold_placehold_placehold_placehold_placehold_placehold_placehold_placehold_placehold_placehold_placehold_placehold_placehold_placehold_placehold_placehold_placehold_/include/boost/function/detail/maybe_include.hpp:13,\n",
      "                 from /home/main/miniconda/conda-bld/python-basic_1505288458048/_b_env_placehold_placehold_placehold_placehold_placehold_placehold_placehold_placehold_placehold_placehold_placehold_placehold_placehold_placehold_placehold_placehold_placehold_placehold_placehold_/include/boost/function/function0.hpp:11,\n",
      "                 from /home/main/miniconda/conda-bld/python-basic_1505288458048/_b_env_placehold_placehold_placehold_placehold_placehold_placehold_placehold_placehold_placehold_placehold_placehold_placehold_placehold_placehold_placehold_placehold_placehold_placehold_placehold_/include/boost/python/errors.hpp:13,\n",
      "                 from /home/main/miniconda/conda-bld/python-basic_1505288458048/_b_env_placehold_placehold_placehold_placehold_placehold_placehold_placehold_placehold_placehold_placehold_placehold_placehold_placehold_placehold_placehold_placehold_placehold_placehold_placehold_/include/boost/python/handle.hpp:11,\n",
      "                 from /home/main/miniconda/conda-bld/python-basic_1505288458048/_b_env_placehold_placehold_placehold_placehold_placehold_placehold_placehold_placehold_placehold_placehold_placehold_placehold_placehold_placehold_placehold_placehold_placehold_placehold_placehold_/include/boost/python/args_fwd.hpp:10,\n",
      "                 from /home/main/miniconda/conda-bld/python-basic_1505288458048/_b_env_placehold_placehold_placehold_placehold_placehold_placehold_placehold_placehold_placehold_placehold_placehold_placehold_placehold_placehold_placehold_placehold_placehold_placehold_placehold_/include/boost/python/args.hpp:10,\n",
      "                 from /home/main/miniconda/conda-bld/python-basic_1505288458048/_b_env_placehold_placehold_placehold_placehold_placehold_placehold_placehold_placehold_placehold_placehold_placehold_placehold_placehold_placehold_placehold_placehold_placehold_placehold_placehold_/include/boost/python.hpp:11,\n",
      "                 from build/py/_basic.h:4:\n",
      "/usr/include/c++/5/bits/unique_ptr.h:49:28: note: declared here\n",
      "   template<typename> class auto_ptr;\n",
      "                            ^\n",
      "In file included from /home/main/miniconda/conda-bld/python-basic_1505288458048/_b_env_placehold_placehold_placehold_placehold_placehold_placehold_placehold_placehold_placehold_placehold_placehold_placehold_placehold_placehold_placehold_placehold_placehold_placehold_placehold_/include/boost/python/object/function_handle.hpp:10:0,\n",
      "                 from /home/main/miniconda/conda-bld/python-basic_1505288458048/_b_env_placehold_placehold_placehold_placehold_placehold_placehold_placehold_placehold_placehold_placehold_placehold_placehold_placehold_placehold_placehold_placehold_placehold_placehold_placehold_/include/boost/python/converter/arg_to_python.hpp:19,\n",
      "                 from /home/main/miniconda/conda-bld/python-basic_1505288458048/_b_env_placehold_placehold_placehold_placehold_placehold_placehold_placehold_placehold_placehold_placehold_placehold_placehold_placehold_placehold_placehold_placehold_placehold_placehold_placehold_/include/boost/python/call.hpp:15,\n",
      "                 from /home/main/miniconda/conda-bld/python-basic_1505288458048/_b_env_placehold_placehold_placehold_placehold_placehold_placehold_placehold_placehold_placehold_placehold_placehold_placehold_placehold_placehold_placehold_placehold_placehold_placehold_placehold_/include/boost/python/object_core.hpp:14,\n",
      "                 from /home/main/miniconda/conda-bld/python-basic_1505288458048/_b_env_placehold_placehold_placehold_placehold_placehold_placehold_placehold_placehold_placehold_placehold_placehold_placehold_placehold_placehold_placehold_placehold_placehold_placehold_placehold_/include/boost/python/args.hpp:25,\n",
      "                 from /home/main/miniconda/conda-bld/python-basic_1505288458048/_b_env_placehold_placehold_placehold_placehold_placehold_placehold_placehold_placehold_placehold_placehold_placehold_placehold_placehold_placehold_placehold_placehold_placehold_placehold_placehold_/include/boost/python.hpp:11,\n",
      "                 from build/py/_basic.h:4:\n",
      "/home/main/miniconda/conda-bld/python-basic_1505288458048/_b_env_placehold_placehold_placehold_placehold_placehold_placehold_placehold_placehold_placehold_placehold_placehold_placehold_placehold_placehold_placehold_placehold_placehold_placehold_placehold_/include/boost/python/object/py_function.hpp: At global scope:\n",
      "/home/main/miniconda/conda-bld/python-basic_1505288458048/_b_env_placehold_placehold_placehold_placehold_placehold_placehold_placehold_placehold_placehold_placehold_placehold_placehold_placehold_placehold_placehold_placehold_placehold_placehold_placehold_/include/boost/python/object/py_function.hpp:167:18: warning: 'template<class> class std::auto_ptr' is deprecated [-Wdeprecated-declarations]\n",
      "     mutable std::auto_ptr<py_function_impl_base> m_impl;\n",
      "                  ^\n",
      "In file included from /usr/include/c++/5/memory:81:0,\n",
      "                 from /home/main/miniconda/conda-bld/python-basic_1505288458048/_b_env_placehold_placehold_placehold_placehold_placehold_placehold_placehold_placehold_placehold_placehold_placehold_placehold_placehold_placehold_placehold_placehold_placehold_placehold_placehold_/include/boost/function/function_base.hpp:16,\n",
      "                 from /home/main/miniconda/conda-bld/python-basic_1505288458048/_b_env_placehold_placehold_placehold_placehold_placehold_placehold_placehold_placehold_placehold_placehold_placehold_placehold_placehold_placehold_placehold_placehold_placehold_placehold_placehold_/include/boost/function/detail/prologue.hpp:17,\n",
      "                 from /home/main/miniconda/conda-bld/python-basic_1505288458048/_b_env_placehold_placehold_placehold_placehold_placehold_placehold_placehold_placehold_placehold_placehold_placehold_placehold_placehold_placehold_placehold_placehold_placehold_placehold_placehold_/include/boost/function/function_template.hpp:13,\n",
      "                 from /home/main/miniconda/conda-bld/python-basic_1505288458048/_b_env_placehold_placehold_placehold_placehold_placehold_placehold_placehold_placehold_placehold_placehold_placehold_placehold_placehold_placehold_placehold_placehold_placehold_placehold_placehold_/include/boost/function/detail/maybe_include.hpp:13,\n",
      "                 from /home/main/miniconda/conda-bld/python-basic_1505288458048/_b_env_placehold_placehold_placehold_placehold_placehold_placehold_placehold_placehold_placehold_placehold_placehold_placehold_placehold_placehold_placehold_placehold_placehold_placehold_placehold_/include/boost/function/function0.hpp:11,\n",
      "                 from /home/main/miniconda/conda-bld/python-basic_1505288458048/_b_env_placehold_placehold_placehold_placehold_placehold_placehold_placehold_placehold_placehold_placehold_placehold_placehold_placehold_placehold_placehold_placehold_placehold_placehold_placehold_/include/boost/python/errors.hpp:13,\n",
      "                 from /home/main/miniconda/conda-bld/python-basic_1505288458048/_b_env_placehold_placehold_placehold_placehold_placehold_placehold_placehold_placehold_placehold_placehold_placehold_placehold_placehold_placehold_placehold_placehold_placehold_placehold_placehold_/include/boost/python/handle.hpp:11,\n",
      "                 from /home/main/miniconda/conda-bld/python-basic_1505288458048/_b_env_placehold_placehold_placehold_placehold_placehold_placehold_placehold_placehold_placehold_placehold_placehold_placehold_placehold_placehold_placehold_placehold_placehold_placehold_placehold_/include/boost/python/args_fwd.hpp:10,\n",
      "                 from /home/main/miniconda/conda-bld/python-basic_1505288458048/_b_env_placehold_placehold_placehold_placehold_placehold_placehold_placehold_placehold_placehold_placehold_placehold_placehold_placehold_placehold_placehold_placehold_placehold_placehold_placehold_/include/boost/python/args.hpp:10,\n",
      "                 from /home/main/miniconda/conda-bld/python-basic_1505288458048/_b_env_placehold_placehold_placehold_placehold_placehold_placehold_placehold_placehold_placehold_placehold_placehold_placehold_placehold_placehold_placehold_placehold_placehold_placehold_placehold_/include/boost/python.hpp:11,\n",
      "                 from build/py/_basic.h:4:\n",
      "/usr/include/c++/5/bits/unique_ptr.h:49:28: note: declared here\n",
      "   template<typename> class auto_ptr;\n",
      "                            ^\n"
     ]
    },
    {
     "name": "stdout",
     "output_type": "stream",
     "text": [
      "In file included from /home/main/miniconda/conda-bld/python-basic_1505288458048/_b_env_placehold_placehold_placehold_placehold_placehold_placehold_placehold_placehold_placehold_placehold_placehold_placehold_placehold_placehold_placehold_placehold_placehold_placehold_placehold_/include/boost/python.hpp:41:0,\n",
      "                 from build/py/_basic.h:4:\n",
      "/home/main/miniconda/conda-bld/python-basic_1505288458048/_b_env_placehold_placehold_placehold_placehold_placehold_placehold_placehold_placehold_placehold_placehold_placehold_placehold_placehold_placehold_placehold_placehold_placehold_placehold_placehold_/include/boost/python/make_constructor.hpp: In member function 'void boost::python::detail::install_holder<T>::dispatch(U*, mpl_::true_) const':\n",
      "/home/main/miniconda/conda-bld/python-basic_1505288458048/_b_env_placehold_placehold_placehold_placehold_placehold_placehold_placehold_placehold_placehold_placehold_placehold_placehold_placehold_placehold_placehold_placehold_placehold_placehold_placehold_/include/boost/python/make_constructor.hpp:48:16: warning: 'template<class> class std::auto_ptr' is deprecated [-Wdeprecated-declarations]\n",
      "           std::auto_ptr<U> owner(x);\n",
      "                ^\n",
      "In file included from /usr/include/c++/5/memory:81:0,\n",
      "                 from /home/main/miniconda/conda-bld/python-basic_1505288458048/_b_env_placehold_placehold_placehold_placehold_placehold_placehold_placehold_placehold_placehold_placehold_placehold_placehold_placehold_placehold_placehold_placehold_placehold_placehold_placehold_/include/boost/function/function_base.hpp:16,\n",
      "                 from /home/main/miniconda/conda-bld/python-basic_1505288458048/_b_env_placehold_placehold_placehold_placehold_placehold_placehold_placehold_placehold_placehold_placehold_placehold_placehold_placehold_placehold_placehold_placehold_placehold_placehold_placehold_/include/boost/function/detail/prologue.hpp:17,\n",
      "                 from /home/main/miniconda/conda-bld/python-basic_1505288458048/_b_env_placehold_placehold_placehold_placehold_placehold_placehold_placehold_placehold_placehold_placehold_placehold_placehold_placehold_placehold_placehold_placehold_placehold_placehold_placehold_/include/boost/function/function_template.hpp:13,\n",
      "                 from /home/main/miniconda/conda-bld/python-basic_1505288458048/_b_env_placehold_placehold_placehold_placehold_placehold_placehold_placehold_placehold_placehold_placehold_placehold_placehold_placehold_placehold_placehold_placehold_placehold_placehold_placehold_/include/boost/function/detail/maybe_include.hpp:13,\n",
      "                 from /home/main/miniconda/conda-bld/python-basic_1505288458048/_b_env_placehold_placehold_placehold_placehold_placehold_placehold_placehold_placehold_placehold_placehold_placehold_placehold_placehold_placehold_placehold_placehold_placehold_placehold_placehold_/include/boost/function/function0.hpp:11,\n",
      "                 from /home/main/miniconda/conda-bld/python-basic_1505288458048/_b_env_placehold_placehold_placehold_placehold_placehold_placehold_placehold_placehold_placehold_placehold_placehold_placehold_placehold_placehold_placehold_placehold_placehold_placehold_placehold_/include/boost/python/errors.hpp:13,\n",
      "                 from /home/main/miniconda/conda-bld/python-basic_1505288458048/_b_env_placehold_placehold_placehold_placehold_placehold_placehold_placehold_placehold_placehold_placehold_placehold_placehold_placehold_placehold_placehold_placehold_placehold_placehold_placehold_/include/boost/python/handle.hpp:11,\n",
      "                 from /home/main/miniconda/conda-bld/python-basic_1505288458048/_b_env_placehold_placehold_placehold_placehold_placehold_placehold_placehold_placehold_placehold_placehold_placehold_placehold_placehold_placehold_placehold_placehold_placehold_placehold_placehold_/include/boost/python/args_fwd.hpp:10,\n",
      "                 from /home/main/miniconda/conda-bld/python-basic_1505288458048/_b_env_placehold_placehold_placehold_placehold_placehold_placehold_placehold_placehold_placehold_placehold_placehold_placehold_placehold_placehold_placehold_placehold_placehold_placehold_placehold_/include/boost/python/args.hpp:10,\n",
      "                 from /home/main/miniconda/conda-bld/python-basic_1505288458048/_b_env_placehold_placehold_placehold_placehold_placehold_placehold_placehold_placehold_placehold_placehold_placehold_placehold_placehold_placehold_placehold_placehold_placehold_placehold_placehold_/include/boost/python.hpp:11,\n",
      "                 from build/py/_basic.h:4:\n",
      "/usr/include/c++/5/bits/unique_ptr.h:49:28: note: declared here\n",
      "   template<typename> class auto_ptr;\n",
      "                            ^\n",
      "g++ -o build/py/wrapper_4046a8421fe9587c9dfbc97778162c7d.os -c -x c++ -std=c++11 -fmax-errors=0 -Wl,--no-undefined -fvisibility=hidden -Wno-attributes -Wno-deprecated-declarations -fPIC -DBOOST_PYTHON_DYNAMIC_LIB -DBOOST_ALL_NO_LIB -I/home/main/miniconda/conda-bld/python-basic_1505288458048/_b_env_placehold_placehold_placehold_placehold_placehold_placehold_placehold_placehold_placehold_placehold_placehold_placehold_placehold_placehold_placehold_placehold_placehold_placehold_placehold_/include -I/home/main/miniconda/conda-bld/python-basic_1505288458048/_b_env_placehold_placehold_placehold_placehold_placehold_placehold_placehold_placehold_placehold_placehold_placehold_placehold_placehold_placehold_placehold_placehold_placehold_placehold_placehold_/include/python2.7 build/py/wrapper_4046a8421fe9587c9dfbc97778162c7d.cpp\n",
      "g++ -o build/py/wrapper_f926cb231a7f5da09f313cd361ff94c7.os -c -x c++ -std=c++11 -fmax-errors=0 -Wl,--no-undefined -fvisibility=hidden -Wno-attributes -Wno-deprecated-declarations -fPIC -DBOOST_PYTHON_DYNAMIC_LIB -DBOOST_ALL_NO_LIB -I/home/main/miniconda/conda-bld/python-basic_1505288458048/_b_env_placehold_placehold_placehold_placehold_placehold_placehold_placehold_placehold_placehold_placehold_placehold_placehold_placehold_placehold_placehold_placehold_placehold_placehold_placehold_/include -I/home/main/miniconda/conda-bld/python-basic_1505288458048/_b_env_placehold_placehold_placehold_placehold_placehold_placehold_placehold_placehold_placehold_placehold_placehold_placehold_placehold_placehold_placehold_placehold_placehold_placehold_placehold_/include/python2.7 build/py/wrapper_f926cb231a7f5da09f313cd361ff94c7.cpp\n",
      "g++ -o build/py/wrapper_92d464d1243554009adc48a065a5be3e.os -c -x c++ -std=c++11 -fmax-errors=0 -Wl,--no-undefined -fvisibility=hidden -Wno-attributes -Wno-deprecated-declarations -fPIC -DBOOST_PYTHON_DYNAMIC_LIB -DBOOST_ALL_NO_LIB -I/home/main/miniconda/conda-bld/python-basic_1505288458048/_b_env_placehold_placehold_placehold_placehold_placehold_placehold_placehold_placehold_placehold_placehold_placehold_placehold_placehold_placehold_placehold_placehold_placehold_placehold_placehold_/include -I/home/main/miniconda/conda-bld/python-basic_1505288458048/_b_env_placehold_placehold_placehold_placehold_placehold_placehold_placehold_placehold_placehold_placehold_placehold_placehold_placehold_placehold_placehold_placehold_placehold_placehold_placehold_/include/python2.7 build/py/wrapper_92d464d1243554009adc48a065a5be3e.cpp\n",
      "g++ -o build/py/wrapper_0f744e8d056f5d469a887c7c78eaf8fe.os -c -x c++ -std=c++11 -fmax-errors=0 -Wl,--no-undefined -fvisibility=hidden -Wno-attributes -Wno-deprecated-declarations -fPIC -DBOOST_PYTHON_DYNAMIC_LIB -DBOOST_ALL_NO_LIB -I/home/main/miniconda/conda-bld/python-basic_1505288458048/_b_env_placehold_placehold_placehold_placehold_placehold_placehold_placehold_placehold_placehold_placehold_placehold_placehold_placehold_placehold_placehold_placehold_placehold_placehold_placehold_/include -I/home/main/miniconda/conda-bld/python-basic_1505288458048/_b_env_placehold_placehold_placehold_placehold_placehold_placehold_placehold_placehold_placehold_placehold_placehold_placehold_placehold_placehold_placehold_placehold_placehold_placehold_placehold_/include/python2.7 build/py/wrapper_0f744e8d056f5d469a887c7c78eaf8fe.cpp\n",
      "g++ -o build/py/_basic.os -c -x c++ -std=c++11 -fmax-errors=0 -Wl,--no-undefined -fvisibility=hidden -Wno-attributes -Wno-deprecated-declarations -fPIC -DBOOST_PYTHON_DYNAMIC_LIB -DBOOST_ALL_NO_LIB -I/home/main/miniconda/conda-bld/python-basic_1505288458048/_b_env_placehold_placehold_placehold_placehold_placehold_placehold_placehold_placehold_placehold_placehold_placehold_placehold_placehold_placehold_placehold_placehold_placehold_placehold_placehold_/include -I/home/main/miniconda/conda-bld/python-basic_1505288458048/_b_env_placehold_placehold_placehold_placehold_placehold_placehold_placehold_placehold_placehold_placehold_placehold_placehold_placehold_placehold_placehold_placehold_placehold_placehold_placehold_/include/python2.7 build/py/_basic.cpp\n"
     ]
    },
    {
     "name": "stdout",
     "output_type": "stream",
     "text": [
      "gcc -o /home/main/miniconda/conda-bld/python-basic_1505288458048/_b_env_placehold_placehold_placehold_placehold_placehold_placehold_placehold_placehold_placehold_placehold_placehold_placehold_placehold_placehold_placehold_placehold_placehold_placehold_placehold_/lib/python2.7/site-packages/basic/__basic.so @/home/main/miniconda/conda-bld/python-basic_1505288458048/work/build/py/response_file.rsp -shared -L/home/main/miniconda/conda-bld/python-basic_1505288458048/_b_env_placehold_placehold_placehold_placehold_placehold_placehold_placehold_placehold_placehold_placehold_placehold_placehold_placehold_placehold_placehold_placehold_placehold_placehold_placehold_/lib -lboost_python -lpython2.7 -lbasic\n",
      "scons: done building targets.\n",
      "INFO:conda_build.build:Packaging python-basic-1.0.0-py27_0\n",
      "fatal: No names found, cannot describe anything.\n",
      "WARNING:conda_build.environ:Failed to obtain git tag information.  Are you using annotated tags?\n",
      "compiling .pyc files...\n",
      "number of files: 5\n",
      "Fixing permissions\n",
      "patchelf: file: /home/main/miniconda/conda-bld/python-basic_1505288458048/_b_env_placehold_placehold_placehold_placehold_placehold_placehold_placehold_placehold_placehold_placehold_placehold_placehold_placehold_placehold_placehold_placehold_placehold_placehold_placehold_/lib/python2.7/site-packages/basic/__basic.so\n",
      "    setting rpath to: $ORIGIN/../../..\n",
      "Fixing permissions\n",
      "/home/main/miniconda/conda-bld/linux-64/python-basic-1.0.0-py27_0.tar.bz2\n",
      "updating index in: /home/main/miniconda/conda-bld\n",
      "updating index in: /home/main/miniconda/conda-bld/noarch\n",
      "updating index in: /home/main/miniconda/conda-bld/linux-64\n",
      "updating: python-basic-1.0.0-py27_0.tar.bz2\n",
      "updating index in: /home/main/miniconda/conda-bld\n",
      "TEST START: /home/main/miniconda/conda-bld/linux-64/python-basic-1.0.0-py27_0.tar.bz2\n",
      "Deleting work directory, /home/main/miniconda/conda-bld/python-basic_1505288458048/work\n",
      "\n",
      "The following NEW packages will be INSTALLED:\n",
      "\n",
      "    ca-certificates: 2017.7.27.1-0      conda-forge\n",
      "    certifi:         2017.7.27.1-py27_0 conda-forge\n",
      "    icu:             58.1-1             conda-forge\n",
      "    libbasic:        1.0.0-0            local      \n",
      "    libboost:        1.61.0-py27_0      statiskit  \n",
      "    librun:          1.0.0-0            statiskit  \n",
      "    ncurses:         5.9-10             conda-forge\n",
      "    openssl:         1.0.2l-0           conda-forge\n",
      "    pip:             9.0.1-py27_0       conda-forge\n",
      "    python:          2.7.13-1           conda-forge\n",
      "    python-basic:    1.0.0-py27_0       local      \n",
      "    readline:        6.2-0              conda-forge\n",
      "    setuptools:      36.3.0-py27_0      conda-forge\n",
      "    sqlite:          3.13.0-1           conda-forge\n",
      "    tk:              8.5.19-2           conda-forge\n",
      "    wheel:           0.29.0-py27_0      conda-forge\n",
      "    zlib:            1.2.11-0           conda-forge\n",
      "\n",
      "\n",
      "WARNING: conda-build appears to be out of date. You have version 2.1.17 but the\n",
      "latest version is 3.0.17. Run\n",
      "\n",
      "conda update -n root conda-build\n",
      "\n",
      "to get the latest version.\n",
      "\n",
      "+ source /home/main/miniconda/bin/activate /home/main/miniconda/conda-bld/python-basic_1505288458048/_t_env\n",
      "+ /bin/bash -x -e /home/main/miniconda/conda-bld/python-basic_1505288458048/test_tmp/run_test.sh\n",
      "+ python -c 'from basic import __basic'\n",
      "TEST END: /home/main/miniconda/conda-bld/linux-64/python-basic-1.0.0-py27_0.tar.bz2\n",
      "INFO:conda_build.config:--dirty flag and --keep-old-work not specified.Removing build/test folder after successful build/test.\n",
      "\n",
      "# Automatic uploading is disabled\n",
      "# If you want to upload package(s) to anaconda.org later, type:\n",
      "\n",
      "anaconda upload /home/main/miniconda/conda-bld/linux-64/python-basic-1.0.0-py27_0.tar.bz2\n",
      "\n",
      "# To have conda build upload to anaconda.org automatically, use\n",
      "# $ conda config --set anaconda_upload yes\n",
      "\n",
      "anaconda_upload is not set.  Not uploading wheels: []\n",
      "Fetching package metadata .............\n",
      "Solving package specifications: .\n",
      "\n",
      "Package plan for installation in environment /home/main/miniconda:\n",
      "\n",
      "The following NEW packages will be INSTALLED:\n",
      "\n",
      "    python-basic: 1.0.0-py27_0 local\n",
      "\n"
     ]
    }
   ],
   "source": [
    "!conda build ../../bin/conda/python-basic -c statiskit -c conda-forge\n",
    "!conda install -y python-basic --use-local -c statiskit --force"
   ]
  },
  {
   "cell_type": "markdown",
   "metadata": {},
   "source": [
    "Finally, we can hereafter use the *C++* library in the *Python* interpreter."
   ]
  },
  {
   "cell_type": "code",
   "execution_count": 10,
   "metadata": {},
   "outputs": [
    {
     "data": {
      "text/latex": [
       "$\\mathcal{B}\\left(1, 0.5\\right)$"
      ],
      "text/plain": [
       "<basic.__basic.BinomialDistribution at 0x7f248803a470>"
      ]
     },
     "execution_count": 10,
     "metadata": {},
     "output_type": "execute_result"
    }
   ],
   "source": [
    "import basic\n",
    "binomial = basic.BinomialDistribution(1, .5)\n",
    "binomial"
   ]
  },
  {
   "cell_type": "code",
   "execution_count": 11,
   "metadata": {},
   "outputs": [
    {
     "data": {
      "text/plain": [
       "0.5"
      ]
     },
     "execution_count": 11,
     "metadata": {},
     "output_type": "execute_result"
    }
   ],
   "source": [
    "binomial.pmf(0)"
   ]
  },
  {
   "cell_type": "code",
   "execution_count": 12,
   "metadata": {},
   "outputs": [
    {
     "data": {
      "text/plain": [
       "0.5"
      ]
     },
     "execution_count": 12,
     "metadata": {},
     "output_type": "execute_result"
    }
   ],
   "source": [
    "binomial.pmf(1)"
   ]
  },
  {
   "cell_type": "code",
   "execution_count": 13,
   "metadata": {},
   "outputs": [
    {
     "data": {
      "text/latex": [
       "$\\mathcal{B}\\left(0, 0.5\\right)$"
      ],
      "text/plain": [
       "<basic.__basic.BinomialDistribution at 0x7f248803a470>"
      ]
     },
     "execution_count": 13,
     "metadata": {},
     "output_type": "execute_result"
    }
   ],
   "source": [
    "binomial.n = 0\n",
    "binomial"
   ]
  },
  {
   "cell_type": "code",
   "execution_count": 14,
   "metadata": {},
   "outputs": [
    {
     "data": {
      "text/plain": [
       "1.0"
      ]
     },
     "execution_count": 14,
     "metadata": {},
     "output_type": "execute_result"
    }
   ],
   "source": [
    "binomial.pmf(0)"
   ]
  },
  {
   "cell_type": "code",
   "execution_count": 15,
   "metadata": {},
   "outputs": [
    {
     "name": "stdout",
     "output_type": "stream",
     "text": [
      "a probability must be in the interval [0,1]\n"
     ]
    }
   ],
   "source": [
    "try:\n",
    "    binomial.set_pi(1.1)\n",
    "except basic.ProbabilityError as error:\n",
    "    print error\n",
    "else:\n",
    "    raise Exception('A `basic.ProbabilityError` should have been raised')"
   ]
  },
  {
   "cell_type": "markdown",
   "metadata": {},
   "source": [
    "Here is a report concerning objects wrapped using this notebook."
   ]
  },
  {
   "cell_type": "code",
   "execution_count": 16,
   "metadata": {},
   "outputs": [
    {
     "name": "stdout",
     "output_type": "stream",
     "text": [
      "Headers: 3 (290 SLOC)\n",
      "Fields: 2 (50.0%)\n",
      "Methods: 16 (62.5%)\n",
      "Classes: 4 (100.0%)\n"
     ]
    }
   ],
   "source": [
    "import fp17\n",
    "fp17.report(asg)"
   ]
  }
 ],
 "metadata": {
  "anaconda-cloud": {},
  "kernelspec": {
   "display_name": "Python 2",
   "language": "python",
   "name": "python2"
  },
  "language_info": {
   "codemirror_mode": {
    "name": "ipython",
    "version": 2
   },
   "file_extension": ".py",
   "mimetype": "text/x-python",
   "name": "python",
   "nbconvert_exporter": "python",
   "pygments_lexer": "ipython2",
   "version": "2.7.13"
  }
 },
 "nbformat": 4,
 "nbformat_minor": 1
}
