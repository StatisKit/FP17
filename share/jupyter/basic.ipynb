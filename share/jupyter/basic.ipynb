{
 "cells": [
  {
   "cell_type": "markdown",
   "metadata": {},
   "source": [
    "# Wrapping a basic library\n",
    "\n",
    "We here aim at presenting the interactive wrapping workflow.\n",
    "For the sake of simplicity, we consider a basic example of *C++* library."
   ]
  },
  {
   "cell_type": "markdown",
   "metadata": {},
   "source": [
    "First, import **AutoWIG**."
   ]
  },
  {
   "cell_type": "code",
   "execution_count": 1,
   "metadata": {
    "collapsed": true
   },
   "outputs": [],
   "source": [
    "import autowig"
   ]
  },
  {
   "cell_type": "markdown",
   "metadata": {},
   "source": [
    "Then, to install and compile the *C++* library we use available **Conda** recipes."
   ]
  },
  {
   "cell_type": "code",
   "execution_count": 2,
   "metadata": {
    "scrolled": true
   },
   "outputs": [
    {
     "name": "stdout",
     "output_type": "stream",
     "text": [
      "BUILD START: libbasic-1.0.0-0\n",
      "    (actual version deferred until further download or env creation)\n",
      "\n",
      "The following NEW packages will be INSTALLED:\n",
      "\n",
      "    certifi:      2016.2.28-py36_0          \n",
      "    libdev:       1.0.0-py36_0     statiskit\n",
      "    openssl:      1.0.2l-0                  \n",
      "    path.py:      10.3.1-py36_0             \n",
      "    pip:          9.0.1-py36_1              \n",
      "    python:       3.6.2-0                   \n",
      "    python-scons: 3.0.0-py36_0     statiskit\n",
      "    pyyaml:       3.12-py36_0               \n",
      "    readline:     6.2-2                     \n",
      "    setuptools:   36.4.0-py36_0             \n",
      "    six:          1.10.0-py36_0             \n",
      "    sqlite:       3.13.0-0                  \n",
      "    tk:           8.5.18-0                  \n",
      "    wheel:        0.29.0-py36_0             \n",
      "    xz:           5.2.3-0                   \n",
      "    yaml:         0.1.6-0                   \n",
      "    zlib:         1.2.11-0                  \n",
      "\n",
      "\n",
      "WARNING: conda-build appears to be out of date. You have version 2.1.17 but the\n",
      "latest version is 3.0.15. Run\n",
      "\n",
      "conda update -n root conda-build\n",
      "\n",
      "to get the latest version.\n",
      "\n",
      "BUILD START (revised): libbasic-1.0.0-0\n",
      "Package: libbasic-1.0.0-0\n",
      "source tree in: /home/main/miniconda/conda-bld/libbasic_1504870711039/work\n",
      "+ source /home/main/miniconda/bin/activate /home/main/miniconda/conda-bld/libbasic_1504870711039/_b_env_placehold_placehold_placehold_placehold_placehold_placehold_placehold_placehold_placehold_placehold_placehold_placehold_placehold_placehold_placehold_placehold_placehold_placehold_placehold_plac\n",
      "+ scons cpp --prefix=/home/main/miniconda/conda-bld/libbasic_1504870711039/_b_env_placehold_placehold_placehold_placehold_placehold_placehold_placehold_placehold_placehold_placehold_placehold_placehold_placehold_placehold_placehold_placehold_placehold_placehold_placehold_plac -j8\n",
      "scons: Reading SConscript files ...\n",
      "scons: done reading SConscript files.\n",
      "scons: Building targets ...\n",
      "Install file: \"build/cpp/base.h\" as \"/home/main/miniconda/conda-bld/libbasic_1504870711039/_b_env_placehold_placehold_placehold_placehold_placehold_placehold_placehold_placehold_placehold_placehold_placehold_placehold_placehold_placehold_placehold_placehold_placehold_placehold_placehold_plac/include/basic/base.h\"\n",
      "Install file: \"build/cpp/binomial.h\" as \"/home/main/miniconda/conda-bld/libbasic_1504870711039/_b_env_placehold_placehold_placehold_placehold_placehold_placehold_placehold_placehold_placehold_placehold_placehold_placehold_placehold_placehold_placehold_placehold_placehold_placehold_placehold_plac/include/basic/binomial.h\"\n",
      "Install file: \"build/cpp/overload.h\" as \"/home/main/miniconda/conda-bld/libbasic_1504870711039/_b_env_placehold_placehold_placehold_placehold_placehold_placehold_placehold_placehold_placehold_placehold_placehold_placehold_placehold_placehold_placehold_placehold_placehold_placehold_placehold_plac/include/basic/overload.h\"\n",
      "g++ -o build/cpp/overload.os -c -x c++ -std=c++11 -fmax-errors=0 -Wl,--no-undefined -fvisibility=hidden -fPIC -DLIBBASIC -I/home/main/miniconda/conda-bld/libbasic_1504870711039/_b_env_placehold_placehold_placehold_placehold_placehold_placehold_placehold_placehold_placehold_placehold_placehold_placehold_placehold_placehold_placehold_placehold_placehold_placehold_placehold_plac/include build/cpp/overload.cpp\n",
      "g++ -o build/cpp/binomial.os -c -x c++ -std=c++11 -fmax-errors=0 -Wl,--no-undefined -fvisibility=hidden -fPIC -DLIBBASIC -I/home/main/miniconda/conda-bld/libbasic_1504870711039/_b_env_placehold_placehold_placehold_placehold_placehold_placehold_placehold_placehold_placehold_placehold_placehold_placehold_placehold_placehold_placehold_placehold_placehold_placehold_placehold_plac/include build/cpp/binomial.cpp\n",
      "g++ -o /home/main/miniconda/conda-bld/libbasic_1504870711039/_b_env_placehold_placehold_placehold_placehold_placehold_placehold_placehold_placehold_placehold_placehold_placehold_placehold_placehold_placehold_placehold_placehold_placehold_placehold_placehold_plac/lib/libbasic.so -shared build/cpp/binomial.os build/cpp/overload.os -L/home/main/miniconda/conda-bld/libbasic_1504870711039/_b_env_placehold_placehold_placehold_placehold_placehold_placehold_placehold_placehold_placehold_placehold_placehold_placehold_placehold_placehold_placehold_placehold_placehold_placehold_placehold_plac/lib\n",
      "scons: done building targets.\n",
      "INFO:conda_build.build:Packaging libbasic-1.0.0-0\n",
      "number of files: 4\n",
      "Fixing permissions\n",
      "patchelf: file: /home/main/miniconda/conda-bld/libbasic_1504870711039/_b_env_placehold_placehold_placehold_placehold_placehold_placehold_placehold_placehold_placehold_placehold_placehold_placehold_placehold_placehold_placehold_placehold_placehold_placehold_placehold_plac/lib/libbasic.so\n",
      "    setting rpath to: $ORIGIN/.\n",
      "Fixing permissions\n",
      "/home/main/miniconda/conda-bld/linux-64/libbasic-1.0.0-0.tar.bz2\n",
      "Nothing to test for: /home/main/miniconda/conda-bld/linux-64/libbasic-1.0.0-0.tar.bz2\n",
      "INFO:conda_build.config:--dirty flag and --keep-old-work not specified.Removing build/test folder after successful build/test.\n",
      "\n",
      "# Automatic uploading is disabled\n",
      "# If you want to upload package(s) to anaconda.org later, type:\n",
      "\n",
      "anaconda upload /home/main/miniconda/conda-bld/linux-64/libbasic-1.0.0-0.tar.bz2\n",
      "\n",
      "# To have conda build upload to anaconda.org automatically, use\n",
      "# $ conda config --set anaconda_upload yes\n",
      "\n",
      "anaconda_upload is not set.  Not uploading wheels: []\n",
      "\n",
      "\n",
      "# All requested packages already installed.\n",
      "# packages in environment at /home/main/miniconda:\n",
      "#\n",
      "libbasic                  1.0.0                         0    local\n"
     ]
    }
   ],
   "source": [
    "!conda build -q ../../bin/conda/libbasic -c statiskit\n",
    "!conda install -y -q libbasic --use-local -c statiskit"
   ]
  },
  {
   "cell_type": "markdown",
   "metadata": {},
   "source": [
    "Once the headers have been installed in the system, we parse them with relevant compilation flags."
   ]
  },
  {
   "cell_type": "code",
   "execution_count": 3,
   "metadata": {},
   "outputs": [
    {
     "name": "stdout",
     "output_type": "stream",
     "text": [
      "CPU times: user 132 ms, sys: 20 ms, total: 152 ms\n",
      "Wall time: 212 ms\n"
     ]
    }
   ],
   "source": [
    "%%time\n",
    "import sys\n",
    "asg = autowig.AbstractSemanticGraph()\n",
    "asg = autowig.parser(asg, [sys.prefix + '/include/basic/overload.h',\n",
    "                           sys.prefix + '/include/basic/binomial.h'],\n",
    "                          ['-x', 'c++', '-std=c++11'],\n",
    "                          silent = True)"
   ]
  },
  {
   "cell_type": "markdown",
   "metadata": {},
   "source": [
    "Since most of **AutoWIG** guidelines are respected, the `default` `controller` implementation is suitable."
   ]
  },
  {
   "cell_type": "code",
   "execution_count": 4,
   "metadata": {},
   "outputs": [
    {
     "name": "stdout",
     "output_type": "stream",
     "text": [
      "CPU times: user 64 ms, sys: 0 ns, total: 64 ms\n",
      "Wall time: 61.6 ms\n"
     ]
    }
   ],
   "source": [
    "%%time\n",
    "autowig.controller.plugin = 'default'\n",
    "asg = autowig.controller(asg)"
   ]
  },
  {
   "cell_type": "markdown",
   "metadata": {},
   "source": [
    "In order to wrap the library we need to select the `boost_python_internal` `generator` implementation."
   ]
  },
  {
   "cell_type": "code",
   "execution_count": 5,
   "metadata": {},
   "outputs": [
    {
     "name": "stdout",
     "output_type": "stream",
     "text": [
      "CPU times: user 48 ms, sys: 4 ms, total: 52 ms\n",
      "Wall time: 49 ms\n"
     ]
    }
   ],
   "source": [
    "%%time\n",
    "autowig.generator.plugin = 'boost_python_internal'\n",
    "wrappers = autowig.generator(asg,\n",
    "                             module = '../../src/py/_basic.cpp',\n",
    "                             decorator = '../../src/py/basic/_basic.py',\n",
    "                             prefix = 'wrapper_')"
   ]
  },
  {
   "cell_type": "markdown",
   "metadata": {},
   "source": [
    "The wrappers are only generated in-memory.\n",
    "It is therefore needed to write them on the disk to complete the process."
   ]
  },
  {
   "cell_type": "code",
   "execution_count": 6,
   "metadata": {},
   "outputs": [
    {
     "name": "stdout",
     "output_type": "stream",
     "text": [
      "CPU times: user 340 ms, sys: 504 ms, total: 844 ms\n",
      "Wall time: 2.37 s\n"
     ]
    }
   ],
   "source": [
    "%%time\n",
    "wrappers.write()"
   ]
  },
  {
   "cell_type": "markdown",
   "metadata": {},
   "source": [
    "Here is the list of the generated wrappers (new files)."
   ]
  },
  {
   "cell_type": "code",
   "execution_count": 7,
   "metadata": {},
   "outputs": [
    {
     "name": "stdout",
     "output_type": "stream",
     "text": [
      "On branch master\r\n",
      "Your branch is up-to-date with 'origin/master'.\r\n",
      "\r\n",
      "Changes not staged for commit:\r\n",
      "  (use \"git add <file>...\" to update what will be committed)\r\n",
      "  (use \"git checkout -- <file>...\" to discard changes in working directory)\r\n",
      "\r\n",
      "\t\u001b[31mmodified:   basic.ipynb\u001b[m\r\n",
      "\t\u001b[31mmodified:   ../../src/py/_basic.h\u001b[m\r\n",
      "\t\u001b[31mmodified:   ../../src/py/wrapper_0f744e8d056f5d469a887c7c78eaf8fe.cpp\u001b[m\r\n",
      "\r\n",
      "Untracked files:\r\n",
      "  (use \"git add <file>...\" to include in what will be committed)\r\n",
      "\r\n",
      "\t\u001b[31m.ipynb_checkpoints/\u001b[m\r\n",
      "\t\u001b[31mbasic/\u001b[m\r\n",
      "\r\n",
      "no changes added to commit (use \"git add\" and/or \"git commit -a\")\r\n"
     ]
    }
   ],
   "source": [
    "!git status"
   ]
  },
  {
   "cell_type": "markdown",
   "metadata": {},
   "source": [
    "And here, we present the wrappers for the `BinomialDistribution` class."
   ]
  },
  {
   "cell_type": "code",
   "execution_count": 8,
   "metadata": {},
   "outputs": [
    {
     "name": "stdout",
     "output_type": "stream",
     "text": [
      "\u001b[36m#\u001b[39;49;00m\u001b[36minclude\u001b[39;49;00m \u001b[37m\"_basic.h\"\u001b[39;49;00m\u001b[36m\u001b[39;49;00m\r\n",
      "\r\n",
      "\r\n",
      "\r\n",
      "\u001b[34mnamespace\u001b[39;49;00m autowig\r\n",
      "{\r\n",
      "\r\n",
      "}\r\n",
      "\r\n",
      "\u001b[36m#\u001b[39;49;00m\u001b[36mif defined(_MSC_VER)\u001b[39;49;00m\u001b[36m\u001b[39;49;00m\r\n",
      "    \u001b[36m#\u001b[39;49;00m\u001b[36mif (_MSC_VER == 1900)\u001b[39;49;00m\u001b[36m\u001b[39;49;00m\r\n",
      "\u001b[34mnamespace\u001b[39;49;00m boost\r\n",
      "{\r\n",
      "    \u001b[34mtemplate\u001b[39;49;00m <> \u001b[34mclass\u001b[39;49;00m \u001b[04m\u001b[31;01m:\u001b[39;49;00m\u001b[04m\u001b[31;01m:\u001b[39;49;00m\u001b[04m\u001b[32mBinomialDistribution\u001b[39;49;00m \u001b[34mconst\u001b[39;49;00m \u001b[34mvolatile\u001b[39;49;00m * get_pointer<\u001b[34mclass\u001b[39;49;00m \u001b[04m\u001b[31;01m:\u001b[39;49;00m\u001b[04m\u001b[31;01m:\u001b[39;49;00m\u001b[04m\u001b[32mBinomialDistribution\u001b[39;49;00m \u001b[34mconst\u001b[39;49;00m \u001b[34mvolatile\u001b[39;49;00m >(\u001b[34mclass\u001b[39;49;00m \u001b[04m\u001b[31;01m:\u001b[39;49;00m\u001b[04m\u001b[31;01m:\u001b[39;49;00m\u001b[04m\u001b[32mBinomialDistribution\u001b[39;49;00m \u001b[34mconst\u001b[39;49;00m \u001b[34mvolatile\u001b[39;49;00m *c) { \u001b[34mreturn\u001b[39;49;00m c; }\r\n",
      "}\r\n",
      "    \u001b[36m#\u001b[39;49;00m\u001b[36mendif\u001b[39;49;00m\u001b[36m\u001b[39;49;00m\r\n",
      "\u001b[36m#\u001b[39;49;00m\u001b[36mendif\u001b[39;49;00m\u001b[36m\u001b[39;49;00m\r\n",
      "\r\n",
      "\r\n",
      "\r\n",
      "\u001b[36mvoid\u001b[39;49;00m wrapper_4046a8421fe9587c9dfbc97778162c7d()\r\n",
      "{\r\n",
      "\r\n",
      "    \u001b[36mdouble\u001b[39;49;00m  (::BinomialDistribution::*method_pointer_3a3ff64f25e358a6a10b1cd3b3425b82)(\u001b[36munsigned\u001b[39;49;00m \u001b[36mint\u001b[39;49;00m \u001b[34mconst\u001b[39;49;00m) \u001b[34mconst\u001b[39;49;00m = &::BinomialDistribution::pmf;\r\n",
      "    \u001b[36mdouble\u001b[39;49;00m  (::BinomialDistribution::*method_pointer_3c97a500c9575c259d5cbdd76120ff4f)() \u001b[34mconst\u001b[39;49;00m = &::BinomialDistribution::get_pi;\r\n",
      "    \u001b[36mvoid\u001b[39;49;00m  (::BinomialDistribution::*method_pointer_d364a0529e33516f8ecbb7dcedd60aa0)(\u001b[36mdouble\u001b[39;49;00m \u001b[34mconst\u001b[39;49;00m) = &::BinomialDistribution::set_pi;\r\n",
      "    boost::python::class_< \u001b[34mclass\u001b[39;49;00m \u001b[04m\u001b[31;01m:\u001b[39;49;00m\u001b[04m\u001b[31;01m:\u001b[39;49;00m\u001b[04m\u001b[32mBinomialDistribution\u001b[39;49;00m, autowig::Held< \u001b[34mclass\u001b[39;49;00m \u001b[04m\u001b[31;01m:\u001b[39;49;00m\u001b[04m\u001b[31;01m:\u001b[39;49;00m\u001b[04m\u001b[32mBinomialDistribution\u001b[39;49;00m >::Type > class_4046a8421fe9587c9dfbc97778162c7d(\u001b[33m\"\u001b[39;49;00m\u001b[33mBinomialDistribution\u001b[39;49;00m\u001b[33m\"\u001b[39;49;00m, \u001b[33m\"\u001b[39;49;00m\u001b[33m\"\u001b[39;49;00m, boost::python::no_init);\r\n",
      "    class_4046a8421fe9587c9dfbc97778162c7d.def(boost::python::init< \u001b[36munsigned\u001b[39;49;00m \u001b[36mint\u001b[39;49;00m \u001b[34mconst\u001b[39;49;00m, \u001b[36mdouble\u001b[39;49;00m \u001b[34mconst\u001b[39;49;00m >(\u001b[33m\"\u001b[39;49;00m\u001b[33m\"\u001b[39;49;00m));\r\n",
      "    class_4046a8421fe9587c9dfbc97778162c7d.def(boost::python::init< \u001b[34mclass\u001b[39;49;00m \u001b[04m\u001b[31;01m:\u001b[39;49;00m\u001b[04m\u001b[31;01m:\u001b[39;49;00m\u001b[04m\u001b[32mBinomialDistribution\u001b[39;49;00m \u001b[34mconst\u001b[39;49;00m & >(\u001b[33m\"\u001b[39;49;00m\u001b[33m\"\u001b[39;49;00m));\r\n",
      "    class_4046a8421fe9587c9dfbc97778162c7d.def(\u001b[33m\"\u001b[39;49;00m\u001b[33mpmf\u001b[39;49;00m\u001b[33m\"\u001b[39;49;00m, method_pointer_3a3ff64f25e358a6a10b1cd3b3425b82, \u001b[33m\"\u001b[39;49;00m\u001b[33mCompute the probability of a value\u001b[39;49;00m\u001b[33m\\n\u001b[39;49;00m\u001b[33m\\n\u001b[39;49;00m\u001b[33mThe probability is given by the flowwing formula\u001b[39;49;00m\u001b[33m\\n\u001b[39;49;00m\u001b[33m:cite:`{JKK96}`\u001b[39;49;00m\u001b[33m\\n\u001b[39;49;00m\u001b[33m\\n\u001b[39;49;00m\u001b[33m:Parameter:\u001b[39;49;00m\u001b[33m\\n\u001b[39;49;00m\u001b[33m    `value` (:cpp:any:`unsigned` int) - Undocumented\u001b[39;49;00m\u001b[33m\\n\u001b[39;49;00m\u001b[33m\\n\u001b[39;49;00m\u001b[33m:Returns:\u001b[39;49;00m\u001b[33m\\n\u001b[39;49;00m\u001b[33m    The probability\u001b[39;49;00m\u001b[33m\\n\u001b[39;49;00m\u001b[33m\\n\u001b[39;49;00m\u001b[33m:Return Type:\u001b[39;49;00m\u001b[33m\\n\u001b[39;49;00m\u001b[33m    :cpp:any:`double`\u001b[39;49;00m\u001b[33m\\n\u001b[39;49;00m\u001b[33m\\n\u001b[39;49;00m\u001b[33m\"\u001b[39;49;00m);\r\n",
      "    class_4046a8421fe9587c9dfbc97778162c7d.def(\u001b[33m\"\u001b[39;49;00m\u001b[33mget_pi\u001b[39;49;00m\u001b[33m\"\u001b[39;49;00m, method_pointer_3c97a500c9575c259d5cbdd76120ff4f, \u001b[33m\"\u001b[39;49;00m\u001b[33m\"\u001b[39;49;00m);\r\n",
      "    class_4046a8421fe9587c9dfbc97778162c7d.def(\u001b[33m\"\u001b[39;49;00m\u001b[33mset_pi\u001b[39;49;00m\u001b[33m\"\u001b[39;49;00m, method_pointer_d364a0529e33516f8ecbb7dcedd60aa0, \u001b[33m\"\u001b[39;49;00m\u001b[33m:Parameter:\u001b[39;49;00m\u001b[33m\\n\u001b[39;49;00m\u001b[33m    `pi` (:cpp:any:`double`) - New probability value\u001b[39;49;00m\u001b[33m\\n\u001b[39;49;00m\u001b[33m\\n\u001b[39;49;00m\u001b[33m:Return Type:\u001b[39;49;00m\u001b[33m\\n\u001b[39;49;00m\u001b[33m    :cpp:any:`void`\u001b[39;49;00m\u001b[33m\\n\u001b[39;49;00m\u001b[33m\\n\u001b[39;49;00m\u001b[33m:Raises:\u001b[39;49;00m\u001b[33m\\n\u001b[39;49;00m\u001b[33m    :cpp:any:`\u001b[39;49;00m\u001b[33m\\\\\u001b[39;49;00m\u001b[33mref` - ::ProbabilityError If the new probability value is not in the interval\u001b[39;49;00m\u001b[33m\\n\u001b[39;49;00m\u001b[33m                      :math:`\u001b[39;49;00m\u001b[33m\\\\\u001b[39;49;00m\u001b[33mleft[0,1\u001b[39;49;00m\u001b[33m\\\\\u001b[39;49;00m\u001b[33mright]`\u001b[39;49;00m\u001b[33m\\n\u001b[39;49;00m\u001b[33m\\n\u001b[39;49;00m\u001b[33m.. warning::\u001b[39;49;00m\u001b[33m\\n\u001b[39;49;00m\u001b[33m\\n\u001b[39;49;00m\u001b[33m    The probability value must be in the interval :math:`\u001b[39;49;00m\u001b[33m\\\\\u001b[39;49;00m\u001b[33mleft[0,1\u001b[39;49;00m\u001b[33m\\\\\u001b[39;49;00m\u001b[33mright]`\u001b[39;49;00m\u001b[33m\\n\u001b[39;49;00m\u001b[33m\\n\u001b[39;49;00m\u001b[33m\"\u001b[39;49;00m);\r\n",
      "    class_4046a8421fe9587c9dfbc97778162c7d.def_readwrite(\u001b[33m\"\u001b[39;49;00m\u001b[33mn\u001b[39;49;00m\u001b[33m\"\u001b[39;49;00m, &::BinomialDistribution::n, \u001b[33m\"\u001b[39;49;00m\u001b[33m\"\u001b[39;49;00m);\r\n",
      "\r\n",
      "}\r\n"
     ]
    }
   ],
   "source": [
    "!pygmentize basic/src/py/wrapper_4046a8421fe9587c9dfbc97778162c7d.cpp"
   ]
  },
  {
   "cell_type": "markdown",
   "metadata": {},
   "source": [
    "Once the wrappers are written on disk, we need to compile and install the *Python* bindings."
   ]
  },
  {
   "cell_type": "code",
   "execution_count": 9,
   "metadata": {},
   "outputs": [
    {
     "name": "stdout",
     "output_type": "stream",
     "text": [
      "\n",
      "\n",
      "Package plan for installation in environment /home/main/miniconda:\n",
      "\n",
      "The following NEW packages will be INSTALLED:\n",
      "\n",
      "    python-basic: 1.0.0-py27_0 statiskit\n",
      "\n"
     ]
    }
   ],
   "source": [
    "!conda build -q basic/conda/python-basic -c statiskit\n",
    "!conda install -y -q python-basic --use-local -c statiskit --force"
   ]
  },
  {
   "cell_type": "markdown",
   "metadata": {},
   "source": [
    "Finally, we can hereafter use the *C++* library in the *Python* interpreter."
   ]
  },
  {
   "cell_type": "code",
   "execution_count": 10,
   "metadata": {},
   "outputs": [
    {
     "data": {
      "text/latex": [
       "$\\mathcal{B}\\left(1, 0.5\\right)$"
      ],
      "text/plain": [
       "<basic.__basic.BinomialDistribution at 0x7ff00a2724c8>"
      ]
     },
     "execution_count": 10,
     "metadata": {},
     "output_type": "execute_result"
    }
   ],
   "source": [
    "import basic\n",
    "binomial = basic.BinomialDistribution(1, .5)\n",
    "binomial"
   ]
  },
  {
   "cell_type": "code",
   "execution_count": 11,
   "metadata": {},
   "outputs": [
    {
     "data": {
      "text/plain": [
       "0.5"
      ]
     },
     "execution_count": 11,
     "metadata": {},
     "output_type": "execute_result"
    }
   ],
   "source": [
    "binomial.pmf(0)"
   ]
  },
  {
   "cell_type": "code",
   "execution_count": 12,
   "metadata": {},
   "outputs": [
    {
     "data": {
      "text/plain": [
       "0.5"
      ]
     },
     "execution_count": 12,
     "metadata": {},
     "output_type": "execute_result"
    }
   ],
   "source": [
    "binomial.pmf(1)"
   ]
  },
  {
   "cell_type": "code",
   "execution_count": 13,
   "metadata": {},
   "outputs": [
    {
     "data": {
      "text/latex": [
       "$\\mathcal{B}\\left(0, 0.5\\right)$"
      ],
      "text/plain": [
       "<basic.__basic.BinomialDistribution at 0x7ff00a2724c8>"
      ]
     },
     "execution_count": 13,
     "metadata": {},
     "output_type": "execute_result"
    }
   ],
   "source": [
    "binomial.n = 0\n",
    "binomial"
   ]
  },
  {
   "cell_type": "code",
   "execution_count": 14,
   "metadata": {},
   "outputs": [
    {
     "data": {
      "text/plain": [
       "1.0"
      ]
     },
     "execution_count": 14,
     "metadata": {},
     "output_type": "execute_result"
    }
   ],
   "source": [
    "binomial.pmf(0)"
   ]
  },
  {
   "cell_type": "code",
   "execution_count": 15,
   "metadata": {},
   "outputs": [
    {
     "name": "stdout",
     "output_type": "stream",
     "text": [
      "a probability must be in the interval [0,1]\n"
     ]
    },
    {
     "name": "stderr",
     "output_type": "stream",
     "text": [
      "/home/main/miniconda/lib/python2.7/site-packages/ipykernel_launcher.py:4: DeprecationWarning: BaseException.message has been deprecated as of Python 2.6\n",
      "  after removing the cwd from sys.path.\n"
     ]
    }
   ],
   "source": [
    "try:\n",
    "    binomial.set_pi(1.1)\n",
    "except basic.ProbabilityError as error:\n",
    "    print error.message\n",
    "else:\n",
    "    raise Exception('A `basic.ProbabilityError` should have been raise')"
   ]
  }
 ],
 "metadata": {
  "anaconda-cloud": {},
  "kernelspec": {
   "display_name": "Python 2",
   "language": "python",
   "name": "python2"
  },
  "language_info": {
   "codemirror_mode": {
    "name": "ipython",
    "version": 2
   },
   "file_extension": ".py",
   "mimetype": "text/x-python",
   "name": "python",
   "nbconvert_exporter": "python",
   "pygments_lexer": "ipython2",
   "version": "2.7.13"
  }
 },
 "nbformat": 4,
 "nbformat_minor": 1
}
