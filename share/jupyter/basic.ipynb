{
 "cells": [
  {
   "cell_type": "markdown",
   "metadata": {},
   "source": [
    "# Wrapping a basic library\n",
    "\n",
    "We here aim at presenting the interactive wrapping workflow.\n",
    "For the sake of simplicity, we consider a basic example of a *C++* library.\n",
    "\n",
    "First, we need:\n",
    "\n",
    "* to detect if the operating system (OS) is a Windows OS or a Unix OS."
   ]
  },
  {
   "cell_type": "code",
   "execution_count": null,
   "metadata": {},
   "outputs": [],
   "source": [
    "import platform\n",
    "is_windows = any(platform.win32_ver())"
   ]
  },
  {
   "cell_type": "markdown",
   "metadata": {},
   "source": [
    "On Windows OSes, the visual studio version used to compile future wrappers must be given."
   ]
  },
  {
   "cell_type": "code",
   "execution_count": null,
   "metadata": {},
   "outputs": [],
   "source": [
    "if is_windows:\n",
    "    kwargs = dict(msvc_version = '12.0')\n",
    "else:\n",
    "    kwargs = dict()"
   ]
  },
  {
   "cell_type": "markdown",
   "metadata": {},
   "source": [
    "* to detect the version of *Python* installed and to save it in the `PYTHON_VERSION` environment variable."
   ]
  },
  {
   "cell_type": "code",
   "execution_count": null,
   "metadata": {},
   "outputs": [],
   "source": [
    "import sys\n",
    "PYTHON_VERSION = str(sys.version_info.major) + '.' + str(sys.version_info.minor)"
   ]
  },
  {
   "cell_type": "markdown",
   "metadata": {},
   "source": [
    "* to import **AutoWIG**."
   ]
  },
  {
   "cell_type": "code",
   "execution_count": null,
   "metadata": {},
   "outputs": [],
   "source": [
    "import autowig"
   ]
  },
  {
   "cell_type": "markdown",
   "metadata": {},
   "source": [
    "* to import **subprocess**."
   ]
  },
  {
   "cell_type": "code",
   "execution_count": null,
   "metadata": {},
   "outputs": [],
   "source": [
    "import subprocess"
   ]
  },
  {
   "cell_type": "markdown",
   "metadata": {},
   "source": [
    "* to detect the **Git** repository root"
   ]
  },
  {
   "cell_type": "code",
   "execution_count": null,
   "metadata": {},
   "outputs": [],
   "source": [
    "import os\n",
    "GIT_ROOT = subprocess.check_output('git rev-parse --show-toplevel', shell=True).decode()\n",
    "GIT_ROOT = GIT_ROOT.replace('\\\\', os.sep).strip()"
   ]
  },
  {
   "cell_type": "markdown",
   "metadata": {},
   "source": [
    "Then, we need to install and compile the *C++* library.\n",
    "To do so, we use available **Conda** recipes."
   ]
  },
  {
   "cell_type": "code",
   "execution_count": null,
   "metadata": {
    "scrolled": true
   },
   "outputs": [],
   "source": [
    "subprocess.call('conda remove -y libbasic', shell=True)\n",
    "CONDA_RECIPE = os.path.join(GIT_ROOT, 'bin', 'conda', 'libbasic')\n",
    "subprocess.check_call('conda build --python=' + PYTHON_VERSION + ' ' + CONDA_RECIPE + ' -c statiskit -c defaults --override-channels',\n",
    "                      shell=True)\n",
    "subprocess.check_call('conda install -y libbasic --use-local -c statiskit -c defaults --override-channels',\n",
    "                      shell=True)"
   ]
  },
  {
   "cell_type": "markdown",
   "metadata": {},
   "source": [
    "Once these preliminaries are done, we can proceed to the actual generation of wrappers for this *C++* library.\n",
    "For this, we create an empty Abstract Semantic Graph (ASG)."
   ]
  },
  {
   "cell_type": "code",
   "execution_count": null,
   "metadata": {},
   "outputs": [],
   "source": [
    "asg = autowig.AbstractSemanticGraph()"
   ]
  },
  {
   "cell_type": "markdown",
   "metadata": {},
   "source": [
    "We then parse the headers of this *C++* library with relevant compilation flags."
   ]
  },
  {
   "cell_type": "code",
   "execution_count": null,
   "metadata": {},
   "outputs": [],
   "source": [
    "%%time\n",
    "\n",
    "try:\n",
    "    from path import path as Path\n",
    "except:\n",
    "    from path import Path\n",
    "prefix = Path(sys.prefix).abspath()\n",
    "if is_windows:\n",
    "    headers = [prefix/'Library'/'include'/'basic'/'overload.h',\n",
    "               prefix/'Library'/'include'/'basic'/'binomial.h']\n",
    "else:\n",
    "    headers = [prefix/'include'/'basic'/'overload.h',\n",
    "               prefix/'include'/'basic'/'binomial.h']\n",
    "    \n",
    "flags = ['-x', 'c++', '-std=c++11']\n",
    "if is_windows:\n",
    "    flags.append('-I' + str((prefix/'Library'/'include').abspath()))\n",
    "else:\n",
    "    flags.append('-I' + str((prefix/'include').abspath()))\n",
    "    \n",
    "if autowig.parser.plugin == 'libclang':\n",
    "    kwargs['silent'] = True\n",
    "    \n",
    "asg = autowig.parser(asg, headers,\n",
    "                          flags,\n",
    "                          **kwargs)"
   ]
  },
  {
   "cell_type": "markdown",
   "metadata": {},
   "source": [
    "Since most of **AutoWIG** guidelines are respected in this *C++* library, the `default` `controller` implementation is suitable."
   ]
  },
  {
   "cell_type": "code",
   "execution_count": null,
   "metadata": {},
   "outputs": [],
   "source": [
    "%%time\n",
    "\n",
    "asg = autowig.controller(asg)"
   ]
  },
  {
   "cell_type": "markdown",
   "metadata": {},
   "source": [
    "In order to wrap the library we need to select the `boost_python_internal` `generator` implementation."
   ]
  },
  {
   "cell_type": "code",
   "execution_count": null,
   "metadata": {},
   "outputs": [],
   "source": [
    "%%time\n",
    "\n",
    "autowig.generator.plugin = 'boost_python_internal'  \n",
    "wrappers = autowig.generator(asg,\n",
    "                             module = os.path.join(GIT_ROOT, 'src', 'py', '_basic.cpp'),\n",
    "                             decorator = os.path.join(GIT_ROOT, 'src', 'py', 'basic', '_basic.py'),\n",
    "                             prefix = 'wrapper_')"
   ]
  },
  {
   "cell_type": "markdown",
   "metadata": {},
   "source": [
    "The wrappers are only generated in-memory.\n",
    "It is therefore needed to write them on the disk to complete the process."
   ]
  },
  {
   "cell_type": "code",
   "execution_count": null,
   "metadata": {},
   "outputs": [],
   "source": [
    "%%time\n",
    "\n",
    "wrappers.write()"
   ]
  },
  {
   "cell_type": "markdown",
   "metadata": {},
   "source": [
    "Here is the list of the generated wrappers (untracked files)."
   ]
  },
  {
   "cell_type": "code",
   "execution_count": null,
   "metadata": {},
   "outputs": [],
   "source": [
    "!git status"
   ]
  },
  {
   "cell_type": "markdown",
   "metadata": {},
   "source": [
    "And here, we present the wrappers generated for the `BinomialDistribution` class."
   ]
  },
  {
   "cell_type": "code",
   "execution_count": null,
   "metadata": {},
   "outputs": [],
   "source": [
    "WRAPPER = os.path.join(GIT_ROOT, 'src', 'py', 'wrapper_4046a8421fe9587c9dfbc97778162c7d.cpp')\n",
    "!pygmentize {WRAPPER}"
   ]
  },
  {
   "cell_type": "markdown",
   "metadata": {},
   "source": [
    "Once the wrappers are written on disk, we need to compile and install the *Python* bindings.\n",
    "To do so, we use available **Conda** recipes."
   ]
  },
  {
   "cell_type": "code",
   "execution_count": null,
   "metadata": {
    "scrolled": true
   },
   "outputs": [],
   "source": [
    "subprocess.call('conda remove -y python-basic', shell=True)\n",
    "CONDA_RECIPE = os.path.join(GIT_ROOT, 'bin', 'conda', 'python-basic')\n",
    "subprocess.check_call('conda build --python=' + PYTHON_VERSION + ' ' + CONDA_RECIPE + ' -c statiskit -c defaults --override-channels',\n",
    "                      shell=True)\n",
    "subprocess.check_call('conda install -y python-basic --use-local -c statiskit -c defaults --override-channels',\n",
    "                      shell=True)"
   ]
  },
  {
   "cell_type": "markdown",
   "metadata": {},
   "source": [
    "Finally, we can hereafter use the *C++* library in the *Python* interpreter."
   ]
  },
  {
   "cell_type": "code",
   "execution_count": null,
   "metadata": {},
   "outputs": [],
   "source": [
    "import basic\n",
    "binomial = basic.BinomialDistribution(1, .5)\n",
    "binomial"
   ]
  },
  {
   "cell_type": "code",
   "execution_count": null,
   "metadata": {},
   "outputs": [],
   "source": [
    "binomial.pmf(0)"
   ]
  },
  {
   "cell_type": "code",
   "execution_count": null,
   "metadata": {},
   "outputs": [],
   "source": [
    "binomial.pmf(1)"
   ]
  },
  {
   "cell_type": "code",
   "execution_count": null,
   "metadata": {},
   "outputs": [],
   "source": [
    "binomial.n = 0\n",
    "binomial"
   ]
  },
  {
   "cell_type": "code",
   "execution_count": null,
   "metadata": {},
   "outputs": [],
   "source": [
    "binomial.pmf(0)"
   ]
  },
  {
   "cell_type": "code",
   "execution_count": null,
   "metadata": {},
   "outputs": [],
   "source": [
    "try:\n",
    "    binomial.set_pi(1.1)\n",
    "except basic.ProbabilityError as error:\n",
    "    print(error)\n",
    "else:\n",
    "    raise Exception('A `basic.ProbabilityError` should have been raised')"
   ]
  },
  {
   "cell_type": "markdown",
   "metadata": {},
   "source": [
    "Here is a report concerning objects wrapped using this notebook."
   ]
  },
  {
   "cell_type": "code",
   "execution_count": null,
   "metadata": {},
   "outputs": [],
   "source": [
    "import fp17\n",
    "fp17.report(asg)"
   ]
  }
 ],
 "metadata": {
  "anaconda-cloud": {},
  "kernelspec": {
   "display_name": "Python 2",
   "language": "python",
   "name": "python2"
  },
  "language_info": {
   "codemirror_mode": {
    "name": "ipython",
    "version": 2
   },
   "file_extension": ".py",
   "mimetype": "text/x-python",
   "name": "python",
   "nbconvert_exporter": "python",
   "pygments_lexer": "ipython2",
   "version": "2.7.14"
  },
  "toc": {
   "colors": {
    "hover_highlight": "#DAA520",
    "navigate_num": "#000000",
    "navigate_text": "#333333",
    "running_highlight": "#FF0000",
    "selected_highlight": "#FFD700",
    "sidebar_border": "#EEEEEE",
    "wrapper_background": "#FFFFFF"
   },
   "moveMenuLeft": true,
   "nav_menu": {
    "height": "30px",
    "width": "252px"
   },
   "navigate_menu": true,
   "number_sections": true,
   "sideBar": true,
   "threshold": 4,
   "toc_cell": false,
   "toc_section_display": "block",
   "toc_window_display": false,
   "widenNotebook": false
  }
 },
 "nbformat": 4,
 "nbformat_minor": 1
}
