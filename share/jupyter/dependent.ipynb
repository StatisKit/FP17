{
 "cells": [
  {
   "cell_type": "markdown",
   "metadata": {},
   "source": [
    "# Wrapping dependent libraries\n",
    "\n",
    "**StructureAnalysis** is a set of libraries that include statistical models for the analysis of structured data (mainly sequences and tree-structured data):\n",
    "\n",
    "* **StatTool** is a library containing classes concerning parametric  modeling of univariate and multivariate data.\n",
    "\n",
    "* **SequenceAnalysis** is a library containing statistical functions and classes for markovian models (e.g., hidden variable-order Markov and hidden semi-Markov models) and multiple change-point models for sequences.\n",
    "  The **SequenceAnalysis** library depends on the **StatTool** library.\n",
    "\n",
    "These libraries have been extensively used for the identification and characterization of developmental patterns in plants from the tissular to the whole plant scale.\n",
    "Previously interfaced with *AML* (a home-made, domain-specific programming language), some work has been done to switch to *Python*.\n",
    "Nevertheless, the complexity of writing wrappers with **Boost.Python** limited the number of available components in *Python* in comparison to *AML*.\n",
    "One advantage of having a statistical library written in *C++* available in *Python* is that developers can benefit from all *Python* packages.\n",
    "As illustrated with the following figures this is particularly useful for providing visualizations for model quality assessment using -- for example -- the **Matplotlib** *Python* package."
   ]
  },
  {
   "cell_type": "code",
   "execution_count": 1,
   "metadata": {},
   "outputs": [
    {
     "name": "stderr",
     "output_type": "stream",
     "text": [
      "/Users/pfernique/.miniconda/envs/FP17/lib/python2.7/site-packages/matplotlib/font_manager.py:279: UserWarning: Matplotlib is building the font cache using fc-list. This may take a moment.\n",
      "  'Matplotlib is building the font cache using fc-list. '\n"
     ]
    }
   ],
   "source": [
    "import matplotlib\n",
    "%matplotlib nbagg"
   ]
  },
  {
   "cell_type": "markdown",
   "metadata": {},
   "source": [
    "We here aim at presenting how dependent libraries can be wrapped.\n",
    "First, we need:\n",
    "\n",
    "* to detect if the operating system (OS) is a Windows OS or a Unix OS."
   ]
  },
  {
   "cell_type": "code",
   "execution_count": 2,
   "metadata": {},
   "outputs": [],
   "source": [
    "import platform\n",
    "is_windows = any(platform.win32_ver())"
   ]
  },
  {
   "cell_type": "markdown",
   "metadata": {},
   "source": [
    "* to detect the version of *Python* installed and to save it in the `PYTHON_VERSION` environment variable."
   ]
  },
  {
   "cell_type": "code",
   "execution_count": 3,
   "metadata": {},
   "outputs": [],
   "source": [
    "import os\n",
    "import sys\n",
    "os.environ['PYTHON_VERSION'] = str(sys.version_info.major) + '.' + str(sys.version_info.minor)"
   ]
  },
  {
   "cell_type": "markdown",
   "metadata": {},
   "source": [
    "* to import **AutoWIG**."
   ]
  },
  {
   "cell_type": "code",
   "execution_count": 4,
   "metadata": {},
   "outputs": [],
   "source": [
    "import autowig"
   ]
  },
  {
   "cell_type": "markdown",
   "metadata": {},
   "source": [
    "## The **StatTool** library\n",
    "\n",
    "To compile and install the **StatTool** library, we use the available **Conda** recipes."
   ]
  },
  {
   "cell_type": "code",
   "execution_count": 5,
   "metadata": {},
   "outputs": [
    {
     "name": "stdout",
     "output_type": "stream",
     "text": [
      "\n",
      "\n",
      "\n",
      "####################################################################################\n",
      "Source and build intermediates have been left in /Users/pfernique/.miniconda/conda-bld.\n",
      "There are currently 19 accumulated.\n",
      "To remove them, you can run the ```conda build purge``` command\n",
      "Fetching package metadata .................\n",
      "\n",
      "PackageNotFoundError: Packages missing in current channels:\n",
      "            \n",
      "  - libstat_tool\n",
      "\n",
      "We have searched for the packages in the following channels:\n",
      "            \n",
      "  - file:///Users/pfernique/.miniconda/conda-bld/osx-64\n",
      "  - file:///Users/pfernique/.miniconda/conda-bld/noarch\n",
      "  - https://conda.anaconda.org/statiskit/osx-64\n",
      "  - https://conda.anaconda.org/statiskit/noarch\n",
      "  - https://conda.anaconda.org/conda-forge/osx-64\n",
      "  - https://conda.anaconda.org/conda-forge/noarch\n",
      "  - https://repo.continuum.io/pkgs/main/osx-64\n",
      "  - https://repo.continuum.io/pkgs/main/noarch\n",
      "  - https://repo.continuum.io/pkgs/free/osx-64\n",
      "  - https://repo.continuum.io/pkgs/free/noarch\n",
      "  - https://repo.continuum.io/pkgs/r/osx-64\n",
      "  - https://repo.continuum.io/pkgs/r/noarch\n",
      "  - https://repo.continuum.io/pkgs/pro/osx-64\n",
      "  - https://repo.continuum.io/pkgs/pro/noarch\n",
      "            \n",
      "\n"
     ]
    }
   ],
   "source": [
    "if is_windows:\n",
    "    !conda build --python=%PYTHON_VERSION% ..\\git\\StructureAnalysis\\stat_tool\\bin\\conda\\libstat_tool -c statiskit -c conda-forge\n",
    "else:\n",
    "    !conda build --python=$PYTHON_VERSION ../git/StructureAnalysis/stat_tool/bin/conda/libstat_tool -c statiskit -c conda-forge\n",
    "!conda install -y libstat_tool --use-local -c statiskit -c conda-forge"
   ]
  },
  {
   "cell_type": "markdown",
   "metadata": {},
   "source": [
    "Then, we can proceed to the actual generation of wrappers for the **StatTool** library.\n",
    "For this, we create an empty Abstract Semantic Graph (ASG)."
   ]
  },
  {
   "cell_type": "code",
   "execution_count": 6,
   "metadata": {},
   "outputs": [],
   "source": [
    "import autowig\n",
    "asg = autowig.AbstractSemanticGraph()"
   ]
  },
  {
   "cell_type": "markdown",
   "metadata": {},
   "source": [
    "Then, we parse headers with relevant compilation flags."
   ]
  },
  {
   "cell_type": "code",
   "execution_count": 7,
   "metadata": {},
   "outputs": [
    {
     "ename": "OSError",
     "evalue": "[Errno 2] No such file or directory: '/Users/pfernique/.miniconda/envs/FP17/include/stat_tool'",
     "output_type": "error",
     "traceback": [
      "\u001b[0;31m---------------------------------------------------------------------------\u001b[0m",
      "\u001b[0;31mOSError\u001b[0m                                   Traceback (most recent call last)",
      "\u001b[0;32m<ipython-input-7-437921d4e59b>\u001b[0m in \u001b[0;36m<module>\u001b[0;34m()\u001b[0m\n\u001b[0;32m----> 1\u001b[0;31m \u001b[0mget_ipython\u001b[0m\u001b[0;34m(\u001b[0m\u001b[0;34m)\u001b[0m\u001b[0;34m.\u001b[0m\u001b[0mrun_cell_magic\u001b[0m\u001b[0;34m(\u001b[0m\u001b[0;34mu'time'\u001b[0m\u001b[0;34m,\u001b[0m \u001b[0;34mu''\u001b[0m\u001b[0;34m,\u001b[0m \u001b[0;34mu\"\\nimport sys\\ntry:\\n    from path import Path\\nexcept:\\n    from path import path as Path\\nprefix = Path(sys.prefix).abspath()\\nif is_windows:\\n    headers = list((prefix/'include'/'stat_tool').walkfiles('*.h*'))\\nelse:\\n    headers = list((prefix/'include'/'stat_tool').walkfiles('*.h*'))\\n    \\nflags = ['-x', 'c++', '-std=c++11']\\nif is_windows:\\n    flags.append('-I' + str((prefix/'Library'/'include').abspath()))\\nelse:\\n    flags.append('-I' + str((prefix/'include').abspath()))\\n    \\nautowig.parser.plugin = 'clanglite'\\nasg = autowig.parser(asg, headers,\\n                          flags = flags,\\n                          bootstrap = 2,\\n                          silent = True)\"\u001b[0m\u001b[0;34m)\u001b[0m\u001b[0;34m\u001b[0m\u001b[0m\n\u001b[0m",
      "\u001b[0;32m/Users/pfernique/.miniconda/envs/FP17/lib/python2.7/site-packages/IPython/core/interactiveshell.pyc\u001b[0m in \u001b[0;36mrun_cell_magic\u001b[0;34m(self, magic_name, line, cell)\u001b[0m\n\u001b[1;32m   2115\u001b[0m             \u001b[0mmagic_arg_s\u001b[0m \u001b[0;34m=\u001b[0m \u001b[0mself\u001b[0m\u001b[0;34m.\u001b[0m\u001b[0mvar_expand\u001b[0m\u001b[0;34m(\u001b[0m\u001b[0mline\u001b[0m\u001b[0;34m,\u001b[0m \u001b[0mstack_depth\u001b[0m\u001b[0;34m)\u001b[0m\u001b[0;34m\u001b[0m\u001b[0m\n\u001b[1;32m   2116\u001b[0m             \u001b[0;32mwith\u001b[0m \u001b[0mself\u001b[0m\u001b[0;34m.\u001b[0m\u001b[0mbuiltin_trap\u001b[0m\u001b[0;34m:\u001b[0m\u001b[0;34m\u001b[0m\u001b[0m\n\u001b[0;32m-> 2117\u001b[0;31m                 \u001b[0mresult\u001b[0m \u001b[0;34m=\u001b[0m \u001b[0mfn\u001b[0m\u001b[0;34m(\u001b[0m\u001b[0mmagic_arg_s\u001b[0m\u001b[0;34m,\u001b[0m \u001b[0mcell\u001b[0m\u001b[0;34m)\u001b[0m\u001b[0;34m\u001b[0m\u001b[0m\n\u001b[0m\u001b[1;32m   2118\u001b[0m             \u001b[0;32mreturn\u001b[0m \u001b[0mresult\u001b[0m\u001b[0;34m\u001b[0m\u001b[0m\n\u001b[1;32m   2119\u001b[0m \u001b[0;34m\u001b[0m\u001b[0m\n",
      "\u001b[0;32m<decorator-gen-60>\u001b[0m in \u001b[0;36mtime\u001b[0;34m(self, line, cell, local_ns)\u001b[0m\n",
      "\u001b[0;32m/Users/pfernique/.miniconda/envs/FP17/lib/python2.7/site-packages/IPython/core/magic.pyc\u001b[0m in \u001b[0;36m<lambda>\u001b[0;34m(f, *a, **k)\u001b[0m\n\u001b[1;32m    186\u001b[0m     \u001b[0;31m# but it's overkill for just that one bit of state.\u001b[0m\u001b[0;34m\u001b[0m\u001b[0;34m\u001b[0m\u001b[0m\n\u001b[1;32m    187\u001b[0m     \u001b[0;32mdef\u001b[0m \u001b[0mmagic_deco\u001b[0m\u001b[0;34m(\u001b[0m\u001b[0marg\u001b[0m\u001b[0;34m)\u001b[0m\u001b[0;34m:\u001b[0m\u001b[0;34m\u001b[0m\u001b[0m\n\u001b[0;32m--> 188\u001b[0;31m         \u001b[0mcall\u001b[0m \u001b[0;34m=\u001b[0m \u001b[0;32mlambda\u001b[0m \u001b[0mf\u001b[0m\u001b[0;34m,\u001b[0m \u001b[0;34m*\u001b[0m\u001b[0ma\u001b[0m\u001b[0;34m,\u001b[0m \u001b[0;34m**\u001b[0m\u001b[0mk\u001b[0m\u001b[0;34m:\u001b[0m \u001b[0mf\u001b[0m\u001b[0;34m(\u001b[0m\u001b[0;34m*\u001b[0m\u001b[0ma\u001b[0m\u001b[0;34m,\u001b[0m \u001b[0;34m**\u001b[0m\u001b[0mk\u001b[0m\u001b[0;34m)\u001b[0m\u001b[0;34m\u001b[0m\u001b[0m\n\u001b[0m\u001b[1;32m    189\u001b[0m \u001b[0;34m\u001b[0m\u001b[0m\n\u001b[1;32m    190\u001b[0m         \u001b[0;32mif\u001b[0m \u001b[0mcallable\u001b[0m\u001b[0;34m(\u001b[0m\u001b[0marg\u001b[0m\u001b[0;34m)\u001b[0m\u001b[0;34m:\u001b[0m\u001b[0;34m\u001b[0m\u001b[0m\n",
      "\u001b[0;32m/Users/pfernique/.miniconda/envs/FP17/lib/python2.7/site-packages/IPython/core/magics/execution.pyc\u001b[0m in \u001b[0;36mtime\u001b[0;34m(self, line, cell, local_ns)\u001b[0m\n\u001b[1;32m   1191\u001b[0m         \u001b[0;32melse\u001b[0m\u001b[0;34m:\u001b[0m\u001b[0;34m\u001b[0m\u001b[0m\n\u001b[1;32m   1192\u001b[0m             \u001b[0mst\u001b[0m \u001b[0;34m=\u001b[0m \u001b[0mclock2\u001b[0m\u001b[0;34m(\u001b[0m\u001b[0;34m)\u001b[0m\u001b[0;34m\u001b[0m\u001b[0m\n\u001b[0;32m-> 1193\u001b[0;31m             \u001b[0;32mexec\u001b[0m\u001b[0;34m(\u001b[0m\u001b[0mcode\u001b[0m\u001b[0;34m,\u001b[0m \u001b[0mglob\u001b[0m\u001b[0;34m,\u001b[0m \u001b[0mlocal_ns\u001b[0m\u001b[0;34m)\u001b[0m\u001b[0;34m\u001b[0m\u001b[0m\n\u001b[0m\u001b[1;32m   1194\u001b[0m             \u001b[0mend\u001b[0m \u001b[0;34m=\u001b[0m \u001b[0mclock2\u001b[0m\u001b[0;34m(\u001b[0m\u001b[0;34m)\u001b[0m\u001b[0;34m\u001b[0m\u001b[0m\n\u001b[1;32m   1195\u001b[0m             \u001b[0mout\u001b[0m \u001b[0;34m=\u001b[0m \u001b[0mNone\u001b[0m\u001b[0;34m\u001b[0m\u001b[0m\n",
      "\u001b[0;32m<timed exec>\u001b[0m in \u001b[0;36m<module>\u001b[0;34m()\u001b[0m\n",
      "\u001b[0;32m/Users/pfernique/.miniconda/envs/FP17/lib/python2.7/site-packages/path.pyc\u001b[0m in \u001b[0;36mwalkfiles\u001b[0;34m(self, pattern, errors)\u001b[0m\n\u001b[1;32m    662\u001b[0m \u001b[0;34m\u001b[0m\u001b[0m\n\u001b[1;32m    663\u001b[0m         \u001b[0;32mtry\u001b[0m\u001b[0;34m:\u001b[0m\u001b[0;34m\u001b[0m\u001b[0m\n\u001b[0;32m--> 664\u001b[0;31m             \u001b[0mchildList\u001b[0m \u001b[0;34m=\u001b[0m \u001b[0mself\u001b[0m\u001b[0;34m.\u001b[0m\u001b[0mlistdir\u001b[0m\u001b[0;34m(\u001b[0m\u001b[0;34m)\u001b[0m\u001b[0;34m\u001b[0m\u001b[0m\n\u001b[0m\u001b[1;32m    665\u001b[0m         \u001b[0;32mexcept\u001b[0m \u001b[0mException\u001b[0m\u001b[0;34m:\u001b[0m\u001b[0;34m\u001b[0m\u001b[0m\n\u001b[1;32m    666\u001b[0m             \u001b[0;32mif\u001b[0m \u001b[0merrors\u001b[0m \u001b[0;34m==\u001b[0m \u001b[0;34m'ignore'\u001b[0m\u001b[0;34m:\u001b[0m\u001b[0;34m\u001b[0m\u001b[0m\n",
      "\u001b[0;32m/Users/pfernique/.miniconda/envs/FP17/lib/python2.7/site-packages/path.pyc\u001b[0m in \u001b[0;36mlistdir\u001b[0;34m(self, pattern)\u001b[0m\n\u001b[1;32m    529\u001b[0m         return [\n\u001b[1;32m    530\u001b[0m             \u001b[0mself\u001b[0m \u001b[0;34m/\u001b[0m \u001b[0mchild\u001b[0m\u001b[0;34m\u001b[0m\u001b[0m\n\u001b[0;32m--> 531\u001b[0;31m             \u001b[0;32mfor\u001b[0m \u001b[0mchild\u001b[0m \u001b[0;32min\u001b[0m \u001b[0mos\u001b[0m\u001b[0;34m.\u001b[0m\u001b[0mlistdir\u001b[0m\u001b[0;34m(\u001b[0m\u001b[0mself\u001b[0m\u001b[0;34m)\u001b[0m\u001b[0;34m\u001b[0m\u001b[0m\n\u001b[0m\u001b[1;32m    532\u001b[0m             \u001b[0;32mif\u001b[0m \u001b[0mself\u001b[0m\u001b[0;34m.\u001b[0m\u001b[0m_next_class\u001b[0m\u001b[0;34m(\u001b[0m\u001b[0mchild\u001b[0m\u001b[0;34m)\u001b[0m\u001b[0;34m.\u001b[0m\u001b[0mfnmatch\u001b[0m\u001b[0;34m(\u001b[0m\u001b[0mpattern\u001b[0m\u001b[0;34m)\u001b[0m\u001b[0;34m\u001b[0m\u001b[0m\n\u001b[1;32m    533\u001b[0m         ]\n",
      "\u001b[0;31mOSError\u001b[0m: [Errno 2] No such file or directory: '/Users/pfernique/.miniconda/envs/FP17/include/stat_tool'"
     ]
    }
   ],
   "source": [
    "%%time\n",
    "\n",
    "import sys\n",
    "try:\n",
    "    from path import Path\n",
    "except:\n",
    "    from path import path as Path\n",
    "prefix = Path(sys.prefix).abspath()\n",
    "if is_windows:\n",
    "    headers = list((prefix/'include'/'stat_tool').walkfiles('*.h*'))\n",
    "else:\n",
    "    headers = list((prefix/'include'/'stat_tool').walkfiles('*.h*'))\n",
    "    \n",
    "flags = ['-x', 'c++', '-std=c++11']\n",
    "if is_windows:\n",
    "    flags.append('-I' + str((prefix/'Library'/'include').abspath()))\n",
    "else:\n",
    "    flags.append('-I' + str((prefix/'include').abspath()))\n",
    "    \n",
    "autowig.parser.plugin = 'clanglite'\n",
    "asg = autowig.parser(asg, headers,\n",
    "                          flags = flags,\n",
    "                          bootstrap = 2,\n",
    "                          silent = True)"
   ]
  },
  {
   "cell_type": "markdown",
   "metadata": {},
   "source": [
    "Since most of **AutoWIG** guidelines are respected, the `default` `controller` implementation could be suitable.\n",
    "Nevertheless, some **AutoWIG** limitations (**AutoWIG** doesn't have a complete knowledge concerning copyable classes) and the requirement of classes defined in the standard *C++* library lead us to implement a new `controller`."
   ]
  },
  {
   "cell_type": "code",
   "execution_count": null,
   "metadata": {},
   "outputs": [],
   "source": [
    "def stat_tool_controller(asg):\n",
    "    for noncopyable in ['class ::std::basic_streambuf< char, struct ::std::char_traits< char > >',\n",
    "                        'class ::std::codecvt< char, char, __mbstate_t >',\n",
    "                        'class ::std::basic_filebuf< char, struct ::std::char_traits< char > >',\n",
    "                        'class ::std::locale::facet',\n",
    "                        'class ::std::locale::id',\n",
    "                        'class ::std::ctype< char >',\n",
    "                        'class ::std::ios_base',\n",
    "                        'class ::std::basic_istream< char, struct ::std::char_traits< char > >',\n",
    "                        'class ::std::basic_ifstream< char, struct ::std::char_traits< char > >',\n",
    "                        'class ::std::basic_ostream< char, struct ::std::char_traits< char > >',\n",
    "                        'class ::std::basic_ostringstream< char, struct ::std::char_traits< char >, class ::std::allocator< char > >',\n",
    "                        'class ::std::basic_ios< char, struct ::std::char_traits< char > >',\n",
    "                        'class ::std::basic_stringbuf< char, struct ::std::char_traits< char >, class ::std::allocator< char > >']:\n",
    "        asg[noncopyable].is_copyable = False\n",
    "    for cls in asg.classes():\n",
    "        for fld in cls.fields(access='public'):\n",
    "            if fld.qualified_type.unqualified_type.globalname == 'class ::std::locale::id':\n",
    "                fld.boost_python_export = False\n",
    "    for specialization in asg['class ::std::reverse_iterator'].specializations():\n",
    "        specialization.boost_python_export = False\n",
    "    asg['::std::ios_base::openmode'].qualified_type.boost_python_export = True\n",
    "    return asg"
   ]
  },
  {
   "cell_type": "markdown",
   "metadata": {},
   "source": [
    "This `controller` is then dynamically registered and used on the ASG."
   ]
  },
  {
   "cell_type": "code",
   "execution_count": null,
   "metadata": {},
   "outputs": [],
   "source": [
    "%%time\n",
    "\n",
    "autowig.controller['stat_tool'] = stat_tool_controller\n",
    "autowig.controller.plugin = 'stat_tool'\n",
    "asg = autowig.controller(asg)"
   ]
  },
  {
   "cell_type": "markdown",
   "metadata": {
    "collapsed": true
   },
   "source": [
    "In order to wrap the library we need to select the `boost_python_internal` `generator` implementation."
   ]
  },
  {
   "cell_type": "code",
   "execution_count": null,
   "metadata": {},
   "outputs": [],
   "source": [
    "%%time\n",
    "\n",
    "autowig.generator.plugin = 'boost_python_internal'\n",
    "wrappers = autowig.generator(asg,\n",
    "                             module = os.path.join(\"..\", \"git\", \"StructureAnalysis\", \"stat_tool\", \"src\", \"py\", \"wrapper\", \"_stat_tool.cpp\"),\n",
    "                             decorator = os.path.join(\"..\", \"git\", \"StructureAnalysis\", \"stat_tool\", \"src\", \"py\", \"stat_tool\", \"_stat_tool.py\"),\n",
    "                             prefix = 'wrapper_')"
   ]
  },
  {
   "cell_type": "markdown",
   "metadata": {},
   "source": [
    "The wrappers are only generated in-memory.\n",
    "It is therefore needed to write them on the disk to complete the process."
   ]
  },
  {
   "cell_type": "code",
   "execution_count": null,
   "metadata": {},
   "outputs": [],
   "source": [
    "%%time\n",
    "\n",
    "wrappers.write()"
   ]
  },
  {
   "cell_type": "markdown",
   "metadata": {},
   "source": [
    "Here is the list of the generated wrappers (untracked files)."
   ]
  },
  {
   "cell_type": "code",
   "execution_count": null,
   "metadata": {},
   "outputs": [],
   "source": [
    "if is_windows:\n",
    "    !cd ..\\git\\StructureAnalysis & git status\n",
    "else:\n",
    "    !cd ../git/StructureAnalysis && git status"
   ]
  },
  {
   "cell_type": "markdown",
   "metadata": {},
   "source": [
    "Here is an example of the generated wrappers."
   ]
  },
  {
   "cell_type": "code",
   "execution_count": null,
   "metadata": {},
   "outputs": [],
   "source": [
    "if is_windows:\n",
    "    !pygmentize ..\\git\\StructureAnalysis\\stat_tool\\src\\py\\wrapper\\_stat_tool.cpp\n",
    "else:\n",
    "    !pygmentize ../git/StructureAnalysis/stat_tool/src/py/wrapper/_stat_tool.cpp"
   ]
  },
  {
   "cell_type": "markdown",
   "metadata": {},
   "source": [
    "In order to wrap a *C++* library, that will be used as a dependency by other libraries, the user needs to save the ASG resulting from the wrapping process.\n",
    "We therefore use the **pickle** *Python* package for serializing the **StatTool** ASG in the `'StructureAnalysis/stat_tool/ASG.pkl'` file."
   ]
  },
  {
   "cell_type": "code",
   "execution_count": null,
   "metadata": {},
   "outputs": [],
   "source": [
    "import pickle\n",
    "with open(os.path.join(\"..\", \"git\", \"StructureAnalysis\", \"stat_tool\", \"ASG.pkl\"), \"wb\") as filehandler:\n",
    "    pickle.dump(asg, filehandler)"
   ]
  },
  {
   "cell_type": "markdown",
   "metadata": {},
   "source": [
    "Once the wrappers are written on disk, we need to compile and install the *Python* bindings.\n",
    "To do so, we use available **Conda** recipes."
   ]
  },
  {
   "cell_type": "code",
   "execution_count": null,
   "metadata": {
    "scrolled": true
   },
   "outputs": [],
   "source": [
    "if is_windows:\n",
    "    !conda build --python=%PYTHON_VERSION% ..\\git\\StructureAnalysis\\stat_tool\\bin\\conda\\python-stat_tool -c statiskit -c conda-forge\n",
    "else:\n",
    "    !conda build --python=$PYTHON_VERSION ../git/StructureAnalysis/stat_tool/bin/conda/python-stat_tool -c statiskit -c conda-forge\n",
    "!conda install -y python-stat_tool --use-local -c statiskit -c conda-forge"
   ]
  },
  {
   "cell_type": "markdown",
   "metadata": {},
   "source": [
    "Finally, we can hereafter use the *C++* library in the *Python* interpreter."
   ]
  },
  {
   "cell_type": "code",
   "execution_count": null,
   "metadata": {},
   "outputs": [],
   "source": [
    "import stat_tool\n",
    "import os\n",
    "%reload_ext stat_tool.mplotlib\n",
    "%reload_ext stat_tool.aml"
   ]
  },
  {
   "cell_type": "code",
   "execution_count": null,
   "metadata": {},
   "outputs": [],
   "source": [
    "meri1 = stat_tool.Histogram(os.path.join(\"..\", \"git\", \"StructureAnalysis\", \"stat_tool\", \"share\", \"data\", \"meri1.his\"))\n",
    "meri2 = stat_tool.Histogram(os.path.join(\"..\", \"git\", \"StructureAnalysis\", \"stat_tool\", \"share\", \"data\", \"meri2.his\"))\n",
    "meri3 = stat_tool.Histogram(os.path.join(\"..\", \"git\", \"StructureAnalysis\", \"stat_tool\", \"share\", \"data\", \"meri3.his\"))\n",
    "meri4 = stat_tool.Histogram(os.path.join(\"..\", \"git\", \"StructureAnalysis\", \"stat_tool\", \"share\", \"data\", \"meri4.his\"))\n",
    "meri5 = stat_tool.Histogram(os.path.join(\"..\", \"git\", \"StructureAnalysis\", \"stat_tool\", \"share\", \"data\", \"meri5.his\"))\n",
    "meri0 = stat_tool.Merge(meri1, meri2, meri3, meri4, meri5)"
   ]
  },
  {
   "cell_type": "code",
   "execution_count": null,
   "metadata": {},
   "outputs": [],
   "source": [
    "mixt = stat_tool.MixtureEstimation(meri0, 4, \"BINOMIAL\",\n",
    "                                   display=True)\n",
    "fig = mixt.plot()"
   ]
  },
  {
   "cell_type": "markdown",
   "metadata": {},
   "source": [
    "## The **SequenceAnalysis** library\n",
    "\n",
    "Once the wrapping of the **StatTool** library is performed, we need to compile and install the **SequenceAnalysis** library.\n",
    "For this, we use the available **Conda** recipes."
   ]
  },
  {
   "cell_type": "code",
   "execution_count": null,
   "metadata": {},
   "outputs": [],
   "source": [
    "if is_windows:\n",
    "    !conda build --python=%PYTHON_VERSION% ..\\git\\StructureAnalysis\\sequence_analysis\\bin\\conda\\libsequence_analysis\n",
    "else:\n",
    "    !conda build --python=$PYTHON_VERSION ../git/StructureAnalysis/sequence_analysis/bin/conda/libsequence_analysis\n",
    "!conda install -y libsequence_analysis --use-local -c statiskit -c conda-forge"
   ]
  },
  {
   "cell_type": "markdown",
   "metadata": {},
   "source": [
    "Then, we can proceed to the actual generation of wrappers for the **SequenceAnalysis** *C++* library.\n",
    "In order to wrap a *C++* library that has dependencies, the user need to combine the ASGs resulting from the wrapping of its dependencies before performing its own wrapping.\n",
    "For this, we create an empty Abstract Semantic Graph (ASG)."
   ]
  },
  {
   "cell_type": "code",
   "execution_count": null,
   "metadata": {},
   "outputs": [],
   "source": [
    "asg = autowig.AbstractSemanticGraph()"
   ]
  },
  {
   "cell_type": "markdown",
   "metadata": {},
   "source": [
    "Then, we use the **pickle** *Python* package for de-serializing the **StatTool** ASG and merge it in the current ASG."
   ]
  },
  {
   "cell_type": "code",
   "execution_count": null,
   "metadata": {
    "scrolled": true
   },
   "outputs": [],
   "source": [
    "%%time\n",
    "\n",
    "with open(os.path.join(\"..\", \"git\", \"StructureAnalysis\", \"stat_tool\", \"ASG.pkl\"), \"rb\") as filehandler:\n",
    "    asg.merge(pickle.load(filehandler))"
   ]
  },
  {
   "cell_type": "markdown",
   "metadata": {},
   "source": [
    "Then, we parse headers with relevant compilation flags."
   ]
  },
  {
   "cell_type": "code",
   "execution_count": null,
   "metadata": {},
   "outputs": [],
   "source": [
    "%%time\n",
    "\n",
    "if is_windows:\n",
    "    headers = list((prefix/'include'/'sequence_analysis').walkfiles('*.h*'))\n",
    "else:\n",
    "    headers = list((prefix/'include'/'sequence_analysis').walkfiles('*.h*'))\n",
    "    \n",
    "flags = ['-x', 'c++', '-std=c++11']\n",
    "if is_windows:\n",
    "    flags.append('-I' + str((prefix/'Library'/'include').abspath()))\n",
    "else:\n",
    "    flags.append('-I' + str((prefix/'include').abspath()))\n",
    "    \n",
    "asg = autowig.parser(asg, headers,\n",
    "                          flags = flags,\n",
    "                          silent = True)"
   ]
  },
  {
   "cell_type": "markdown",
   "metadata": {},
   "source": [
    "Since most of **AutoWIG** guidelines are respected, the `default` `controller` implementation is suitable."
   ]
  },
  {
   "cell_type": "code",
   "execution_count": null,
   "metadata": {},
   "outputs": [],
   "source": [
    "%%time\n",
    "\n",
    "autowig.controller.plugin = 'default'\n",
    "asg = autowig.controller(asg, clean = False)"
   ]
  },
  {
   "cell_type": "markdown",
   "metadata": {},
   "source": [
    "In order to wrap the library we need to select the `boost_python_internal` `generator` implementation."
   ]
  },
  {
   "cell_type": "code",
   "execution_count": null,
   "metadata": {},
   "outputs": [],
   "source": [
    "%%time\n",
    "\n",
    "autowig.generator.plugin = 'boost_python_internal'\n",
    "wrappers = autowig.generator(asg,\n",
    "                             module = os.path.join(\"..\", \"git\", \"StructureAnalysis\", \"sequence_analysis\", \"src\", \"py\", \"wrapper\", \"_sequence_analysis.cpp\"),\n",
    "                             decorator = os.path.join(\"..\", \"git\", \"StructureAnalysis\", \"sequence_analysis\", \"src\", \"py\", \"sequence_analysis\", \"_sequence_analysis.py\"),\n",
    "                             prefix = 'wrapper_')"
   ]
  },
  {
   "cell_type": "markdown",
   "metadata": {},
   "source": [
    "The wrappers are only generated in-memory.\n",
    "It is therefore needed to write them on the disk to complete the process."
   ]
  },
  {
   "cell_type": "code",
   "execution_count": null,
   "metadata": {},
   "outputs": [],
   "source": [
    "%%time\n",
    "\n",
    "wrappers.write()"
   ]
  },
  {
   "cell_type": "markdown",
   "metadata": {},
   "source": [
    "Here is the list of the generated wrappers (untracked files)."
   ]
  },
  {
   "cell_type": "code",
   "execution_count": null,
   "metadata": {},
   "outputs": [],
   "source": [
    "if is_windows:\n",
    "    !cd ..\\git\\StructureAnalysis & git status\n",
    "else:\n",
    "    !cd ../git/StructureAnalysis && git status"
   ]
  },
  {
   "cell_type": "markdown",
   "metadata": {},
   "source": [
    "Here is an example of the generated wrappers."
   ]
  },
  {
   "cell_type": "code",
   "execution_count": null,
   "metadata": {},
   "outputs": [],
   "source": [
    "if is_windows:\n",
    "    !pygmentize ..\\git\\StructureAnalysis/sequence_analysis/src/py/wrapper/_sequence_analysis.cpp\n",
    "else:\n",
    "    !pygmentize ../git/StructureAnalysis/sequence_analysis/src/py/wrapper/_sequence_analysis.cpp"
   ]
  },
  {
   "cell_type": "markdown",
   "metadata": {},
   "source": [
    "Once the wrappers are written on disk, we need to compile and install the *Python* bindings.\n",
    "To do so, we use available **Conda** recipes."
   ]
  },
  {
   "cell_type": "code",
   "execution_count": null,
   "metadata": {},
   "outputs": [],
   "source": [
    "if is_windows:\n",
    "    !conda build --python=%PYTHON_VERSION% ..\\git\\StructureAnalysis\\sequence_analysis\\bin\\conda\\python-sequence_analysis -c statiskit -c conda-forge\n",
    "else:\n",
    "    !conda build --python=$PYTHON_VERSION ../git/StructureAnalysis/sequence_analysis/bin/conda/python-sequence_analysis -c statiskit -c conda-forge\n",
    "!conda install -y python-sequence_analysis --use-local -c statiskit -c conda-forge --force"
   ]
  },
  {
   "cell_type": "markdown",
   "metadata": {},
   "source": [
    "Finally, we can hereafter use the *C++* library in the *Python* interpreter."
   ]
  },
  {
   "cell_type": "code",
   "execution_count": null,
   "metadata": {},
   "outputs": [],
   "source": [
    "import sequence_analysis\n",
    "%reload_ext sequence_analysis.mplotlib\n",
    "%reload_ext sequence_analysis.aml"
   ]
  },
  {
   "cell_type": "code",
   "execution_count": null,
   "metadata": {},
   "outputs": [],
   "source": [
    "seq = sequence_analysis.Sequences(os.path.join(\"..\", \"git\", \"StructureAnalysis\", \"sequence_analysis\", \"share\", \"data\", \"well_log_filtered_indexed.seq\"))"
   ]
  },
  {
   "cell_type": "code",
   "execution_count": null,
   "metadata": {},
   "outputs": [],
   "source": [
    "seq.segmentation(1, 80, \"GAUSSIAN\", \"LIKELIHOOD_SLOPE\", min_nb_segment=30)"
   ]
  }
 ],
 "metadata": {
  "kernelspec": {
   "display_name": "Python 2",
   "language": "python",
   "name": "python2"
  },
  "language_info": {
   "codemirror_mode": {
    "name": "ipython",
    "version": 2
   },
   "file_extension": ".py",
   "mimetype": "text/x-python",
   "name": "python",
   "nbconvert_exporter": "python",
   "pygments_lexer": "ipython2",
   "version": "2.7.13"
  }
 },
 "nbformat": 4,
 "nbformat_minor": 1
}
