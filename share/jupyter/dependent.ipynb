{
 "cells": [
  {
   "cell_type": "markdown",
   "metadata": {},
   "source": [
    "# Wrapping dependent libraries\n",
    "\n",
    "**StructureAnalysis** is a set of libraries that include statistical models for the analysis of structured data (mainly sequences and tree-structured data):\n",
    "\n",
    "* **StatTool** is a library containing classes concerning parametric  modeling of univariate and multivariate data.\n",
    "\n",
    "* **SequenceAnalysis** is a library containing statistical functions and classes for markovian models (e.g., hidden variable-order Markov and hidden semi-Markov models) and multiple change-point models for sequences.\n",
    "  The **SequenceAnalysis** library depends on the **StatTool** library.\n",
    "\n",
    "These libraries have been extensively used for the identification and characterization of developmental patterns in plants from the tissular to the whole plant scale.\n",
    "Previously interfaced with *AML* (a home-made, domain-specific programming language), some work has been done to switch to *Python*.\n",
    "Nevertheless, the complexity of writing wrappers with **Boost.Python** limited the number of available components in *Python* in comparison to *AML*.\n",
    "One advantage of having a statistical library written in *C++* available in *Python* is that developers can benefit from all *Python* packages.\n",
    "As illustrated with the following figures this is particularly useful for providing visualizations for model quality assessment using -- for example -- the **Matplotlib** *Python* package."
   ]
  },
  {
   "cell_type": "code",
   "execution_count": null,
   "metadata": {
    "collapsed": true
   },
   "outputs": [],
   "source": [
    "import matplotlib\n",
    "%matplotlib nbagg"
   ]
  },
  {
   "cell_type": "markdown",
   "metadata": {},
   "source": [
    "We here aim at presenting how dependent libraries can be wrapped.\n",
    "First, we need:\n",
    "\n",
    "* to detect if the operating system (OS) is a Windows OS or a Unix OS."
   ]
  },
  {
   "cell_type": "code",
   "execution_count": null,
   "metadata": {
    "collapsed": true
   },
   "outputs": [],
   "source": [
    "import platform\n",
    "is_windows = any(platform.win32_ver())"
   ]
  },
  {
   "cell_type": "markdown",
   "metadata": {},
   "source": [
    "* to detect the version of *Python* installed and to save it in the `PYTHON_VERSION` environment variable."
   ]
  },
  {
   "cell_type": "code",
   "execution_count": null,
   "metadata": {
    "collapsed": true
   },
   "outputs": [],
   "source": [
    "import os\n",
    "import sys\n",
    "os.environ['PYTHON_VERSION'] = str(sys.version_info.major) + '.' + str(sys.version_info.minor)"
   ]
  },
  {
   "cell_type": "markdown",
   "metadata": {},
   "source": [
    "* to import **AutoWIG**."
   ]
  },
  {
   "cell_type": "code",
   "execution_count": null,
   "metadata": {
    "collapsed": true
   },
   "outputs": [],
   "source": [
    "import autowig"
   ]
  },
  {
   "cell_type": "markdown",
   "metadata": {},
   "source": [
    "## The **StatTool** library\n",
    "\n",
    "To compile and install the **StatTool** library, we use the available **Conda** recipes."
   ]
  },
  {
   "cell_type": "code",
   "execution_count": null,
   "metadata": {},
   "outputs": [],
   "source": [
    "if is_windows:\n",
    "    !conda build --python=%PYTHON_VERSION% ..\\git\\StructureAnalysis\\stat_tool\\bin\\conda\\libstat_tool -c statiskit -c conda-forge\n",
    "else:\n",
    "    !conda build --python=$PYTHON_VERSION ../git/StructureAnalysis/stat_tool/bin/conda/libstat_tool -c statiskit -c conda-forge\n",
    "!conda install -y libstat_tool --use-local -c statiskit -c conda-forge"
   ]
  },
  {
   "cell_type": "markdown",
   "metadata": {},
   "source": [
    "Then, we can proceed to the actual generation of wrappers for the **StatTool** library.\n",
    "For this, we create an empty Abstract Semantic Graph (ASG)."
   ]
  },
  {
   "cell_type": "code",
   "execution_count": null,
   "metadata": {
    "collapsed": true
   },
   "outputs": [],
   "source": [
    "import autowig\n",
    "asg = autowig.AbstractSemanticGraph()"
   ]
  },
  {
   "cell_type": "markdown",
   "metadata": {},
   "source": [
    "Then, we parse headers with relevant compilation flags."
   ]
  },
  {
   "cell_type": "code",
   "execution_count": null,
   "metadata": {},
   "outputs": [],
   "source": [
    "%%time\n",
    "\n",
    "import sys\n",
    "try:\n",
    "    from path import Path\n",
    "except:\n",
    "    from path import path as Path\n",
    "prefix = Path(sys.prefix).abspath()\n",
    "if is_windows:\n",
    "    headers = list((prefix/'include'/'stat_tool').walkfiles('*.h*'))\n",
    "else:\n",
    "    headers = list((prefix/'include'/'stat_tool').walkfiles('*.h*'))\n",
    "    \n",
    "flags = ['-x', 'c++', '-std=c++11']\n",
    "if is_windows:\n",
    "    flags.append('-I' + str((prefix/'Library'/'include').abspath()))\n",
    "else:\n",
    "    flags.append('-I' + str((prefix/'include').abspath()))\n",
    "    \n",
    "autowig.parser.plugin = 'clanglite'\n",
    "asg = autowig.parser(asg, headers,\n",
    "                          flags = flags,\n",
    "                          bootstrap = 2,\n",
    "                          silent = True)"
   ]
  },
  {
   "cell_type": "markdown",
   "metadata": {},
   "source": [
    "Since most of **AutoWIG** guidelines are respected, the `default` `controller` implementation could be suitable.\n",
    "Nevertheless, some **AutoWIG** limitations (**AutoWIG** doesn't have a complete knowledge concerning copyable classes) and the requirement of classes defined in the standard *C++* library lead us to implement a new `controller`."
   ]
  },
  {
   "cell_type": "code",
   "execution_count": null,
   "metadata": {
    "collapsed": true
   },
   "outputs": [],
   "source": [
    "def stat_tool_controller(asg):\n",
    "    for noncopyable in ['class ::std::basic_streambuf< char, struct ::std::char_traits< char > >',\n",
    "                        'class ::std::codecvt< char, char, __mbstate_t >',\n",
    "                        'class ::std::basic_filebuf< char, struct ::std::char_traits< char > >',\n",
    "                        'class ::std::locale::facet',\n",
    "                        'class ::std::locale::id',\n",
    "                        'class ::std::ctype< char >',\n",
    "                        'class ::std::ios_base',\n",
    "                        'class ::std::basic_istream< char, struct ::std::char_traits< char > >',\n",
    "                        'class ::std::basic_ifstream< char, struct ::std::char_traits< char > >',\n",
    "                        'class ::std::basic_ostream< char, struct ::std::char_traits< char > >',\n",
    "                        'class ::std::basic_ostringstream< char, struct ::std::char_traits< char >, class ::std::allocator< char > >',\n",
    "                        'class ::std::basic_ios< char, struct ::std::char_traits< char > >',\n",
    "                        'class ::std::basic_stringbuf< char, struct ::std::char_traits< char >, class ::std::allocator< char > >']:\n",
    "        asg[noncopyable].is_copyable = False\n",
    "    for cls in asg.classes():\n",
    "        for fld in cls.fields(access='public'):\n",
    "            if fld.qualified_type.unqualified_type.globalname == 'class ::std::locale::id':\n",
    "                fld.boost_python_export = False\n",
    "    for specialization in asg['class ::std::reverse_iterator'].specializations():\n",
    "        specialization.boost_python_export = False\n",
    "    asg['::std::ios_base::openmode'].qualified_type.boost_python_export = True\n",
    "    return asg"
   ]
  },
  {
   "cell_type": "markdown",
   "metadata": {},
   "source": [
    "This `controller` is then dynamically registered and used on the ASG."
   ]
  },
  {
   "cell_type": "code",
   "execution_count": null,
   "metadata": {},
   "outputs": [],
   "source": [
    "%%time\n",
    "\n",
    "autowig.controller['stat_tool'] = stat_tool_controller\n",
    "autowig.controller.plugin = 'stat_tool'\n",
    "asg = autowig.controller(asg)"
   ]
  },
  {
   "cell_type": "markdown",
   "metadata": {
    "collapsed": true
   },
   "source": [
    "In order to wrap the library we need to select the `boost_python_internal` `generator` implementation."
   ]
  },
  {
   "cell_type": "code",
   "execution_count": null,
   "metadata": {},
   "outputs": [],
   "source": [
    "%%time\n",
    "\n",
    "autowig.generator.plugin = 'boost_python_internal'\n",
    "wrappers = autowig.generator(asg,\n",
    "                             module = os.path.join(\"..\", \"git\", \"StructureAnalysis\", \"stat_tool\", \"src\", \"py\", \"wrapper\", \"_stat_tool.cpp\"),\n",
    "                             decorator = os.path.join(\"..\", \"git\", \"StructureAnalysis\", \"stat_tool\", \"src\", \"py\", \"stat_tool\", \"_stat_tool.py\"),\n",
    "                             prefix = 'wrapper_')"
   ]
  },
  {
   "cell_type": "markdown",
   "metadata": {},
   "source": [
    "The wrappers are only generated in-memory.\n",
    "It is therefore needed to write them on the disk to complete the process."
   ]
  },
  {
   "cell_type": "code",
   "execution_count": null,
   "metadata": {},
   "outputs": [],
   "source": [
    "%%time\n",
    "\n",
    "wrappers.write()"
   ]
  },
  {
   "cell_type": "markdown",
   "metadata": {},
   "source": [
    "Here is the list of the generated wrappers (untracked files)."
   ]
  },
  {
   "cell_type": "code",
   "execution_count": null,
   "metadata": {},
   "outputs": [],
   "source": [
    "if is_windows:\n",
    "    !cd ..\\git\\StructureAnalysis & git status\n",
    "else:\n",
    "    !cd ../git/StructureAnalysis && git status"
   ]
  },
  {
   "cell_type": "markdown",
   "metadata": {},
   "source": [
    "Here is an example of the generated wrappers."
   ]
  },
  {
   "cell_type": "code",
   "execution_count": null,
   "metadata": {},
   "outputs": [],
   "source": [
    "if is_windows:\n",
    "    !pygmentize ..\\git\\StructureAnalysis\\stat_tool\\src\\py\\wrapper\\_stat_tool.cpp\n",
    "else:\n",
    "    !pygmentize ../git/StructureAnalysis/stat_tool/src/py/wrapper/_stat_tool.cpp"
   ]
  },
  {
   "cell_type": "markdown",
   "metadata": {},
   "source": [
    "In order to wrap a *C++* library, that will be used as a dependency by other libraries, the user needs to save the ASG resulting from the wrapping process.\n",
    "We therefore use the **pickle** *Python* package for serializing the **StatTool** ASG in the `'StructureAnalysis/stat_tool/ASG.pkl'` file."
   ]
  },
  {
   "cell_type": "code",
   "execution_count": null,
   "metadata": {
    "collapsed": true
   },
   "outputs": [],
   "source": [
    "import pickle\n",
    "with open(os.path.join(\"..\", \"git\", \"StructureAnalysis\", \"stat_tool\", \"ASG.pkl\"), \"wb\") as filehandler:\n",
    "    pickle.dump(asg, filehandler)"
   ]
  },
  {
   "cell_type": "markdown",
   "metadata": {},
   "source": [
    "Once the wrappers are written on disk, we need to compile and install the *Python* bindings."
   ]
  },
  {
   "cell_type": "code",
   "execution_count": null,
   "metadata": {
    "scrolled": true
   },
   "outputs": [],
   "source": [
    "if is_windows:\n",
    "    !conda build --python=%PYTHON_VERSION% ..\\git\\StructureAnalysis\\stat_tool\\bin\\conda\\python-stat_tool -c statiskit -c conda-forge\n",
    "else:\n",
    "    !conda build --python=$PYTHON_VERSION ../git/StructureAnalysis/stat_tool/bin/conda/python-stat_tool -c statiskit -c conda-forge\n",
    "!conda install -y python-stat_tool --use-local -c statiskit -c conda-forge"
   ]
  },
  {
   "cell_type": "markdown",
   "metadata": {},
   "source": [
    "Finally, we can hereafter use the *C++* library in the *Python* interpreter."
   ]
  },
  {
   "cell_type": "code",
   "execution_count": null,
   "metadata": {
    "collapsed": true
   },
   "outputs": [],
   "source": [
    "import stat_tool\n",
    "import os\n",
    "%reload_ext stat_tool.mplotlib\n",
    "%reload_ext stat_tool.aml"
   ]
  },
  {
   "cell_type": "code",
   "execution_count": null,
   "metadata": {
    "collapsed": true
   },
   "outputs": [],
   "source": [
    "meri1 = stat_tool.Histogram(os.path.join(\"..\", \"git\", \"StructureAnalysis\", \"stat_tool\", \"share\", \"data\", \"meri1.his\"))\n",
    "meri2 = stat_tool.Histogram(os.path.join(\"..\", \"git\", \"StructureAnalysis\", \"stat_tool\", \"share\", \"data\", \"meri2.his\"))\n",
    "meri3 = stat_tool.Histogram(os.path.join(\"..\", \"git\", \"StructureAnalysis\", \"stat_tool\", \"share\", \"data\", \"meri3.his\"))\n",
    "meri4 = stat_tool.Histogram(os.path.join(\"..\", \"git\", \"StructureAnalysis\", \"stat_tool\", \"share\", \"data\", \"meri4.his\"))\n",
    "meri5 = stat_tool.Histogram(os.path.join(\"..\", \"git\", \"StructureAnalysis\", \"stat_tool\", \"share\", \"data\", \"meri5.his\"))\n",
    "meri0 = stat_tool.Merge(meri1, meri2, meri3, meri4, meri5)"
   ]
  },
  {
   "cell_type": "code",
   "execution_count": null,
   "metadata": {},
   "outputs": [],
   "source": [
    "mixt = stat_tool.MixtureEstimation(meri0, 4, \"BINOMIAL\",\n",
    "                                   display=True)\n",
    "fig = mixt.plot()"
   ]
  },
  {
   "cell_type": "markdown",
   "metadata": {},
   "source": [
    "## The **SequenceAnalysis** library\n",
    "\n",
    "Once the wrapping of the **StatTool** library is performed, we need to compile and install the **SequenceAnalysis** library.\n",
    "For this, we use the available **Conda** recipes."
   ]
  },
  {
   "cell_type": "code",
   "execution_count": null,
   "metadata": {},
   "outputs": [],
   "source": [
    "if is_windows:\n",
    "    !conda build --python=%PYTHON_VERSION% ..\\git\\StructureAnalysis\\sequence_analysis\\bin\\conda\\libsequence_analysis\n",
    "else:\n",
    "    !conda build --python=$PYTHON_VERSION ../git/StructureAnalysis/sequence_analysis/bin/conda/libsequence_analysis\n",
    "!conda install -y libsequence_analysis --use-local -c statiskit -c conda-forge"
   ]
  },
  {
   "cell_type": "markdown",
   "metadata": {},
   "source": [
    "Then, we can proceed to the actual generation of wrappers for the **SequenceAnalysis** *C++* library.\n",
    "In order to wrap a *C++* library that has dependencies, the user need to combine the ASGs resulting from the wrapping of its dependencies before performing its own wrapping.\n",
    "For this, we create an empty Abstract Semantic Graph (ASG)."
   ]
  },
  {
   "cell_type": "code",
   "execution_count": null,
   "metadata": {
    "collapsed": true
   },
   "outputs": [],
   "source": [
    "asg = autowig.AbstractSemanticGraph()"
   ]
  },
  {
   "cell_type": "markdown",
   "metadata": {},
   "source": [
    "Then, we use the **pickle** *Python* package for de-serializing the **StatTool** ASG and merge it in the current ASG."
   ]
  },
  {
   "cell_type": "code",
   "execution_count": null,
   "metadata": {
    "scrolled": true
   },
   "outputs": [],
   "source": [
    "%%time\n",
    "\n",
    "with open(os.path.join(\"..\", \"git\", \"StructureAnalysis\", \"stat_tool\", \"ASG.pkl\"), \"rb\") as filehandler:\n",
    "    asg.merge(pickle.load(filehandler))"
   ]
  },
  {
   "cell_type": "markdown",
   "metadata": {},
   "source": [
    "Then, we parse headers with relevant compilation flags."
   ]
  },
  {
   "cell_type": "code",
   "execution_count": null,
   "metadata": {},
   "outputs": [],
   "source": [
    "%%time\n",
    "\n",
    "if is_windows:\n",
    "    headers = list((prefix/'include'/'sequence_analysis').walkfiles('*.h*'))\n",
    "else:\n",
    "    headers = list((prefix/'include'/'sequence_analysis').walkfiles('*.h*'))\n",
    "    \n",
    "flags = ['-x', 'c++', '-std=c++11']\n",
    "if is_windows:\n",
    "    flags.append('-I' + str((prefix/'Library'/'include').abspath()))\n",
    "else:\n",
    "    flags.append('-I' + str((prefix/'include').abspath()))\n",
    "    \n",
    "asg = autowig.parser(asg, headers,\n",
    "                          flags = flags,\n",
    "                          silent = True)"
   ]
  },
  {
   "cell_type": "markdown",
   "metadata": {},
   "source": [
    "Since most of **AutoWIG** guidelines are respected, the `default` `controller` implementation is suitable."
   ]
  },
  {
   "cell_type": "code",
   "execution_count": null,
   "metadata": {},
   "outputs": [],
   "source": [
    "%%time\n",
    "\n",
    "autowig.controller.plugin = 'default'\n",
    "asg = autowig.controller(asg, clean = False)"
   ]
  },
  {
   "cell_type": "markdown",
   "metadata": {},
   "source": [
    "In order to wrap the library we need to select the `boost_python_internal` `generator` implementation."
   ]
  },
  {
   "cell_type": "code",
   "execution_count": null,
   "metadata": {},
   "outputs": [],
   "source": [
    "%%time\n",
    "\n",
    "autowig.generator.plugin = 'boost_python_internal'\n",
    "wrappers = autowig.generator(asg,\n",
    "                             module = os.path.join(\"..\", \"git\", \"StructureAnalysis\", \"sequence_analysis\", \"src\", \"py\", \"wrapper\", \"_sequence_analysis.cpp\"),\n",
    "                             decorator = os.path.join(\"..\", \"git\", \"StructureAnalysis\", \"sequence_analysis\", \"src\", \"py\", \"sequence_analysis\", \"_sequence_analysis.py\"),\n",
    "                             prefix = 'wrapper_')"
   ]
  },
  {
   "cell_type": "markdown",
   "metadata": {},
   "source": [
    "The wrappers are only generated in-memory.\n",
    "It is therefore needed to write them on the disk to complete the process."
   ]
  },
  {
   "cell_type": "code",
   "execution_count": null,
   "metadata": {},
   "outputs": [],
   "source": [
    "%%time\n",
    "\n",
    "wrappers.write()"
   ]
  },
  {
   "cell_type": "markdown",
   "metadata": {},
   "source": [
    "Here is the list of the generated wrappers (untracked files)."
   ]
  },
  {
   "cell_type": "code",
   "execution_count": null,
   "metadata": {},
   "outputs": [],
   "source": [
    "if is_windows:\n",
    "    !cd ..\\git\\StructureAnalysis & git status\n",
    "else:\n",
    "    !cd ../git/StructureAnalysis && git status"
   ]
  },
  {
   "cell_type": "markdown",
   "metadata": {},
   "source": [
    "Here is an example of the generated wrappers."
   ]
  },
  {
   "cell_type": "code",
   "execution_count": null,
   "metadata": {},
   "outputs": [],
   "source": [
    "if is_windows:\n",
    "    !pygmentize ..\\git\\StructureAnalysis/sequence_analysis/src/py/wrapper/_sequence_analysis.cpp\n",
    "else:\n",
    "    !pygmentize ../git/StructureAnalysis/sequence_analysis/src/py/wrapper/_sequence_analysis.cpp"
   ]
  },
  {
   "cell_type": "markdown",
   "metadata": {},
   "source": [
    "Once the wrappers are written on disk, we need to compile and install the *Python* bindings."
   ]
  },
  {
   "cell_type": "code",
   "execution_count": null,
   "metadata": {},
   "outputs": [],
   "source": [
    "if is_windows:\n",
    "    !conda build --python=%PYTHON_VERSION% ..\\git\\StructureAnalysis\\sequence_analysis\\bin\\conda\\python-sequence_analysis -c statiskit -c conda-forge\n",
    "else:\n",
    "    !conda build --python=$PYTHON_VERSION ../git/StructureAnalysis/sequence_analysis/bin/conda/python-sequence_analysis -c statiskit -c conda-forge\n",
    "!conda install -y python-sequence_analysis --use-local -c statiskit -c conda-forge --force"
   ]
  },
  {
   "cell_type": "markdown",
   "metadata": {},
   "source": [
    "Finally, we can hereafter use the *C++* library in the *Python* interpreter."
   ]
  },
  {
   "cell_type": "code",
   "execution_count": null,
   "metadata": {},
   "outputs": [],
   "source": [
    "import sequence_analysis\n",
    "%reload_ext sequence_analysis.mplotlib\n",
    "%reload_ext sequence_analysis.aml"
   ]
  },
  {
   "cell_type": "code",
   "execution_count": null,
   "metadata": {},
   "outputs": [],
   "source": [
    "seq = sequence_analysis.Sequences(os.path.join(\"..\", \"git\", \"StructureAnalysis\", \"sequence_analysis\", \"share\", \"data\", \"well_log_filtered_indexed.seq\"))"
   ]
  },
  {
   "cell_type": "code",
   "execution_count": null,
   "metadata": {},
   "outputs": [],
   "source": [
    "seq.segmentation(1, 80, \"GAUSSIAN\", \"LIKELIHOOD_SLOPE\", min_nb_segment=30)"
   ]
  }
 ],
 "metadata": {
  "kernelspec": {
   "display_name": "Python 2",
   "language": "python",
   "name": "python2"
  },
  "language_info": {
   "codemirror_mode": {
    "name": "ipython",
    "version": 2
   },
   "file_extension": ".py",
   "mimetype": "text/x-python",
   "name": "python",
   "nbconvert_exporter": "python",
   "pygments_lexer": "ipython2",
   "version": "2.7.13"
  }
 },
 "nbformat": 4,
 "nbformat_minor": 1
}
