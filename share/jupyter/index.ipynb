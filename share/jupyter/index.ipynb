{
 "cells": [
  {
   "cell_type": "markdown",
   "metadata": {},
   "source": [
    "# **AutoWIG**: automatic generation of *Python* bindings for *C++* libraries\n",
    "\n",
    "This **Jupyter** notebook lists all notebooks available to illustrate the wrapping approach presented in the eponymous article.\n",
    "It can be used to re-execute all these notebooks at once.\n",
    "But we first need to know the Python version used to launch notebooks with the correct kernel."
   ]
  },
  {
   "cell_type": "code",
   "execution_count": 1,
   "metadata": {},
   "outputs": [],
   "source": [
    "import six\n",
    "if six.PY2:\n",
    "    PYTHON_VERSION='2'\n",
    "else:\n",
    "    PYTHON_VERSION='3'\n",
    "import subprocess"
   ]
  },
  {
   "cell_type": "markdown",
   "metadata": {},
   "source": [
    "The the wrapping approach presented is illustrated on:\n",
    "\n",
    "* A basic *C++* [library](basic.ipynb) in order to present the interactive wrapping workflow."
   ]
  },
  {
   "cell_type": "code",
   "execution_count": 2,
   "metadata": {},
   "outputs": [
    {
     "name": "stdout",
     "output_type": "stream",
     "text": [
      "CPU times: user 4 ms, sys: 4 ms, total: 8 ms\n",
      "Wall time: 1min 52s\n"
     ]
    },
    {
     "data": {
      "text/plain": [
       "0"
      ]
     },
     "execution_count": 2,
     "metadata": {},
     "output_type": "execute_result"
    }
   ],
   "source": [
    "%%time\n",
    "\n",
    "subprocess.check_call(\"jupyter nbconvert --ExecutePreprocessor.kernel_name='python\" + PYTHON_VERSION + \"' --ExecutePreprocessor.timeout=0 --to notebook --execute basic.ipynb --output basic.ipynb\",\n",
    "                      shell=True)"
   ]
  },
  {
   "cell_type": "markdown",
   "metadata": {},
   "source": [
    "* The **Clang** *C++* [library](subset.ipynb) in order to present how a to wrap subsets of very large libraries."
   ]
  },
  {
   "cell_type": "code",
   "execution_count": 3,
   "metadata": {},
   "outputs": [
    {
     "name": "stdout",
     "output_type": "stream",
     "text": [
      "CPU times: user 100 ms, sys: 48 ms, total: 148 ms\n",
      "Wall time: 1h 18min 4s\n"
     ]
    },
    {
     "data": {
      "text/plain": [
       "0"
      ]
     },
     "execution_count": 3,
     "metadata": {},
     "output_type": "execute_result"
    }
   ],
   "source": [
    "%%time\n",
    "\n",
    "subprocess.check_call(\"jupyter nbconvert --ExecutePreprocessor.kernel_name='python\" + PYTHON_VERSION + \"' --ExecutePreprocessor.timeout=0 --to notebook --execute subset.ipynb --output subset.ipynb\",\n",
    "                      shell=True)"
   ]
  },
  {
   "cell_type": "markdown",
   "metadata": {},
   "source": [
    "* The **STL** *C++* [library](template.ipynb) in order to present how to wrap template libraries."
   ]
  },
  {
   "cell_type": "code",
   "execution_count": 4,
   "metadata": {},
   "outputs": [
    {
     "name": "stdout",
     "output_type": "stream",
     "text": [
      "CPU times: user 4 ms, sys: 8 ms, total: 12 ms\n",
      "Wall time: 4min 9s\n"
     ]
    },
    {
     "data": {
      "text/plain": [
       "0"
      ]
     },
     "execution_count": 4,
     "metadata": {},
     "output_type": "execute_result"
    }
   ],
   "source": [
    "%%time\n",
    "\n",
    "subprocess.check_call(\"jupyter nbconvert --ExecutePreprocessor.kernel_name='python\" + PYTHON_VERSION + \"' --ExecutePreprocessor.timeout=0 --to notebook --execute template.ipynb --output template.ipynb\",\n",
    "                      shell=True)"
   ]
  },
  {
   "cell_type": "markdown",
   "metadata": {},
   "source": [
    "* A collection of *C++* [libraries](dependent.ipynb) concerning statistics in order to present how to wrap dependent libraries"
   ]
  },
  {
   "cell_type": "code",
   "execution_count": 5,
   "metadata": {},
   "outputs": [
    {
     "name": "stdout",
     "output_type": "stream",
     "text": [
      "CPU times: user 16 ms, sys: 12 ms, total: 28 ms\n",
      "Wall time: 12min 47s\n"
     ]
    },
    {
     "data": {
      "text/plain": [
       "0"
      ]
     },
     "execution_count": 5,
     "metadata": {},
     "output_type": "execute_result"
    }
   ],
   "source": [
    "%%time\n",
    "\n",
    "subprocess.check_call(\"jupyter nbconvert --ExecutePreprocessor.kernel_name='python\" + PYTHON_VERSION + \"' --ExecutePreprocessor.timeout=0 --to notebook --execute dependent.ipynb --output dependent.ipynb\",\n",
    "                      shell=True)"
   ]
  }
 ],
 "metadata": {
  "kernelspec": {
   "display_name": "Python 2",
   "language": "python",
   "name": "python2"
  },
  "language_info": {
   "codemirror_mode": {
    "name": "ipython",
    "version": 2
   },
   "file_extension": ".py",
   "mimetype": "text/x-python",
   "name": "python",
   "nbconvert_exporter": "python",
   "pygments_lexer": "ipython2",
   "version": "2.7.14"
  },
  "toc": {
   "colors": {
    "hover_highlight": "#DAA520",
    "navigate_num": "#000000",
    "navigate_text": "#333333",
    "running_highlight": "#FF0000",
    "selected_highlight": "#FFD700",
    "sidebar_border": "#EEEEEE",
    "wrapper_background": "#FFFFFF"
   },
   "moveMenuLeft": true,
   "nav_menu": {
    "height": "45px",
    "width": "252px"
   },
   "navigate_menu": true,
   "number_sections": false,
   "sideBar": true,
   "threshold": 4,
   "toc_cell": false,
   "toc_section_display": "block",
   "toc_window_display": true,
   "widenNotebook": false
  }
 },
 "nbformat": 4,
 "nbformat_minor": 2
}
