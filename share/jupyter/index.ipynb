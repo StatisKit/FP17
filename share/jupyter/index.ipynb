{
 "cells": [
  {
   "cell_type": "markdown",
   "metadata": {},
   "source": [
    "# **AutoWIG**: automatic generation of *Python* bindings for *C++* libraries\n",
    "\n",
    "This **Jupyter** notebook lists all notebooks available to illustrate the wrapping approach presented in the eponymous article.\n",
    "It can be used to re-execute all these notebooks at once.\n",
    "The the wrapping approach presented is illustrated on:\n",
    "\n",
    "* A basic *C++* [library](basic.ipynb) in order to present the interactive wrapping workflow."
   ]
  },
  {
   "cell_type": "code",
   "execution_count": 1,
   "metadata": {
    "collapsed": true
   },
   "outputs": [],
   "source": [
    "basic = !jupyter nbconvert --ExecutePreprocessor.timeout=3600 --to notebook --execute basic.ipynb --output basic.ipynb"
   ]
  },
  {
   "cell_type": "markdown",
   "metadata": {},
   "source": [
    "* The **Clang** *C++* [library](subset.ipynb) in order to present how a to wrap subsets of very large libraries."
   ]
  },
  {
   "cell_type": "code",
   "execution_count": 2,
   "metadata": {
    "collapsed": true
   },
   "outputs": [],
   "source": [
    "subset = !jupyter nbconvert --ExecutePreprocessor.timeout=3600 --to notebook --execute subset.ipynb --output subset.ipynb"
   ]
  },
  {
   "cell_type": "markdown",
   "metadata": {},
   "source": [
    "* The **STL** *C++* [library](template.ipynb) in order to present how to wrap template libraries."
   ]
  },
  {
   "cell_type": "code",
   "execution_count": 3,
   "metadata": {
    "collapsed": true
   },
   "outputs": [],
   "source": [
    "template = !jupyter nbconvert --ExecutePreprocessor.timeout=3600 --to notebook --execute template.ipynb --output template.ipynb"
   ]
  },
  {
   "cell_type": "markdown",
   "metadata": {},
   "source": [
    "* A collection of *C++* [libraries](dependent.ipynb) concerning statistics in order to present how to wrap dependent libraries"
   ]
  },
  {
   "cell_type": "code",
   "execution_count": null,
   "metadata": {
    "collapsed": true
   },
   "outputs": [],
   "source": [
    "dependent = !jupyter nbconvert --ExecutePreprocessor.timeout=3600 --to notebook --execute dependent.ipynb --output dependent.ipynb"
   ]
  }
 ],
 "metadata": {
  "kernelspec": {
   "display_name": "Python 2",
   "language": "python",
   "name": "python2"
  },
  "language_info": {
   "codemirror_mode": {
    "name": "ipython",
    "version": 2
   },
   "file_extension": ".py",
   "mimetype": "text/x-python",
   "name": "python",
   "nbconvert_exporter": "python",
   "pygments_lexer": "ipython2",
   "version": "2.7.14"
  },
  "toc": {
   "colors": {
    "hover_highlight": "#DAA520",
    "navigate_num": "#000000",
    "navigate_text": "#333333",
    "running_highlight": "#FF0000",
    "selected_highlight": "#FFD700",
    "sidebar_border": "#EEEEEE",
    "wrapper_background": "#FFFFFF"
   },
   "moveMenuLeft": true,
   "nav_menu": {
    "height": "45px",
    "width": "252px"
   },
   "navigate_menu": true,
   "number_sections": false,
   "sideBar": true,
   "threshold": 4,
   "toc_cell": false,
   "toc_section_display": "block",
   "toc_window_display": true,
   "widenNotebook": false
  }
 },
 "nbformat": 4,
 "nbformat_minor": 2
}
