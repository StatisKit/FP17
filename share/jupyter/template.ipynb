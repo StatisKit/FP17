{
 "cells": [
  {
   "cell_type": "markdown",
   "metadata": {
    "collapsed": true
   },
   "source": [
    "# Wrapping a template library\n",
    "\n",
    "A template library is a library where there are only template classes that can be instantiated.\n",
    "Wrapping such libraries therefore requires **AutoWIG** to be able to consider various *C++* template classes instantiations during the `Parse` step.\n",
    "It is therefore required to install the `clanglite` `parser`.\n",
    "\n",
    "The **Standard Template Library (STL)** library is a *C++* library that provides a set of common *C++* template classes such as containers and associative arrays.\n",
    "These classes can be used with any built-in or user-defined type that supports some elementary operations (e.g., copying, assignment).\n",
    "It is divided in four components called algorithms, containers, functional and iterators.\n",
    "**STL** containers (e.g., `std::vector`, `std::set`) are used in many *C++* libraries.\n",
    "In such a case, it does not seem relevant that every wrapped *C++* library contains wrappers for usual **STL** containers (e.g., `std::vector< double >`, `std::set< int >`).\n",
    "We therefore proposed *Python* bindings for some sequence containers (e.g., `vector` of the `std` namespace) and associative containers (e.g., `set`, `unordered_set` of the `std` namespace).\n",
    "These template instantiations are done for various *C++* fundamental types (e.g., `int`, `unsigned long int`, `double`) and the `string` of the `std` namespace.\n",
    "For ordered associative containers only the `std::less` comparator was used.\n",
    "For the complete procedure refer to the `AutoWIG.py` file situed at the root of the **STL** [repository](https://github.com/StatisKit/STL).\n",
    "\n",
    "\n",
    "We here aim at presenting how template libraries can be wrapped.\n",
    "First, we need:\n",
    "\n",
    "* to detect if the operating system (OS) is a Windows OS or a Unix OS."
   ]
  },
  {
   "cell_type": "code",
   "execution_count": 1,
   "metadata": {},
   "outputs": [],
   "source": [
    "import platform\n",
    "is_windows = any(platform.win32_ver())"
   ]
  },
  {
   "cell_type": "markdown",
   "metadata": {},
   "source": [
    "* to detect the version of *Python* installed and to save it in the `PYTHON_VERSION` environment variable."
   ]
  },
  {
   "cell_type": "code",
   "execution_count": 2,
   "metadata": {},
   "outputs": [],
   "source": [
    "import os\n",
    "import sys\n",
    "os.environ['PYTHON_VERSION'] = str(sys.version_info.major) + '.' + str(sys.version_info.minor)"
   ]
  },
  {
   "cell_type": "markdown",
   "metadata": {},
   "source": [
    "In this notebook, we do not need to import **AutoWIG** since **SCons** is configured to use the **Boost.Python** tool installed with **AutoWIG** that can be used to generate wrappers (see the `../git/STL/src/cpp/SConscript` file)."
   ]
  },
  {
   "cell_type": "code",
   "execution_count": 21,
   "metadata": {},
   "outputs": [
    {
     "name": "stdout",
     "output_type": "stream",
     "text": [
      "fatal: '../git/STL/' does not appear to be a git repository\r\n",
      "fatal: Could not read from remote repository.\r\n",
      "\r\n",
      "Please make sure you have the correct access rights\r\n",
      "and the repository exists.\r\n"
     ]
    }
   ],
   "source": [
    "!git pull ../git/STL/"
   ]
  },
  {
   "cell_type": "code",
   "execution_count": 13,
   "metadata": {},
   "outputs": [
    {
     "name": "stdout",
     "output_type": "stream",
     "text": [
      "Error: cannot read infile: [Errno 2] No such file or directory: '../git/STL/src/cpp/SConscript'\r\n"
     ]
    }
   ],
   "source": [
    "if is_windows:\n",
    "    !pygmentize ..\\git\\STL\\src\\cpp\\SConscript\n",
    "else:\n",
    "    !pygmentize ../git/STL/src/cpp/SConscript"
   ]
  },
  {
   "cell_type": "markdown",
   "metadata": {},
   "source": [
    "The controller is registered in the `../git/STL/src/cpp/AutoWIG.py` file"
   ]
  },
  {
   "cell_type": "code",
   "execution_count": 4,
   "metadata": {},
   "outputs": [
    {
     "name": "stdout",
     "output_type": "stream",
     "text": [
      "Error: cannot read infile: [Errno 2] No such file or directory: '../git/STL/src/cpp/AutoWIG.py'\r\n"
     ]
    }
   ],
   "source": [
    "if is_windows:\n",
    "    !pygmentize ..\\git\\STL\\src\\cpp\\AutoWIG.py\n",
    "else:\n",
    "    !pygmentize ../git/STL/src/cpp/AutoWIG.py"
   ]
  },
  {
   "cell_type": "markdown",
   "metadata": {},
   "source": [
    "Then, in addition to the **STL** library, the **StatisKit.STL** library has to be installed in order to have access to some functionalities.\n",
    "To do so, we use available **Conda** recipes."
   ]
  },
  {
   "cell_type": "code",
   "execution_count": 5,
   "metadata": {},
   "outputs": [
    {
     "name": "stdout",
     "output_type": "stream",
     "text": [
      "\n",
      "\n",
      "\n",
      "####################################################################################\n",
      "Source and build intermediates have been left in /Users/pfernique/.miniconda/conda-bld.\n",
      "There are currently 19 accumulated.\n",
      "To remove them, you can run the ```conda build purge``` command\n",
      "Fetching package metadata ...............\n",
      "\n",
      "PackageNotFoundError: Packages missing in current channels:\n",
      "            \n",
      "  - libstatiskit_stl\n",
      "\n",
      "We have searched for the packages in the following channels:\n",
      "            \n",
      "  - file:///Users/pfernique/.miniconda/conda-bld/osx-64\n",
      "  - file:///Users/pfernique/.miniconda/conda-bld/noarch\n",
      "  - https://conda.anaconda.org/statiskit/osx-64\n",
      "  - https://conda.anaconda.org/statiskit/noarch\n",
      "  - https://repo.continuum.io/pkgs/main/osx-64\n",
      "  - https://repo.continuum.io/pkgs/main/noarch\n",
      "  - https://repo.continuum.io/pkgs/free/osx-64\n",
      "  - https://repo.continuum.io/pkgs/free/noarch\n",
      "  - https://repo.continuum.io/pkgs/r/osx-64\n",
      "  - https://repo.continuum.io/pkgs/r/noarch\n",
      "  - https://repo.continuum.io/pkgs/pro/osx-64\n",
      "  - https://repo.continuum.io/pkgs/pro/noarch\n",
      "            \n",
      "\n"
     ]
    }
   ],
   "source": [
    "if is_windows:\n",
    "    !conda build --python=%PYTHON_VERSION% ..\\git\\STL\\bin\\conda\\libstatiskit_stl -c statiskit\n",
    "else:\n",
    "    !conda build --python=$PYTHON_VERSION ../git/STL/bin/conda/libstatiskit_stl -c statiskit\n",
    "!conda install -y libstatiskit_stl --use-local -c statiskit --force"
   ]
  },
  {
   "cell_type": "markdown",
   "metadata": {},
   "source": [
    "As presented below, in order to wrap a template library, the user needs to write headers containing aliases for desired template class instantiations (see the `../git/STL/src/cpp/STL.h` file)."
   ]
  },
  {
   "cell_type": "code",
   "execution_count": 6,
   "metadata": {
    "scrolled": true
   },
   "outputs": [
    {
     "name": "stdout",
     "output_type": "stream",
     "text": [
      "Error: cannot read infile: [Errno 2] No such file or directory: '../git/STL/src/cpp/STL.h'\r\n"
     ]
    }
   ],
   "source": [
    "if is_windows:\n",
    "    !pygmentize ..\\git\\STL\\src\\cpp\\STL.h\n",
    "else:\n",
    "    !pygmentize ../git/STL/src/cpp/STL.h"
   ]
  },
  {
   "cell_type": "markdown",
   "metadata": {},
   "source": [
    "Once these preliminaries are done, we can proceed to the actual generation of wrappers for the **STL** library.\n",
    "To do so, we need then to install the *C++* headers. \n",
    "This is done using the `cpp` target in **SCons**."
   ]
  },
  {
   "cell_type": "code",
   "execution_count": 7,
   "metadata": {},
   "outputs": [
    {
     "name": "stdout",
     "output_type": "stream",
     "text": [
      "scons: Entering directory `/Users/pfernique/Desktop/FP17/share/git/STL'\n",
      "\n",
      "scons: *** No SConstruct file found.\n",
      "File \"/Users/pfernique/.miniconda/envs/FP17/lib/python2.7/site-packages/SCons/Script/Main.py\", line 924, in _main\n"
     ]
    }
   ],
   "source": [
    "if is_windows:\n",
    "    !scons cpp -C ..\\git\\STL\n",
    "else:\n",
    "    !scons cpp -C ../git/STL"
   ]
  },
  {
   "cell_type": "markdown",
   "metadata": {},
   "source": [
    "Once the headers have been installed in the system, we parse headers with relevant compilation flags.\n",
    "This is done using the `autowig` target in **SCons**."
   ]
  },
  {
   "cell_type": "code",
   "execution_count": 8,
   "metadata": {},
   "outputs": [
    {
     "name": "stdout",
     "output_type": "stream",
     "text": [
      "scons: Entering directory `/Users/pfernique/Desktop/FP17/share/git/STL'\r\n",
      "\r\n",
      "scons: *** No SConstruct file found.\r\n",
      "File \"/Users/pfernique/.miniconda/envs/FP17/lib/python2.7/site-packages/SCons/Script/Main.py\", line 924, in _main\r\n"
     ]
    }
   ],
   "source": [
    "if is_windows:\n",
    "    !scons autowig -C ..\\git\\STL\n",
    "else:\n",
    "    !scons autowig -C ../git/STL"
   ]
  },
  {
   "cell_type": "markdown",
   "metadata": {},
   "source": [
    "Here is the list of the generated wrappers (untracked files)."
   ]
  },
  {
   "cell_type": "code",
   "execution_count": 9,
   "metadata": {},
   "outputs": [
    {
     "name": "stdout",
     "output_type": "stream",
     "text": [
      "On branch master\r\n",
      "Your branch is ahead of 'origin/master' by 1 commit.\r\n",
      "  (use \"git push\" to publish your local commits)\r\n",
      "\r\n",
      "Changes not staged for commit:\r\n",
      "  (use \"git add <file>...\" to update what will be committed)\r\n",
      "  (use \"git checkout -- <file>...\" to discard changes in working directory)\r\n",
      "\r\n",
      "\t\u001b[31mmodified:   ../../jupyter/basic.ipynb\u001b[m\r\n",
      "\t\u001b[31mmodified:   ../../jupyter/dependent.ipynb\u001b[m\r\n",
      "\t\u001b[31mmodified:   ../../jupyter/index.ipynb\u001b[m\r\n",
      "\t\u001b[31mmodified:   ../../jupyter/subset.ipynb\u001b[m\r\n",
      "\t\u001b[31mmodified:   ../../jupyter/template.ipynb\u001b[m\r\n",
      "\r\n",
      "Untracked files:\r\n",
      "  (use \"git add <file>...\" to include in what will be committed)\r\n",
      "\r\n",
      "\t\u001b[31m../../jupyter/.ipynb_checkpoints/\u001b[m\r\n",
      "\t\u001b[31m../../../src/py/_basic.cpp\u001b[m\r\n",
      "\t\u001b[31m../../../src/py/_basic.h\u001b[m\r\n",
      "\t\u001b[31m../../../src/py/basic/_basic.py\u001b[m\r\n",
      "\t\u001b[31m../../../src/py/wrapper_0f744e8d056f5d469a887c7c78eaf8fe.cpp\u001b[m\r\n",
      "\t\u001b[31m../../../src/py/wrapper_4046a8421fe9587c9dfbc97778162c7d.cpp\u001b[m\r\n",
      "\t\u001b[31m../../../src/py/wrapper_92d464d1243554009adc48a065a5be3e.cpp\u001b[m\r\n",
      "\t\u001b[31m../../../src/py/wrapper_f926cb231a7f5da09f313cd361ff94c7.cpp\u001b[m\r\n",
      "\r\n",
      "no changes added to commit (use \"git add\" and/or \"git commit -a\")\r\n"
     ]
    }
   ],
   "source": [
    "if is_windows:\n",
    "    !cd ..\\git\\STL & git status\n",
    "else:\n",
    "    !cd ../git/STL && git status"
   ]
  },
  {
   "cell_type": "markdown",
   "metadata": {},
   "source": [
    "And here, we present the wrappers generated for the `std::vector< int >` class."
   ]
  },
  {
   "cell_type": "code",
   "execution_count": 10,
   "metadata": {
    "scrolled": false
   },
   "outputs": [
    {
     "name": "stdout",
     "output_type": "stream",
     "text": [
      "Error: cannot read infile: [Errno 2] No such file or directory: '../git/STL/src/py/wrapper/wrapper_6b9ae5eac40858c9a0f5e6e21c15d1d3.cpp'\r\n"
     ]
    }
   ],
   "source": [
    "if is_windows:\n",
    "    !pygmentize ..\\git\\STL\\src\\py\\wrapper\\wrapper_6b9ae5eac40858c9a0f5e6e21c15d1d3.cpp\n",
    "else:\n",
    "    !pygmentize ../git/STL/src/py/wrapper/wrapper_6b9ae5eac40858c9a0f5e6e21c15d1d3.cpp"
   ]
  },
  {
   "cell_type": "markdown",
   "metadata": {},
   "source": [
    "Once the wrappers are written on disk, we need to compile and install the *Python* bindings.\n",
    "To do so, we use available **Conda** recipes."
   ]
  },
  {
   "cell_type": "code",
   "execution_count": 11,
   "metadata": {
    "scrolled": true
   },
   "outputs": [
    {
     "name": "stdout",
     "output_type": "stream",
     "text": [
      "\n",
      "\n",
      "\n",
      "####################################################################################\n",
      "Source and build intermediates have been left in /Users/pfernique/.miniconda/conda-bld.\n",
      "There are currently 19 accumulated.\n",
      "To remove them, you can run the ```conda build purge``` command\n",
      "Fetching package metadata .................\n",
      "\n",
      "PackageNotFoundError: Packages missing in current channels:\n",
      "            \n",
      "  - python-statiskit_stl\n",
      "\n",
      "We have searched for the packages in the following channels:\n",
      "            \n",
      "  - file:///Users/pfernique/.miniconda/conda-bld/osx-64\n",
      "  - file:///Users/pfernique/.miniconda/conda-bld/noarch\n",
      "  - https://conda.anaconda.org/statiskit/osx-64\n",
      "  - https://conda.anaconda.org/statiskit/noarch\n",
      "  - https://conda.anaconda.org/conda-forge/osx-64\n",
      "  - https://conda.anaconda.org/conda-forge/noarch\n",
      "  - https://repo.continuum.io/pkgs/main/osx-64\n",
      "  - https://repo.continuum.io/pkgs/main/noarch\n",
      "  - https://repo.continuum.io/pkgs/free/osx-64\n",
      "  - https://repo.continuum.io/pkgs/free/noarch\n",
      "  - https://repo.continuum.io/pkgs/r/osx-64\n",
      "  - https://repo.continuum.io/pkgs/r/noarch\n",
      "  - https://repo.continuum.io/pkgs/pro/osx-64\n",
      "  - https://repo.continuum.io/pkgs/pro/noarch\n",
      "            \n",
      "\n"
     ]
    }
   ],
   "source": [
    "if is_windows:\n",
    "    !conda build --python=%PYTHON_VERSION% ..\\git\\STL\\bin\\conda\\python-statiskit_stl -c statiskit -c conda-forge\n",
    "else:\n",
    "    !conda build --python=$PYTHON_VERSION ../git/STL/bin/conda/python-statiskit_stl -c statiskit -c conda-forge\n",
    "!conda install -y python-statiskit_stl --use-local -c statiskit -c conda-forge --force"
   ]
  },
  {
   "cell_type": "markdown",
   "metadata": {},
   "source": [
    "Finally, we can hereafter use the *C++* library in the *Python* interpreter."
   ]
  },
  {
   "cell_type": "code",
   "execution_count": 12,
   "metadata": {},
   "outputs": [
    {
     "ename": "ImportError",
     "evalue": "No module named statiskit.stl",
     "output_type": "error",
     "traceback": [
      "\u001b[0;31m---------------------------------------------------------------------------\u001b[0m",
      "\u001b[0;31mImportError\u001b[0m                               Traceback (most recent call last)",
      "\u001b[0;32m<ipython-input-12-17c4dff310f6>\u001b[0m in \u001b[0;36m<module>\u001b[0;34m()\u001b[0m\n\u001b[0;32m----> 1\u001b[0;31m \u001b[0;32mfrom\u001b[0m \u001b[0mstatiskit\u001b[0m\u001b[0;34m.\u001b[0m\u001b[0mstl\u001b[0m \u001b[0;32mimport\u001b[0m \u001b[0mVectorInt\u001b[0m\u001b[0;34m\u001b[0m\u001b[0m\n\u001b[0m\u001b[1;32m      2\u001b[0m \u001b[0mv\u001b[0m \u001b[0;34m=\u001b[0m \u001b[0mVectorInt\u001b[0m\u001b[0;34m(\u001b[0m\u001b[0;34m)\u001b[0m\u001b[0;34m\u001b[0m\u001b[0m\n\u001b[1;32m      3\u001b[0m \u001b[0mv\u001b[0m\u001b[0;34m.\u001b[0m\u001b[0mpush_back\u001b[0m\u001b[0;34m(\u001b[0m\u001b[0;34m-\u001b[0m\u001b[0;36m1\u001b[0m\u001b[0;34m)\u001b[0m\u001b[0;34m\u001b[0m\u001b[0m\n\u001b[1;32m      4\u001b[0m \u001b[0mv\u001b[0m\u001b[0;34m.\u001b[0m\u001b[0mpush_back\u001b[0m\u001b[0;34m(\u001b[0m\u001b[0;36m0\u001b[0m\u001b[0;34m)\u001b[0m\u001b[0;34m\u001b[0m\u001b[0m\n\u001b[1;32m      5\u001b[0m \u001b[0mv\u001b[0m\u001b[0;34m.\u001b[0m\u001b[0mpush_back\u001b[0m\u001b[0;34m(\u001b[0m\u001b[0;36m1\u001b[0m\u001b[0;34m)\u001b[0m\u001b[0;34m\u001b[0m\u001b[0m\n",
      "\u001b[0;31mImportError\u001b[0m: No module named statiskit.stl"
     ]
    }
   ],
   "source": [
    "from statiskit.stl import VectorInt\n",
    "v = VectorInt()\n",
    "v.push_back(-1)\n",
    "v.push_back(0)\n",
    "v.push_back(1)\n",
    "v"
   ]
  },
  {
   "cell_type": "code",
   "execution_count": null,
   "metadata": {},
   "outputs": [],
   "source": [
    "list(v)"
   ]
  },
  {
   "cell_type": "code",
   "execution_count": null,
   "metadata": {},
   "outputs": [],
   "source": [
    "v[0]"
   ]
  },
  {
   "cell_type": "code",
   "execution_count": null,
   "metadata": {},
   "outputs": [],
   "source": [
    "v[0] = -2\n",
    "v[0]"
   ]
  },
  {
   "cell_type": "code",
   "execution_count": null,
   "metadata": {},
   "outputs": [],
   "source": [
    "VectorInt([0, 1])"
   ]
  },
  {
   "cell_type": "markdown",
   "metadata": {},
   "source": [
    "Here is a report concerning objects wrapped using this notebook."
   ]
  },
  {
   "cell_type": "code",
   "execution_count": null,
   "metadata": {},
   "outputs": [],
   "source": [
    "import fp17\n",
    "import os\n",
    "import pickle\n",
    "with open(os.path.join(os.environ['SCONSFLAGS'].lstrip('--site-dir='),\n",
    "                       'site_autowig',\n",
    "                       'ASG',\n",
    "                       'statiskit_stl.pkl'), 'rb') as filehandler:\n",
    "    asg = pickle.load(filehandler)\n",
    "fp17.report(asg)"
   ]
  }
 ],
 "metadata": {
  "anaconda-cloud": {},
  "kernelspec": {
   "display_name": "Python 2",
   "language": "python",
   "name": "python2"
  },
  "language_info": {
   "codemirror_mode": {
    "name": "ipython",
    "version": 2
   },
   "file_extension": ".py",
   "mimetype": "text/x-python",
   "name": "python",
   "nbconvert_exporter": "python",
   "pygments_lexer": "ipython2",
   "version": "2.7.13"
  }
 },
 "nbformat": 4,
 "nbformat_minor": 1
}
