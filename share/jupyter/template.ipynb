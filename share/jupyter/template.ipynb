{
 "cells": [
  {
   "cell_type": "markdown",
   "metadata": {
    "collapsed": true
   },
   "source": [
    "# Wrapping a template library\n",
    "\n",
    "A template library is a library where there are only template classes that can be instantiated.\n",
    "Wrapping such libraries therefore requires **AutoWIG** to be able to consider various *C++* template classes instantiations during the `Parse` step.\n",
    "It is therefore required to install the `clanglite` `parser`.\n",
    "\n",
    "The **Standard Template Library (STL)** library is a *C++* library that provides a set of common *C++* template classes such as containers and associative arrays.\n",
    "These classes can be used with any built-in or user-defined type that supports some elementary operations (e.g., copying, assignment).\n",
    "It is divided in four components called algorithms, containers, functional and iterators.\n",
    "**STL** containers (e.g., `std::vector`, `std::set`) are used in many *C++* libraries.\n",
    "In such a case, it does not seem relevant that every wrapped *C++* library contains wrappers for usual **STL** containers (e.g., `std::vector< double >`, `std::set< int >`).\n",
    "We therefore proposed *Python* bindings for some sequence containers (e.g., `vector` of the `std` namespace) and associative containers (e.g., `set`, `unordered_set` of the `std` namespace).\n",
    "These template instantiations are done for various *C++* fundamental types (e.g., `int`, `unsigned long int`, `double`) and the `string` of the `std` namespace.\n",
    "For ordered associative containers only the `std::less` comparator was used.\n",
    "For the complete procedure refer to the `AutoWIG.py` file situed at the root of the **STL** [repository](https://github.com/StatisKit/STL).\n",
    "\n",
    "\n",
    "We here aim at presenting how template libraries can be wrapped.\n",
    "First, we need:\n",
    "\n",
    "* to detect if the operating system (OS) is a Windows OS or a Unix OS."
   ]
  },
  {
   "cell_type": "code",
   "execution_count": 1,
   "metadata": {},
   "outputs": [],
   "source": [
    "import platform\n",
    "is_windows = any(platform.win32_ver())"
   ]
  },
  {
   "cell_type": "markdown",
   "metadata": {},
   "source": [
    "On Windows OSes, the visual studio version used to compile future wrappers must be given.\n",
    "But if the **SCons** tool is used, this version is known."
   ]
  },
  {
   "cell_type": "markdown",
   "metadata": {},
   "source": [
    "* to import **subprocess**."
   ]
  },
  {
   "cell_type": "code",
   "execution_count": 2,
   "metadata": {},
   "outputs": [],
   "source": [
    "import subprocess"
   ]
  },
  {
   "cell_type": "markdown",
   "metadata": {},
   "source": [
    "* to detect the **Git** repository root"
   ]
  },
  {
   "cell_type": "code",
   "execution_count": 3,
   "metadata": {},
   "outputs": [],
   "source": [
    "import os\n",
    "GIT_ROOT = subprocess.check_output('git rev-parse --show-toplevel', shell=True).decode()\n",
    "GIT_ROOT = GIT_ROOT.replace('/', os.sep).strip()\n",
    "GIT_ROOT = os.path.join(GIT_ROOT, 'share', 'git', 'STL')\n",
    "from devops_tools import describe\n",
    "os.environ['GIT_DESCRIBE_VERSION'] = describe.git_describe_version(GIT_ROOT)\n",
    "os.environ['GIT_DESCRIBE_NUMBER'] = describe.git_describe_number(GIT_ROOT)\n",
    "os.environ['DATETIME_DESCRIBE_VERSION'] = describe.datetime_describe_version(GIT_ROOT)\n",
    "os.environ['DATETIME_DESCRIBE_NUMBER'] = describe.datetime_describe_number(GIT_ROOT)"
   ]
  },
  {
   "cell_type": "markdown",
   "metadata": {},
   "source": [
    "In this notebook, we do not need to import **AutoWIG** since **SCons** is configured to use the **Boost.Python** tool installed with **AutoWIG** that can be used to generate wrappers (see the `../git/STL/src/cpp/SConscript` file)."
   ]
  },
  {
   "cell_type": "code",
   "execution_count": 4,
   "metadata": {},
   "outputs": [
    {
     "name": "stdout",
     "output_type": "stream",
     "text": [
      "\u001b[37m# -*-python-*-\u001b[39;49;00m\r\n",
      "\r\n",
      "VECTORS = [\u001b[33m'\u001b[39;49;00m\u001b[33mIndex\u001b[39;49;00m\u001b[33m'\u001b[39;49;00m,\r\n",
      "           \u001b[33m'\u001b[39;49;00m\u001b[33mint\u001b[39;49;00m\u001b[33m'\u001b[39;49;00m,\r\n",
      "           \u001b[33m'\u001b[39;49;00m\u001b[33mdouble\u001b[39;49;00m\u001b[33m'\u001b[39;49;00m,\r\n",
      "           \u001b[33m'\u001b[39;49;00m\u001b[33mstd::string\u001b[39;49;00m\u001b[33m'\u001b[39;49;00m]\r\n",
      "\r\n",
      "SETS = { \u001b[33m'\u001b[39;49;00m\u001b[33mless\u001b[39;49;00m\u001b[33m'\u001b[39;49;00m: [\u001b[33m'\u001b[39;49;00m\u001b[33mIndex\u001b[39;49;00m\u001b[33m'\u001b[39;49;00m,\r\n",
      "                  \u001b[33m'\u001b[39;49;00m\u001b[33mint\u001b[39;49;00m\u001b[33m'\u001b[39;49;00m,\r\n",
      "                  \u001b[33m'\u001b[39;49;00m\u001b[33mdouble\u001b[39;49;00m\u001b[33m'\u001b[39;49;00m,\r\n",
      "                  \u001b[33m'\u001b[39;49;00m\u001b[33mstd::string\u001b[39;49;00m\u001b[33m'\u001b[39;49;00m],\r\n",
      "         \u001b[33m'\u001b[39;49;00m\u001b[33mnone\u001b[39;49;00m\u001b[33m'\u001b[39;49;00m: [\u001b[33m'\u001b[39;49;00m\u001b[33mIndex\u001b[39;49;00m\u001b[33m'\u001b[39;49;00m]}\r\n",
      "\r\n",
      "HEADER = \u001b[33m\"\"\"\u001b[39;49;00m\u001b[33m\\\u001b[39;49;00m\r\n",
      "\u001b[33m#ifndef STATISKIT_STL_H\u001b[39;49;00m\u001b[33m\u001b[39;49;00m\r\n",
      "\u001b[33m#define STATISKIT_STL_H\u001b[39;49;00m\u001b[33m\u001b[39;49;00m\r\n",
      "\u001b[33m\u001b[39;49;00m\r\n",
      "\u001b[33m#include <vector>\u001b[39;49;00m\u001b[33m\u001b[39;49;00m\r\n",
      "\u001b[33m#include <set>\u001b[39;49;00m\u001b[33m\u001b[39;49;00m\r\n",
      "\u001b[33m#include <unordered_set>\u001b[39;49;00m\u001b[33m\u001b[39;49;00m\r\n",
      "\u001b[33m#include <string>\u001b[39;49;00m\u001b[33m\u001b[39;49;00m\r\n",
      "\u001b[33m\u001b[39;49;00m\r\n",
      "\u001b[33m#if defined WIN32 || defined _WIN32 || defined __CYGWIN__\u001b[39;49;00m\u001b[33m\u001b[39;49;00m\r\n",
      "\u001b[33m    #ifdef LIBSTATISKIT_STL\u001b[39;49;00m\u001b[33m\u001b[39;49;00m\r\n",
      "\u001b[33m        #ifdef __GNUC__\u001b[39;49;00m\u001b[33m\u001b[39;49;00m\r\n",
      "\u001b[33m            #define STATISKIT_STL_API __attribute__ ((dllexport))\u001b[39;49;00m\u001b[33m\u001b[39;49;00m\r\n",
      "\u001b[33m        #else\u001b[39;49;00m\u001b[33m\u001b[39;49;00m\r\n",
      "\u001b[33m            #define STATISKIT_STL_API __declspec(dllexport)\u001b[39;49;00m\u001b[33m\u001b[39;49;00m\r\n",
      "\u001b[33m        #endif\u001b[39;49;00m\u001b[33m\u001b[39;49;00m\r\n",
      "\u001b[33m    #else\u001b[39;49;00m\u001b[33m\u001b[39;49;00m\r\n",
      "\u001b[33m        #ifdef __GNUC__\u001b[39;49;00m\u001b[33m\u001b[39;49;00m\r\n",
      "\u001b[33m            #define STATISKIT_STL_API __attribute__ ((dllimport))\u001b[39;49;00m\u001b[33m\u001b[39;49;00m\r\n",
      "\u001b[33m        #else\u001b[39;49;00m\u001b[33m\u001b[39;49;00m\r\n",
      "\u001b[33m            #define STATISKIT_STL_API __declspec(dllimport)\u001b[39;49;00m\u001b[33m\u001b[39;49;00m\r\n",
      "\u001b[33m        #endif\u001b[39;49;00m\u001b[33m\u001b[39;49;00m\r\n",
      "\u001b[33m    #endif\u001b[39;49;00m\u001b[33m\u001b[39;49;00m\r\n",
      "\u001b[33m#else\u001b[39;49;00m\u001b[33m\u001b[39;49;00m\r\n",
      "\u001b[33m    #if __GNUC__ >= 4\u001b[39;49;00m\u001b[33m\u001b[39;49;00m\r\n",
      "\u001b[33m        #define STATISKIT_STL_API __attribute__ ((visibility (\u001b[39;49;00m\u001b[33m\"\u001b[39;49;00m\u001b[33mdefault\u001b[39;49;00m\u001b[33m\"\u001b[39;49;00m\u001b[33m)))\u001b[39;49;00m\u001b[33m\u001b[39;49;00m\r\n",
      "\u001b[33m    #else\u001b[39;49;00m\u001b[33m\u001b[39;49;00m\r\n",
      "\u001b[33m        #define STATISKIT_STL_API\u001b[39;49;00m\u001b[33m\u001b[39;49;00m\r\n",
      "\u001b[33m    #endif\u001b[39;49;00m\u001b[33m\u001b[39;49;00m\r\n",
      "\u001b[33m#endif\u001b[39;49;00m\u001b[33m\u001b[39;49;00m\r\n",
      "\u001b[33m\u001b[39;49;00m\r\n",
      "\u001b[33mnamespace statiskit\u001b[39;49;00m\u001b[33m\u001b[39;49;00m\r\n",
      "\u001b[33m{\u001b[39;49;00m\u001b[33m\u001b[39;49;00m\r\n",
      "\u001b[33m    typedef size_t Index;\u001b[39;49;00m\u001b[33m\u001b[39;49;00m\r\n",
      "\u001b[33m    typedef std::set< Index > Indices;\u001b[39;49;00m\u001b[33m\u001b[39;49;00m\r\n",
      "\u001b[33m\u001b[39;49;00m\r\n",
      "\u001b[33m    namespace stl\u001b[39;49;00m\u001b[33m\u001b[39;49;00m\r\n",
      "\u001b[33m    {\u001b[39;49;00m\u001b[33m\u001b[39;49;00m\r\n",
      "\u001b[33m\u001b[39;49;00m\r\n",
      "\u001b[33m        template<class T>\u001b[39;49;00m\u001b[33m\u001b[39;49;00m\r\n",
      "\u001b[33m            class Generator\u001b[39;49;00m\u001b[33m\u001b[39;49;00m\r\n",
      "\u001b[33m            {\u001b[39;49;00m\u001b[33m\u001b[39;49;00m\r\n",
      "\u001b[33m                public:\u001b[39;49;00m\u001b[33m\u001b[39;49;00m\r\n",
      "\u001b[33m                    Generator(const T& iterable)\u001b[39;49;00m\u001b[33m\u001b[39;49;00m\r\n",
      "\u001b[33m                    { \u001b[39;49;00m\u001b[33m\u001b[39;49;00m\r\n",
      "\u001b[33m                        _cur = iterable.cbegin();\u001b[39;49;00m\u001b[33m\u001b[39;49;00m\r\n",
      "\u001b[33m                        _end = iterable.cend();\u001b[39;49;00m\u001b[33m\u001b[39;49;00m\r\n",
      "\u001b[33m                    }\u001b[39;49;00m\u001b[33m\u001b[39;49;00m\r\n",
      "\u001b[33m\u001b[39;49;00m\r\n",
      "\u001b[33m                    virtual ~Generator()\u001b[39;49;00m\u001b[33m\u001b[39;49;00m\r\n",
      "\u001b[33m                    {}\u001b[39;49;00m\u001b[33m\u001b[39;49;00m\r\n",
      "\u001b[33m\u001b[39;49;00m\r\n",
      "\u001b[33m                    Generator(const Generator< T >& generator)\u001b[39;49;00m\u001b[33m\u001b[39;49;00m\r\n",
      "\u001b[33m                    { \u001b[39;49;00m\u001b[33m\u001b[39;49;00m\r\n",
      "\u001b[33m                        _cur = generator._cur;\u001b[39;49;00m\u001b[33m\u001b[39;49;00m\r\n",
      "\u001b[33m                        _end = generator._end;\u001b[39;49;00m\u001b[33m\u001b[39;49;00m\r\n",
      "\u001b[33m                    }\u001b[39;49;00m\u001b[33m\u001b[39;49;00m\r\n",
      "\u001b[33m\u001b[39;49;00m\r\n",
      "\u001b[33m                    bool is_valid() const\u001b[39;49;00m\u001b[33m\u001b[39;49;00m\r\n",
      "\u001b[33m                    { return _cur != _end; }\u001b[39;49;00m\u001b[33m\u001b[39;49;00m\r\n",
      "\u001b[33m\u001b[39;49;00m\r\n",
      "\u001b[33m                    Generator< T >& operator++()\u001b[39;49;00m\u001b[33m\u001b[39;49;00m\r\n",
      "\u001b[33m                    { \u001b[39;49;00m\u001b[33m\u001b[39;49;00m\r\n",
      "\u001b[33m                        ++_cur;\u001b[39;49;00m\u001b[33m\u001b[39;49;00m\r\n",
      "\u001b[33m                        return *this;\u001b[39;49;00m\u001b[33m\u001b[39;49;00m\r\n",
      "\u001b[33m                    }\u001b[39;49;00m\u001b[33m\u001b[39;49;00m\r\n",
      "\u001b[33m\u001b[39;49;00m\r\n",
      "\u001b[33m                    typename T::value_type value() const\u001b[39;49;00m\u001b[33m\u001b[39;49;00m\r\n",
      "\u001b[33m                    { return *_cur; }\u001b[39;49;00m\u001b[33m\u001b[39;49;00m\r\n",
      "\u001b[33m\u001b[39;49;00m\r\n",
      "\u001b[33m                protected:\u001b[39;49;00m\u001b[33m\u001b[39;49;00m\r\n",
      "\u001b[33m                    typename T::const_iterator _cur;\u001b[39;49;00m\u001b[33m\u001b[39;49;00m\r\n",
      "\u001b[33m                    typename T::const_iterator _end;\u001b[39;49;00m\u001b[33m\u001b[39;49;00m\r\n",
      "\u001b[33m            };\u001b[39;49;00m\u001b[33m\u001b[39;49;00m\r\n",
      "\u001b[33m\u001b[39;49;00m\r\n",
      "\u001b[33m        typedef std::string String;\u001b[39;49;00m\u001b[33m\u001b[39;49;00m\r\n",
      "\u001b[33m\u001b[39;49;00m\r\n",
      "\u001b[33m\"\"\"\u001b[39;49;00m\r\n",
      "\r\n",
      "\u001b[34mdef\u001b[39;49;00m \u001b[32mcapitalize\u001b[39;49;00m(T):\r\n",
      "    \u001b[34mreturn\u001b[39;49;00m \u001b[33m'\u001b[39;49;00m\u001b[33m'\u001b[39;49;00m.join([t.capitalize() \u001b[34mfor\u001b[39;49;00m t \u001b[35min\u001b[39;49;00m T.replace(\u001b[33m'\u001b[39;49;00m\u001b[33mstd::\u001b[39;49;00m\u001b[33m'\u001b[39;49;00m, \u001b[33m'\u001b[39;49;00m\u001b[33m'\u001b[39;49;00m).replace(\u001b[33m'\u001b[39;49;00m\u001b[33m_\u001b[39;49;00m\u001b[33m'\u001b[39;49;00m, \u001b[33m'\u001b[39;49;00m\u001b[33m \u001b[39;49;00m\u001b[33m'\u001b[39;49;00m).split()])\r\n",
      "\r\n",
      "\u001b[34mwith\u001b[39;49;00m \u001b[36mopen\u001b[39;49;00m(\u001b[33m'\u001b[39;49;00m\u001b[33mSTL.h\u001b[39;49;00m\u001b[33m'\u001b[39;49;00m, \u001b[33m'\u001b[39;49;00m\u001b[33mw\u001b[39;49;00m\u001b[33m'\u001b[39;49;00m) \u001b[34mas\u001b[39;49;00m filehandler:\r\n",
      "    filehandler.write(HEADER)\r\n",
      "    filehandler.write(\u001b[33m'\u001b[39;49;00m\u001b[33m\\n\u001b[39;49;00m\u001b[33m'\u001b[39;49;00m)\r\n",
      "    \u001b[34mfor\u001b[39;49;00m T \u001b[35min\u001b[39;49;00m VECTORS:\r\n",
      "        filehandler.write(\u001b[33m'\u001b[39;49;00m\u001b[33m\\t\u001b[39;49;00m\u001b[33m\\t\u001b[39;49;00m\u001b[33mtypedef std::vector< \u001b[39;49;00m\u001b[33m'\u001b[39;49;00m + T + \u001b[33m'\u001b[39;49;00m\u001b[33m > Vector\u001b[39;49;00m\u001b[33m'\u001b[39;49;00m + capitalize(T) +\u001b[33m'\u001b[39;49;00m\u001b[33m;\u001b[39;49;00m\u001b[33m\\n\u001b[39;49;00m\u001b[33m'\u001b[39;49;00m)\r\n",
      "    filehandler.write(\u001b[33m'\u001b[39;49;00m\u001b[33m\\n\u001b[39;49;00m\u001b[33m'\u001b[39;49;00m)\r\n",
      "    \u001b[34mfor\u001b[39;49;00m sort \u001b[35min\u001b[39;49;00m SETS:\r\n",
      "        \u001b[34mfor\u001b[39;49;00m T \u001b[35min\u001b[39;49;00m SETS[sort]:\r\n",
      "            \u001b[34mif\u001b[39;49;00m sort == \u001b[33m'\u001b[39;49;00m\u001b[33mnone\u001b[39;49;00m\u001b[33m'\u001b[39;49;00m:\r\n",
      "                SET = \u001b[33m'\u001b[39;49;00m\u001b[33mSet\u001b[39;49;00m\u001b[33m'\u001b[39;49;00m + capitalize(T)\r\n",
      "                filehandler.write(\u001b[33m'\u001b[39;49;00m\u001b[33m\\t\u001b[39;49;00m\u001b[33m\\t\u001b[39;49;00m\u001b[33mtypedef std::unordered_set< \u001b[39;49;00m\u001b[33m'\u001b[39;49;00m + T + \u001b[33m'\u001b[39;49;00m\u001b[33m > \u001b[39;49;00m\u001b[33m'\u001b[39;49;00m + SET + \u001b[33m'\u001b[39;49;00m\u001b[33m;\u001b[39;49;00m\u001b[33m\\n\u001b[39;49;00m\u001b[33m'\u001b[39;49;00m)\r\n",
      "                GENERATOR = SET + \u001b[33m'\u001b[39;49;00m\u001b[33mGenerator\u001b[39;49;00m\u001b[33m'\u001b[39;49;00m\r\n",
      "                filehandler.write(\u001b[33m'\u001b[39;49;00m\u001b[33m\\t\u001b[39;49;00m\u001b[33m\\t\u001b[39;49;00m\u001b[33mtypedef Generator< \u001b[39;49;00m\u001b[33m'\u001b[39;49;00m + SET + \u001b[33m'\u001b[39;49;00m\u001b[33m > \u001b[39;49;00m\u001b[33m'\u001b[39;49;00m + GENERATOR + \u001b[33m'\u001b[39;49;00m\u001b[33m;\u001b[39;49;00m\u001b[33m\\n\u001b[39;49;00m\u001b[33m'\u001b[39;49;00m)\r\n",
      "                filehandler.write(\u001b[33m'\u001b[39;49;00m\u001b[33m\\t\u001b[39;49;00m\u001b[33m\\t\u001b[39;49;00m\u001b[33mSTATISKIT_STL_API \u001b[39;49;00m\u001b[33m'\u001b[39;49;00m + GENERATOR + \u001b[33m'\u001b[39;49;00m\u001b[33m generator(const \u001b[39;49;00m\u001b[33m'\u001b[39;49;00m + SET + \u001b[33m'\u001b[39;49;00m\u001b[33m& iterable);\u001b[39;49;00m\u001b[33m\\n\u001b[39;49;00m\u001b[33m'\u001b[39;49;00m)\r\n",
      "                filehandler.write(\u001b[33m'\u001b[39;49;00m\u001b[33m\\t\u001b[39;49;00m\u001b[33m\\t\u001b[39;49;00m\u001b[33mSTATISKIT_STL_API bool insert(\u001b[39;49;00m\u001b[33m'\u001b[39;49;00m + SET + \u001b[33m'\u001b[39;49;00m\u001b[33m& iterable, const \u001b[39;49;00m\u001b[33m'\u001b[39;49;00m + T + \u001b[33m'\u001b[39;49;00m\u001b[33m& value);\u001b[39;49;00m\u001b[33m\\n\u001b[39;49;00m\u001b[33m'\u001b[39;49;00m)\r\n",
      "            \u001b[34melse\u001b[39;49;00m:\r\n",
      "                SET = \u001b[33m'\u001b[39;49;00m\u001b[33mSet\u001b[39;49;00m\u001b[33m'\u001b[39;49;00m + sort.capitalize() + capitalize(T)\r\n",
      "                filehandler.write(\u001b[33m'\u001b[39;49;00m\u001b[33m\\t\u001b[39;49;00m\u001b[33m\\t\u001b[39;49;00m\u001b[33mtypedef std::set< \u001b[39;49;00m\u001b[33m'\u001b[39;49;00m + T + \u001b[33m'\u001b[39;49;00m\u001b[33m, std::\u001b[39;49;00m\u001b[33m'\u001b[39;49;00m + sort + \u001b[33m'\u001b[39;49;00m\u001b[33m< \u001b[39;49;00m\u001b[33m'\u001b[39;49;00m + T + \u001b[33m'\u001b[39;49;00m\u001b[33m >, std::allocator< \u001b[39;49;00m\u001b[33m'\u001b[39;49;00m + T + \u001b[33m'\u001b[39;49;00m\u001b[33m > > \u001b[39;49;00m\u001b[33m'\u001b[39;49;00m + SET + \u001b[33m'\u001b[39;49;00m\u001b[33m;\u001b[39;49;00m\u001b[33m\\n\u001b[39;49;00m\u001b[33m'\u001b[39;49;00m)\r\n",
      "                GENERATOR = SET + \u001b[33m'\u001b[39;49;00m\u001b[33mGenerator\u001b[39;49;00m\u001b[33m'\u001b[39;49;00m\r\n",
      "                filehandler.write(\u001b[33m'\u001b[39;49;00m\u001b[33m\\t\u001b[39;49;00m\u001b[33m\\t\u001b[39;49;00m\u001b[33mtypedef Generator< \u001b[39;49;00m\u001b[33m'\u001b[39;49;00m + SET + \u001b[33m'\u001b[39;49;00m\u001b[33m > \u001b[39;49;00m\u001b[33m'\u001b[39;49;00m + GENERATOR + \u001b[33m'\u001b[39;49;00m\u001b[33m;\u001b[39;49;00m\u001b[33m\\n\u001b[39;49;00m\u001b[33m'\u001b[39;49;00m)\r\n",
      "                filehandler.write(\u001b[33m'\u001b[39;49;00m\u001b[33m\\t\u001b[39;49;00m\u001b[33m\\t\u001b[39;49;00m\u001b[33mSTATISKIT_STL_API \u001b[39;49;00m\u001b[33m'\u001b[39;49;00m + GENERATOR + \u001b[33m'\u001b[39;49;00m\u001b[33m generator(const \u001b[39;49;00m\u001b[33m'\u001b[39;49;00m + SET + \u001b[33m'\u001b[39;49;00m\u001b[33m& iterable);\u001b[39;49;00m\u001b[33m\\n\u001b[39;49;00m\u001b[33m'\u001b[39;49;00m)\r\n",
      "                filehandler.write(\u001b[33m'\u001b[39;49;00m\u001b[33m\\t\u001b[39;49;00m\u001b[33m\\t\u001b[39;49;00m\u001b[33mSTATISKIT_STL_API bool insert(\u001b[39;49;00m\u001b[33m'\u001b[39;49;00m + SET + \u001b[33m'\u001b[39;49;00m\u001b[33m& iterable, const \u001b[39;49;00m\u001b[33m'\u001b[39;49;00m + T + \u001b[33m'\u001b[39;49;00m\u001b[33m& value);\u001b[39;49;00m\u001b[33m\\n\u001b[39;49;00m\u001b[33m'\u001b[39;49;00m)\r\n",
      "    filehandler.write(\u001b[33m'\u001b[39;49;00m\u001b[33m\\n\u001b[39;49;00m\u001b[33m'\u001b[39;49;00m)\r\n",
      "    filehandler.write(\u001b[33m'\u001b[39;49;00m\u001b[33m\\t\u001b[39;49;00m\u001b[33m}\u001b[39;49;00m\u001b[33m\\n\u001b[39;49;00m\u001b[33m}\u001b[39;49;00m\u001b[33m\\n\u001b[39;49;00m\u001b[33m\\n\u001b[39;49;00m\u001b[33m\\n\u001b[39;49;00m\u001b[33m#endif\u001b[39;49;00m\u001b[33m'\u001b[39;49;00m)\r\n",
      "\r\n",
      "\u001b[34mwith\u001b[39;49;00m \u001b[36mopen\u001b[39;49;00m(\u001b[33m'\u001b[39;49;00m\u001b[33mSTL.cpp\u001b[39;49;00m\u001b[33m'\u001b[39;49;00m, \u001b[33m'\u001b[39;49;00m\u001b[33mw\u001b[39;49;00m\u001b[33m'\u001b[39;49;00m) \u001b[34mas\u001b[39;49;00m filehandler:\r\n",
      "    filehandler.write(\u001b[33m'\u001b[39;49;00m\u001b[33m#include \u001b[39;49;00m\u001b[33m\"\u001b[39;49;00m\u001b[33mSTL.h\u001b[39;49;00m\u001b[33m\"\u001b[39;49;00m\u001b[33m\\n\u001b[39;49;00m\u001b[33m\\n\u001b[39;49;00m\u001b[33mnamespace statiskit\u001b[39;49;00m\u001b[33m\\n\u001b[39;49;00m\u001b[33m{\u001b[39;49;00m\u001b[33m\\n\u001b[39;49;00m\u001b[33m\\t\u001b[39;49;00m\u001b[33mnamespace stl\u001b[39;49;00m\u001b[33m\\n\u001b[39;49;00m\u001b[33m\\t\u001b[39;49;00m\u001b[33m{\u001b[39;49;00m\u001b[33m\\n\u001b[39;49;00m\u001b[33m'\u001b[39;49;00m)\r\n",
      "    \u001b[34mfor\u001b[39;49;00m sort \u001b[35min\u001b[39;49;00m SETS:\r\n",
      "        \u001b[34mfor\u001b[39;49;00m T \u001b[35min\u001b[39;49;00m SETS[sort]:\r\n",
      "            \u001b[34mif\u001b[39;49;00m sort == \u001b[33m'\u001b[39;49;00m\u001b[33mnone\u001b[39;49;00m\u001b[33m'\u001b[39;49;00m:\r\n",
      "                sort = \u001b[33m'\u001b[39;49;00m\u001b[33m'\u001b[39;49;00m\r\n",
      "            SET = \u001b[33m'\u001b[39;49;00m\u001b[33mSet\u001b[39;49;00m\u001b[33m'\u001b[39;49;00m + sort.capitalize() + capitalize(T)\r\n",
      "            GENERATOR = SET + \u001b[33m'\u001b[39;49;00m\u001b[33mGenerator\u001b[39;49;00m\u001b[33m'\u001b[39;49;00m\r\n",
      "            filehandler.write(\u001b[33m'\u001b[39;49;00m\u001b[33m\\t\u001b[39;49;00m\u001b[33m\\t\u001b[39;49;00m\u001b[33m'\u001b[39;49;00m + GENERATOR +\u001b[33m'\u001b[39;49;00m\u001b[33m generator(const \u001b[39;49;00m\u001b[33m'\u001b[39;49;00m + SET + \u001b[33m'\u001b[39;49;00m\u001b[33m& iterable)\u001b[39;49;00m\u001b[33m\\n\u001b[39;49;00m\u001b[33m'\u001b[39;49;00m)\r\n",
      "            filehandler.write(\u001b[33m'\u001b[39;49;00m\u001b[33m\\t\u001b[39;49;00m\u001b[33m\\t\u001b[39;49;00m\u001b[33m{ return \u001b[39;49;00m\u001b[33m'\u001b[39;49;00m + GENERATOR + \u001b[33m'\u001b[39;49;00m\u001b[33m(iterable); }\u001b[39;49;00m\u001b[33m\\n\u001b[39;49;00m\u001b[33m\\n\u001b[39;49;00m\u001b[33m'\u001b[39;49;00m)\r\n",
      "            filehandler.write(\u001b[33m'\u001b[39;49;00m\u001b[33m\\t\u001b[39;49;00m\u001b[33m\\t\u001b[39;49;00m\u001b[33mbool insert(\u001b[39;49;00m\u001b[33m'\u001b[39;49;00m + SET + \u001b[33m'\u001b[39;49;00m\u001b[33m& iterable, const \u001b[39;49;00m\u001b[33m'\u001b[39;49;00m + T + \u001b[33m'\u001b[39;49;00m\u001b[33m& value)\u001b[39;49;00m\u001b[33m\\n\u001b[39;49;00m\u001b[33m'\u001b[39;49;00m)\r\n",
      "            filehandler.write(\u001b[33m'\u001b[39;49;00m\u001b[33m\\t\u001b[39;49;00m\u001b[33m\\t\u001b[39;49;00m\u001b[33m{ return iterable.insert(value).second; }\u001b[39;49;00m\u001b[33m\\n\u001b[39;49;00m\u001b[33m\\n\u001b[39;49;00m\u001b[33m'\u001b[39;49;00m)\r\n",
      "    filehandler.write(\u001b[33m'\u001b[39;49;00m\u001b[33m\\t\u001b[39;49;00m\u001b[33m}\u001b[39;49;00m\u001b[33m\\n\u001b[39;49;00m\u001b[33m}\u001b[39;49;00m\u001b[33m'\u001b[39;49;00m)\r\n",
      "\r\n",
      "\u001b[34mfrom\u001b[39;49;00m \u001b[04m\u001b[36mSCons.Errors\u001b[39;49;00m \u001b[34mimport\u001b[39;49;00m \u001b[36mEnvironmentError\u001b[39;49;00m\r\n",
      "\r\n",
      "Import(\u001b[33m\"\u001b[39;49;00m\u001b[33menv\u001b[39;49;00m\u001b[33m\"\u001b[39;49;00m)\r\n",
      "\r\n",
      "cppenv = env.Clone(tools = [\u001b[33m'\u001b[39;49;00m\u001b[33mcpp\u001b[39;49;00m\u001b[33m'\u001b[39;49;00m])\r\n",
      "\r\n",
      "cppenv.AppendUnique(CPPDEFINES = [\u001b[33m'\u001b[39;49;00m\u001b[33mLIBSTATISKIT_STL\u001b[39;49;00m\u001b[33m'\u001b[39;49;00m])\r\n",
      "exclude = \u001b[33m\"\"\"\u001b[39;49;00m\u001b[33m\u001b[39;49;00m\r\n",
      "\u001b[33m\"\"\"\u001b[39;49;00m.split()\r\n",
      "\r\n",
      "sources = [source \u001b[34mfor\u001b[39;49;00m source \u001b[35min\u001b[39;49;00m cppenv.Glob(\u001b[33m'\u001b[39;49;00m\u001b[33m*.h*\u001b[39;49;00m\u001b[33m'\u001b[39;49;00m) \u001b[34mif\u001b[39;49;00m \u001b[35mnot\u001b[39;49;00m source.name \u001b[35min\u001b[39;49;00m exclude]\r\n",
      "targets = cppenv.CppDev([\u001b[33m\"\u001b[39;49;00m\u001b[33mstatiskit\u001b[39;49;00m\u001b[33m\"\u001b[39;49;00m, \u001b[33m\"\u001b[39;49;00m\u001b[33mstl\u001b[39;49;00m\u001b[33m\"\u001b[39;49;00m], sources)\r\n",
      "Alias(\u001b[33m\"\u001b[39;49;00m\u001b[33mcpp-dev\u001b[39;49;00m\u001b[33m\"\u001b[39;49;00m, targets)\r\n",
      "Alias(\u001b[33m\"\u001b[39;49;00m\u001b[33mcpp\u001b[39;49;00m\u001b[33m\"\u001b[39;49;00m, targets)\r\n",
      "Alias(\u001b[33m\"\u001b[39;49;00m\u001b[33mautowig\u001b[39;49;00m\u001b[33m\"\u001b[39;49;00m, targets)\r\n",
      "Alias(\u001b[33m\"\u001b[39;49;00m\u001b[33minstall\u001b[39;49;00m\u001b[33m\"\u001b[39;49;00m, targets)\r\n",
      "\r\n",
      "wigenv = cppenv.Clone(tools = [\u001b[33m'\u001b[39;49;00m\u001b[33mpybind11_wig\u001b[39;49;00m\u001b[33m'\u001b[39;49;00m])\r\n",
      "targets = wigenv.PyBind11WIG(\u001b[33m'\u001b[39;49;00m\u001b[33mstatiskit_stl\u001b[39;49;00m\u001b[33m'\u001b[39;49;00m, [target \u001b[34mfor\u001b[39;49;00m target \u001b[35min\u001b[39;49;00m targets \u001b[34mif\u001b[39;49;00m target.name.endswith(\u001b[33m'\u001b[39;49;00m\u001b[33m.h\u001b[39;49;00m\u001b[33m'\u001b[39;49;00m)],\r\n",
      "                                module=\u001b[33m'\u001b[39;49;00m\u001b[33m../py/wrapper/_stl.cpp\u001b[39;49;00m\u001b[33m'\u001b[39;49;00m,\r\n",
      "                                decorator=\u001b[33m'\u001b[39;49;00m\u001b[33m../py/statiskit/stl/_stl.py\u001b[39;49;00m\u001b[33m'\u001b[39;49;00m,\r\n",
      "                                parser_bootstrap=\u001b[34m1\u001b[39;49;00m,\r\n",
      "                                controller=\u001b[33m'\u001b[39;49;00m\u001b[33mAutoWIG.py\u001b[39;49;00m\u001b[33m'\u001b[39;49;00m,\r\n",
      "                                depends=[])\r\n",
      "Alias(\u001b[33m\"\u001b[39;49;00m\u001b[33mautowig\u001b[39;49;00m\u001b[33m\"\u001b[39;49;00m, targets)\r\n",
      "wigenv.Depends(targets, \u001b[33m\"\u001b[39;49;00m\u001b[33mcpp-dev\u001b[39;49;00m\u001b[33m\"\u001b[39;49;00m)\r\n",
      "\r\n",
      "exclude = \u001b[33m\"\"\"\u001b[39;49;00m\u001b[33m\u001b[39;49;00m\r\n",
      "\u001b[33m\"\"\"\u001b[39;49;00m.split()\r\n",
      "\r\n",
      "sources = [source \u001b[34mfor\u001b[39;49;00m source \u001b[35min\u001b[39;49;00m cppenv.Glob(\u001b[33m'\u001b[39;49;00m\u001b[33m*.cpp\u001b[39;49;00m\u001b[33m'\u001b[39;49;00m) \u001b[34mif\u001b[39;49;00m \u001b[35mnot\u001b[39;49;00m source.name \u001b[35min\u001b[39;49;00m exclude]\r\n",
      "targets = cppenv.CppLib(\u001b[33m\"\u001b[39;49;00m\u001b[33mstatiskit_stl\u001b[39;49;00m\u001b[33m\"\u001b[39;49;00m, sources)\r\n",
      "Alias(\u001b[33m\"\u001b[39;49;00m\u001b[33mcpp-lib\u001b[39;49;00m\u001b[33m\"\u001b[39;49;00m, targets)\r\n",
      "Alias(\u001b[33m\"\u001b[39;49;00m\u001b[33mcpp\u001b[39;49;00m\u001b[33m\"\u001b[39;49;00m, targets)\r\n",
      "Alias(\u001b[33m\"\u001b[39;49;00m\u001b[33minstall\u001b[39;49;00m\u001b[33m\"\u001b[39;49;00m, targets)\r\n"
     ]
    }
   ],
   "source": [
    "SCONSCRIPT = os.path.join(GIT_ROOT, 'src', 'cpp', 'SConscript')\n",
    "!pygmentize {SCONSCRIPT}"
   ]
  },
  {
   "cell_type": "markdown",
   "metadata": {},
   "source": [
    "The controller is registered in the `../git/STL/src/cpp/AutoWIG.py` file"
   ]
  },
  {
   "cell_type": "code",
   "execution_count": 5,
   "metadata": {},
   "outputs": [
    {
     "name": "stdout",
     "output_type": "stream",
     "text": [
      "\u001b[34mdef\u001b[39;49;00m \u001b[32mcontroller\u001b[39;49;00m(asg, library=\u001b[36mTrue\u001b[39;49;00m, **kwargs):\r\n",
      "    \u001b[34mimport\u001b[39;49;00m \u001b[04m\u001b[36mautowig\u001b[39;49;00m\r\n",
      "    \u001b[34mfrom\u001b[39;49;00m \u001b[04m\u001b[36mautowig.asg\u001b[39;49;00m \u001b[34mimport\u001b[39;49;00m TemplateSpecializationProxy\r\n",
      "    autowig.controller.plugin = \u001b[33m'\u001b[39;49;00m\u001b[33mdefault\u001b[39;49;00m\u001b[33m'\u001b[39;49;00m\r\n",
      "    asg = autowig.controller(asg, clean=\u001b[36mFalse\u001b[39;49;00m, **kwargs)\r\n",
      "    \u001b[34mif\u001b[39;49;00m library:\r\n",
      "        \u001b[34mfor\u001b[39;49;00m function \u001b[35min\u001b[39;49;00m asg[\u001b[33m'\u001b[39;49;00m\u001b[33m::statiskit::stl\u001b[39;49;00m\u001b[33m'\u001b[39;49;00m].functions():\r\n",
      "            \u001b[34mif\u001b[39;49;00m function.localname \u001b[35min\u001b[39;49;00m [\u001b[33m'\u001b[39;49;00m\u001b[33mgenerator\u001b[39;49;00m\u001b[33m'\u001b[39;49;00m, \u001b[33m'\u001b[39;49;00m\u001b[33minsert\u001b[39;49;00m\u001b[33m'\u001b[39;49;00m]:\r\n",
      "                parameter = function.parameters[\u001b[34m0\u001b[39;49;00m].qualified_type.desugared_type\r\n",
      "                \u001b[34mif\u001b[39;49;00m parameter.is_class:\r\n",
      "                    function.parent = parameter.unqualified_type\r\n",
      "        \u001b[34mfor\u001b[39;49;00m mtd \u001b[35min\u001b[39;49;00m asg[\u001b[33m'\u001b[39;49;00m\u001b[33m::statiskit::stl::String\u001b[39;49;00m\u001b[33m'\u001b[39;49;00m].qualified_type.desugared_type.unqualified_type.methods():\r\n",
      "            mtd.pybind11_export = \u001b[36mFalse\u001b[39;49;00m\r\n",
      "    \u001b[34mif\u001b[39;49;00m \u001b[33m'\u001b[39;49;00m\u001b[33mclass ::std::vector\u001b[39;49;00m\u001b[33m'\u001b[39;49;00m \u001b[35min\u001b[39;49;00m asg:\r\n",
      "        \u001b[34mfor\u001b[39;49;00m \u001b[36mcls\u001b[39;49;00m \u001b[35min\u001b[39;49;00m asg[\u001b[33m'\u001b[39;49;00m\u001b[33mclass ::std::vector\u001b[39;49;00m\u001b[33m'\u001b[39;49;00m].specializations(partial=\u001b[36mFalse\u001b[39;49;00m):\r\n",
      "            \u001b[34mfor\u001b[39;49;00m method \u001b[35min\u001b[39;49;00m \u001b[36mcls\u001b[39;49;00m.methods():\r\n",
      "                \u001b[34mif\u001b[39;49;00m method.localname \u001b[35min\u001b[39;49;00m [\u001b[33m'\u001b[39;49;00m\u001b[33mresize\u001b[39;49;00m\u001b[33m'\u001b[39;49;00m, \u001b[33m'\u001b[39;49;00m\u001b[33mshrink_to_fit\u001b[39;49;00m\u001b[33m'\u001b[39;49;00m, \u001b[33m'\u001b[39;49;00m\u001b[33moperator[]\u001b[39;49;00m\u001b[33m'\u001b[39;49;00m]:\r\n",
      "                    \u001b[34mif\u001b[39;49;00m \u001b[36misinstance\u001b[39;49;00m(method.pybind11_export, \u001b[36mbool\u001b[39;49;00m):\r\n",
      "                        method.pybind11_export = \u001b[36mFalse\u001b[39;49;00m\r\n",
      "            \u001b[34mfor\u001b[39;49;00m constructor \u001b[35min\u001b[39;49;00m \u001b[36mcls\u001b[39;49;00m.constructors():\r\n",
      "                \u001b[34mif\u001b[39;49;00m \u001b[35mnot\u001b[39;49;00m(constructor.nb_parameters == \u001b[34m0\u001b[39;49;00m \u001b[35mor\u001b[39;49;00m constructor.nb_parameters == \u001b[34m1\u001b[39;49;00m \u001b[35mand\u001b[39;49;00m constructor.parameters[\u001b[34m0\u001b[39;49;00m].qualified_type.unqualified_type == \u001b[36mcls\u001b[39;49;00m):\r\n",
      "                    \u001b[34mif\u001b[39;49;00m \u001b[36misinstance\u001b[39;49;00m(constructor.pybind11_export, \u001b[36mbool\u001b[39;49;00m):\r\n",
      "                        constructor.pybind11_export = \u001b[36mFalse\u001b[39;49;00m\r\n",
      "    \u001b[34mif\u001b[39;49;00m \u001b[33m'\u001b[39;49;00m\u001b[33mclass ::std::set\u001b[39;49;00m\u001b[33m'\u001b[39;49;00m \u001b[35min\u001b[39;49;00m asg:\r\n",
      "        \u001b[34mfor\u001b[39;49;00m \u001b[36mcls\u001b[39;49;00m \u001b[35min\u001b[39;49;00m asg[\u001b[33m'\u001b[39;49;00m\u001b[33mclass ::std::set\u001b[39;49;00m\u001b[33m'\u001b[39;49;00m].specializations(partial=\u001b[36mFalse\u001b[39;49;00m):\r\n",
      "            \u001b[34mfor\u001b[39;49;00m method \u001b[35min\u001b[39;49;00m \u001b[36mcls\u001b[39;49;00m.methods():\r\n",
      "                \u001b[34mif\u001b[39;49;00m method.localname \u001b[35min\u001b[39;49;00m [\u001b[33m'\u001b[39;49;00m\u001b[33mswap\u001b[39;49;00m\u001b[33m'\u001b[39;49;00m, \u001b[33m'\u001b[39;49;00m\u001b[33mkey_comp\u001b[39;49;00m\u001b[33m'\u001b[39;49;00m, \u001b[33m'\u001b[39;49;00m\u001b[33mvalue_comp\u001b[39;49;00m\u001b[33m'\u001b[39;49;00m, \u001b[33m'\u001b[39;49;00m\u001b[33mget_allocator\u001b[39;49;00m\u001b[33m'\u001b[39;49;00m]:\r\n",
      "                    \u001b[34mif\u001b[39;49;00m \u001b[36misinstance\u001b[39;49;00m(method.pybind11_export, \u001b[36mbool\u001b[39;49;00m):\r\n",
      "                        method.pybind11_export = \u001b[36mFalse\u001b[39;49;00m\r\n",
      "            \u001b[34mfor\u001b[39;49;00m constructor \u001b[35min\u001b[39;49;00m \u001b[36mcls\u001b[39;49;00m.constructors():\r\n",
      "                \u001b[34mif\u001b[39;49;00m \u001b[35mnot\u001b[39;49;00m(constructor.nb_parameters == \u001b[34m0\u001b[39;49;00m \u001b[35mor\u001b[39;49;00m constructor.nb_parameters == \u001b[34m1\u001b[39;49;00m \u001b[35mand\u001b[39;49;00m constructor.parameters[\u001b[34m0\u001b[39;49;00m].qualified_type.unqualified_type == \u001b[36mcls\u001b[39;49;00m):\r\n",
      "                    \u001b[34mif\u001b[39;49;00m \u001b[36misinstance\u001b[39;49;00m(constructor.pybind11_export, \u001b[36mbool\u001b[39;49;00m):\r\n",
      "                        constructor.pybind11_export = \u001b[36mFalse\u001b[39;49;00m\r\n",
      "    \u001b[34mif\u001b[39;49;00m \u001b[33m'\u001b[39;49;00m\u001b[33mclass ::std::less\u001b[39;49;00m\u001b[33m'\u001b[39;49;00m \u001b[35min\u001b[39;49;00m asg:\r\n",
      "        \u001b[34mfor\u001b[39;49;00m \u001b[36mcls\u001b[39;49;00m \u001b[35min\u001b[39;49;00m asg[\u001b[33m'\u001b[39;49;00m\u001b[33mclass ::std::less\u001b[39;49;00m\u001b[33m'\u001b[39;49;00m].specializations(partial=\u001b[36mFalse\u001b[39;49;00m):\r\n",
      "            \u001b[36mcls\u001b[39;49;00m.pybind11_export = \u001b[36mFalse\u001b[39;49;00m\r\n",
      "    \u001b[34mif\u001b[39;49;00m \u001b[33m'\u001b[39;49;00m\u001b[33mclass ::std::equal_to\u001b[39;49;00m\u001b[33m'\u001b[39;49;00m \u001b[35min\u001b[39;49;00m asg:\r\n",
      "        \u001b[34mfor\u001b[39;49;00m \u001b[36mcls\u001b[39;49;00m \u001b[35min\u001b[39;49;00m asg[\u001b[33m'\u001b[39;49;00m\u001b[33mclass ::std::equal_to\u001b[39;49;00m\u001b[33m'\u001b[39;49;00m].specializations(partial=\u001b[36mFalse\u001b[39;49;00m):\r\n",
      "            \u001b[36mcls\u001b[39;49;00m.pybind11_export = \u001b[36mFalse\u001b[39;49;00m\r\n",
      "    \u001b[34mif\u001b[39;49;00m \u001b[33m'\u001b[39;49;00m\u001b[33mclass ::std::hash\u001b[39;49;00m\u001b[33m'\u001b[39;49;00m \u001b[35min\u001b[39;49;00m asg:\r\n",
      "        \u001b[34mfor\u001b[39;49;00m \u001b[36mcls\u001b[39;49;00m \u001b[35min\u001b[39;49;00m asg[\u001b[33m'\u001b[39;49;00m\u001b[33mclass ::std::hash\u001b[39;49;00m\u001b[33m'\u001b[39;49;00m].specializations(partial=\u001b[36mFalse\u001b[39;49;00m):\r\n",
      "            \u001b[36mcls\u001b[39;49;00m.pybind11_export = \u001b[36mFalse\u001b[39;49;00m\r\n",
      "    \u001b[34mif\u001b[39;49;00m \u001b[33m'\u001b[39;49;00m\u001b[33mclass ::std::char_traits\u001b[39;49;00m\u001b[33m'\u001b[39;49;00m \u001b[35min\u001b[39;49;00m asg:\r\n",
      "        \u001b[34mfor\u001b[39;49;00m \u001b[36mcls\u001b[39;49;00m \u001b[35min\u001b[39;49;00m asg[\u001b[33m'\u001b[39;49;00m\u001b[33mclass ::std::char_traits\u001b[39;49;00m\u001b[33m'\u001b[39;49;00m].specializations(partial=\u001b[36mFalse\u001b[39;49;00m):\r\n",
      "            \u001b[34mfor\u001b[39;49;00m mtd \u001b[35min\u001b[39;49;00m \u001b[36mcls\u001b[39;49;00m.methods(access=\u001b[33m'\u001b[39;49;00m\u001b[33mpublic\u001b[39;49;00m\u001b[33m'\u001b[39;49;00m):\r\n",
      "                \u001b[36mcls\u001b[39;49;00m.pybind11_export = \u001b[36mFalse\u001b[39;49;00m\r\n",
      "    \u001b[34mif\u001b[39;49;00m \u001b[33m'\u001b[39;49;00m\u001b[33mclass ::std::allocator\u001b[39;49;00m\u001b[33m'\u001b[39;49;00m \u001b[35min\u001b[39;49;00m asg:\r\n",
      "        \u001b[34mfor\u001b[39;49;00m \u001b[36mcls\u001b[39;49;00m \u001b[35min\u001b[39;49;00m asg[\u001b[33m'\u001b[39;49;00m\u001b[33mclass ::std::allocator\u001b[39;49;00m\u001b[33m'\u001b[39;49;00m].specializations(partial=\u001b[36mFalse\u001b[39;49;00m):\r\n",
      "            \u001b[36mcls\u001b[39;49;00m.pybind11_export = \u001b[36mFalse\u001b[39;49;00m\r\n",
      "    \u001b[34mif\u001b[39;49;00m \u001b[33m'\u001b[39;49;00m\u001b[33mclass ::std::reverse_iterator\u001b[39;49;00m\u001b[33m'\u001b[39;49;00m \u001b[35min\u001b[39;49;00m asg:\r\n",
      "        \u001b[34mfor\u001b[39;49;00m \u001b[36mcls\u001b[39;49;00m \u001b[35min\u001b[39;49;00m asg[\u001b[33m'\u001b[39;49;00m\u001b[33mclass ::std::reverse_iterator\u001b[39;49;00m\u001b[33m'\u001b[39;49;00m].specializations(partial=\u001b[36mFalse\u001b[39;49;00m):\r\n",
      "            \u001b[36mcls\u001b[39;49;00m.pybind11_export = \u001b[36mFalse\u001b[39;49;00m\r\n",
      "    \u001b[34mif\u001b[39;49;00m \u001b[33m'\u001b[39;49;00m\u001b[33mclass ::std::initializer_list\u001b[39;49;00m\u001b[33m'\u001b[39;49;00m \u001b[35min\u001b[39;49;00m asg:\r\n",
      "        \u001b[34mfor\u001b[39;49;00m \u001b[36mcls\u001b[39;49;00m \u001b[35min\u001b[39;49;00m asg[\u001b[33m'\u001b[39;49;00m\u001b[33mclass ::std::initializer_list\u001b[39;49;00m\u001b[33m'\u001b[39;49;00m].specializations(partial=\u001b[36mFalse\u001b[39;49;00m):\r\n",
      "            \u001b[36mcls\u001b[39;49;00m.pybind11_export = \u001b[36mFalse\u001b[39;49;00m\r\n",
      "    \u001b[34mif\u001b[39;49;00m \u001b[33m'\u001b[39;49;00m\u001b[33mclass ::std::default_delete\u001b[39;49;00m\u001b[33m'\u001b[39;49;00m \u001b[35min\u001b[39;49;00m asg:\r\n",
      "        \u001b[34mfor\u001b[39;49;00m \u001b[36mcls\u001b[39;49;00m \u001b[35min\u001b[39;49;00m asg[\u001b[33m'\u001b[39;49;00m\u001b[33mclass ::std::default_delete\u001b[39;49;00m\u001b[33m'\u001b[39;49;00m].specializations(partial=\u001b[36mFalse\u001b[39;49;00m):\r\n",
      "            \u001b[36mcls\u001b[39;49;00m.pybind11_export = \u001b[36mFalse\u001b[39;49;00m\r\n",
      "    \u001b[34mif\u001b[39;49;00m \u001b[33m'\u001b[39;49;00m\u001b[33mclass ::std::move_iterator\u001b[39;49;00m\u001b[33m'\u001b[39;49;00m \u001b[35min\u001b[39;49;00m asg:\r\n",
      "       \u001b[34mfor\u001b[39;49;00m \u001b[36mcls\u001b[39;49;00m \u001b[35min\u001b[39;49;00m asg[\u001b[33m'\u001b[39;49;00m\u001b[33mclass ::std::move_iterator\u001b[39;49;00m\u001b[33m'\u001b[39;49;00m].specializations(partial=\u001b[36mFalse\u001b[39;49;00m):\r\n",
      "        \u001b[36mcls\u001b[39;49;00m.pybind11_export = \u001b[36mFalse\u001b[39;49;00m\r\n",
      "    \u001b[34mfor\u001b[39;49;00m supercls \u001b[35min\u001b[39;49;00m [\u001b[33m'\u001b[39;49;00m\u001b[33mclass ::std::_Rb_tree_const_iterator\u001b[39;49;00m\u001b[33m'\u001b[39;49;00m, \u001b[33m'\u001b[39;49;00m\u001b[33mclass ::std::_Rb_tree_iterator\u001b[39;49;00m\u001b[33m'\u001b[39;49;00m,\r\n",
      "                     \u001b[33m'\u001b[39;49;00m\u001b[33mclass ::std::__detail::_Node_const_iterator\u001b[39;49;00m\u001b[33m'\u001b[39;49;00m, \u001b[33m'\u001b[39;49;00m\u001b[33mclass ::std::__detail::_Node_iterator\u001b[39;49;00m\u001b[33m'\u001b[39;49;00m]:\r\n",
      "        \u001b[34mif\u001b[39;49;00m supercls \u001b[35min\u001b[39;49;00m asg:\r\n",
      "            \u001b[34mfor\u001b[39;49;00m \u001b[36mcls\u001b[39;49;00m \u001b[35min\u001b[39;49;00m asg[supercls].specializations(partial=\u001b[36mFalse\u001b[39;49;00m):\r\n",
      "                \u001b[36mcls\u001b[39;49;00m.pybind11_export = \u001b[36mFalse\u001b[39;49;00m\r\n",
      "            \u001b[34mfor\u001b[39;49;00m \u001b[36mcls\u001b[39;49;00m \u001b[35min\u001b[39;49;00m asg.classes(templated=\u001b[36mFalse\u001b[39;49;00m, specialized=\u001b[36mTrue\u001b[39;49;00m):\r\n",
      "                \u001b[34mfor\u001b[39;49;00m template \u001b[35min\u001b[39;49;00m \u001b[36mcls\u001b[39;49;00m.templates:\r\n",
      "                    \u001b[34mtry\u001b[39;49;00m:\r\n",
      "                        template = template.desugared_type.unqualified_type\r\n",
      "                        \u001b[34mif\u001b[39;49;00m \u001b[36misinstance\u001b[39;49;00m(template, TemplateSpecializationProxy) \u001b[35mand\u001b[39;49;00m template.specialize.globalname == supercls:\r\n",
      "                            \u001b[36mcls\u001b[39;49;00m.pybind11_export = \u001b[36mFalse\u001b[39;49;00m \r\n",
      "                    \u001b[34mexcept\u001b[39;49;00m:\r\n",
      "                        \u001b[34mpass\u001b[39;49;00m\r\n",
      "    \u001b[34mreturn\u001b[39;49;00m asg\r\n",
      "\r\n",
      "\r\n",
      "\u001b[34mdef\u001b[39;49;00m \u001b[32mgenerator\u001b[39;49;00m(asg, module, decorator):\r\n",
      "    \u001b[34mimport\u001b[39;49;00m \u001b[04m\u001b[36mautowig\u001b[39;49;00m\r\n",
      "    \u001b[34mimport\u001b[39;49;00m \u001b[04m\u001b[36mitertools\u001b[39;49;00m\r\n",
      "    autowig.generator.plugin = \u001b[33m'\u001b[39;49;00m\u001b[33mpybind11\u001b[39;49;00m\u001b[33m'\u001b[39;49;00m\r\n",
      "    nodes = [typedef.qualified_type.unqualified_type \u001b[34mfor\u001b[39;49;00m typedef \u001b[35min\u001b[39;49;00m asg[\u001b[33m'\u001b[39;49;00m\u001b[33m::statiskit::stl\u001b[39;49;00m\u001b[33m'\u001b[39;49;00m].typedefs()] + asg[\u001b[33m'\u001b[39;49;00m\u001b[33mclass ::std::basic_string\u001b[39;49;00m\u001b[33m'\u001b[39;49;00m].specializations(partial=\u001b[36mFalse\u001b[39;49;00m)\r\n",
      "    nodes = \u001b[36mlist\u001b[39;49;00m(itertools.chain(*[node.bases(inherited=\u001b[36mTrue\u001b[39;49;00m) \u001b[34mfor\u001b[39;49;00m node \u001b[35min\u001b[39;49;00m nodes])) + nodes + asg[\u001b[33m'\u001b[39;49;00m\u001b[33m::statiskit::stl\u001b[39;49;00m\u001b[33m'\u001b[39;49;00m].declarations()\r\n",
      "    \u001b[34mreturn\u001b[39;49;00m autowig.generator(asg, nodes, module=module,\r\n",
      "                             decorator=decorator,\r\n",
      "                             closure=\u001b[36mFalse\u001b[39;49;00m,\r\n",
      "                             helder=\u001b[33m'\u001b[39;49;00m\u001b[33mstd::shared_ptr\u001b[39;49;00m\u001b[33m'\u001b[39;49;00m)\r\n"
     ]
    }
   ],
   "source": [
    "AUTOWIG = os.path.join(GIT_ROOT, 'src', 'cpp', 'AutoWIG.py')\n",
    "!pygmentize {AUTOWIG}"
   ]
  },
  {
   "cell_type": "markdown",
   "metadata": {},
   "source": [
    "Then, in addition to the **STL** library, the **StatisKit.STL** library has to be installed in order to have access to some functionalities.\n",
    "To do so, we use available **Conda** recipes."
   ]
  },
  {
   "cell_type": "code",
   "execution_count": 6,
   "metadata": {},
   "outputs": [
    {
     "data": {
      "text/plain": [
       "0"
      ]
     },
     "execution_count": 6,
     "metadata": {},
     "output_type": "execute_result"
    }
   ],
   "source": [
    "subprocess.call('conda remove libstatiskit_stl -y', shell=True)\n",
    "SCONSIGN = os.path.join(GIT_ROOT, '.sconsign.dblite')\n",
    "if is_windows:\n",
    "    subprocess.call('del ' + SCONSIGN, shell=True)\n",
    "else:\n",
    "    subprocess.call('rm ' + SCONSIGN, shell=True)\n",
    "CONDA_RECIPE = os.path.join(GIT_ROOT, 'etc', 'conda', 'libstatiskit_stl')\n",
    "subprocess.check_call('conda build ' + CONDA_RECIPE + ' -c statiskit -c defaults --override-channels',\n",
    "                      shell=True)\n",
    "subprocess.check_call('conda install -y libstatiskit_stl --use-local -c statiskit -c defaults --override-channels',\n",
    "                      shell=True)"
   ]
  },
  {
   "cell_type": "markdown",
   "metadata": {},
   "source": [
    "As presented below, in order to wrap a template library, the user needs to write headers containing aliases for desired template class instantiations (see the `../git/STL/src/cpp/STL.h` file)."
   ]
  },
  {
   "cell_type": "code",
   "execution_count": 7,
   "metadata": {
    "scrolled": true
   },
   "outputs": [
    {
     "name": "stdout",
     "output_type": "stream",
     "text": [
      "\u001b[36m#\u001b[39;49;00m\u001b[36mifndef STATISKIT_STL_H\u001b[39;49;00m\u001b[36m\u001b[39;49;00m\r\n",
      "\u001b[36m#\u001b[39;49;00m\u001b[36mdefine STATISKIT_STL_H\u001b[39;49;00m\u001b[36m\u001b[39;49;00m\r\n",
      "\r\n",
      "\u001b[36m#\u001b[39;49;00m\u001b[36minclude\u001b[39;49;00m \u001b[37m<vector>\u001b[39;49;00m\u001b[36m\u001b[39;49;00m\r\n",
      "\u001b[36m#\u001b[39;49;00m\u001b[36minclude\u001b[39;49;00m \u001b[37m<set>\u001b[39;49;00m\u001b[36m\u001b[39;49;00m\r\n",
      "\u001b[36m#\u001b[39;49;00m\u001b[36minclude\u001b[39;49;00m \u001b[37m<unordered_set>\u001b[39;49;00m\u001b[36m\u001b[39;49;00m\r\n",
      "\u001b[36m#\u001b[39;49;00m\u001b[36minclude\u001b[39;49;00m \u001b[37m<string>\u001b[39;49;00m\u001b[36m\u001b[39;49;00m\r\n",
      "\r\n",
      "\u001b[36m#\u001b[39;49;00m\u001b[36mif defined WIN32 || defined _WIN32 || defined __CYGWIN__\u001b[39;49;00m\u001b[36m\u001b[39;49;00m\r\n",
      "    \u001b[36m#\u001b[39;49;00m\u001b[36mifdef LIBSTATISKIT_STL\u001b[39;49;00m\u001b[36m\u001b[39;49;00m\r\n",
      "        \u001b[36m#\u001b[39;49;00m\u001b[36mifdef __GNUC__\u001b[39;49;00m\u001b[36m\u001b[39;49;00m\r\n",
      "            \u001b[36m#\u001b[39;49;00m\u001b[36mdefine STATISKIT_STL_API __attribute__ ((dllexport))\u001b[39;49;00m\u001b[36m\u001b[39;49;00m\r\n",
      "        \u001b[36m#\u001b[39;49;00m\u001b[36melse\u001b[39;49;00m\u001b[36m\u001b[39;49;00m\r\n",
      "            \u001b[36m#\u001b[39;49;00m\u001b[36mdefine STATISKIT_STL_API __declspec(dllexport)\u001b[39;49;00m\u001b[36m\u001b[39;49;00m\r\n",
      "        \u001b[36m#\u001b[39;49;00m\u001b[36mendif\u001b[39;49;00m\u001b[36m\u001b[39;49;00m\r\n",
      "    \u001b[36m#\u001b[39;49;00m\u001b[36melse\u001b[39;49;00m\u001b[36m\u001b[39;49;00m\r\n",
      "        \u001b[36m#\u001b[39;49;00m\u001b[36mifdef __GNUC__\u001b[39;49;00m\u001b[36m\u001b[39;49;00m\r\n",
      "            \u001b[36m#\u001b[39;49;00m\u001b[36mdefine STATISKIT_STL_API __attribute__ ((dllimport))\u001b[39;49;00m\u001b[36m\u001b[39;49;00m\r\n",
      "        \u001b[36m#\u001b[39;49;00m\u001b[36melse\u001b[39;49;00m\u001b[36m\u001b[39;49;00m\r\n",
      "            \u001b[36m#\u001b[39;49;00m\u001b[36mdefine STATISKIT_STL_API __declspec(dllimport)\u001b[39;49;00m\u001b[36m\u001b[39;49;00m\r\n",
      "        \u001b[36m#\u001b[39;49;00m\u001b[36mendif\u001b[39;49;00m\u001b[36m\u001b[39;49;00m\r\n",
      "    \u001b[36m#\u001b[39;49;00m\u001b[36mendif\u001b[39;49;00m\u001b[36m\u001b[39;49;00m\r\n",
      "\u001b[36m#\u001b[39;49;00m\u001b[36melse\u001b[39;49;00m\u001b[36m\u001b[39;49;00m\r\n",
      "    \u001b[36m#\u001b[39;49;00m\u001b[36mif __GNUC__ >= 4\u001b[39;49;00m\u001b[36m\u001b[39;49;00m\r\n",
      "        \u001b[36m#\u001b[39;49;00m\u001b[36mdefine STATISKIT_STL_API __attribute__ ((visibility (\"default\")))\u001b[39;49;00m\u001b[36m\u001b[39;49;00m\r\n",
      "    \u001b[36m#\u001b[39;49;00m\u001b[36melse\u001b[39;49;00m\u001b[36m\u001b[39;49;00m\r\n",
      "        \u001b[36m#\u001b[39;49;00m\u001b[36mdefine STATISKIT_STL_API\u001b[39;49;00m\u001b[36m\u001b[39;49;00m\r\n",
      "    \u001b[36m#\u001b[39;49;00m\u001b[36mendif\u001b[39;49;00m\u001b[36m\u001b[39;49;00m\r\n",
      "\u001b[36m#\u001b[39;49;00m\u001b[36mendif\u001b[39;49;00m\u001b[36m\u001b[39;49;00m\r\n",
      "\r\n",
      "namespace statiskit\r\n",
      "{\r\n",
      "    \u001b[34mtypedef\u001b[39;49;00m \u001b[36msize_t\u001b[39;49;00m Index;\r\n",
      "    \u001b[34mtypedef\u001b[39;49;00m std::set< Index > Indices;\r\n",
      "\r\n",
      "    namespace stl\r\n",
      "    {\r\n",
      "\r\n",
      "        template<class T>\r\n",
      "            class Generator\r\n",
      "            {\r\n",
      "                public:\r\n",
      "                    Generator(\u001b[34mconst\u001b[39;49;00m T& iterable)\r\n",
      "                    { \r\n",
      "                        _cur = iterable.cbegin();\r\n",
      "                        _end = iterable.cend();\r\n",
      "                    }\r\n",
      "\r\n",
      "                    virtual ~Generator()\r\n",
      "                    {}\r\n",
      "\r\n",
      "                    Generator(\u001b[34mconst\u001b[39;49;00m Generator< T >& generator)\r\n",
      "                    { \r\n",
      "                        _cur = generator._cur;\r\n",
      "                        _end = generator._end;\r\n",
      "                    }\r\n",
      "\r\n",
      "                    \u001b[36mbool\u001b[39;49;00m is_valid() \u001b[34mconst\u001b[39;49;00m\r\n",
      "                    { \u001b[34mreturn\u001b[39;49;00m _cur != _end; }\r\n",
      "\r\n",
      "                    Generator< T >& operator++()\r\n",
      "                    { \r\n",
      "                        ++_cur;\r\n",
      "                        \u001b[34mreturn\u001b[39;49;00m *this;\r\n",
      "                    }\r\n",
      "\r\n",
      "                    \u001b[34mtypename\u001b[39;49;00m T::value_type value() \u001b[34mconst\u001b[39;49;00m\r\n",
      "                    { \u001b[34mreturn\u001b[39;49;00m *_cur; }\r\n",
      "\r\n",
      "                protected:\r\n",
      "                    \u001b[34mtypename\u001b[39;49;00m T::const_iterator _cur;\r\n",
      "                    \u001b[34mtypename\u001b[39;49;00m T::const_iterator _end;\r\n",
      "            };\r\n",
      "\r\n",
      "        \u001b[34mtypedef\u001b[39;49;00m std::string String;\r\n",
      "\r\n",
      "\r\n",
      "\t\t\u001b[34mtypedef\u001b[39;49;00m std::vector< Index > VectorIndex;\r\n",
      "\t\t\u001b[34mtypedef\u001b[39;49;00m std::vector< \u001b[36mint\u001b[39;49;00m > VectorInt;\r\n",
      "\t\t\u001b[34mtypedef\u001b[39;49;00m std::vector< \u001b[36mdouble\u001b[39;49;00m > VectorDouble;\r\n",
      "\t\t\u001b[34mtypedef\u001b[39;49;00m std::vector< std::string > VectorString;\r\n",
      "\r\n",
      "\t\t\u001b[34mtypedef\u001b[39;49;00m std::set< Index, std::less< Index >, std::allocator< Index > > SetLessIndex;\r\n",
      "\t\t\u001b[34mtypedef\u001b[39;49;00m Generator< SetLessIndex > SetLessIndexGenerator;\r\n",
      "\t\tSTATISKIT_STL_API SetLessIndexGenerator \u001b[32mgenerator\u001b[39;49;00m(\u001b[34mconst\u001b[39;49;00m SetLessIndex& iterable);\r\n",
      "\t\tSTATISKIT_STL_API \u001b[36mbool\u001b[39;49;00m \u001b[32minsert\u001b[39;49;00m(SetLessIndex& iterable, \u001b[34mconst\u001b[39;49;00m Index& value);\r\n",
      "\t\t\u001b[34mtypedef\u001b[39;49;00m std::set< \u001b[36mint\u001b[39;49;00m, std::less< \u001b[36mint\u001b[39;49;00m >, std::allocator< \u001b[36mint\u001b[39;49;00m > > SetLessInt;\r\n",
      "\t\t\u001b[34mtypedef\u001b[39;49;00m Generator< SetLessInt > SetLessIntGenerator;\r\n",
      "\t\tSTATISKIT_STL_API SetLessIntGenerator \u001b[32mgenerator\u001b[39;49;00m(\u001b[34mconst\u001b[39;49;00m SetLessInt& iterable);\r\n",
      "\t\tSTATISKIT_STL_API \u001b[36mbool\u001b[39;49;00m \u001b[32minsert\u001b[39;49;00m(SetLessInt& iterable, \u001b[34mconst\u001b[39;49;00m \u001b[36mint\u001b[39;49;00m& value);\r\n",
      "\t\t\u001b[34mtypedef\u001b[39;49;00m std::set< \u001b[36mdouble\u001b[39;49;00m, std::less< \u001b[36mdouble\u001b[39;49;00m >, std::allocator< \u001b[36mdouble\u001b[39;49;00m > > SetLessDouble;\r\n",
      "\t\t\u001b[34mtypedef\u001b[39;49;00m Generator< SetLessDouble > SetLessDoubleGenerator;\r\n",
      "\t\tSTATISKIT_STL_API SetLessDoubleGenerator \u001b[32mgenerator\u001b[39;49;00m(\u001b[34mconst\u001b[39;49;00m SetLessDouble& iterable);\r\n",
      "\t\tSTATISKIT_STL_API \u001b[36mbool\u001b[39;49;00m \u001b[32minsert\u001b[39;49;00m(SetLessDouble& iterable, \u001b[34mconst\u001b[39;49;00m \u001b[36mdouble\u001b[39;49;00m& value);\r\n",
      "\t\t\u001b[34mtypedef\u001b[39;49;00m std::set< std::string, std::less< std::string >, std::allocator< std::string > > SetLessString;\r\n",
      "\t\t\u001b[34mtypedef\u001b[39;49;00m Generator< SetLessString > SetLessStringGenerator;\r\n",
      "\t\tSTATISKIT_STL_API SetLessStringGenerator \u001b[32mgenerator\u001b[39;49;00m(\u001b[34mconst\u001b[39;49;00m SetLessString& iterable);\r\n",
      "\t\tSTATISKIT_STL_API \u001b[36mbool\u001b[39;49;00m \u001b[32minsert\u001b[39;49;00m(SetLessString& iterable, \u001b[34mconst\u001b[39;49;00m std::string& value);\r\n",
      "\t\t\u001b[34mtypedef\u001b[39;49;00m std::unordered_set< Index > SetIndex;\r\n",
      "\t\t\u001b[34mtypedef\u001b[39;49;00m Generator< SetIndex > SetIndexGenerator;\r\n",
      "\t\tSTATISKIT_STL_API SetIndexGenerator \u001b[32mgenerator\u001b[39;49;00m(\u001b[34mconst\u001b[39;49;00m SetIndex& iterable);\r\n",
      "\t\tSTATISKIT_STL_API \u001b[36mbool\u001b[39;49;00m \u001b[32minsert\u001b[39;49;00m(SetIndex& iterable, \u001b[34mconst\u001b[39;49;00m Index& value);\r\n",
      "\r\n",
      "\t}\r\n",
      "}\r\n",
      "\r\n",
      "\r\n",
      "\u001b[36m#\u001b[39;49;00m\u001b[36mendif\u001b[39;49;00m\u001b[36m\u001b[39;49;00m\r\n"
     ]
    }
   ],
   "source": [
    "TYPEDEFS = os.path.join(GIT_ROOT, 'src', 'cpp', 'STL.h')\n",
    "!pygmentize {TYPEDEFS}"
   ]
  },
  {
   "cell_type": "markdown",
   "metadata": {},
   "source": [
    "Once these preliminaries are done, we can proceed to the actual generation of wrappers for the **STL** library.\n",
    "To do so, we need then to install the *C++* headers. \n",
    "This is done using the `cpp` target in **SCons**."
   ]
  },
  {
   "cell_type": "code",
   "execution_count": 8,
   "metadata": {},
   "outputs": [
    {
     "data": {
      "text/plain": [
       "0"
      ]
     },
     "execution_count": 8,
     "metadata": {},
     "output_type": "execute_result"
    }
   ],
   "source": [
    "if is_windows:\n",
    "    subprocess.call('del ' + SCONSIGN, shell=True)\n",
    "else:\n",
    "    subprocess.call('rm ' + SCONSIGN, shell=True)\n",
    "subprocess.check_call('scons cpp -C ' + GIT_ROOT, shell=True)"
   ]
  },
  {
   "cell_type": "markdown",
   "metadata": {},
   "source": [
    "Once the headers have been installed in the system, we parse headers with relevant compilation flags.\n",
    "This is done using the `autowig` target in **SCons**."
   ]
  },
  {
   "cell_type": "code",
   "execution_count": 9,
   "metadata": {},
   "outputs": [
    {
     "data": {
      "text/plain": [
       "0"
      ]
     },
     "execution_count": 9,
     "metadata": {},
     "output_type": "execute_result"
    }
   ],
   "source": [
    "if is_windows:\n",
    "    subprocess.call('del ' + SCONSIGN, shell=True)\n",
    "else:\n",
    "    subprocess.call('rm ' + SCONSIGN, shell=True)\n",
    "subprocess.check_call('scons autowig -C ' + GIT_ROOT, shell=True)"
   ]
  },
  {
   "cell_type": "markdown",
   "metadata": {},
   "source": [
    "Here is the list of the generated wrappers (untracked files)."
   ]
  },
  {
   "cell_type": "code",
   "execution_count": 10,
   "metadata": {},
   "outputs": [
    {
     "name": "stdout",
     "output_type": "stream",
     "text": [
      "On branch fp17\r\n",
      "Your branch is up to date with 'origin/fp17'.\r\n",
      "\r\n",
      "Changes not staged for commit:\r\n",
      "  (use \"git add <file>...\" to update what will be committed)\r\n",
      "  (use \"git checkout -- <file>...\" to discard changes in working directory)\r\n",
      "\r\n",
      "\t\u001b[31mmodified:   src/cpp/STL.cpp\u001b[m\r\n",
      "\t\u001b[31mmodified:   src/cpp/STL.h\u001b[m\r\n",
      "\r\n",
      "Untracked files:\r\n",
      "  (use \"git add <file>...\" to include in what will be committed)\r\n",
      "\r\n",
      "\t\u001b[31msrc/py/statiskit/stl/_stl.py\u001b[m\r\n",
      "\t\u001b[31msrc/py/wrapper/_stl.cpp\u001b[m\r\n",
      "\t\u001b[31msrc/py/wrapper/_stl.h\u001b[m\r\n",
      "\t\u001b[31msrc/py/wrapper/wrapper_107131f9768c56e794a9b0de728d1738.cpp\u001b[m\r\n",
      "\t\u001b[31msrc/py/wrapper/wrapper_10b14312eeb655268489cd34090870cf.cpp\u001b[m\r\n",
      "\t\u001b[31msrc/py/wrapper/wrapper_3b59a0980c80518c808634f7a84dc3cd.cpp\u001b[m\r\n",
      "\t\u001b[31msrc/py/wrapper/wrapper_448c20257e485acda59dc59305fceb58.cpp\u001b[m\r\n",
      "\t\u001b[31msrc/py/wrapper/wrapper_476c1c1f206251dba7af53c48f3f6e42.cpp\u001b[m\r\n",
      "\t\u001b[31msrc/py/wrapper/wrapper_6436891c9b6854f494789a812891cbe5.cpp\u001b[m\r\n",
      "\t\u001b[31msrc/py/wrapper/wrapper_6b9ae5eac40858c9a0f5e6e21c15d1d3.cpp\u001b[m\r\n",
      "\t\u001b[31msrc/py/wrapper/wrapper_745e4933f5b250d9bc5232fe864d0cf7.cpp\u001b[m\r\n",
      "\t\u001b[31msrc/py/wrapper/wrapper_74bc331707c1505eb2f807cae7c32bbb.cpp\u001b[m\r\n",
      "\t\u001b[31msrc/py/wrapper/wrapper_858bbf0613575e2ebe4b0e5902107ad6.cpp\u001b[m\r\n",
      "\t\u001b[31msrc/py/wrapper/wrapper_882a8dd1e64a51b4a9da29ab852a852e.cpp\u001b[m\r\n",
      "\t\u001b[31msrc/py/wrapper/wrapper_c047f2c3135554ceb57f166fd404cfc8.cpp\u001b[m\r\n",
      "\t\u001b[31msrc/py/wrapper/wrapper_d48105936d4f5d09a78d2aa9f878fdb8.cpp\u001b[m\r\n",
      "\t\u001b[31msrc/py/wrapper/wrapper_dc5522842bc75d8b9ac7b46020c60854.cpp\u001b[m\r\n",
      "\t\u001b[31msrc/py/wrapper/wrapper_e76a1308464d5a9a837d9a61f942fae7.cpp\u001b[m\r\n",
      "\r\n",
      "no changes added to commit (use \"git add\" and/or \"git commit -a\")\r\n"
     ]
    }
   ],
   "source": [
    "!git -C {GIT_ROOT} status"
   ]
  },
  {
   "cell_type": "markdown",
   "metadata": {},
   "source": [
    "And here, we present the wrappers generated for the `std::vector< int >` class."
   ]
  },
  {
   "cell_type": "code",
   "execution_count": 11,
   "metadata": {
    "scrolled": false
   },
   "outputs": [
    {
     "name": "stdout",
     "output_type": "stream",
     "text": [
      "\u001b[36m#\u001b[39;49;00m\u001b[36minclude\u001b[39;49;00m \u001b[37m\"_stl.h\"\u001b[39;49;00m\u001b[36m\u001b[39;49;00m\r\n",
      "\r\n",
      "\u001b[36mvoid\u001b[39;49;00m  (::std::vector< \u001b[36mint\u001b[39;49;00m, ::std::allocator< \u001b[36mint\u001b[39;49;00m > >::*method_pointer_3ee60599950b5555a32f72572e8ff771)(::std::vector< \u001b[36mint\u001b[39;49;00m, \u001b[34mclass\u001b[39;49;00m \u001b[04m\u001b[31;01m:\u001b[39;49;00m\u001b[04m\u001b[31;01m:\u001b[39;49;00m\u001b[04m\u001b[32mstd\u001b[39;49;00m::allocator< \u001b[36mint\u001b[39;49;00m > >::size_type , ::std::vector< \u001b[36mint\u001b[39;49;00m, \u001b[34mclass\u001b[39;49;00m \u001b[04m\u001b[31;01m:\u001b[39;49;00m\u001b[04m\u001b[31;01m:\u001b[39;49;00m\u001b[04m\u001b[32mstd\u001b[39;49;00m::allocator< \u001b[36mint\u001b[39;49;00m > >::value_type \u001b[34mconst\u001b[39;49;00m &)= &::std::vector< \u001b[36mint\u001b[39;49;00m, \u001b[34mclass\u001b[39;49;00m \u001b[04m\u001b[31;01m:\u001b[39;49;00m\u001b[04m\u001b[31;01m:\u001b[39;49;00m\u001b[04m\u001b[32mstd\u001b[39;49;00m::allocator< \u001b[36mint\u001b[39;49;00m > >::assign;\r\n",
      "::std::vector< \u001b[36mint\u001b[39;49;00m, \u001b[34mclass\u001b[39;49;00m \u001b[04m\u001b[31;01m:\u001b[39;49;00m\u001b[04m\u001b[31;01m:\u001b[39;49;00m\u001b[04m\u001b[32mstd\u001b[39;49;00m::allocator< \u001b[36mint\u001b[39;49;00m > >::size_type  (::std::vector< \u001b[36mint\u001b[39;49;00m, ::std::allocator< \u001b[36mint\u001b[39;49;00m > >::*method_pointer_2f0bd94041965427ab114d1ec9369eb1)()\u001b[34mconst\u001b[39;49;00m= &::std::vector< \u001b[36mint\u001b[39;49;00m, \u001b[34mclass\u001b[39;49;00m \u001b[04m\u001b[31;01m:\u001b[39;49;00m\u001b[04m\u001b[31;01m:\u001b[39;49;00m\u001b[04m\u001b[32mstd\u001b[39;49;00m::allocator< \u001b[36mint\u001b[39;49;00m > >::size;\r\n",
      "::std::vector< \u001b[36mint\u001b[39;49;00m, \u001b[34mclass\u001b[39;49;00m \u001b[04m\u001b[31;01m:\u001b[39;49;00m\u001b[04m\u001b[31;01m:\u001b[39;49;00m\u001b[04m\u001b[32mstd\u001b[39;49;00m::allocator< \u001b[36mint\u001b[39;49;00m > >::size_type  (::std::vector< \u001b[36mint\u001b[39;49;00m, ::std::allocator< \u001b[36mint\u001b[39;49;00m > >::*method_pointer_03cb2a43c5ae5df48ecc631a008fa511)()\u001b[34mconst\u001b[39;49;00m= &::std::vector< \u001b[36mint\u001b[39;49;00m, \u001b[34mclass\u001b[39;49;00m \u001b[04m\u001b[31;01m:\u001b[39;49;00m\u001b[04m\u001b[31;01m:\u001b[39;49;00m\u001b[04m\u001b[32mstd\u001b[39;49;00m::allocator< \u001b[36mint\u001b[39;49;00m > >::max_size;\r\n",
      "::std::vector< \u001b[36mint\u001b[39;49;00m, \u001b[34mclass\u001b[39;49;00m \u001b[04m\u001b[31;01m:\u001b[39;49;00m\u001b[04m\u001b[31;01m:\u001b[39;49;00m\u001b[04m\u001b[32mstd\u001b[39;49;00m::allocator< \u001b[36mint\u001b[39;49;00m > >::size_type  (::std::vector< \u001b[36mint\u001b[39;49;00m, ::std::allocator< \u001b[36mint\u001b[39;49;00m > >::*method_pointer_2d96cb90afc35aaaa142783706900e63)()\u001b[34mconst\u001b[39;49;00m= &::std::vector< \u001b[36mint\u001b[39;49;00m, \u001b[34mclass\u001b[39;49;00m \u001b[04m\u001b[31;01m:\u001b[39;49;00m\u001b[04m\u001b[31;01m:\u001b[39;49;00m\u001b[04m\u001b[32mstd\u001b[39;49;00m::allocator< \u001b[36mint\u001b[39;49;00m > >::capacity;\r\n",
      "\u001b[36mbool\u001b[39;49;00m  (::std::vector< \u001b[36mint\u001b[39;49;00m, ::std::allocator< \u001b[36mint\u001b[39;49;00m > >::*method_pointer_829beec6ac39542092370174938c108d)()\u001b[34mconst\u001b[39;49;00m= &::std::vector< \u001b[36mint\u001b[39;49;00m, \u001b[34mclass\u001b[39;49;00m \u001b[04m\u001b[31;01m:\u001b[39;49;00m\u001b[04m\u001b[31;01m:\u001b[39;49;00m\u001b[04m\u001b[32mstd\u001b[39;49;00m::allocator< \u001b[36mint\u001b[39;49;00m > >::empty;\r\n",
      "\u001b[36mvoid\u001b[39;49;00m  (::std::vector< \u001b[36mint\u001b[39;49;00m, ::std::allocator< \u001b[36mint\u001b[39;49;00m > >::*method_pointer_bb2b15e55a165e4590a962713b38756e)(::std::vector< \u001b[36mint\u001b[39;49;00m, \u001b[34mclass\u001b[39;49;00m \u001b[04m\u001b[31;01m:\u001b[39;49;00m\u001b[04m\u001b[31;01m:\u001b[39;49;00m\u001b[04m\u001b[32mstd\u001b[39;49;00m::allocator< \u001b[36mint\u001b[39;49;00m > >::size_type )= &::std::vector< \u001b[36mint\u001b[39;49;00m, \u001b[34mclass\u001b[39;49;00m \u001b[04m\u001b[31;01m:\u001b[39;49;00m\u001b[04m\u001b[31;01m:\u001b[39;49;00m\u001b[04m\u001b[32mstd\u001b[39;49;00m::allocator< \u001b[36mint\u001b[39;49;00m > >::reserve;\r\n",
      "::std::vector< \u001b[36mint\u001b[39;49;00m, \u001b[34mclass\u001b[39;49;00m \u001b[04m\u001b[31;01m:\u001b[39;49;00m\u001b[04m\u001b[31;01m:\u001b[39;49;00m\u001b[04m\u001b[32mstd\u001b[39;49;00m::allocator< \u001b[36mint\u001b[39;49;00m > >::reference  (::std::vector< \u001b[36mint\u001b[39;49;00m, ::std::allocator< \u001b[36mint\u001b[39;49;00m > >::*method_pointer_bb1e0852f2ca56c094260a03787426c7)(::std::vector< \u001b[36mint\u001b[39;49;00m, \u001b[34mclass\u001b[39;49;00m \u001b[04m\u001b[31;01m:\u001b[39;49;00m\u001b[04m\u001b[31;01m:\u001b[39;49;00m\u001b[04m\u001b[32mstd\u001b[39;49;00m::allocator< \u001b[36mint\u001b[39;49;00m > >::size_type )= &::std::vector< \u001b[36mint\u001b[39;49;00m, \u001b[34mclass\u001b[39;49;00m \u001b[04m\u001b[31;01m:\u001b[39;49;00m\u001b[04m\u001b[31;01m:\u001b[39;49;00m\u001b[04m\u001b[32mstd\u001b[39;49;00m::allocator< \u001b[36mint\u001b[39;49;00m > >::at;\r\n",
      "::std::vector< \u001b[36mint\u001b[39;49;00m, \u001b[34mclass\u001b[39;49;00m \u001b[04m\u001b[31;01m:\u001b[39;49;00m\u001b[04m\u001b[31;01m:\u001b[39;49;00m\u001b[04m\u001b[32mstd\u001b[39;49;00m::allocator< \u001b[36mint\u001b[39;49;00m > >::const_reference  (::std::vector< \u001b[36mint\u001b[39;49;00m, ::std::allocator< \u001b[36mint\u001b[39;49;00m > >::*method_pointer_a36af7a241c15d6887cc6c239cd0d230)(::std::vector< \u001b[36mint\u001b[39;49;00m, \u001b[34mclass\u001b[39;49;00m \u001b[04m\u001b[31;01m:\u001b[39;49;00m\u001b[04m\u001b[31;01m:\u001b[39;49;00m\u001b[04m\u001b[32mstd\u001b[39;49;00m::allocator< \u001b[36mint\u001b[39;49;00m > >::size_type )\u001b[34mconst\u001b[39;49;00m= &::std::vector< \u001b[36mint\u001b[39;49;00m, \u001b[34mclass\u001b[39;49;00m \u001b[04m\u001b[31;01m:\u001b[39;49;00m\u001b[04m\u001b[31;01m:\u001b[39;49;00m\u001b[04m\u001b[32mstd\u001b[39;49;00m::allocator< \u001b[36mint\u001b[39;49;00m > >::at;\r\n",
      "::std::vector< \u001b[36mint\u001b[39;49;00m, \u001b[34mclass\u001b[39;49;00m \u001b[04m\u001b[31;01m:\u001b[39;49;00m\u001b[04m\u001b[31;01m:\u001b[39;49;00m\u001b[04m\u001b[32mstd\u001b[39;49;00m::allocator< \u001b[36mint\u001b[39;49;00m > >::reference  (::std::vector< \u001b[36mint\u001b[39;49;00m, ::std::allocator< \u001b[36mint\u001b[39;49;00m > >::*method_pointer_7ec1ac72b0b05f3a9707175bcd5da0bd)()= &::std::vector< \u001b[36mint\u001b[39;49;00m, \u001b[34mclass\u001b[39;49;00m \u001b[04m\u001b[31;01m:\u001b[39;49;00m\u001b[04m\u001b[31;01m:\u001b[39;49;00m\u001b[04m\u001b[32mstd\u001b[39;49;00m::allocator< \u001b[36mint\u001b[39;49;00m > >::front;\r\n",
      "::std::vector< \u001b[36mint\u001b[39;49;00m, \u001b[34mclass\u001b[39;49;00m \u001b[04m\u001b[31;01m:\u001b[39;49;00m\u001b[04m\u001b[31;01m:\u001b[39;49;00m\u001b[04m\u001b[32mstd\u001b[39;49;00m::allocator< \u001b[36mint\u001b[39;49;00m > >::const_reference  (::std::vector< \u001b[36mint\u001b[39;49;00m, ::std::allocator< \u001b[36mint\u001b[39;49;00m > >::*method_pointer_b7cadb076a605b51b2601b9b3480c6b5)()\u001b[34mconst\u001b[39;49;00m= &::std::vector< \u001b[36mint\u001b[39;49;00m, \u001b[34mclass\u001b[39;49;00m \u001b[04m\u001b[31;01m:\u001b[39;49;00m\u001b[04m\u001b[31;01m:\u001b[39;49;00m\u001b[04m\u001b[32mstd\u001b[39;49;00m::allocator< \u001b[36mint\u001b[39;49;00m > >::front;\r\n",
      "::std::vector< \u001b[36mint\u001b[39;49;00m, \u001b[34mclass\u001b[39;49;00m \u001b[04m\u001b[31;01m:\u001b[39;49;00m\u001b[04m\u001b[31;01m:\u001b[39;49;00m\u001b[04m\u001b[32mstd\u001b[39;49;00m::allocator< \u001b[36mint\u001b[39;49;00m > >::reference  (::std::vector< \u001b[36mint\u001b[39;49;00m, ::std::allocator< \u001b[36mint\u001b[39;49;00m > >::*method_pointer_ed1cf37568ed54cbbd326e6ccbe5f27d)()= &::std::vector< \u001b[36mint\u001b[39;49;00m, \u001b[34mclass\u001b[39;49;00m \u001b[04m\u001b[31;01m:\u001b[39;49;00m\u001b[04m\u001b[31;01m:\u001b[39;49;00m\u001b[04m\u001b[32mstd\u001b[39;49;00m::allocator< \u001b[36mint\u001b[39;49;00m > >::back;\r\n",
      "::std::vector< \u001b[36mint\u001b[39;49;00m, \u001b[34mclass\u001b[39;49;00m \u001b[04m\u001b[31;01m:\u001b[39;49;00m\u001b[04m\u001b[31;01m:\u001b[39;49;00m\u001b[04m\u001b[32mstd\u001b[39;49;00m::allocator< \u001b[36mint\u001b[39;49;00m > >::const_reference  (::std::vector< \u001b[36mint\u001b[39;49;00m, ::std::allocator< \u001b[36mint\u001b[39;49;00m > >::*method_pointer_aaa6ab4cb09b56e3adee1ae72ce60d90)()\u001b[34mconst\u001b[39;49;00m= &::std::vector< \u001b[36mint\u001b[39;49;00m, \u001b[34mclass\u001b[39;49;00m \u001b[04m\u001b[31;01m:\u001b[39;49;00m\u001b[04m\u001b[31;01m:\u001b[39;49;00m\u001b[04m\u001b[32mstd\u001b[39;49;00m::allocator< \u001b[36mint\u001b[39;49;00m > >::back;\r\n",
      "\u001b[36mvoid\u001b[39;49;00m  (::std::vector< \u001b[36mint\u001b[39;49;00m, ::std::allocator< \u001b[36mint\u001b[39;49;00m > >::*method_pointer_341df5e2719858f39df095cac9121eaf)(::std::vector< \u001b[36mint\u001b[39;49;00m, \u001b[34mclass\u001b[39;49;00m \u001b[04m\u001b[31;01m:\u001b[39;49;00m\u001b[04m\u001b[31;01m:\u001b[39;49;00m\u001b[04m\u001b[32mstd\u001b[39;49;00m::allocator< \u001b[36mint\u001b[39;49;00m > >::value_type \u001b[34mconst\u001b[39;49;00m &)= &::std::vector< \u001b[36mint\u001b[39;49;00m, \u001b[34mclass\u001b[39;49;00m \u001b[04m\u001b[31;01m:\u001b[39;49;00m\u001b[04m\u001b[31;01m:\u001b[39;49;00m\u001b[04m\u001b[32mstd\u001b[39;49;00m::allocator< \u001b[36mint\u001b[39;49;00m > >::push_back;\r\n",
      "\u001b[36mvoid\u001b[39;49;00m  (::std::vector< \u001b[36mint\u001b[39;49;00m, ::std::allocator< \u001b[36mint\u001b[39;49;00m > >::*method_pointer_bbaecaa6c9535f04a1ffda1223792c23)()= &::std::vector< \u001b[36mint\u001b[39;49;00m, \u001b[34mclass\u001b[39;49;00m \u001b[04m\u001b[31;01m:\u001b[39;49;00m\u001b[04m\u001b[31;01m:\u001b[39;49;00m\u001b[04m\u001b[32mstd\u001b[39;49;00m::allocator< \u001b[36mint\u001b[39;49;00m > >::pop_back;\r\n",
      "\u001b[36mvoid\u001b[39;49;00m  (::std::vector< \u001b[36mint\u001b[39;49;00m, ::std::allocator< \u001b[36mint\u001b[39;49;00m > >::*method_pointer_433012ce9fb655529590bcbd5d85150b)(\u001b[34mclass\u001b[39;49;00m \u001b[04m\u001b[31;01m:\u001b[39;49;00m\u001b[04m\u001b[31;01m:\u001b[39;49;00m\u001b[04m\u001b[32mstd\u001b[39;49;00m::vector< \u001b[36mint\u001b[39;49;00m, \u001b[34mclass\u001b[39;49;00m \u001b[04m\u001b[31;01m:\u001b[39;49;00m\u001b[04m\u001b[31;01m:\u001b[39;49;00m\u001b[04m\u001b[32mstd\u001b[39;49;00m::allocator< \u001b[36mint\u001b[39;49;00m > > &)= &::std::vector< \u001b[36mint\u001b[39;49;00m, \u001b[34mclass\u001b[39;49;00m \u001b[04m\u001b[31;01m:\u001b[39;49;00m\u001b[04m\u001b[31;01m:\u001b[39;49;00m\u001b[04m\u001b[32mstd\u001b[39;49;00m::allocator< \u001b[36mint\u001b[39;49;00m > >::swap;\r\n",
      "\u001b[36mvoid\u001b[39;49;00m  (::std::vector< \u001b[36mint\u001b[39;49;00m, ::std::allocator< \u001b[36mint\u001b[39;49;00m > >::*method_pointer_201a5d8f6cc15fd1b83d45af764f3905)()= &::std::vector< \u001b[36mint\u001b[39;49;00m, \u001b[34mclass\u001b[39;49;00m \u001b[04m\u001b[31;01m:\u001b[39;49;00m\u001b[04m\u001b[31;01m:\u001b[39;49;00m\u001b[04m\u001b[32mstd\u001b[39;49;00m::allocator< \u001b[36mint\u001b[39;49;00m > >::clear;\r\n",
      "\r\n",
      "\u001b[34mnamespace\u001b[39;49;00m autowig {\r\n",
      "    \u001b[36mvoid\u001b[39;49;00m method_decorator_bb1e0852f2ca56c094260a03787426c7(\u001b[34mclass\u001b[39;49;00m \u001b[04m\u001b[31;01m:\u001b[39;49;00m\u001b[04m\u001b[31;01m:\u001b[39;49;00m\u001b[04m\u001b[32mstd\u001b[39;49;00m::vector< \u001b[36mint\u001b[39;49;00m, \u001b[34mclass\u001b[39;49;00m \u001b[04m\u001b[31;01m:\u001b[39;49;00m\u001b[04m\u001b[31;01m:\u001b[39;49;00m\u001b[04m\u001b[32mstd\u001b[39;49;00m::allocator< \u001b[36mint\u001b[39;49;00m > > & instance, ::std::vector< \u001b[36mint\u001b[39;49;00m, \u001b[34mclass\u001b[39;49;00m \u001b[04m\u001b[31;01m:\u001b[39;49;00m\u001b[04m\u001b[31;01m:\u001b[39;49;00m\u001b[04m\u001b[32mstd\u001b[39;49;00m::allocator< \u001b[36mint\u001b[39;49;00m > >::size_type  param_in_0, \u001b[36mint\u001b[39;49;00m param_out) { instance.at(param_in_0) = param_out; }\r\n",
      "    \u001b[36mvoid\u001b[39;49;00m method_decorator_7ec1ac72b0b05f3a9707175bcd5da0bd(\u001b[34mclass\u001b[39;49;00m \u001b[04m\u001b[31;01m:\u001b[39;49;00m\u001b[04m\u001b[31;01m:\u001b[39;49;00m\u001b[04m\u001b[32mstd\u001b[39;49;00m::vector< \u001b[36mint\u001b[39;49;00m, \u001b[34mclass\u001b[39;49;00m \u001b[04m\u001b[31;01m:\u001b[39;49;00m\u001b[04m\u001b[31;01m:\u001b[39;49;00m\u001b[04m\u001b[32mstd\u001b[39;49;00m::allocator< \u001b[36mint\u001b[39;49;00m > > & instance, \u001b[36mint\u001b[39;49;00m param_out) { instance.front() = param_out; }\r\n",
      "    \u001b[36mvoid\u001b[39;49;00m method_decorator_ed1cf37568ed54cbbd326e6ccbe5f27d(\u001b[34mclass\u001b[39;49;00m \u001b[04m\u001b[31;01m:\u001b[39;49;00m\u001b[04m\u001b[31;01m:\u001b[39;49;00m\u001b[04m\u001b[32mstd\u001b[39;49;00m::vector< \u001b[36mint\u001b[39;49;00m, \u001b[34mclass\u001b[39;49;00m \u001b[04m\u001b[31;01m:\u001b[39;49;00m\u001b[04m\u001b[31;01m:\u001b[39;49;00m\u001b[04m\u001b[32mstd\u001b[39;49;00m::allocator< \u001b[36mint\u001b[39;49;00m > > & instance, \u001b[36mint\u001b[39;49;00m param_out) { instance.back() = param_out; }\r\n",
      "}\r\n",
      "\r\n",
      "\u001b[36mvoid\u001b[39;49;00m wrapper_6b9ae5eac40858c9a0f5e6e21c15d1d3(pybind11::module& module)\r\n",
      "{\r\n",
      "\r\n",
      "    pybind11::class_<\u001b[34mclass\u001b[39;49;00m \u001b[04m\u001b[31;01m:\u001b[39;49;00m\u001b[04m\u001b[31;01m:\u001b[39;49;00m\u001b[04m\u001b[32mstd\u001b[39;49;00m::vector< \u001b[36mint\u001b[39;49;00m, \u001b[34mclass\u001b[39;49;00m \u001b[04m\u001b[31;01m:\u001b[39;49;00m\u001b[04m\u001b[31;01m:\u001b[39;49;00m\u001b[04m\u001b[32mstd\u001b[39;49;00m::allocator< \u001b[36mint\u001b[39;49;00m > >, autowig::HolderType< \u001b[34mclass\u001b[39;49;00m \u001b[04m\u001b[31;01m:\u001b[39;49;00m\u001b[04m\u001b[31;01m:\u001b[39;49;00m\u001b[04m\u001b[32mstd\u001b[39;49;00m::vector< \u001b[36mint\u001b[39;49;00m, \u001b[34mclass\u001b[39;49;00m \u001b[04m\u001b[31;01m:\u001b[39;49;00m\u001b[04m\u001b[31;01m:\u001b[39;49;00m\u001b[04m\u001b[32mstd\u001b[39;49;00m::allocator< \u001b[36mint\u001b[39;49;00m > > >::Type > class_6b9ae5eac40858c9a0f5e6e21c15d1d3(module, \u001b[33m\"\u001b[39;49;00m\u001b[33m_Vector_6b9ae5eac40858c9a0f5e6e21c15d1d3\u001b[39;49;00m\u001b[33m\"\u001b[39;49;00m, \u001b[33m\"\u001b[39;49;00m\u001b[33m\"\u001b[39;49;00m);\r\n",
      "    class_6b9ae5eac40858c9a0f5e6e21c15d1d3.def(pybind11::init<  >());\r\n",
      "    class_6b9ae5eac40858c9a0f5e6e21c15d1d3.def(pybind11::init< \u001b[34mclass\u001b[39;49;00m \u001b[04m\u001b[31;01m:\u001b[39;49;00m\u001b[04m\u001b[31;01m:\u001b[39;49;00m\u001b[04m\u001b[32mstd\u001b[39;49;00m::vector< \u001b[36mint\u001b[39;49;00m, \u001b[34mclass\u001b[39;49;00m \u001b[04m\u001b[31;01m:\u001b[39;49;00m\u001b[04m\u001b[31;01m:\u001b[39;49;00m\u001b[04m\u001b[32mstd\u001b[39;49;00m::allocator< \u001b[36mint\u001b[39;49;00m > > \u001b[34mconst\u001b[39;49;00m & >());\r\n",
      "    class_6b9ae5eac40858c9a0f5e6e21c15d1d3.def(\u001b[33m\"\u001b[39;49;00m\u001b[33massign\u001b[39;49;00m\u001b[33m\"\u001b[39;49;00m, method_pointer_3ee60599950b5555a32f72572e8ff771, \u001b[33m\"\u001b[39;49;00m\u001b[33m\"\u001b[39;49;00m);\r\n",
      "    class_6b9ae5eac40858c9a0f5e6e21c15d1d3.def(\u001b[33m\"\u001b[39;49;00m\u001b[33m__len__\u001b[39;49;00m\u001b[33m\"\u001b[39;49;00m, method_pointer_2f0bd94041965427ab114d1ec9369eb1, \u001b[33m\"\u001b[39;49;00m\u001b[33m\"\u001b[39;49;00m);\r\n",
      "    class_6b9ae5eac40858c9a0f5e6e21c15d1d3.def(\u001b[33m\"\u001b[39;49;00m\u001b[33mmax_size\u001b[39;49;00m\u001b[33m\"\u001b[39;49;00m, method_pointer_03cb2a43c5ae5df48ecc631a008fa511, \u001b[33m\"\u001b[39;49;00m\u001b[33m\"\u001b[39;49;00m);\r\n",
      "    class_6b9ae5eac40858c9a0f5e6e21c15d1d3.def(\u001b[33m\"\u001b[39;49;00m\u001b[33mcapacity\u001b[39;49;00m\u001b[33m\"\u001b[39;49;00m, method_pointer_2d96cb90afc35aaaa142783706900e63, \u001b[33m\"\u001b[39;49;00m\u001b[33m\"\u001b[39;49;00m);\r\n",
      "    class_6b9ae5eac40858c9a0f5e6e21c15d1d3.def(\u001b[33m\"\u001b[39;49;00m\u001b[33mempty\u001b[39;49;00m\u001b[33m\"\u001b[39;49;00m, method_pointer_829beec6ac39542092370174938c108d, \u001b[33m\"\u001b[39;49;00m\u001b[33m\"\u001b[39;49;00m);\r\n",
      "    class_6b9ae5eac40858c9a0f5e6e21c15d1d3.def(\u001b[33m\"\u001b[39;49;00m\u001b[33mreserve\u001b[39;49;00m\u001b[33m\"\u001b[39;49;00m, method_pointer_bb2b15e55a165e4590a962713b38756e, \u001b[33m\"\u001b[39;49;00m\u001b[33m\"\u001b[39;49;00m);\r\n",
      "    class_6b9ae5eac40858c9a0f5e6e21c15d1d3.def(\u001b[33m\"\u001b[39;49;00m\u001b[33mat\u001b[39;49;00m\u001b[33m\"\u001b[39;49;00m, method_pointer_bb1e0852f2ca56c094260a03787426c7, pybind11::return_value_policy::copy, \u001b[33m\"\u001b[39;49;00m\u001b[33m\"\u001b[39;49;00m);\r\n",
      "    class_6b9ae5eac40858c9a0f5e6e21c15d1d3.def(\u001b[33m\"\u001b[39;49;00m\u001b[33mat\u001b[39;49;00m\u001b[33m\"\u001b[39;49;00m, autowig::method_decorator_bb1e0852f2ca56c094260a03787426c7);\r\n",
      "    class_6b9ae5eac40858c9a0f5e6e21c15d1d3.def(\u001b[33m\"\u001b[39;49;00m\u001b[33mat\u001b[39;49;00m\u001b[33m\"\u001b[39;49;00m, method_pointer_a36af7a241c15d6887cc6c239cd0d230, pybind11::return_value_policy::copy, \u001b[33m\"\u001b[39;49;00m\u001b[33m\"\u001b[39;49;00m);\r\n",
      "    class_6b9ae5eac40858c9a0f5e6e21c15d1d3.def(\u001b[33m\"\u001b[39;49;00m\u001b[33mfront\u001b[39;49;00m\u001b[33m\"\u001b[39;49;00m, method_pointer_7ec1ac72b0b05f3a9707175bcd5da0bd, pybind11::return_value_policy::copy, \u001b[33m\"\u001b[39;49;00m\u001b[33m\"\u001b[39;49;00m);\r\n",
      "    class_6b9ae5eac40858c9a0f5e6e21c15d1d3.def(\u001b[33m\"\u001b[39;49;00m\u001b[33mfront\u001b[39;49;00m\u001b[33m\"\u001b[39;49;00m, autowig::method_decorator_7ec1ac72b0b05f3a9707175bcd5da0bd);\r\n",
      "    class_6b9ae5eac40858c9a0f5e6e21c15d1d3.def(\u001b[33m\"\u001b[39;49;00m\u001b[33mfront\u001b[39;49;00m\u001b[33m\"\u001b[39;49;00m, method_pointer_b7cadb076a605b51b2601b9b3480c6b5, pybind11::return_value_policy::copy, \u001b[33m\"\u001b[39;49;00m\u001b[33m\"\u001b[39;49;00m);\r\n",
      "    class_6b9ae5eac40858c9a0f5e6e21c15d1d3.def(\u001b[33m\"\u001b[39;49;00m\u001b[33mback\u001b[39;49;00m\u001b[33m\"\u001b[39;49;00m, method_pointer_ed1cf37568ed54cbbd326e6ccbe5f27d, pybind11::return_value_policy::copy, \u001b[33m\"\u001b[39;49;00m\u001b[33m\"\u001b[39;49;00m);\r\n",
      "    class_6b9ae5eac40858c9a0f5e6e21c15d1d3.def(\u001b[33m\"\u001b[39;49;00m\u001b[33mback\u001b[39;49;00m\u001b[33m\"\u001b[39;49;00m, autowig::method_decorator_ed1cf37568ed54cbbd326e6ccbe5f27d);\r\n",
      "    class_6b9ae5eac40858c9a0f5e6e21c15d1d3.def(\u001b[33m\"\u001b[39;49;00m\u001b[33mback\u001b[39;49;00m\u001b[33m\"\u001b[39;49;00m, method_pointer_aaa6ab4cb09b56e3adee1ae72ce60d90, pybind11::return_value_policy::copy, \u001b[33m\"\u001b[39;49;00m\u001b[33m\"\u001b[39;49;00m);\r\n",
      "    class_6b9ae5eac40858c9a0f5e6e21c15d1d3.def(\u001b[33m\"\u001b[39;49;00m\u001b[33mpush_back\u001b[39;49;00m\u001b[33m\"\u001b[39;49;00m, method_pointer_341df5e2719858f39df095cac9121eaf, \u001b[33m\"\u001b[39;49;00m\u001b[33m\"\u001b[39;49;00m);\r\n",
      "    class_6b9ae5eac40858c9a0f5e6e21c15d1d3.def(\u001b[33m\"\u001b[39;49;00m\u001b[33mpop_back\u001b[39;49;00m\u001b[33m\"\u001b[39;49;00m, method_pointer_bbaecaa6c9535f04a1ffda1223792c23, \u001b[33m\"\u001b[39;49;00m\u001b[33m\"\u001b[39;49;00m);\r\n",
      "    class_6b9ae5eac40858c9a0f5e6e21c15d1d3.def(\u001b[33m\"\u001b[39;49;00m\u001b[33mswap\u001b[39;49;00m\u001b[33m\"\u001b[39;49;00m, method_pointer_433012ce9fb655529590bcbd5d85150b, \u001b[33m\"\u001b[39;49;00m\u001b[33m\"\u001b[39;49;00m);\r\n",
      "    class_6b9ae5eac40858c9a0f5e6e21c15d1d3.def(\u001b[33m\"\u001b[39;49;00m\u001b[33mclear\u001b[39;49;00m\u001b[33m\"\u001b[39;49;00m, method_pointer_201a5d8f6cc15fd1b83d45af764f3905, \u001b[33m\"\u001b[39;49;00m\u001b[33m\"\u001b[39;49;00m);\r\n",
      "\r\n",
      "}\r\n"
     ]
    }
   ],
   "source": [
    "WRAPPER = os.path.join(GIT_ROOT, 'src', 'py', 'wrapper',\n",
    "                       'wrapper_6b9ae5eac40858c9a0f5e6e21c15d1d3.cpp')\n",
    "!pygmentize {WRAPPER}"
   ]
  },
  {
   "cell_type": "markdown",
   "metadata": {},
   "source": [
    "Once the wrappers are written on disk, we need to compile and install the *Python* bindings.\n",
    "To do so, we use available **Conda** recipes."
   ]
  },
  {
   "cell_type": "code",
   "execution_count": 12,
   "metadata": {
    "scrolled": true
   },
   "outputs": [
    {
     "data": {
      "text/plain": [
       "0"
      ]
     },
     "execution_count": 12,
     "metadata": {},
     "output_type": "execute_result"
    }
   ],
   "source": [
    "subprocess.call('conda remove python-statiskit_stl -y', shell=True)\n",
    "if is_windows:\n",
    "    subprocess.call('del ' + SCONSIGN, shell=True)\n",
    "else:\n",
    "    subprocess.call('rm ' + SCONSIGN, shell=True)\n",
    "CONDA_RECIPE = os.path.join(GIT_ROOT, 'etc', 'conda', 'python-statiskit_stl')\n",
    "subprocess.check_call('conda build ' + CONDA_RECIPE + ' -c statiskit -c defaults --override-channels',\n",
    "                      shell=True)\n",
    "subprocess.check_call('conda install -y python-statiskit_stl --use-local -c statiskit -c defaults --override-channels',\n",
    "                      shell=True)"
   ]
  },
  {
   "cell_type": "markdown",
   "metadata": {},
   "source": [
    "Finally, we can hereafter use the *C++* library in the *Python* interpreter."
   ]
  },
  {
   "cell_type": "code",
   "execution_count": 13,
   "metadata": {},
   "outputs": [
    {
     "data": {
      "text/latex": [
       "$\\left(-1, 0, 1\\right)$"
      ],
      "text/plain": [
       "(-1, 0, 1)"
      ]
     },
     "execution_count": 13,
     "metadata": {},
     "output_type": "execute_result"
    }
   ],
   "source": [
    "from statiskit.stl import VectorInt\n",
    "v = VectorInt()\n",
    "v.push_back(-1)\n",
    "v.push_back(0)\n",
    "v.push_back(1)\n",
    "v"
   ]
  },
  {
   "cell_type": "code",
   "execution_count": 14,
   "metadata": {},
   "outputs": [
    {
     "data": {
      "text/plain": [
       "[-1, 0, 1]"
      ]
     },
     "execution_count": 14,
     "metadata": {},
     "output_type": "execute_result"
    }
   ],
   "source": [
    "list(v)"
   ]
  },
  {
   "cell_type": "code",
   "execution_count": 15,
   "metadata": {},
   "outputs": [
    {
     "data": {
      "text/plain": [
       "-1"
      ]
     },
     "execution_count": 15,
     "metadata": {},
     "output_type": "execute_result"
    }
   ],
   "source": [
    "v[0]"
   ]
  },
  {
   "cell_type": "code",
   "execution_count": 16,
   "metadata": {},
   "outputs": [
    {
     "data": {
      "text/plain": [
       "-2"
      ]
     },
     "execution_count": 16,
     "metadata": {},
     "output_type": "execute_result"
    }
   ],
   "source": [
    "v[0] = -2\n",
    "v[0]"
   ]
  },
  {
   "cell_type": "markdown",
   "metadata": {},
   "source": [
    "Here is a report concerning objects wrapped using this notebook."
   ]
  },
  {
   "cell_type": "code",
   "execution_count": 17,
   "metadata": {},
   "outputs": [
    {
     "name": "stdout",
     "output_type": "stream",
     "text": [
      "Headers: 104 (52580 SLOC)\n",
      "Enumerations: 2 (0 wrapped)\n",
      "Variables: 267 (0 wrapped)\n",
      "Functions: 3825 (0 wrapped)\n",
      "Classes: 4494 (0 wrapped)\n"
     ]
    }
   ],
   "source": [
    "import fp17\n",
    "import os\n",
    "import pickle\n",
    "with open(os.path.join(os.environ['SITE_SCONS'],\n",
    "                       'site_autowig',\n",
    "                       'ASG',\n",
    "                       'statiskit_stl.pkl'), 'rb') as filehandler:\n",
    "    asg = pickle.load(filehandler)\n",
    "fp17.report(asg)"
   ]
  }
 ],
 "metadata": {
  "anaconda-cloud": {},
  "kernelspec": {
   "display_name": "Python 3",
   "language": "python",
   "name": "python3"
  },
  "language_info": {
   "codemirror_mode": {
    "name": "ipython",
    "version": 3
   },
   "file_extension": ".py",
   "mimetype": "text/x-python",
   "name": "python",
   "nbconvert_exporter": "python",
   "pygments_lexer": "ipython3",
   "version": "3.7.3"
  }
 },
 "nbformat": 4,
 "nbformat_minor": 1
}
