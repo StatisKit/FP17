{
 "cells": [
  {
   "cell_type": "markdown",
   "metadata": {
    "collapsed": true
   },
   "source": [
    "# Wrapping a template library\n",
    "\n",
    "A template library is a library where there are only template classes that can be instantiated.\n",
    "Wrapping such libraries therefore requires **AutoWIG** to be able to consider various *C++* template classes instantiations during the `Parse` step.\n",
    "It is therefore required to install the `pyclanglite` `parser`."
   ]
  },
  {
   "cell_type": "markdown",
   "metadata": {},
   "source": [
    "The **Standard Template Library (STL)** library is a *C++* library that provides a set of common *C++* template classes such as containers and associative arrays.\n",
    "These classes can be used with any built-in or user-defined type that supports some elementary operations (e.g. copying, assignment).\n",
    "It is divided in four components called algorithms, containers, functional and iterators.\n",
    "**STL** containers (e.g. `std::vector`, `std::set`) are used in many *C++* libraries.\n",
    "In such a case, it does not seem relevant that every wrapped *C++* library contains wrappers for usual **STL** containers (e.g. `std::vector< double >`, `std::set< int >`).\n",
    "We therefore proposed *Python* bindings for sequence containers (i.e. `pair`, `array`, `vector`, `deque`, `forward_list` and `list` of the `std` namespace) and associative containers (`set`, `multiset`, `map`, `multimap`, `unordered_set`, `unordered_multiset`, `unordered_map` and `unordered_multimap` of the `std` namespace).\n",
    "These template instantiations are done for *C++* fundamental types (`bool`, `signed char`, `unsigned char`, `char`, `wchar_t`, `int` (with sign modifiers `signed` and `signed` combined or not with size modifiers `short`, `long` and `long long`), `float`, `double`, `long double`) and strings (`string`, `wstring` of the `std` namespace).\n",
    "For ordered associative containers both `std::less` and `std::greater` comparators are used.\n",
    "We here only illustrate the procedure on the `std::vector` template class.\n",
    "For the complete procedure refers to the `AutoWIG.py` file situed at the root of the **PySTL** [repository](https://github.com/StatisKit/PySTL)."
   ]
  },
  {
   "cell_type": "markdown",
   "metadata": {},
   "source": [
    "Then, to install and compile the *C++* library we use available **Conda** recipes."
   ]
  },
  {
   "cell_type": "code",
   "execution_count": 1,
   "metadata": {},
   "outputs": [
    {
     "name": "stdout",
     "output_type": "stream",
     "text": [
      "\n",
      "\n",
      "\n",
      "####################################################################################\n",
      "Source and build intermediates have been left in /home/main/miniconda/conda-bld.\n",
      "There are currently 2 accumulated.\n",
      "To remove them, you can run the ```conda build purge``` command\n",
      "\n",
      "\n",
      "Package plan for installation in environment /home/main/miniconda:\n",
      "\n",
      "The following NEW packages will be INSTALLED:\n",
      "\n",
      "    libstatiskit_stl: 1.0.0-0       statiskit  \n",
      "\n",
      "The following packages will be UPDATED:\n",
      "\n",
      "    conda:            4.3.23-py36_0 conda-forge --> 4.3.25-py36_0\n",
      "\n",
      "The following packages will be SUPERSEDED by a higher-priority channel:\n",
      "\n",
      "    conda-env:        2.6.0-0       conda-forge --> 2.6.0-0      \n",
      "\n"
     ]
    }
   ],
   "source": [
    "!conda build -q ../git/STL/conda/libstatiskit_stl -c statiskit\n",
    "!conda install -y -q libstatiskit_stl --use-local -c statiskit"
   ]
  },
  {
   "cell_type": "markdown",
   "metadata": {},
   "source": [
    "As presented below, in order to wrap a template library, the user needs to write headers containing aliases for desired template class instantiations."
   ]
  },
  {
   "cell_type": "code",
   "execution_count": 2,
   "metadata": {
    "scrolled": true
   },
   "outputs": [
    {
     "name": "stdout",
     "output_type": "stream",
     "text": [
      "\u001b[36m#\u001b[39;49;00m\u001b[36mifndef STATISKIT_STL_H\u001b[39;49;00m\u001b[36m\u001b[39;49;00m\r\n",
      "\u001b[36m#\u001b[39;49;00m\u001b[36mdefine STATISKIT_STL_H\u001b[39;49;00m\u001b[36m\u001b[39;49;00m\r\n",
      "\r\n",
      "\u001b[36m#\u001b[39;49;00m\u001b[36minclude\u001b[39;49;00m \u001b[37m<vector>\u001b[39;49;00m\u001b[36m\u001b[39;49;00m\r\n",
      "\u001b[36m#\u001b[39;49;00m\u001b[36minclude\u001b[39;49;00m \u001b[37m<set>\u001b[39;49;00m\u001b[36m\u001b[39;49;00m\r\n",
      "\u001b[36m#\u001b[39;49;00m\u001b[36minclude\u001b[39;49;00m \u001b[37m<unordered_set>\u001b[39;49;00m\u001b[36m\u001b[39;49;00m\r\n",
      "\u001b[36m#\u001b[39;49;00m\u001b[36minclude\u001b[39;49;00m \u001b[37m<string>\u001b[39;49;00m\u001b[36m\u001b[39;49;00m\r\n",
      "\r\n",
      "\u001b[36m#\u001b[39;49;00m\u001b[36mif defined WIN32 || defined _WIN32 || defined __CYGWIN__\u001b[39;49;00m\u001b[36m\u001b[39;49;00m\r\n",
      "    \u001b[36m#\u001b[39;49;00m\u001b[36mifdef LIBSTATISKIT_STL\u001b[39;49;00m\u001b[36m\u001b[39;49;00m\r\n",
      "        \u001b[36m#\u001b[39;49;00m\u001b[36mifdef __GNUC__\u001b[39;49;00m\u001b[36m\u001b[39;49;00m\r\n",
      "            \u001b[36m#\u001b[39;49;00m\u001b[36mdefine STATISKIT_STL_API __attribute__ ((dllexport))\u001b[39;49;00m\u001b[36m\u001b[39;49;00m\r\n",
      "        \u001b[36m#\u001b[39;49;00m\u001b[36melse\u001b[39;49;00m\u001b[36m\u001b[39;49;00m\r\n",
      "            \u001b[36m#\u001b[39;49;00m\u001b[36mdefine STATISKIT_STL_API __declspec(dllexport)\u001b[39;49;00m\u001b[36m\u001b[39;49;00m\r\n",
      "        \u001b[36m#\u001b[39;49;00m\u001b[36mendif\u001b[39;49;00m\u001b[36m\u001b[39;49;00m\r\n",
      "    \u001b[36m#\u001b[39;49;00m\u001b[36melse\u001b[39;49;00m\u001b[36m\u001b[39;49;00m\r\n",
      "        \u001b[36m#\u001b[39;49;00m\u001b[36mifdef __GNUC__\u001b[39;49;00m\u001b[36m\u001b[39;49;00m\r\n",
      "            \u001b[36m#\u001b[39;49;00m\u001b[36mdefine STATISKIT_STL_API __attribute__ ((dllimport))\u001b[39;49;00m\u001b[36m\u001b[39;49;00m\r\n",
      "        \u001b[36m#\u001b[39;49;00m\u001b[36melse\u001b[39;49;00m\u001b[36m\u001b[39;49;00m\r\n",
      "            \u001b[36m#\u001b[39;49;00m\u001b[36mdefine STATISKIT_STL_API __declspec(dllimport)\u001b[39;49;00m\u001b[36m\u001b[39;49;00m\r\n",
      "        \u001b[36m#\u001b[39;49;00m\u001b[36mendif\u001b[39;49;00m\u001b[36m\u001b[39;49;00m\r\n",
      "    \u001b[36m#\u001b[39;49;00m\u001b[36mendif\u001b[39;49;00m\u001b[36m\u001b[39;49;00m\r\n",
      "\u001b[36m#\u001b[39;49;00m\u001b[36melse\u001b[39;49;00m\u001b[36m\u001b[39;49;00m\r\n",
      "    \u001b[36m#\u001b[39;49;00m\u001b[36mif __GNUC__ >= 4\u001b[39;49;00m\u001b[36m\u001b[39;49;00m\r\n",
      "        \u001b[36m#\u001b[39;49;00m\u001b[36mdefine STATISKIT_STL_API __attribute__ ((visibility (\"default\")))\u001b[39;49;00m\u001b[36m\u001b[39;49;00m\r\n",
      "    \u001b[36m#\u001b[39;49;00m\u001b[36melse\u001b[39;49;00m\u001b[36m\u001b[39;49;00m\r\n",
      "        \u001b[36m#\u001b[39;49;00m\u001b[36mdefine STATISKIT_STL_API\u001b[39;49;00m\u001b[36m\u001b[39;49;00m\r\n",
      "    \u001b[36m#\u001b[39;49;00m\u001b[36mendif\u001b[39;49;00m\u001b[36m\u001b[39;49;00m\r\n",
      "\u001b[36m#\u001b[39;49;00m\u001b[36mendif\u001b[39;49;00m\u001b[36m\u001b[39;49;00m\r\n",
      "\r\n",
      "namespace statiskit\r\n",
      "{\r\n",
      "    \u001b[34mtypedef\u001b[39;49;00m \u001b[36munsigned\u001b[39;49;00m \u001b[36mlong\u001b[39;49;00m \u001b[36mint\u001b[39;49;00m Index;\r\n",
      "    \u001b[34mtypedef\u001b[39;49;00m std::set< Index > Indices;\r\n",
      "\r\n",
      "    namespace stl\r\n",
      "    {\r\n",
      "\r\n",
      "        template<class T>\r\n",
      "            class Generator\r\n",
      "            {\r\n",
      "                public:\r\n",
      "                    Generator(\u001b[34mconst\u001b[39;49;00m T& iterable)\r\n",
      "                    { \r\n",
      "                        _cur = iterable.cbegin();\r\n",
      "                        _end = iterable.cend();\r\n",
      "                    }\r\n",
      "\r\n",
      "                    virtual ~Generator()\r\n",
      "                    {}\r\n",
      "\r\n",
      "                    Generator(\u001b[34mconst\u001b[39;49;00m Generator< T >& generator)\r\n",
      "                    { \r\n",
      "                        _cur = generator._cur;\r\n",
      "                        _end = generator._end;\r\n",
      "                    }\r\n",
      "\r\n",
      "                    \u001b[36mbool\u001b[39;49;00m is_valid() \u001b[34mconst\u001b[39;49;00m\r\n",
      "                    { \u001b[34mreturn\u001b[39;49;00m _cur != _end; }\r\n",
      "\r\n",
      "                    Generator< T >& operator++()\r\n",
      "                    { \r\n",
      "                        ++_cur;\r\n",
      "                        \u001b[34mreturn\u001b[39;49;00m *this;\r\n",
      "                    }\r\n",
      "\r\n",
      "                    \u001b[34mtypename\u001b[39;49;00m T::value_type value() \u001b[34mconst\u001b[39;49;00m\r\n",
      "                    { \u001b[34mreturn\u001b[39;49;00m *_cur; }\r\n",
      "\r\n",
      "                protected:\r\n",
      "                    \u001b[34mtypename\u001b[39;49;00m T::const_iterator _cur;\r\n",
      "                    \u001b[34mtypename\u001b[39;49;00m T::const_iterator _end;\r\n",
      "            };\r\n",
      "\r\n",
      "        \u001b[34mtypedef\u001b[39;49;00m std::string String;\r\n",
      "\r\n",
      "\r\n",
      "\t\t\u001b[34mtypedef\u001b[39;49;00m std::vector< Index > VectorIndex;\r\n",
      "\t\t\u001b[34mtypedef\u001b[39;49;00m std::vector< \u001b[36mint\u001b[39;49;00m > VectorInt;\r\n",
      "\t\t\u001b[34mtypedef\u001b[39;49;00m std::vector< \u001b[36mdouble\u001b[39;49;00m > VectorDouble;\r\n",
      "\t\t\u001b[34mtypedef\u001b[39;49;00m std::vector< std::string > VectorString;\r\n",
      "\r\n",
      "\t\t\u001b[34mtypedef\u001b[39;49;00m std::unordered_set< Index > SetIndex;\r\n",
      "\t\t\u001b[34mtypedef\u001b[39;49;00m Generator< SetIndex > SetIndexGenerator;\r\n",
      "\t\tSTATISKIT_STL_API SetIndexGenerator \u001b[32mgenerator\u001b[39;49;00m(\u001b[34mconst\u001b[39;49;00m SetIndex& iterable);\r\n",
      "\t\tSTATISKIT_STL_API \u001b[36mbool\u001b[39;49;00m \u001b[32minsert\u001b[39;49;00m(SetIndex& iterable, \u001b[34mconst\u001b[39;49;00m Index& value);\r\n",
      "\t\t\u001b[34mtypedef\u001b[39;49;00m std::set< Index, std::less< Index >, std::allocator< Index > > SetLessIndex;\r\n",
      "\t\t\u001b[34mtypedef\u001b[39;49;00m Generator< SetLessIndex > SetLessIndexGenerator;\r\n",
      "\t\tSTATISKIT_STL_API SetLessIndexGenerator \u001b[32mgenerator\u001b[39;49;00m(\u001b[34mconst\u001b[39;49;00m SetLessIndex& iterable);\r\n",
      "\t\tSTATISKIT_STL_API \u001b[36mbool\u001b[39;49;00m \u001b[32minsert\u001b[39;49;00m(SetLessIndex& iterable, \u001b[34mconst\u001b[39;49;00m Index& value);\r\n",
      "\t\t\u001b[34mtypedef\u001b[39;49;00m std::set< \u001b[36mint\u001b[39;49;00m, std::less< \u001b[36mint\u001b[39;49;00m >, std::allocator< \u001b[36mint\u001b[39;49;00m > > SetLessInt;\r\n",
      "\t\t\u001b[34mtypedef\u001b[39;49;00m Generator< SetLessInt > SetLessIntGenerator;\r\n",
      "\t\tSTATISKIT_STL_API SetLessIntGenerator \u001b[32mgenerator\u001b[39;49;00m(\u001b[34mconst\u001b[39;49;00m SetLessInt& iterable);\r\n",
      "\t\tSTATISKIT_STL_API \u001b[36mbool\u001b[39;49;00m \u001b[32minsert\u001b[39;49;00m(SetLessInt& iterable, \u001b[34mconst\u001b[39;49;00m \u001b[36mint\u001b[39;49;00m& value);\r\n",
      "\t\t\u001b[34mtypedef\u001b[39;49;00m std::set< \u001b[36mdouble\u001b[39;49;00m, std::less< \u001b[36mdouble\u001b[39;49;00m >, std::allocator< \u001b[36mdouble\u001b[39;49;00m > > SetLessDouble;\r\n",
      "\t\t\u001b[34mtypedef\u001b[39;49;00m Generator< SetLessDouble > SetLessDoubleGenerator;\r\n",
      "\t\tSTATISKIT_STL_API SetLessDoubleGenerator \u001b[32mgenerator\u001b[39;49;00m(\u001b[34mconst\u001b[39;49;00m SetLessDouble& iterable);\r\n",
      "\t\tSTATISKIT_STL_API \u001b[36mbool\u001b[39;49;00m \u001b[32minsert\u001b[39;49;00m(SetLessDouble& iterable, \u001b[34mconst\u001b[39;49;00m \u001b[36mdouble\u001b[39;49;00m& value);\r\n",
      "\t\t\u001b[34mtypedef\u001b[39;49;00m std::set< std::string, std::less< std::string >, std::allocator< std::string > > SetLessString;\r\n",
      "\t\t\u001b[34mtypedef\u001b[39;49;00m Generator< SetLessString > SetLessStringGenerator;\r\n",
      "\t\tSTATISKIT_STL_API SetLessStringGenerator \u001b[32mgenerator\u001b[39;49;00m(\u001b[34mconst\u001b[39;49;00m SetLessString& iterable);\r\n",
      "\t\tSTATISKIT_STL_API \u001b[36mbool\u001b[39;49;00m \u001b[32minsert\u001b[39;49;00m(SetLessString& iterable, \u001b[34mconst\u001b[39;49;00m std::string& value);\r\n",
      "\r\n",
      "\t}\r\n",
      "}\r\n",
      "\r\n",
      "\r\n",
      "\u001b[36m#\u001b[39;49;00m\u001b[36mendif\u001b[39;49;00m\u001b[36m\u001b[39;49;00m\r\n"
     ]
    }
   ],
   "source": [
    "!pygmentize ../git/STL/src/cpp/STL.h"
   ]
  },
  {
   "cell_type": "markdown",
   "metadata": {},
   "source": [
    "Once these preliminaries done, we can proceed to the actual generation of wrappers for the **PySTL** library.\n",
    "For this, we import **AutoWIG** and create an empty Abstract Semantic Graph (ASG)."
   ]
  },
  {
   "cell_type": "markdown",
   "metadata": {},
   "source": [
    "We need then to install the *C++* headers. This is done using the `cpp` target in **SCons**."
   ]
  },
  {
   "cell_type": "code",
   "execution_count": 3,
   "metadata": {},
   "outputs": [
    {
     "name": "stdout",
     "output_type": "stream",
     "text": [
      "scons: Entering directory `/home/main/repository/share/git/STL'\n",
      "scons: Reading SConscript files ...\n",
      "scons: done reading SConscript files.\n",
      "scons: Building targets ...\n",
      "Install file: \"build/src/cpp/STL.h\" as \"/home/main/miniconda/include/statiskit/stl/STL.h\"\n",
      "g++ -o build/src/cpp/STL.os -c -x c++ -std=c++11 -fmax-errors=0 -Wl,--no-undefined -fvisibility=hidden -fdiagnostics-color=always -fPIC -DLIBSTATISKIT_STL -I/home/main/miniconda/include build/src/cpp/STL.cpp\n",
      "g++ -o /home/main/miniconda/lib/libstatiskit_stl.so -shared build/src/cpp/STL.os -L/home/main/miniconda/lib\n",
      "scons: done building targets.\n"
     ]
    }
   ],
   "source": [
    "!scons cpp -C ../git/STL"
   ]
  },
  {
   "cell_type": "markdown",
   "metadata": {},
   "source": [
    "Once the headers habe been installed in the system, we parse headers with relevant compilation flags."
   ]
  },
  {
   "cell_type": "code",
   "execution_count": 4,
   "metadata": {},
   "outputs": [
    {
     "name": "stdout",
     "output_type": "stream",
     "text": [
      "scons: Entering directory `/home/main/repository/share/git/STL'\n",
      "scons: Reading SConscript files ...\n",
      "scons: done reading SConscript files.\n",
      "scons: Cleaning targets ...\n",
      "Removed /home/main/miniconda/include/statiskit/stl/STL.h\n",
      "scons: done cleaning targets.\n",
      "scons: Entering directory `/home/main/repository/share/git/STL'\n",
      "scons: Reading SConscript files ...\n",
      "scons: done reading SConscript files.\n",
      "scons: Building targets ...\n",
      "Install file: \"build/src/cpp/STL.h\" as \"/home/main/miniconda/include/statiskit/stl/STL.h\"\n",
      "Install file: \"build/src/cpp/AutoWIG.py\" as \"/home/main/miniconda/lib/python3.6/site-packages/autowig/site/controller/statiskit_stl.py\"\n",
      "autowig: Generating Boost.Python interface ...\n",
      "scons: *** [/home/main/miniconda/lib/python3.6/site-packages/autowig/site/ASG/statiskit_stl.pkl] NameError : name 'basestring' is not defined\n",
      "Traceback (most recent call last):\n",
      "  File \"/home/main/miniconda/lib/python3.6/site-packages/SCons/Action.py\", line 1192, in execute\n",
      "    result = self.execfunction(target=target, source=rsources, env=env)\n",
      "  File \"/home/main/miniconda/lib/python3.6/site-packages/SCons/site_scons/site_tools/wig.py\", line 43, in boost_python_builder\n",
      "    **{kwarg[len('AUTOWIG_parser_'):] : env[kwarg] for kwarg in env.Dictionary() if isinstance(kwarg, basestring) and kwarg.startswith('AUTOWIG_parser_')})\n",
      "  File \"/home/main/miniconda/lib/python3.6/site-packages/SCons/site_scons/site_tools/wig.py\", line 43, in <dictcomp>\n",
      "    **{kwarg[len('AUTOWIG_parser_'):] : env[kwarg] for kwarg in env.Dictionary() if isinstance(kwarg, basestring) and kwarg.startswith('AUTOWIG_parser_')})\n",
      "NameError: name 'basestring' is not defined\n",
      "scons: building terminated because of errors.\n"
     ]
    }
   ],
   "source": [
    "!scons autowig -c -C ../git/STL\n",
    "!scons autowig -C ../git/STL"
   ]
  },
  {
   "cell_type": "markdown",
   "metadata": {},
   "source": [
    "Here is the list of the generated wrappers (untracked files)."
   ]
  },
  {
   "cell_type": "code",
   "execution_count": 5,
   "metadata": {},
   "outputs": [
    {
     "name": "stdout",
     "output_type": "stream",
     "text": [
      "\u001b[31mHEAD detached at \u001b[mc33f5e9\r\n",
      "Changes not staged for commit:\r\n",
      "  (use \"git add <file>...\" to update what will be committed)\r\n",
      "  (use \"git checkout -- <file>...\" to discard changes in working directory)\r\n",
      "\r\n",
      "\t\u001b[31mmodified:   src/cpp/STL.cpp\u001b[m\r\n",
      "\t\u001b[31mmodified:   src/cpp/STL.h\u001b[m\r\n",
      "\r\n",
      "no changes added to commit (use \"git add\" and/or \"git commit -a\")\r\n"
     ]
    }
   ],
   "source": [
    "!cd ../git/STL && git status"
   ]
  },
  {
   "cell_type": "markdown",
   "metadata": {},
   "source": [
    "And here, we present the wrappers for the `std::vector< int >` class."
   ]
  },
  {
   "cell_type": "code",
   "execution_count": 6,
   "metadata": {
    "scrolled": false
   },
   "outputs": [
    {
     "name": "stdout",
     "output_type": "stream",
     "text": [
      "Error: cannot read infile: [Errno 2] No such file or directory: '../git/STL/src/py/wrapper/wrapper_6b9ae5eac40858c9a0f5e6e21c15d1d3.cpp'\r\n"
     ]
    }
   ],
   "source": [
    "!pygmentize ../git/STL/src/py/wrapper/wrapper_6b9ae5eac40858c9a0f5e6e21c15d1d3.cpp"
   ]
  },
  {
   "cell_type": "markdown",
   "metadata": {},
   "source": [
    "Once the wrappers are written on disk, we need to compile and install the *Python* bindings."
   ]
  },
  {
   "cell_type": "code",
   "execution_count": 7,
   "metadata": {
    "scrolled": true
   },
   "outputs": [
    {
     "name": "stdout",
     "output_type": "stream",
     "text": [
      "BUILD START: python-statiskit_stl-3.3.1-py36_0\n",
      "    (actual version deferred until further download or env creation)\n",
      "\n",
      "The following NEW packages will be INSTALLED:\n",
      "\n",
      "    ca-certificates:  2017.7.27.1-0      conda-forge\n",
      "    certifi:          2017.7.27.1-py36_0 conda-forge\n",
      "    coverage:         4.4.1-py36_0       conda-forge\n",
      "    icu:              58.1-1             conda-forge\n",
      "    libboost:         1.61.0-py36_0      statiskit  \n",
      "    libdev:           1.0.0-py36_0       statiskit  \n",
      "    librun:           1.0.0-0            statiskit  \n",
      "    libstatiskit_stl: 1.0.0-0            statiskit  \n",
      "    ncurses:          5.9-10             conda-forge\n",
      "    nose:             1.3.7-py36_2       conda-forge\n",
      "    openssl:          1.0.2l-0           conda-forge\n",
      "    path.py:          10.3.1-py36_0      conda-forge\n",
      "    pip:              9.0.1-py36_0       conda-forge\n",
      "    python:           3.6.2-0            conda-forge\n",
      "    python-dev:       1.0.0-py36_0       statiskit  \n",
      "    python-scons:     3.0.0-py36_0       statiskit  \n",
      "    pyyaml:           3.12-py36_1        conda-forge\n",
      "    readline:         6.2-0              conda-forge\n",
      "    setuptools:       36.3.0-py36_0      conda-forge\n",
      "    six:              1.10.0-py36_1      conda-forge\n",
      "    sqlite:           3.13.0-1           conda-forge\n",
      "    tk:               8.5.19-2           conda-forge\n",
      "    wheel:            0.29.0-py36_0      conda-forge\n",
      "    xz:               5.2.3-0            conda-forge\n",
      "    yaml:             0.1.6-0            conda-forge\n",
      "    zlib:             1.2.11-0           conda-forge\n",
      "\n",
      "\n",
      "WARNING: conda-build appears to be out of date. You have version 2.1.17 but the\n",
      "latest version is 3.0.17. Run\n",
      "\n",
      "conda update -n root conda-build\n",
      "\n",
      "to get the latest version.\n",
      "\n",
      "Copying /home/main/repository/share/git/STL to /home/main/miniconda/conda-bld/python-statiskit_stl_1505308958619/work\n",
      "fatal: Not a git repository: /home/main/miniconda/conda-bld/python-statiskit_stl_1505308958619/work/../../../.git/modules/share/git/STL\n",
      "WARNING:conda_build.environ:Failed to obtain git tag information.  Are you using annotated tags?\n",
      "fatal: Not a git repository: /home/main/miniconda/conda-bld/python-statiskit_stl_1505308958619/work/../../../.git/modules/share/git/STL\n",
      "WARNING:conda_build.environ:Error obtaining git commit information.  Error was: \n",
      "WARNING:conda_build.environ:Command '['git', 'rev-parse', 'HEAD']' returned non-zero exit status 128.\n",
      "fatal: Not a git repository: /home/main/miniconda/conda-bld/python-statiskit_stl_1505308958619/work/../../../.git/modules/share/git/STL\n",
      "WARNING:conda_build.environ:Failed to obtain git tag information.  Are you using annotated tags?\n",
      "fatal: Not a git repository: /home/main/miniconda/conda-bld/python-statiskit_stl_1505308958619/work/../../../.git/modules/share/git/STL\n",
      "WARNING:conda_build.environ:Error obtaining git commit information.  Error was: \n",
      "WARNING:conda_build.environ:Command '['git', 'rev-parse', 'HEAD']' returned non-zero exit status 128.\n",
      "fatal: Not a git repository: /home/main/miniconda/conda-bld/python-statiskit_stl_1505308958619/work/../../../.git/modules/share/git/STL\n",
      "WARNING:conda_build.environ:Failed to obtain git tag information.  Are you using annotated tags?\n",
      "fatal: Not a git repository: /home/main/miniconda/conda-bld/python-statiskit_stl_1505308958619/work/../../../.git/modules/share/git/STL\n",
      "WARNING:conda_build.environ:Error obtaining git commit information.  Error was: \n",
      "WARNING:conda_build.environ:Command '['git', 'rev-parse', 'HEAD']' returned non-zero exit status 128.\n",
      "fatal: Not a git repository: /home/main/miniconda/conda-bld/python-statiskit_stl_1505308958619/work/../../../.git/modules/share/git/STL\n",
      "WARNING:conda_build.environ:Failed to obtain git tag information.  Are you using annotated tags?\n",
      "fatal: Not a git repository: /home/main/miniconda/conda-bld/python-statiskit_stl_1505308958619/work/../../../.git/modules/share/git/STL\n",
      "WARNING:conda_build.environ:Error obtaining git commit information.  Error was: \n",
      "WARNING:conda_build.environ:Command '['git', 'rev-parse', 'HEAD']' returned non-zero exit status 128.\n",
      "fatal: Not a git repository: /home/main/miniconda/conda-bld/python-statiskit_stl_1505308958619/work/../../../.git/modules/share/git/STL\n",
      "WARNING:conda_build.environ:Failed to obtain git tag information.  Are you using annotated tags?\n",
      "fatal: Not a git repository: /home/main/miniconda/conda-bld/python-statiskit_stl_1505308958619/work/../../../.git/modules/share/git/STL\n",
      "WARNING:conda_build.environ:Error obtaining git commit information.  Error was: \n",
      "WARNING:conda_build.environ:Command '['git', 'rev-parse', 'HEAD']' returned non-zero exit status 128.\n",
      "fatal: Not a git repository: /home/main/miniconda/conda-bld/python-statiskit_stl_1505308958619/work/../../../.git/modules/share/git/STL\n",
      "WARNING:conda_build.environ:Failed to obtain git tag information.  Are you using annotated tags?\n",
      "fatal: Not a git repository: /home/main/miniconda/conda-bld/python-statiskit_stl_1505308958619/work/../../../.git/modules/share/git/STL\n",
      "WARNING:conda_build.environ:Error obtaining git commit information.  Error was: \n",
      "WARNING:conda_build.environ:Command '['git', 'rev-parse', 'HEAD']' returned non-zero exit status 128.\n",
      "BUILD START (revised): python-statiskit_stl-3.3.1-py36_0\n",
      "Package: python-statiskit_stl-3.3.1-py36_0\n",
      "source tree in: /home/main/miniconda/conda-bld/python-statiskit_stl_1505308958619/work\n",
      "fatal: Not a git repository: /home/main/miniconda/conda-bld/python-statiskit_stl_1505308958619/work/../../../.git/modules/share/git/STL\n",
      "WARNING:conda_build.environ:Failed to obtain git tag information.  Are you using annotated tags?\n",
      "fatal: Not a git repository: /home/main/miniconda/conda-bld/python-statiskit_stl_1505308958619/work/../../../.git/modules/share/git/STL\n",
      "WARNING:conda_build.environ:Error obtaining git commit information.  Error was: \n",
      "WARNING:conda_build.environ:Command '['git', 'rev-parse', 'HEAD']' returned non-zero exit status 128.\n",
      "+ source /home/main/miniconda/bin/activate /home/main/miniconda/conda-bld/python-statiskit_stl_1505308958619/_b_env_placehold_placehold_placehold_placehold_placehold_placehold_placehold_placehold_placehold_placehold_placehold_placehold_placehold_placehold_placehold_placehold_placehold_placehold_pl\n",
      "+ set -ve\n",
      "\n",
      "scons py --prefix=$PREFIX -j$CPU_COUNT\n",
      "+ scons py --prefix=/home/main/miniconda/conda-bld/python-statiskit_stl_1505308958619/_b_env_placehold_placehold_placehold_placehold_placehold_placehold_placehold_placehold_placehold_placehold_placehold_placehold_placehold_placehold_placehold_placehold_placehold_placehold_pl -j8\n",
      "scons: Reading SConscript files ...\n",
      "scons: done reading SConscript files.\n",
      "scons: Building targets ...\n",
      "Creating 'build/src/py/wrapper/response_file.rsp'\n",
      "Install file: \"build/src/cpp/STL.h\" as \"/home/main/miniconda/conda-bld/python-statiskit_stl_1505308958619/_b_env_placehold_placehold_placehold_placehold_placehold_placehold_placehold_placehold_placehold_placehold_placehold_placehold_placehold_placehold_placehold_placehold_placehold_placehold_pl/include/statiskit/stl/STL.h\"\n",
      "g++ -o build/src/cpp/STL.os -c -x c++ -std=c++11 -fmax-errors=0 -Wl,--no-undefined -fvisibility=hidden -fPIC -DLIBSTATISKIT_STL -I/home/main/miniconda/conda-bld/python-statiskit_stl_1505308958619/_b_env_placehold_placehold_placehold_placehold_placehold_placehold_placehold_placehold_placehold_placehold_placehold_placehold_placehold_placehold_placehold_placehold_placehold_placehold_pl/include build/src/cpp/STL.cpp\n",
      "g++ -o /home/main/miniconda/conda-bld/python-statiskit_stl_1505308958619/_b_env_placehold_placehold_placehold_placehold_placehold_placehold_placehold_placehold_placehold_placehold_placehold_placehold_placehold_placehold_placehold_placehold_placehold_placehold_pl/lib/libstatiskit_stl.so -shared build/src/cpp/STL.os -L/home/main/miniconda/conda-bld/python-statiskit_stl_1505308958619/_b_env_placehold_placehold_placehold_placehold_placehold_placehold_placehold_placehold_placehold_placehold_placehold_placehold_placehold_placehold_placehold_placehold_placehold_placehold_pl/lib\n",
      "Install file: \"src/py/statiskit/stl/generator.py\" as \"/home/main/miniconda/conda-bld/python-statiskit_stl_1505308958619/_b_env_placehold_placehold_placehold_placehold_placehold_placehold_placehold_placehold_placehold_placehold_placehold_placehold_placehold_placehold_placehold_placehold_placehold_placehold_pl/lib/python3.6/site-packages/statiskit/stl/generator.py\"\n",
      "Install file: \"src/py/statiskit/__init__.py\" as \"/home/main/miniconda/conda-bld/python-statiskit_stl_1505308958619/_b_env_placehold_placehold_placehold_placehold_placehold_placehold_placehold_placehold_placehold_placehold_placehold_placehold_placehold_placehold_placehold_placehold_placehold_placehold_pl/lib/python3.6/site-packages/statiskit/__init__.py\"\n",
      "Install file: \"src/py/statiskit/stl/__init__.py\" as \"/home/main/miniconda/conda-bld/python-statiskit_stl_1505308958619/_b_env_placehold_placehold_placehold_placehold_placehold_placehold_placehold_placehold_placehold_placehold_placehold_placehold_placehold_placehold_placehold_placehold_placehold_placehold_pl/lib/python3.6/site-packages/statiskit/stl/__init__.py\"\n",
      "gcc -o /home/main/miniconda/conda-bld/python-statiskit_stl_1505308958619/_b_env_placehold_placehold_placehold_placehold_placehold_placehold_placehold_placehold_placehold_placehold_placehold_placehold_placehold_placehold_placehold_placehold_placehold_placehold_pl/lib/python3.6/site-packages/statiskit/stl/__stl.so @/home/main/miniconda/conda-bld/python-statiskit_stl_1505308958619/work/build/src/py/wrapper/response_file.rsp -shared -L/home/main/miniconda/conda-bld/python-statiskit_stl_1505308958619/_b_env_placehold_placehold_placehold_placehold_placehold_placehold_placehold_placehold_placehold_placehold_placehold_placehold_placehold_placehold_placehold_placehold_placehold_placehold_pl/lib -lboost_python -lpython3.6m -lstatiskit_stl\n",
      "Install file: \"src/py/statiskit/stl/vector.py\" as \"/home/main/miniconda/conda-bld/python-statiskit_stl_1505308958619/_b_env_placehold_placehold_placehold_placehold_placehold_placehold_placehold_placehold_placehold_placehold_placehold_placehold_placehold_placehold_placehold_placehold_placehold_placehold_pl/lib/python3.6/site-packages/statiskit/stl/vector.py\"\n",
      "Install file: \"src/py/statiskit/stl/set.py\" as \"/home/main/miniconda/conda-bld/python-statiskit_stl_1505308958619/_b_env_placehold_placehold_placehold_placehold_placehold_placehold_placehold_placehold_placehold_placehold_placehold_placehold_placehold_placehold_placehold_placehold_placehold_placehold_pl/lib/python3.6/site-packages/statiskit/stl/set.py\"\n"
     ]
    },
    {
     "name": "stdout",
     "output_type": "stream",
     "text": [
      "scons: done building targets.\n",
      "\n",
      "set +ve\n",
      "+ set +ve\n",
      "INFO:conda_build.build:Packaging python-statiskit_stl-3.3.1-py36_0\n",
      "fatal: Not a git repository: /home/main/miniconda/conda-bld/python-statiskit_stl_1505308958619/work/../../../.git/modules/share/git/STL\n",
      "WARNING:conda_build.environ:Failed to obtain git tag information.  Are you using annotated tags?\n",
      "fatal: Not a git repository: /home/main/miniconda/conda-bld/python-statiskit_stl_1505308958619/work/../../../.git/modules/share/git/STL\n",
      "WARNING:conda_build.environ:Error obtaining git commit information.  Error was: \n",
      "WARNING:conda_build.environ:Command '['git', 'rev-parse', 'HEAD']' returned non-zero exit status 128.\n",
      "compiling .pyc files...\n",
      "number of files: 11\n",
      "Fixing permissions\n",
      "patchelf: file: /home/main/miniconda/conda-bld/python-statiskit_stl_1505308958619/_b_env_placehold_placehold_placehold_placehold_placehold_placehold_placehold_placehold_placehold_placehold_placehold_placehold_placehold_placehold_placehold_placehold_placehold_placehold_pl/lib/python3.6/site-packages/statiskit/stl/__stl.so\n",
      "    setting rpath to: $ORIGIN/../../../..\n",
      "Fixing permissions\n",
      "/home/main/miniconda/conda-bld/linux-64/python-statiskit_stl-3.3.1-py36_0.tar.bz2\n",
      "updating index in: /home/main/miniconda/conda-bld\n",
      "updating index in: /home/main/miniconda/conda-bld/noarch\n",
      "updating index in: /home/main/miniconda/conda-bld/linux-64\n",
      "updating: python-statiskit_stl-3.3.1-py36_0.tar.bz2\n",
      "updating index in: /home/main/miniconda/conda-bld\n",
      "TEST START: /home/main/miniconda/conda-bld/linux-64/python-statiskit_stl-3.3.1-py36_0.tar.bz2\n",
      "Deleting work directory, /home/main/miniconda/conda-bld/python-statiskit_stl_1505308958619/work\n",
      "\n",
      "The following NEW packages will be INSTALLED:\n",
      "\n",
      "    ca-certificates:      2017.7.27.1-0      conda-forge\n",
      "    certifi:              2017.7.27.1-py36_0 conda-forge\n",
      "    coverage:             4.4.1-py36_0       conda-forge\n",
      "    icu:                  58.1-1             conda-forge\n",
      "    libboost:             1.61.0-py36_0      statiskit  \n",
      "    libdev:               1.0.0-py36_0       statiskit  \n",
      "    librun:               1.0.0-0            statiskit  \n",
      "    libstatiskit_stl:     1.0.0-0            statiskit  \n",
      "    ncurses:              5.9-10             conda-forge\n",
      "    nose:                 1.3.7-py36_2       conda-forge\n",
      "    openssl:              1.0.2l-0           conda-forge\n",
      "    path.py:              10.3.1-py36_0      conda-forge\n",
      "    pip:                  9.0.1-py36_0       conda-forge\n",
      "    python:               3.6.2-0            conda-forge\n",
      "    python-dev:           1.0.0-py36_0       statiskit  \n",
      "    python-scons:         3.0.0-py36_0       statiskit  \n",
      "    python-statiskit_stl: 3.3.1-py36_0       local      \n",
      "    pyyaml:               3.12-py36_1        conda-forge\n",
      "    readline:             6.2-0              conda-forge\n",
      "    setuptools:           36.3.0-py36_0      conda-forge\n",
      "    six:                  1.10.0-py36_1      conda-forge\n",
      "    sqlite:               3.13.0-1           conda-forge\n",
      "    tk:                   8.5.19-2           conda-forge\n",
      "    wheel:                0.29.0-py36_0      conda-forge\n",
      "    xz:                   5.2.3-0            conda-forge\n",
      "    yaml:                 0.1.6-0            conda-forge\n",
      "    zlib:                 1.2.11-0           conda-forge\n",
      "\n",
      "\n",
      "WARNING: conda-build appears to be out of date. You have version 2.1.17 but the\n",
      "latest version is 3.0.17. Run\n",
      "\n",
      "conda update -n root conda-build\n",
      "\n",
      "to get the latest version.\n",
      "\n",
      "+ source /home/main/miniconda/bin/activate /home/main/miniconda/conda-bld/python-statiskit_stl_1505308958619/_t_env\n",
      "+ /home/main/miniconda/conda-bld/python-statiskit_stl_1505308958619/_t_env/bin/python -s /home/main/miniconda/conda-bld/python-statiskit_stl_1505308958619/test_tmp/run_test.py\n",
      "import: 'statiskit.stl'\n",
      "Traceback (most recent call last):\n",
      "  File \"/home/main/miniconda/conda-bld/python-statiskit_stl_1505308958619/test_tmp/run_test.py\", line 2, in <module>\n",
      "    import statiskit.stl\n",
      "  File \"/home/main/miniconda/conda-bld/python-statiskit_stl_1505308958619/_t_env/lib/python3.6/site-packages/statiskit/stl/__init__.py\", line 1, in <module>\n",
      "    from set import *\n",
      "ModuleNotFoundError: No module named 'set'\n",
      "TESTS FAILED: python-statiskit_stl-3.3.1-py36_0.tar.bz2\n",
      "Fetching package metadata .............\n",
      "Solving package specifications: .\n",
      "\n",
      "Package plan for installation in environment /home/main/miniconda:\n",
      "\n",
      "The following NEW packages will be INSTALLED:\n",
      "\n",
      "    python-statiskit_stl: 3.3.1-py36_0 local\n",
      "\n"
     ]
    }
   ],
   "source": [
    "!conda build ../git/STL/bin/conda/python-statiskit_stl -c statiskit -c conda-forge\n",
    "!conda install -y python-statiskit_stl --use-local -c statiskit --force"
   ]
  },
  {
   "cell_type": "markdown",
   "metadata": {},
   "source": [
    "Finally, we can hereafter use the *C++* library in the *Python* interpreter."
   ]
  },
  {
   "cell_type": "code",
   "execution_count": 8,
   "metadata": {},
   "outputs": [
    {
     "ename": "ModuleNotFoundError",
     "evalue": "No module named 'set'",
     "output_type": "error",
     "traceback": [
      "\u001b[0;31m---------------------------------------------------------------------------\u001b[0m",
      "\u001b[0;31mModuleNotFoundError\u001b[0m                       Traceback (most recent call last)",
      "\u001b[0;32m<ipython-input-8-6cb5d81f4060>\u001b[0m in \u001b[0;36m<module>\u001b[0;34m()\u001b[0m\n\u001b[0;32m----> 1\u001b[0;31m \u001b[0;32mfrom\u001b[0m \u001b[0mstatiskit\u001b[0m\u001b[0;34m.\u001b[0m\u001b[0mstl\u001b[0m \u001b[0;32mimport\u001b[0m \u001b[0mVectorInt\u001b[0m\u001b[0;34m\u001b[0m\u001b[0m\n\u001b[0m\u001b[1;32m      2\u001b[0m \u001b[0mv\u001b[0m \u001b[0;34m=\u001b[0m \u001b[0mVectorInt\u001b[0m\u001b[0;34m(\u001b[0m\u001b[0;34m)\u001b[0m\u001b[0;34m\u001b[0m\u001b[0m\n\u001b[1;32m      3\u001b[0m \u001b[0mv\u001b[0m\u001b[0;34m.\u001b[0m\u001b[0mpush_back\u001b[0m\u001b[0;34m(\u001b[0m\u001b[0;34m-\u001b[0m\u001b[0;36m1\u001b[0m\u001b[0;34m)\u001b[0m\u001b[0;34m\u001b[0m\u001b[0m\n\u001b[1;32m      4\u001b[0m \u001b[0mv\u001b[0m\u001b[0;34m.\u001b[0m\u001b[0mpush_back\u001b[0m\u001b[0;34m(\u001b[0m\u001b[0;36m0\u001b[0m\u001b[0;34m)\u001b[0m\u001b[0;34m\u001b[0m\u001b[0m\n\u001b[1;32m      5\u001b[0m \u001b[0mv\u001b[0m\u001b[0;34m.\u001b[0m\u001b[0mpush_back\u001b[0m\u001b[0;34m(\u001b[0m\u001b[0;36m1\u001b[0m\u001b[0;34m)\u001b[0m\u001b[0;34m\u001b[0m\u001b[0m\n",
      "\u001b[0;32m~/miniconda/lib/python3.6/site-packages/statiskit/stl/__init__.py\u001b[0m in \u001b[0;36m<module>\u001b[0;34m()\u001b[0m\n\u001b[0;32m----> 1\u001b[0;31m \u001b[0;32mfrom\u001b[0m \u001b[0mset\u001b[0m \u001b[0;32mimport\u001b[0m \u001b[0;34m*\u001b[0m\u001b[0;34m\u001b[0m\u001b[0m\n\u001b[0m\u001b[1;32m      2\u001b[0m \u001b[0;32mfrom\u001b[0m \u001b[0mvector\u001b[0m \u001b[0;32mimport\u001b[0m \u001b[0;34m*\u001b[0m\u001b[0;34m\u001b[0m\u001b[0m\n\u001b[1;32m      3\u001b[0m \u001b[0;32mfrom\u001b[0m \u001b[0mgenerator\u001b[0m \u001b[0;32mimport\u001b[0m \u001b[0;34m*\u001b[0m\u001b[0;34m\u001b[0m\u001b[0m\n",
      "\u001b[0;31mModuleNotFoundError\u001b[0m: No module named 'set'"
     ]
    }
   ],
   "source": [
    "from statiskit.stl import VectorInt\n",
    "v = VectorInt()\n",
    "v.push_back(-1)\n",
    "v.push_back(0)\n",
    "v.push_back(1)\n",
    "v"
   ]
  },
  {
   "cell_type": "code",
   "execution_count": null,
   "metadata": {},
   "outputs": [],
   "source": [
    "list(v)"
   ]
  },
  {
   "cell_type": "code",
   "execution_count": null,
   "metadata": {},
   "outputs": [],
   "source": [
    "v[0]"
   ]
  },
  {
   "cell_type": "code",
   "execution_count": null,
   "metadata": {},
   "outputs": [],
   "source": [
    "v[0] = -2\n",
    "v[0]"
   ]
  },
  {
   "cell_type": "code",
   "execution_count": null,
   "metadata": {},
   "outputs": [],
   "source": [
    "VectorInt([0, 1])"
   ]
  },
  {
   "cell_type": "markdown",
   "metadata": {},
   "source": [
    "Here is a report concerning objects wrapped using this notebook."
   ]
  },
  {
   "cell_type": "code",
   "execution_count": null,
   "metadata": {},
   "outputs": [],
   "source": [
    "import fp17\n",
    "import os\n",
    "import pickle\n",
    "with open(os.path.join(os.environ['SCONSFLAGS'].lstrip('--site-dir='),\n",
    "                       '..',\n",
    "                       '..',\n",
    "                       'autowig',\n",
    "                       'site',\n",
    "                       'ASG',\n",
    "                       'statiskit_stl.pkl'), 'r') as filehandler:\n",
    "    asg = pickle.load(filehandler)\n",
    "fp17.report(asg)"
   ]
  }
 ],
 "metadata": {
  "anaconda-cloud": {},
  "kernelspec": {
   "display_name": "Python 3",
   "language": "python",
   "name": "python3"
  },
  "language_info": {
   "codemirror_mode": {
    "name": "ipython",
    "version": 3
   },
   "file_extension": ".py",
   "mimetype": "text/x-python",
   "name": "python",
   "nbconvert_exporter": "python",
   "pygments_lexer": "ipython3",
   "version": "3.6.2"
  }
 },
 "nbformat": 4,
 "nbformat_minor": 1
}
