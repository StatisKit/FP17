{
 "cells": [
  {
   "cell_type": "markdown",
   "metadata": {
    "collapsed": true
   },
   "source": [
    "# Wrapping a template library\n",
    "\n",
    "A template library is a library where there are only template classes that can be instantiated.\n",
    "Wrapping such libraries therefore requires **AutoWIG** to be able to consider various *C++* template classes instantiations during the `Parse` step.\n",
    "It is therefore required to install the `clanglite` `parser`.\n",
    "\n",
    "The **Standard Template Library (STL)** library is a *C++* library that provides a set of common *C++* template classes such as containers and associative arrays.\n",
    "These classes can be used with any built-in or user-defined type that supports some elementary operations (e.g., copying, assignment).\n",
    "It is divided in four components called algorithms, containers, functional and iterators.\n",
    "**STL** containers (e.g., `std::vector`, `std::set`) are used in many *C++* libraries.\n",
    "In such a case, it does not seem relevant that every wrapped *C++* library contains wrappers for usual **STL** containers (e.g., `std::vector< double >`, `std::set< int >`).\n",
    "We therefore proposed *Python* bindings for some sequence containers (e.g., `vector` of the `std` namespace) and associative containers (e.g., `set`, `unordered_set` of the `std` namespace).\n",
    "These template instantiations are done for various *C++* fundamental types (e.g., `int`, `unsigned long int`, `double`) and the `string` of the `std` namespace.\n",
    "For ordered associative containers only the `std::less` comparator was used.\n",
    "For the complete procedure refer to the `AutoWIG.py` file situed at the root of the **STL** [repository](https://github.com/StatisKit/STL).\n",
    "\n",
    "\n",
    "We here aim at presenting how template libraries can be wrapped.\n",
    "First, we need:\n",
    "\n",
    "* to detect if the operating system (OS) is a Windows OS or a Unix OS."
   ]
  },
  {
   "cell_type": "markdown",
   "metadata": {},
   "source": []
  },
  {
   "cell_type": "code",
   "execution_count": null,
   "metadata": {
    "collapsed": true
   },
   "outputs": [],
   "source": [
    "import platform\n",
    "is_windows = any(platform.win32_ver())"
   ]
  },
  {
   "cell_type": "markdown",
   "metadata": {},
   "source": [
    "* to detect the version of *Python* installed and to save it in the `PYTHON_VERSION` environment variable."
   ]
  },
  {
   "cell_type": "code",
   "execution_count": null,
   "metadata": {
    "collapsed": true
   },
   "outputs": [],
   "source": [
    "import os\n",
    "import sys\n",
    "os.environ['PYTHON_VERSION'] = str(sys.version_info.major) + '.' + str(sys.version_info.minor)"
   ]
  },
  {
   "cell_type": "markdown",
   "metadata": {},
   "source": [
    "In this notebook, we do not need to import **AutoWIG** since **SCons** is configured to use the **Boost.Python** tool installed with **AutoWIG** that can be used to generate wrappers (see the `../git/STL/src/cpp/SConscript` file)."
   ]
  },
  {
   "cell_type": "code",
   "execution_count": null,
   "metadata": {},
   "outputs": [],
   "source": [
    "if is_windows:\n",
    "    !pygmentize ..\\git\\STL\\src\\cpp\\SConscript\n",
    "else:\n",
    "    !pygmentize ../git/STL/src/cpp/SConscript"
   ]
  },
  {
   "cell_type": "markdown",
   "metadata": {},
   "source": [
    "The controller is registered in the `../git/STL/src/cpp/AutoWIG.py` file"
   ]
  },
  {
   "cell_type": "code",
   "execution_count": null,
   "metadata": {},
   "outputs": [],
   "source": [
    "if is_windows:\n",
    "    !pygmentize ..\\git\\STL\\src\\cpp\\AutoWIG.py\n",
    "else:\n",
    "    !pygmentize ../git/STL/src/cpp/AutoWIG.py"
   ]
  },
  {
   "cell_type": "markdown",
   "metadata": {},
   "source": [
    "Then, in addition to the **STL** library, the **StatisKit.STL** library has to be installed in order to have access to some functionalities.\n",
    "To do so, we use available **Conda** recipes."
   ]
  },
  {
   "cell_type": "code",
   "execution_count": null,
   "metadata": {},
   "outputs": [],
   "source": [
    "if is_windows:\n",
    "    !conda build --python=%PYTHON_VERSION% ..\\git\\STL\\bin\\conda\\libstatiskit_stl -c statiskit\n",
    "else:\n",
    "    !conda build --python=$PYTHON_VERSION ../git/STL/bin/conda/libstatiskit_stl -c statiskit\n",
    "!conda install -y libstatiskit_stl --use-local -c statiskit --force"
   ]
  },
  {
   "cell_type": "markdown",
   "metadata": {},
   "source": [
    "As presented below, in order to wrap a template library, the user needs to write headers containing aliases for desired template class instantiations (see the `../git/STL/src/cpp/STL.h` file)."
   ]
  },
  {
   "cell_type": "code",
   "execution_count": null,
   "metadata": {
    "scrolled": true
   },
   "outputs": [],
   "source": [
    "if is_windows:\n",
    "    !pygmentize ..\\git\\STL\\src\\cpp\\STL.h\n",
    "else:\n",
    "    !pygmentize ../git/STL/src/cpp/STL.h"
   ]
  },
  {
   "cell_type": "markdown",
   "metadata": {},
   "source": [
    "Once these preliminaries are done, we can proceed to the actual generation of wrappers for the **STL** library.\n",
    "To do so, we need then to install the *C++* headers. \n",
    "This is done using the `cpp` target in **SCons**."
   ]
  },
  {
   "cell_type": "code",
   "execution_count": null,
   "metadata": {},
   "outputs": [],
   "source": [
    "if is_windows:\n",
    "    !scons cpp -C ..\\git\\STL\n",
    "else:\n",
    "    !scons cpp -C ../git/STL"
   ]
  },
  {
   "cell_type": "markdown",
   "metadata": {},
   "source": [
    "Once the headers have been installed in the system, we parse headers with relevant compilation flags.\n",
    "This is done using the `autowig` target in **SCons**."
   ]
  },
  {
   "cell_type": "code",
   "execution_count": null,
   "metadata": {},
   "outputs": [],
   "source": [
    "if is_windows:\n",
    "    !scons autowig -C ..\\git\\STL\n",
    "else:\n",
    "    !scons autowig -C ../git/STL"
   ]
  },
  {
   "cell_type": "markdown",
   "metadata": {},
   "source": [
    "Here is the list of the generated wrappers (untracked files)."
   ]
  },
  {
   "cell_type": "code",
   "execution_count": null,
   "metadata": {},
   "outputs": [],
   "source": [
    "if is_windows:\n",
    "    !cd ..\\git\\STL & git status\n",
    "else:\n",
    "    !cd ../git/STL && git status"
   ]
  },
  {
   "cell_type": "markdown",
   "metadata": {},
   "source": [
    "And here, we present the wrappers generated for the `std::vector< int >` class."
   ]
  },
  {
   "cell_type": "code",
   "execution_count": null,
   "metadata": {
    "scrolled": false
   },
   "outputs": [],
   "source": [
    "if is_windows:\n",
    "    !pygmentize ..\\git\\STL\\src\\py\\wrapper\\wrapper_6b9ae5eac40858c9a0f5e6e21c15d1d3.cpp\n",
    "else:\n",
    "    !pygmentize ../git/STL/src/py/wrapper/wrapper_6b9ae5eac40858c9a0f5e6e21c15d1d3.cpp"
   ]
  },
  {
   "cell_type": "markdown",
   "metadata": {},
   "source": [
    "Once the wrappers are written on disk, we need to compile and install the *Python* bindings.\n",
    "To do so, we use available **Conda** recipes."
   ]
  },
  {
   "cell_type": "code",
   "execution_count": null,
   "metadata": {
    "scrolled": true
   },
   "outputs": [],
   "source": [
    "if is_windows:\n",
    "    !conda build --python=%PYTHON_VERSION% ..\\git\\STL\\bin\\conda\\python-statiskit_stl -c statiskit -c conda-forge\n",
    "else:\n",
    "    !conda build --python=$PYTHON_VERSION ../git/STL/bin/conda/python-statiskit_stl -c statiskit -c conda-forge\n",
    "!conda install -y python-statiskit_stl --use-local -c statiskit -c conda-forge --force"
   ]
  },
  {
   "cell_type": "markdown",
   "metadata": {},
   "source": [
    "Finally, we can hereafter use the *C++* library in the *Python* interpreter."
   ]
  },
  {
   "cell_type": "code",
   "execution_count": null,
   "metadata": {},
   "outputs": [],
   "source": [
    "from statiskit.stl import VectorInt\n",
    "v = VectorInt()\n",
    "v.push_back(-1)\n",
    "v.push_back(0)\n",
    "v.push_back(1)\n",
    "v"
   ]
  },
  {
   "cell_type": "code",
   "execution_count": null,
   "metadata": {},
   "outputs": [],
   "source": [
    "list(v)"
   ]
  },
  {
   "cell_type": "code",
   "execution_count": null,
   "metadata": {},
   "outputs": [],
   "source": [
    "v[0]"
   ]
  },
  {
   "cell_type": "code",
   "execution_count": null,
   "metadata": {},
   "outputs": [],
   "source": [
    "v[0] = -2\n",
    "v[0]"
   ]
  },
  {
   "cell_type": "code",
   "execution_count": null,
   "metadata": {},
   "outputs": [],
   "source": [
    "VectorInt([0, 1])"
   ]
  },
  {
   "cell_type": "markdown",
   "metadata": {},
   "source": [
    "Here is a report concerning objects wrapped using this notebook."
   ]
  },
  {
   "cell_type": "code",
   "execution_count": null,
   "metadata": {},
   "outputs": [],
   "source": [
    "import fp17\n",
    "import os\n",
    "import pickle\n",
    "with open(os.path.join(os.environ['SCONSFLAGS'].lstrip('--site-dir='),\n",
    "                       'site_autowig',\n",
    "                       'ASG',\n",
    "                       'statiskit_stl.pkl'), 'rb') as filehandler:\n",
    "    asg = pickle.load(filehandler)\n",
    "fp17.report(asg)"
   ]
  }
 ],
 "metadata": {
  "anaconda-cloud": {},
  "kernelspec": {
   "display_name": "Python 2",
   "language": "python",
   "name": "python2"
  },
  "language_info": {
   "codemirror_mode": {
    "name": "ipython",
    "version": 2
   },
   "file_extension": ".py",
   "mimetype": "text/x-python",
   "name": "python",
   "nbconvert_exporter": "python",
   "pygments_lexer": "ipython2",
   "version": "2.7.14"
  }
 },
 "nbformat": 4,
 "nbformat_minor": 1
}
