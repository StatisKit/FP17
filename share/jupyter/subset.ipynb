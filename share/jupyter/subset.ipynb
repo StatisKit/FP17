{
 "cells": [
  {
   "cell_type": "markdown",
   "metadata": {},
   "source": [
    "# Wrapping a subset of a very large library\n",
    "\n",
    "Sometimes, for a very large library, only a subset of available *C++* components is useful for end-users.\n",
    "Wrapping such libraries therefore requires **AutoWIG** to be able to consider only a subset of the *C++* components during the `Generate` step.\n",
    "The **Clang** library is a complete *C*/*C++* compiler.\n",
    "**Clang** is a great tool, but its stable *Python* interface (i.e., **libclang**) is lacking some useful features that are needed by **AutoWIG**.\n",
    "In particular, class template specializations are not available in the abstract syntax tree.\n",
    "Fortunately, most of the classes that are needed during the traversal of the *C++* abstract syntax tree are not template specializations.\n",
    "We therefore bootstrapped the **Clang** *Python* bindings using the `libclang` `parser` of **AutoWIG**.\n",
    "This new **Clang** *Python* interface is called **ClangLite** and is able to parse class template specializations.\n",
    "As for **libclang**, this interface is proposed only for a subset of the **Clang** library sufficient enough for proposing the new `clanglite` `parser`.\n",
    "\n",
    "\n",
    "We here aim at presenting how subsets of very large libraries can be wrappred.\n",
    "First, we need:\n",
    "\n",
    "* to detect if the operating system (OS) is a Windows OS or a Unix OS."
   ]
  },
  {
   "cell_type": "code",
   "execution_count": 1,
   "metadata": {},
   "outputs": [],
   "source": [
    "import platform\n",
    "is_windows = any(platform.win32_ver())"
   ]
  },
  {
   "cell_type": "markdown",
   "metadata": {},
   "source": [
    "* to detect the version of *Python* installed and to save it in the `PYTHON_VERSION` environment variable."
   ]
  },
  {
   "cell_type": "code",
   "execution_count": 2,
   "metadata": {},
   "outputs": [],
   "source": [
    "import os\n",
    "import sys\n",
    "os.environ['PYTHON_VERSION'] = str(sys.version_info.major) + '.' + str(sys.version_info.minor)"
   ]
  },
  {
   "cell_type": "markdown",
   "metadata": {},
   "source": [
    "* to import **AutoWIG**."
   ]
  },
  {
   "cell_type": "code",
   "execution_count": 3,
   "metadata": {},
   "outputs": [],
   "source": [
    "import autowig"
   ]
  },
  {
   "cell_type": "markdown",
   "metadata": {},
   "source": [
    "Then, in addition to the **Clang** library, the **ClangLite** library has to be installed in order to have access to some functionalities.\n",
    "To do so, we use available **Conda** recipes."
   ]
  },
  {
   "cell_type": "code",
   "execution_count": 4,
   "metadata": {
    "scrolled": true
   },
   "outputs": [
    {
     "name": "stdout",
     "output_type": "stream",
     "text": [
      "\n",
      "\n",
      "\n",
      "####################################################################################\n",
      "Source and build intermediates have been left in /Users/pfernique/.miniconda/conda-bld.\n",
      "There are currently 19 accumulated.\n",
      "To remove them, you can run the ```conda build purge``` command\n",
      "Fetching package metadata .................\n",
      "Solving package specifications: .\n",
      "\n",
      "Package plan for installation in environment /Users/pfernique/.miniconda/envs/FP17:\n",
      "\n",
      "The following packages will be SUPERSEDED by a higher-priority channel:\n",
      "\n",
      "    libclanglite: 3.8.1-py27_0 statiskit --> 3.8.1-py27_0 local\n",
      "\n"
     ]
    }
   ],
   "source": [
    "if is_windows:\n",
    "    !conda build --python=%PYTHON_VERSION% ..\\git\\ClangLite\\bin\\conda\\libclanglite -c statiskit -c conda-forge\n",
    "else:\n",
    "    !conda build --python=$PYTHON_VERSION ../git/ClangLite/bin/conda/libclanglite -c statiskit -c conda-forge\n",
    "!conda install -y libclanglite --use-local -c statiskit -c conda-forge"
   ]
  },
  {
   "cell_type": "markdown",
   "metadata": {},
   "source": [
    "Once these preliminaries are done, we can proceed to the actual generation of wrappers for the **Clang** & **ClangLite** libraries.\n",
    "For this, we create an empty Abstract Semantic Graph (ASG)."
   ]
  },
  {
   "cell_type": "code",
   "execution_count": 5,
   "metadata": {},
   "outputs": [],
   "source": [
    "asg = autowig.AbstractSemanticGraph()"
   ]
  },
  {
   "cell_type": "markdown",
   "metadata": {},
   "source": [
    "We then parse the `tool.h` header of the **ClangLite** library with relevant compilation flags."
   ]
  },
  {
   "cell_type": "code",
   "execution_count": 6,
   "metadata": {
    "scrolled": true
   },
   "outputs": [
    {
     "name": "stdout",
     "output_type": "stream",
     "text": [
      "CPU times: user 3min 20s, sys: 46.5 s, total: 4min 7s\n",
      "Wall time: 4min 7s\n"
     ]
    }
   ],
   "source": [
    "%%time\n",
    "\n",
    "try:\n",
    "    from path import path as Path\n",
    "except:\n",
    "    from path import Path\n",
    "prefix = Path(sys.prefix).abspath()\n",
    "if is_windows:\n",
    "    headers = [prefix/'Library'/'include'/'clanglite'/'tool.h']\n",
    "else:\n",
    "    headers = [prefix/'include'/'clanglite'/'tool.h']\n",
    "    \n",
    "import six\n",
    "if six.PY2:\n",
    "    autowig.parser.plugin = 'libclang'\n",
    "    kwargs = dict(silent = True)\n",
    "else:\n",
    "    kwargs = dict()\n",
    "    \n",
    "flags = ['-x', 'c++', '-std=c++11',\n",
    "         '-D__STDC_LIMIT_MACROS',\n",
    "         '-D__STDC_CONSTANT_MACROS']\n",
    "if is_windows:\n",
    "    flags.append('-I' + str((prefix/'Library'/'include').abspath()))\n",
    "else:\n",
    "    flags.append('-I' + str((prefix/'include').abspath()))\n",
    "    \n",
    "asg = autowig.parser(asg,\n",
    "                     headers,\n",
    "                     flags = flags,\n",
    "                     bootstrap = False,\n",
    "                     **kwargs)"
   ]
  },
  {
   "cell_type": "markdown",
   "metadata": {},
   "source": [
    "Since most of **AutoWIG** guidelines are respected in the **Clang** & **ClangLite** libraries, the `default` `controller` implementation could be suitable.\n",
    "Nevertheless, we need to force some *C++* components to be wrapped or not (in particular **Clang** components).\n",
    "We therefore implements a new `controller`."
   ]
  },
  {
   "cell_type": "code",
   "execution_count": 7,
   "metadata": {},
   "outputs": [],
   "source": [
    "def clanglite_controller(asg):\n",
    "    \n",
    "    for node in asg['::boost::python'].classes(nested = True):\n",
    "        node.is_copyable = True\n",
    "        \n",
    "    for node in asg.classes():\n",
    "        node.boost_python_export = False\n",
    "    for node in asg.functions(free=True):\n",
    "        node.boost_python_export = False\n",
    "    for node in asg.variables(free = True):\n",
    "        node.boost_python_export = False\n",
    "    for node in asg.enumerations():\n",
    "        node.boost_python_export = False\n",
    "    for node in asg.enumerators():\n",
    "        if node.parent.boost_python_export:\n",
    "            node.boost_python_export = False\n",
    "    for node in asg.typedefs():\n",
    "        node.boost_python_export = False\n",
    "            \n",
    "    from autowig.default_controller import refactoring\n",
    "    asg = refactoring(asg)\n",
    "\n",
    "    if autowig.parser.plugin == 'libclang':\n",
    "        for fct in asg.functions(free=False):\n",
    "            asg._nodes[fct._node]['_is_virtual'] = False\n",
    "            asg._nodes[fct._node]['_is_pure'] = False\n",
    "        asg['class ::clang::QualType'].is_abstract = False\n",
    "        asg['class ::clang::QualType'].is_copyable = True\n",
    "        asg['class ::llvm::StringRef'].is_abstract = False\n",
    "        asg['class ::llvm::StringRef'].is_copyable = True\n",
    "        asg['class ::clang::FileID'].is_abstract = False\n",
    "        asg['class ::clang::FileID'].is_copyable = True\n",
    "        asg['class ::clang::SourceLocation'].is_abstract = False\n",
    "        asg['class ::clang::SourceLocation'].is_copyable = True\n",
    "        asg['class ::clang::TemplateArgument'].is_abstract = False\n",
    "        asg['class ::clang::TemplateArgument'].is_copyable = True\n",
    "        for cls in ['::clang::FriendDecl', '::clang::CapturedDecl', '::clang::OMPThreadPrivateDecl',\n",
    "                    '::clang::NonTypeTemplateParmDecl', '::clang::TemplateArgumentList', '::clang::ImportDecl',\n",
    "                    '::clang::TemplateTemplateParmDecl', '::clang::CapturedDecl', '::clang::OMPThreadPrivateDecl',\n",
    "                    '::clang::NonTypeTemplateParmDecl', '::clang::TemplateArgumentList', '::clang::ImportDecl',\n",
    "                    '::clang::TemplateTemplateParmDecl']:\n",
    "            asg['class ' + cls].is_abstract = False\n",
    "        \n",
    "    asg['class ::boost::python::api::object'].boost_python_export = True\n",
    "    asg['class ::boost::python::list'].boost_python_export = True \n",
    "    asg['class ::boost::python::str'].boost_python_export = True \n",
    "        \n",
    "    subset = []\n",
    "    classes = [asg['class ::clang::QualType'],\n",
    "               asg['class ::clang::Type'],\n",
    "               asg['class ::clang::Decl']]\n",
    "    subset += classes\n",
    "    for cls in classes:\n",
    "        subset += cls.subclasses(recursive=True)\n",
    "    for cls in subset:\n",
    "        if not cls.globalname.strip('class ') in ['::clang::QualType',\n",
    "                                                  '::llvm::StringRef',\n",
    "                                                  '::clang::FileID',\n",
    "                                                  '::clang::SourceLocation',\n",
    "                                                  '::clang::TemplateArgument',\n",
    "                                                  '::clang::FriendDecl',\n",
    "                                                  '::clang::CapturedDecl',\n",
    "                                                  '::clang::OMPThreadPrivateDecl',\n",
    "                                                  '::clang::NonTypeTemplateParmDecl',\n",
    "                                                  '::clang::TemplateArgumentList',\n",
    "                                                  '::clang::ImportDecl',\n",
    "                                                  '::clang::TemplateTemplateParmDecl']:\n",
    "            cls.is_copyable = False\n",
    "        else:\n",
    "            cls.is_copyable = True\n",
    "    subset.append(asg['class ::llvm::StringRef'])\n",
    "\n",
    "    subset.append(asg['class ::clang::ASTUnit'])\n",
    "    subset.append(asg['class ::clang::ASTContext'])\n",
    "    subset.append(asg['class ::clang::SourceManager'])\n",
    "    subset.append(asg['class ::clang::FileID'])\n",
    "\n",
    "    subset.append(asg['class ::clang::SourceLocation'])\n",
    "\n",
    "    subset.append(asg['class ::clang::CXXBaseSpecifier'])\n",
    "    subset.append(asg['class ::clang::DeclContext'])\n",
    "    subset.append(asg['class ::clang::TemplateArgument'])\n",
    "\n",
    "    subset.append(asg['class ::clang::TemplateArgumentList'])\n",
    "    subset.append(asg['enum ::clang::Type::TypeClass'])\n",
    "    subset.append(asg['enum ::clang::AccessSpecifier'])\n",
    "    subset.append(asg['enum ::clang::LinkageSpecDecl::LanguageIDs'])\n",
    "    subset.append(asg['enum ::clang::BuiltinType::Kind'])\n",
    "    subset.append(asg['enum ::clang::TemplateArgument::ArgKind'])\n",
    "    subset.append(asg['enum ::clang::Decl::Kind'])\n",
    "    subset.extend(asg.nodes('::clanglite::build_ast_from_code_with_args'))\n",
    "\n",
    "    for node in subset:\n",
    "        node.boost_python_export = True\n",
    "        \n",
    "    for fct in asg['::clanglite'].functions():\n",
    "        if not fct.localname == 'build_ast_from_code_with_args':\n",
    "            fct.parent = fct.parameters[0].qualified_type.desugared_type.unqualified_type\n",
    "        fct.boost_python_export = True\n",
    "        \n",
    "    for mtd in asg['class ::clang::ASTContext'].methods(pattern='.*getSourceManager.*'):\n",
    "        if mtd.return_type.globalname == 'class ::clang::SourceManager &':\n",
    "                mtd.boost_python_export = True\n",
    "                break\n",
    "                \n",
    "    if autowig.parser.plugin == 'libclang':\n",
    "        for node in (asg.functions(pattern='.*(llvm|clang).*_(begin|end)')\n",
    "                     + asg.functions(pattern='::clang::CXXRecordDecl::getCaptureFields')\n",
    "                     + asg.functions(pattern='.*(llvm|clang).*getNameAsString')\n",
    "                     + asg.nodes('::clang::NamedDecl::getQualifiedNameAsString')\n",
    "                     + asg.functions(pattern='.*::clang::ObjCProtocolDecl')\n",
    "                     + asg.nodes('::clang::ObjCProtocolDecl::collectInheritedProtocolProperties')\n",
    "                     + asg.nodes('::clang::ASTUnit::LoadFromASTFile')\n",
    "                     + asg.nodes('::clang::ASTUnit::getCachedCompletionTypes')\n",
    "                     + asg.nodes('::clang::ASTUnit::getBufferForFile')\n",
    "                     + asg.nodes('::clang::CXXRecordDecl::getCaptureFields')\n",
    "                     + asg.nodes('::clang::ASTContext::SectionInfos')\n",
    "                     + asg.nodes('::clang::ASTContext::getAllocator')\n",
    "                     + asg.nodes('::clang::ASTContext::getObjCEncoding.*')\n",
    "                     + asg.nodes('::clang::ASTContext::getAllocator')\n",
    "                     + asg.nodes('::clang::QualType::getAsString')\n",
    "                     + asg.nodes('::clang::SourceLocation::printToString')\n",
    "                     + asg['class ::llvm::StringRef'].methods()):\n",
    "            node.boost_python_export = False\n",
    "            \n",
    "    if autowig.parser.plugin == 'clanglite':\n",
    "        for mtd in asg['class ::clang::Decl'].methods():\n",
    "            if mtd.localname == 'hasAttr':\n",
    "                mtd.boost_python_export = False\n",
    "                \n",
    "    import sys\n",
    "    try:\n",
    "        from path import path as Path\n",
    "    except:\n",
    "        from path import Path\n",
    "       \n",
    "    import platform\n",
    "    if any(platform.win32_ver()):\n",
    "        for header in (Path(sys.prefix)/'Library'/'include'/'clang').walkfiles('*.h'):\n",
    "            asg[header.abspath()].is_external_dependency = False\n",
    "    else:\n",
    "        for header in (Path(sys.prefix)/'include'/'clang').walkfiles('*.h'):\n",
    "            asg[header.abspath()].is_external_dependency = False\n",
    "    \n",
    "    return asg"
   ]
  },
  {
   "cell_type": "markdown",
   "metadata": {},
   "source": [
    "This `controller` is then dynamically registered and used on the ASG."
   ]
  },
  {
   "cell_type": "code",
   "execution_count": 8,
   "metadata": {},
   "outputs": [
    {
     "name": "stdout",
     "output_type": "stream",
     "text": [
      "CPU times: user 22.5 s, sys: 352 ms, total: 22.8 s\n",
      "Wall time: 22.6 s\n"
     ]
    }
   ],
   "source": [
    "%%time\n",
    "\n",
    "autowig.controller['clanglite'] = clanglite_controller\n",
    "autowig.controller.plugin = 'clanglite'\n",
    "asg = autowig.controller(asg)"
   ]
  },
  {
   "cell_type": "markdown",
   "metadata": {},
   "source": [
    "In order to wrap a subset of the **Clang** library, we need to select the `boost_python_pattern` `generator` implementation."
   ]
  },
  {
   "cell_type": "code",
   "execution_count": 9,
   "metadata": {},
   "outputs": [
    {
     "name": "stdout",
     "output_type": "stream",
     "text": [
      "CPU times: user 12.3 s, sys: 101 ms, total: 12.4 s\n",
      "Wall time: 12.3 s\n"
     ]
    }
   ],
   "source": [
    "%%time\n",
    "\n",
    "autowig.generator.plugin = 'boost_python_pattern'\n",
    "wrappers = autowig.generator(asg,\n",
    "                             module = Path('.')/'..'/'git'/'ClangLite'/'src'/'py'/'_clanglite.cpp',\n",
    "                             decorator = Path('.')/'..'/'git'/'ClangLite'/'src'/'py'/'clanglite'/'_clanglite.py',\n",
    "                             closure = False)"
   ]
  },
  {
   "cell_type": "markdown",
   "metadata": {},
   "source": [
    "The wrappers are only generated in-memory.\n",
    "It is therefore needed to write them on the disk to complete the process."
   ]
  },
  {
   "cell_type": "code",
   "execution_count": 10,
   "metadata": {},
   "outputs": [
    {
     "name": "stdout",
     "output_type": "stream",
     "text": [
      "CPU times: user 2min 48s, sys: 1.05 s, total: 2min 49s\n",
      "Wall time: 2min 48s\n"
     ]
    }
   ],
   "source": [
    "%%time\n",
    "\n",
    "wrappers.write()"
   ]
  },
  {
   "cell_type": "markdown",
   "metadata": {},
   "source": [
    "Here is the list of the generated wrappers (untracked files)."
   ]
  },
  {
   "cell_type": "code",
   "execution_count": 11,
   "metadata": {},
   "outputs": [
    {
     "name": "stdout",
     "output_type": "stream",
     "text": [
      "On branch master\r\n",
      "Your branch is ahead of 'origin/master' by 1 commit.\r\n",
      "  (use \"git push\" to publish your local commits)\r\n",
      "\r\n",
      "Changes not staged for commit:\r\n",
      "  (use \"git add <file>...\" to update what will be committed)\r\n",
      "  (use \"git checkout -- <file>...\" to discard changes in working directory)\r\n",
      "\r\n",
      "\t\u001b[31mmodified:   ../../jupyter/basic.ipynb\u001b[m\r\n",
      "\t\u001b[31mmodified:   ../../jupyter/dependent.ipynb\u001b[m\r\n",
      "\t\u001b[31mmodified:   ../../jupyter/index.ipynb\u001b[m\r\n",
      "\t\u001b[31mmodified:   ../../jupyter/subset.ipynb\u001b[m\r\n",
      "\t\u001b[31mmodified:   ../../jupyter/template.ipynb\u001b[m\r\n",
      "\r\n",
      "Untracked files:\r\n",
      "  (use \"git add <file>...\" to include in what will be committed)\r\n",
      "\r\n",
      "\t\u001b[31m../../jupyter/.ipynb_checkpoints/\u001b[m\r\n",
      "\t\u001b[31m../../../src/py/_basic.cpp\u001b[m\r\n",
      "\t\u001b[31m../../../src/py/_basic.h\u001b[m\r\n",
      "\t\u001b[31m../../../src/py/basic/_basic.py\u001b[m\r\n",
      "\t\u001b[31m../../../src/py/wrapper_0f744e8d056f5d469a887c7c78eaf8fe.cpp\u001b[m\r\n",
      "\t\u001b[31m../../../src/py/wrapper_4046a8421fe9587c9dfbc97778162c7d.cpp\u001b[m\r\n",
      "\t\u001b[31m../../../src/py/wrapper_92d464d1243554009adc48a065a5be3e.cpp\u001b[m\r\n",
      "\t\u001b[31m../../../src/py/wrapper_f926cb231a7f5da09f313cd361ff94c7.cpp\u001b[m\r\n",
      "\r\n",
      "no changes added to commit (use \"git add\" and/or \"git commit -a\")\r\n"
     ]
    }
   ],
   "source": [
    "if is_windows:\n",
    "    !cd ..\\git\\ClangLite & git status\n",
    "else:\n",
    "    !cd ../git/ClangLite && git status"
   ]
  },
  {
   "cell_type": "markdown",
   "metadata": {},
   "source": [
    "And here, we present the wrappers generated for the `clang::Decl` class."
   ]
  },
  {
   "cell_type": "code",
   "execution_count": 12,
   "metadata": {
    "scrolled": true
   },
   "outputs": [
    {
     "name": "stdout",
     "output_type": "stream",
     "text": [
      "\u001b[36m#\u001b[39;49;00m\u001b[36minclude\u001b[39;49;00m \u001b[37m\"_clanglite.h\"\u001b[39;49;00m\u001b[36m\u001b[39;49;00m\r\n",
      "\r\n",
      "\r\n",
      "\r\n",
      "\u001b[34mnamespace\u001b[39;49;00m autowig\r\n",
      "{\r\n",
      "    \u001b[34mclass\u001b[39;49;00m \u001b[04m\u001b[32mWrap_a6aedb4654a55a40aeecf4b1dc5fcc98\u001b[39;49;00m : \u001b[34mpublic\u001b[39;49;00m ::clang::Decl, \u001b[34mpublic\u001b[39;49;00m boost::python::wrapper< \u001b[34mclass\u001b[39;49;00m \u001b[04m\u001b[31;01m:\u001b[39;49;00m\u001b[04m\u001b[31;01m:\u001b[39;49;00m\u001b[04m\u001b[32mclang\u001b[39;49;00m::Decl >\r\n",
      "    {\r\n",
      "        \u001b[34mpublic\u001b[39;49;00m:\r\n",
      "            \r\n",
      "\r\n",
      "        \u001b[34mprotected\u001b[39;49;00m:\r\n",
      "            \r\n",
      "\r\n",
      "        \u001b[34mprivate\u001b[39;49;00m:\r\n",
      "            \r\n",
      "\r\n",
      "    };\r\n",
      "\r\n",
      "}\r\n",
      "\r\n",
      "\u001b[36m#\u001b[39;49;00m\u001b[36mif defined(_MSC_VER)\u001b[39;49;00m\u001b[36m\u001b[39;49;00m\r\n",
      "    \u001b[36m#\u001b[39;49;00m\u001b[36mif (_MSC_VER == 1900)\u001b[39;49;00m\u001b[36m\u001b[39;49;00m\r\n",
      "\u001b[34mnamespace\u001b[39;49;00m boost\r\n",
      "{\r\n",
      "    \u001b[34mtemplate\u001b[39;49;00m <> autowig::Wrap_a6aedb4654a55a40aeecf4b1dc5fcc98 \u001b[34mconst\u001b[39;49;00m \u001b[34mvolatile\u001b[39;49;00m * get_pointer<autowig::Wrap_a6aedb4654a55a40aeecf4b1dc5fcc98 \u001b[34mconst\u001b[39;49;00m \u001b[34mvolatile\u001b[39;49;00m >(autowig::Wrap_a6aedb4654a55a40aeecf4b1dc5fcc98 \u001b[34mconst\u001b[39;49;00m \u001b[34mvolatile\u001b[39;49;00m *c) { \u001b[34mreturn\u001b[39;49;00m c; }\r\n",
      "    \u001b[34mtemplate\u001b[39;49;00m <> \u001b[34mclass\u001b[39;49;00m \u001b[04m\u001b[31;01m:\u001b[39;49;00m\u001b[04m\u001b[31;01m:\u001b[39;49;00m\u001b[04m\u001b[32mclang\u001b[39;49;00m::Decl \u001b[34mconst\u001b[39;49;00m \u001b[34mvolatile\u001b[39;49;00m * get_pointer<\u001b[34mclass\u001b[39;49;00m \u001b[04m\u001b[31;01m:\u001b[39;49;00m\u001b[04m\u001b[31;01m:\u001b[39;49;00m\u001b[04m\u001b[32mclang\u001b[39;49;00m::Decl \u001b[34mconst\u001b[39;49;00m \u001b[34mvolatile\u001b[39;49;00m >(\u001b[34mclass\u001b[39;49;00m \u001b[04m\u001b[31;01m:\u001b[39;49;00m\u001b[04m\u001b[31;01m:\u001b[39;49;00m\u001b[04m\u001b[32mclang\u001b[39;49;00m::Decl \u001b[34mconst\u001b[39;49;00m \u001b[34mvolatile\u001b[39;49;00m *c) { \u001b[34mreturn\u001b[39;49;00m c; }\r\n",
      "}\r\n",
      "    \u001b[36m#\u001b[39;49;00m\u001b[36mendif\u001b[39;49;00m\u001b[36m\u001b[39;49;00m\r\n",
      "\u001b[36m#\u001b[39;49;00m\u001b[36mendif\u001b[39;49;00m\u001b[36m\u001b[39;49;00m\r\n",
      "\r\n",
      "\r\n",
      "\r\n",
      "\u001b[36mvoid\u001b[39;49;00m wrapper_a6aedb4654a55a40aeecf4b1dc5fcc98()\r\n",
      "{\r\n",
      "\r\n",
      "    std::string name_7bbff48d109853e88270b3595c663a99 = boost::python::extract< std::string >(boost::python::scope().attr(\u001b[33m\"\u001b[39;49;00m\u001b[33m__name__\u001b[39;49;00m\u001b[33m\"\u001b[39;49;00m) + \u001b[33m\"\u001b[39;49;00m\u001b[33m.clang\u001b[39;49;00m\u001b[33m\"\u001b[39;49;00m);\r\n",
      "    boost::python::object module_7bbff48d109853e88270b3595c663a99(boost::python::handle<  >(boost::python::borrowed(PyImport_AddModule(name_7bbff48d109853e88270b3595c663a99.c_str()))));\r\n",
      "    boost::python::scope().attr(\u001b[33m\"\u001b[39;49;00m\u001b[33mclang\u001b[39;49;00m\u001b[33m\"\u001b[39;49;00m) = module_7bbff48d109853e88270b3595c663a99;\r\n",
      "    boost::python::scope scope_7bbff48d109853e88270b3595c663a99 = module_7bbff48d109853e88270b3595c663a99;\r\n",
      "    \u001b[36mvoid\u001b[39;49;00m  (*method_pointer_0f6e3571c29659008d06ad454d81f205)() = ::clang::Decl::EnableStatistics;\r\n",
      "    \u001b[36mvoid\u001b[39;49;00m  (*method_pointer_e1d33990b9e8546ab1459c69ff49df93)() = ::clang::Decl::PrintStats;\r\n",
      "    \u001b[36mvoid\u001b[39;49;00m  (*method_pointer_e7abeb5a71415966bef3cfa7d34cae3a)(\u001b[34menum\u001b[39;49;00m ::clang::Decl::Kind ) = ::clang::Decl::add;\r\n",
      "    \u001b[36mbool\u001b[39;49;00m  (::clang::Decl::*method_pointer_e200eabb7f7254c6888f4d96922d2d48)(\u001b[36mbool\u001b[39;49;00m &) \u001b[34mconst\u001b[39;49;00m = &::clang::Decl::canBeWeakImported;\r\n",
      "    \u001b[34mclass\u001b[39;49;00m \u001b[04m\u001b[31;01m:\u001b[39;49;00m\u001b[04m\u001b[31;01m:\u001b[39;49;00m\u001b[04m\u001b[32mclang\u001b[39;49;00m::Decl * (*method_pointer_0d8523477a1f5776a4cb619a681ec2a6)(\u001b[34mclass\u001b[39;49;00m \u001b[04m\u001b[31;01m:\u001b[39;49;00m\u001b[04m\u001b[31;01m:\u001b[39;49;00m\u001b[04m\u001b[32mclang\u001b[39;49;00m::DeclContext \u001b[34mconst\u001b[39;49;00m *) = ::clang::Decl::castFromDeclContext;\r\n",
      "    \u001b[34mclass\u001b[39;49;00m \u001b[04m\u001b[31;01m:\u001b[39;49;00m\u001b[04m\u001b[31;01m:\u001b[39;49;00m\u001b[04m\u001b[32mclang\u001b[39;49;00m::DeclContext * (*method_pointer_e049a91f84fd51d2bc8e4336db258c09)(\u001b[34mclass\u001b[39;49;00m \u001b[04m\u001b[31;01m:\u001b[39;49;00m\u001b[04m\u001b[31;01m:\u001b[39;49;00m\u001b[04m\u001b[32mclang\u001b[39;49;00m::Decl \u001b[34mconst\u001b[39;49;00m *) = ::clang::Decl::castToDeclContext;\r\n",
      "    \u001b[36mbool\u001b[39;49;00m  (*method_pointer_a0d8d18308515c56bd95414767172d60)(\u001b[34menum\u001b[39;49;00m ::clang::Decl::Kind ) = ::clang::Decl::classofKind;\r\n",
      "    \u001b[36mvoid\u001b[39;49;00m  (::clang::Decl::*method_pointer_fc38b50678d35d8ebe81fcced7853265)() = &::clang::Decl::dropAttrs;\r\n",
      "    \u001b[36mvoid\u001b[39;49;00m  (::clang::Decl::*method_pointer_7eba48e6e37c50a0872d99f7257c649e)() \u001b[34mconst\u001b[39;49;00m = &::clang::Decl::dump;\r\n",
      "    \u001b[36mvoid\u001b[39;49;00m  (::clang::Decl::*method_pointer_803e77bd960a5d32b030674eafe0c03c)() \u001b[34mconst\u001b[39;49;00m = &::clang::Decl::dumpColor;\r\n",
      "    \u001b[34mclass\u001b[39;49;00m \u001b[04m\u001b[31;01m:\u001b[39;49;00m\u001b[04m\u001b[31;01m:\u001b[39;49;00m\u001b[04m\u001b[32mclang\u001b[39;49;00m::ASTContext & (::clang::Decl::*method_pointer_44ea1db27f315b4f8b355102284e2ce0)() \u001b[34mconst\u001b[39;49;00m = &::clang::Decl::getASTContext;\r\n",
      "    \u001b[34menum\u001b[39;49;00m ::clang::AccessSpecifier  (::clang::Decl::*method_pointer_753d3b1f89195df7b1f46b379d4042f0)() \u001b[34mconst\u001b[39;49;00m = &::clang::Decl::getAccess;\r\n",
      "    \u001b[34menum\u001b[39;49;00m ::clang::AccessSpecifier  (::clang::Decl::*method_pointer_b7e9a49b885f59dcabe47b6c36229b9f)() \u001b[34mconst\u001b[39;49;00m = &::clang::Decl::getAccessUnsafe;\r\n",
      "    \u001b[34mclass\u001b[39;49;00m \u001b[04m\u001b[31;01m:\u001b[39;49;00m\u001b[04m\u001b[31;01m:\u001b[39;49;00m\u001b[04m\u001b[32mclang\u001b[39;49;00m::FunctionDecl \u001b[34mconst\u001b[39;49;00m * (::clang::Decl::*method_pointer_a21553bea46355d0a3fc697d0b956b2e)() \u001b[34mconst\u001b[39;49;00m = &::clang::Decl::getAsFunction;\r\n",
      "    \u001b[34mclass\u001b[39;49;00m \u001b[04m\u001b[31;01m:\u001b[39;49;00m\u001b[04m\u001b[31;01m:\u001b[39;49;00m\u001b[04m\u001b[32mclang\u001b[39;49;00m::FunctionDecl * (::clang::Decl::*method_pointer_4a3f3faaa9cd5e5db09bcc18b12c78ff)() = &::clang::Decl::getAsFunction;\r\n",
      "    \u001b[34mclass\u001b[39;49;00m \u001b[04m\u001b[31;01m:\u001b[39;49;00m\u001b[04m\u001b[31;01m:\u001b[39;49;00m\u001b[04m\u001b[32mclang\u001b[39;49;00m::SourceLocation  (::clang::Decl::*method_pointer_e374e8c21bf15379bb6096d24871af35)() \u001b[34mconst\u001b[39;49;00m = &::clang::Decl::getBodyRBrace;\r\n",
      "    \u001b[34mclass\u001b[39;49;00m \u001b[04m\u001b[31;01m:\u001b[39;49;00m\u001b[04m\u001b[31;01m:\u001b[39;49;00m\u001b[04m\u001b[32mclang\u001b[39;49;00m::Decl \u001b[34mconst\u001b[39;49;00m * (::clang::Decl::*method_pointer_7328cf4fd6335d6c82c7594b0c7f697d)() \u001b[34mconst\u001b[39;49;00m = &::clang::Decl::getCanonicalDecl;\r\n",
      "    \u001b[34mclass\u001b[39;49;00m \u001b[04m\u001b[31;01m:\u001b[39;49;00m\u001b[04m\u001b[31;01m:\u001b[39;49;00m\u001b[04m\u001b[32mclang\u001b[39;49;00m::Decl * (::clang::Decl::*method_pointer_dd572f7a8fee5d25b756eddaeeff77aa)() = &::clang::Decl::getCanonicalDecl;\r\n",
      "    \u001b[34mclass\u001b[39;49;00m \u001b[04m\u001b[31;01m:\u001b[39;49;00m\u001b[04m\u001b[31;01m:\u001b[39;49;00m\u001b[04m\u001b[32mclang\u001b[39;49;00m::DeclContext \u001b[34mconst\u001b[39;49;00m * (::clang::Decl::*method_pointer_d90995ff4c6a5be58e91aa9a55cb099c)() \u001b[34mconst\u001b[39;49;00m = &::clang::Decl::getDeclContext;\r\n",
      "    \u001b[34mclass\u001b[39;49;00m \u001b[04m\u001b[31;01m:\u001b[39;49;00m\u001b[04m\u001b[31;01m:\u001b[39;49;00m\u001b[04m\u001b[32mclang\u001b[39;49;00m::DeclContext * (::clang::Decl::*method_pointer_f83c7132ad7d5b809ffee4d5b3b39417)() = &::clang::Decl::getDeclContext;\r\n",
      "    \u001b[34mclass\u001b[39;49;00m \u001b[04m\u001b[31;01m:\u001b[39;49;00m\u001b[04m\u001b[31;01m:\u001b[39;49;00m\u001b[04m\u001b[32mclang\u001b[39;49;00m::FunctionType \u001b[34mconst\u001b[39;49;00m * (::clang::Decl::*method_pointer_05ccf2b9f87e5475aae388ba933e9c25)(\u001b[36mbool\u001b[39;49;00m ) \u001b[34mconst\u001b[39;49;00m = &::clang::Decl::getFunctionType;\r\n",
      "    \u001b[36munsigned\u001b[39;49;00m \u001b[32mint\u001b[39;49;00m  (::clang::Decl::*method_pointer_c9438e9b799c596e97ab643feb0c41ac)() \u001b[34mconst\u001b[39;49;00m = &::clang::Decl::getGlobalID;\r\n",
      "    \u001b[36munsigned\u001b[39;49;00m \u001b[32mint\u001b[39;49;00m  (::clang::Decl::*method_pointer_acc1b59fe65150cf86f41bdbb44404fb)() \u001b[34mconst\u001b[39;49;00m = &::clang::Decl::getIdentifierNamespace;\r\n",
      "    \u001b[36munsigned\u001b[39;49;00m \u001b[32mint\u001b[39;49;00m  (*method_pointer_40985e22393858518187149973d377e5)(\u001b[34menum\u001b[39;49;00m ::clang::Decl::Kind ) = ::clang::Decl::getIdentifierNamespaceForKind;\r\n",
      "    \u001b[34menum\u001b[39;49;00m ::clang::Decl::Kind  (::clang::Decl::*method_pointer_ef132e3252135c639da31f640128850e)() \u001b[34mconst\u001b[39;49;00m = &::clang::Decl::getKind;\r\n",
      "    \u001b[34mclass\u001b[39;49;00m \u001b[04m\u001b[31;01m:\u001b[39;49;00m\u001b[04m\u001b[31;01m:\u001b[39;49;00m\u001b[04m\u001b[32mclang\u001b[39;49;00m::DeclContext * (::clang::Decl::*method_pointer_7cd96b9b45dd5a56beefdc65797d6558)() = &::clang::Decl::getLexicalDeclContext;\r\n",
      "    \u001b[34mclass\u001b[39;49;00m \u001b[04m\u001b[31;01m:\u001b[39;49;00m\u001b[04m\u001b[31;01m:\u001b[39;49;00m\u001b[04m\u001b[32mclang\u001b[39;49;00m::DeclContext \u001b[34mconst\u001b[39;49;00m * (::clang::Decl::*method_pointer_f0ae45faa90f54c794ae03d93175ad0c)() \u001b[34mconst\u001b[39;49;00m = &::clang::Decl::getLexicalDeclContext;\r\n",
      "    \u001b[34mclass\u001b[39;49;00m \u001b[04m\u001b[31;01m:\u001b[39;49;00m\u001b[04m\u001b[31;01m:\u001b[39;49;00m\u001b[04m\u001b[32mclang\u001b[39;49;00m::SourceLocation  (::clang::Decl::*method_pointer_77b1027b967a519a86d7007af1f1ac76)() \u001b[34mconst\u001b[39;49;00m = &::clang::Decl::getLocEnd;\r\n",
      "    \u001b[34mclass\u001b[39;49;00m \u001b[04m\u001b[31;01m:\u001b[39;49;00m\u001b[04m\u001b[31;01m:\u001b[39;49;00m\u001b[04m\u001b[32mclang\u001b[39;49;00m::SourceLocation  (::clang::Decl::*method_pointer_e58a65651a9a5134ad16d00510a4f43c)() \u001b[34mconst\u001b[39;49;00m = &::clang::Decl::getLocStart;\r\n",
      "    \u001b[34mclass\u001b[39;49;00m \u001b[04m\u001b[31;01m:\u001b[39;49;00m\u001b[04m\u001b[31;01m:\u001b[39;49;00m\u001b[04m\u001b[32mclang\u001b[39;49;00m::SourceLocation  (::clang::Decl::*method_pointer_829df40a405457d7a5b466a82e4e9a8a)() \u001b[34mconst\u001b[39;49;00m = &::clang::Decl::getLocation;\r\n",
      "    \u001b[36munsigned\u001b[39;49;00m \u001b[32mint\u001b[39;49;00m  (::clang::Decl::*method_pointer_7b555cd83940599aba60d8ba3534c284)() \u001b[34mconst\u001b[39;49;00m = &::clang::Decl::getMaxAlignment;\r\n",
      "    \u001b[34mclass\u001b[39;49;00m \u001b[04m\u001b[31;01m:\u001b[39;49;00m\u001b[04m\u001b[31;01m:\u001b[39;49;00m\u001b[04m\u001b[32mclang\u001b[39;49;00m::Decl \u001b[34mconst\u001b[39;49;00m * (::clang::Decl::*method_pointer_980b4bd5ec495b75b506540ae5ac1f4d)() \u001b[34mconst\u001b[39;49;00m = &::clang::Decl::getMostRecentDecl;\r\n",
      "    \u001b[34mclass\u001b[39;49;00m \u001b[04m\u001b[31;01m:\u001b[39;49;00m\u001b[04m\u001b[31;01m:\u001b[39;49;00m\u001b[04m\u001b[32mclang\u001b[39;49;00m::Decl * (::clang::Decl::*method_pointer_d4e9084157165aaa9bc70bf7588b2403)() = &::clang::Decl::getMostRecentDecl;\r\n",
      "    \u001b[34mclass\u001b[39;49;00m \u001b[04m\u001b[31;01m:\u001b[39;49;00m\u001b[04m\u001b[31;01m:\u001b[39;49;00m\u001b[04m\u001b[32mclang\u001b[39;49;00m::Decl * (::clang::Decl::*method_pointer_9a481600c3fb5ce6945b994c90bf835f)() = &::clang::Decl::getNextDeclInContext;\r\n",
      "    \u001b[34mclass\u001b[39;49;00m \u001b[04m\u001b[31;01m:\u001b[39;49;00m\u001b[04m\u001b[31;01m:\u001b[39;49;00m\u001b[04m\u001b[32mclang\u001b[39;49;00m::Decl \u001b[34mconst\u001b[39;49;00m * (::clang::Decl::*method_pointer_728cc61a1e5458adbbc72311d86f1eb6)() \u001b[34mconst\u001b[39;49;00m = &::clang::Decl::getNextDeclInContext;\r\n",
      "    \u001b[34mclass\u001b[39;49;00m \u001b[04m\u001b[31;01m:\u001b[39;49;00m\u001b[04m\u001b[31;01m:\u001b[39;49;00m\u001b[04m\u001b[32mclang\u001b[39;49;00m::Decl \u001b[34mconst\u001b[39;49;00m * (::clang::Decl::*method_pointer_8d2ac834c9e1596fafc8d27be3dfd474)() \u001b[34mconst\u001b[39;49;00m = &::clang::Decl::getNonClosureContext;\r\n",
      "    \u001b[34mclass\u001b[39;49;00m \u001b[04m\u001b[31;01m:\u001b[39;49;00m\u001b[04m\u001b[31;01m:\u001b[39;49;00m\u001b[04m\u001b[32mclang\u001b[39;49;00m::Decl * (::clang::Decl::*method_pointer_ff9da602d8b054f9b59da76d4db56263)() = &::clang::Decl::getNonClosureContext;\r\n",
      "    \u001b[36munsigned\u001b[39;49;00m \u001b[32mint\u001b[39;49;00m  (::clang::Decl::*method_pointer_83ebce20e86c5b32a4f38db0f809a89f)() \u001b[34mconst\u001b[39;49;00m = &::clang::Decl::getOwningModuleID;\r\n",
      "    \u001b[34mclass\u001b[39;49;00m \u001b[04m\u001b[31;01m:\u001b[39;49;00m\u001b[04m\u001b[31;01m:\u001b[39;49;00m\u001b[04m\u001b[32mclang\u001b[39;49;00m::DeclContext * (::clang::Decl::*method_pointer_ddb1cd90b7b9516bbff48bfd5d75b4fa)() = &::clang::Decl::getParentFunctionOrMethod;\r\n",
      "    \u001b[34mclass\u001b[39;49;00m \u001b[04m\u001b[31;01m:\u001b[39;49;00m\u001b[04m\u001b[31;01m:\u001b[39;49;00m\u001b[04m\u001b[32mclang\u001b[39;49;00m::DeclContext \u001b[34mconst\u001b[39;49;00m * (::clang::Decl::*method_pointer_ce338fc54a8453998fd72992c138383c)() \u001b[34mconst\u001b[39;49;00m = &::clang::Decl::getParentFunctionOrMethod;\r\n",
      "    \u001b[34mclass\u001b[39;49;00m \u001b[04m\u001b[31;01m:\u001b[39;49;00m\u001b[04m\u001b[31;01m:\u001b[39;49;00m\u001b[04m\u001b[32mclang\u001b[39;49;00m::Decl \u001b[34mconst\u001b[39;49;00m * (::clang::Decl::*method_pointer_856cd46d1d5254b0b1eacab1f2161c2d)() \u001b[34mconst\u001b[39;49;00m = &::clang::Decl::getPreviousDecl;\r\n",
      "    \u001b[34mclass\u001b[39;49;00m \u001b[04m\u001b[31;01m:\u001b[39;49;00m\u001b[04m\u001b[31;01m:\u001b[39;49;00m\u001b[04m\u001b[32mclang\u001b[39;49;00m::Decl * (::clang::Decl::*method_pointer_b3371f08247d5b63b94ba09aab0b60e9)() = &::clang::Decl::getPreviousDecl;\r\n",
      "    \u001b[34mclass\u001b[39;49;00m \u001b[04m\u001b[31;01m:\u001b[39;49;00m\u001b[04m\u001b[31;01m:\u001b[39;49;00m\u001b[04m\u001b[32mclang\u001b[39;49;00m::TranslationUnitDecl * (::clang::Decl::*method_pointer_1f61cfc3cc9c597195e4e43fc360d8e3)() = &::clang::Decl::getTranslationUnitDecl;\r\n",
      "    \u001b[34mclass\u001b[39;49;00m \u001b[04m\u001b[31;01m:\u001b[39;49;00m\u001b[04m\u001b[31;01m:\u001b[39;49;00m\u001b[04m\u001b[32mclang\u001b[39;49;00m::TranslationUnitDecl \u001b[34mconst\u001b[39;49;00m * (::clang::Decl::*method_pointer_d258ed71ee025de78a370b9c4afa3910)() \u001b[34mconst\u001b[39;49;00m = &::clang::Decl::getTranslationUnitDecl;\r\n",
      "    \u001b[36mbool\u001b[39;49;00m  (::clang::Decl::*method_pointer_21c21d26b85a5213a75a67fd0fb8affb)() \u001b[34mconst\u001b[39;49;00m = &::clang::Decl::hasAttrs;\r\n",
      "    \u001b[36mbool\u001b[39;49;00m  (::clang::Decl::*method_pointer_9fb428bf9fed5b12b28d0d4a3fd0fe3a)() \u001b[34mconst\u001b[39;49;00m = &::clang::Decl::hasBody;\r\n",
      "    \u001b[36mbool\u001b[39;49;00m  (::clang::Decl::*method_pointer_f3b7f1e27d9e527b853b389b71bbff3c)() \u001b[34mconst\u001b[39;49;00m = &::clang::Decl::hasTagIdentifierNamespace;\r\n",
      "    \u001b[36mbool\u001b[39;49;00m  (::clang::Decl::*method_pointer_6b0441a394c75d4a86f4f8e4caf29398)() \u001b[34mconst\u001b[39;49;00m = &::clang::Decl::isCanonicalDecl;\r\n",
      "    \u001b[36mbool\u001b[39;49;00m  (::clang::Decl::*method_pointer_4b6236f3878151a2b363418c7e52511d)() \u001b[34mconst\u001b[39;49;00m = &::clang::Decl::isDefinedOutsideFunctionOrMethod;\r\n",
      "    \u001b[36mbool\u001b[39;49;00m  (::clang::Decl::*method_pointer_24e40f781150596ca7f5273a4c2f4522)() \u001b[34mconst\u001b[39;49;00m = &::clang::Decl::isFirstDecl;\r\n",
      "    \u001b[36mbool\u001b[39;49;00m  (::clang::Decl::*method_pointer_6c43696e2ec854c0bf5100dcd4699b4b)() \u001b[34mconst\u001b[39;49;00m = &::clang::Decl::isFromASTFile;\r\n",
      "    \u001b[36mbool\u001b[39;49;00m  (::clang::Decl::*method_pointer_6319c723244856fb9e4b046e81e5aaed)() \u001b[34mconst\u001b[39;49;00m = &::clang::Decl::isFunctionOrFunctionTemplate;\r\n",
      "    \u001b[36mbool\u001b[39;49;00m  (::clang::Decl::*method_pointer_d8939ccab0dd55f0b1838165f6e507fc)() \u001b[34mconst\u001b[39;49;00m = &::clang::Decl::isImplicit;\r\n",
      "    \u001b[36mbool\u001b[39;49;00m  (::clang::Decl::*method_pointer_86b1c0dfb67e5a4e9ea75753e6bb9858)() \u001b[34mconst\u001b[39;49;00m = &::clang::Decl::isInAnonymousNamespace;\r\n",
      "    \u001b[36mbool\u001b[39;49;00m  (::clang::Decl::*method_pointer_90abe0be1b5055648974f6b1b7a80b24)(\u001b[36munsigned\u001b[39;49;00m \u001b[36mint\u001b[39;49;00m ) \u001b[34mconst\u001b[39;49;00m = &::clang::Decl::isInIdentifierNamespace;\r\n",
      "    \u001b[36mbool\u001b[39;49;00m  (::clang::Decl::*method_pointer_0ef1773cac0a57dca4ede182647feff2)() \u001b[34mconst\u001b[39;49;00m = &::clang::Decl::isInStdNamespace;\r\n",
      "    \u001b[36mbool\u001b[39;49;00m  (::clang::Decl::*method_pointer_6ecf32ec2ec45346a53b4e0dd086b63e)() \u001b[34mconst\u001b[39;49;00m = &::clang::Decl::isInvalidDecl;\r\n",
      "    \u001b[36mbool\u001b[39;49;00m  (::clang::Decl::*method_pointer_b6be3077529b54c4bf8716d9236685c6)() \u001b[34mconst\u001b[39;49;00m = &::clang::Decl::isLexicallyWithinFunctionOrMethod;\r\n",
      "    \u001b[36mbool\u001b[39;49;00m  (::clang::Decl::*method_pointer_61d8c6030a2257629a3593ccad2154df)() = &::clang::Decl::isLocalExternDecl;\r\n",
      "    \u001b[36mbool\u001b[39;49;00m  (::clang::Decl::*method_pointer_c6061e30075354d9aa6c6dc491ec8537)() \u001b[34mconst\u001b[39;49;00m = &::clang::Decl::isModulePrivate;\r\n",
      "    \u001b[36mbool\u001b[39;49;00m  (::clang::Decl::*method_pointer_1059b0f44c4658c88c8d38c45ce15404)() \u001b[34mconst\u001b[39;49;00m = &::clang::Decl::isOutOfLine;\r\n",
      "    \u001b[36mbool\u001b[39;49;00m  (::clang::Decl::*method_pointer_92446016c1f7560fb3447cd606932e33)() \u001b[34mconst\u001b[39;49;00m = &::clang::Decl::isParameterPack;\r\n",
      "    \u001b[36mbool\u001b[39;49;00m  (::clang::Decl::*method_pointer_d4af83f991275d50beba5adcaa574450)() \u001b[34mconst\u001b[39;49;00m = &::clang::Decl::isReferenced;\r\n",
      "    \u001b[36mbool\u001b[39;49;00m  (*method_pointer_6dcf03d0a1505056a33571cbb2032ab2)(\u001b[36munsigned\u001b[39;49;00m \u001b[36mint\u001b[39;49;00m ) = ::clang::Decl::isTagIdentifierNamespace;\r\n",
      "    \u001b[36mbool\u001b[39;49;00m  (::clang::Decl::*method_pointer_251d6106b74d537dbd4f2dc7e84d4f2c)() \u001b[34mconst\u001b[39;49;00m = &::clang::Decl::isTemplateDecl;\r\n",
      "    \u001b[36mbool\u001b[39;49;00m  (::clang::Decl::*method_pointer_f10b07ca835e5899b09c5128ce5adac7)() \u001b[34mconst\u001b[39;49;00m = &::clang::Decl::isTemplateParameter;\r\n",
      "    \u001b[36mbool\u001b[39;49;00m  (::clang::Decl::*method_pointer_d56f9a22924b56e18e58a31ac84af172)() \u001b[34mconst\u001b[39;49;00m = &::clang::Decl::isTemplateParameterPack;\r\n",
      "    \u001b[36mbool\u001b[39;49;00m  (::clang::Decl::*method_pointer_f7b98588012b5c6caf281ca413165218)() \u001b[34mconst\u001b[39;49;00m = &::clang::Decl::isThisDeclarationReferenced;\r\n",
      "    \u001b[36mbool\u001b[39;49;00m  (::clang::Decl::*method_pointer_74a590492b565fb5ae89cf2735e66163)() \u001b[34mconst\u001b[39;49;00m = &::clang::Decl::isTopLevelDeclInObjCContainer;\r\n",
      "    \u001b[36mbool\u001b[39;49;00m  (::clang::Decl::*method_pointer_fe38f7da1b875561a11196fb7608cd8c)(\u001b[36mbool\u001b[39;49;00m ) \u001b[34mconst\u001b[39;49;00m = &::clang::Decl::isUsed;\r\n"
     ]
    },
    {
     "name": "stdout",
     "output_type": "stream",
     "text": [
      "    \u001b[36mbool\u001b[39;49;00m  (::clang::Decl::*method_pointer_480921ff84f05fb7ba00a4c38c2478fd)() \u001b[34mconst\u001b[39;49;00m = &::clang::Decl::isWeakImported;\r\n",
      "    \u001b[36mvoid\u001b[39;49;00m  (::clang::Decl::*method_pointer_88a9fa98d4515a259477670ce1f7b9fc)(\u001b[34mclass\u001b[39;49;00m \u001b[04m\u001b[31;01m:\u001b[39;49;00m\u001b[04m\u001b[31;01m:\u001b[39;49;00m\u001b[04m\u001b[32mclang\u001b[39;49;00m::ASTContext &) = &::clang::Decl::markUsed;\r\n",
      "    \u001b[36mvoid\u001b[39;49;00m  (::clang::Decl::*method_pointer_03197315308e56aca991b60a7dede286)(\u001b[34menum\u001b[39;49;00m ::clang::AccessSpecifier ) = &::clang::Decl::setAccess;\r\n",
      "    \u001b[36mvoid\u001b[39;49;00m  (::clang::Decl::*method_pointer_7328d8d92708536db0be85b8719b5eee)(\u001b[34mclass\u001b[39;49;00m \u001b[04m\u001b[31;01m:\u001b[39;49;00m\u001b[04m\u001b[31;01m:\u001b[39;49;00m\u001b[04m\u001b[32mclang\u001b[39;49;00m::DeclContext *) = &::clang::Decl::setDeclContext;\r\n",
      "    \u001b[36mvoid\u001b[39;49;00m  (::clang::Decl::*method_pointer_b40f24ee4be052ea9d923070b0fcacd3)(\u001b[36mbool\u001b[39;49;00m ) = &::clang::Decl::setImplicit;\r\n",
      "    \u001b[36mvoid\u001b[39;49;00m  (::clang::Decl::*method_pointer_e848605664f35fc09b79c25bd964bf9f)(\u001b[36mbool\u001b[39;49;00m ) = &::clang::Decl::setInvalidDecl;\r\n",
      "    \u001b[36mvoid\u001b[39;49;00m  (::clang::Decl::*method_pointer_8c717110d0ee57fb8718e4e62e032bf1)() = &::clang::Decl::setIsUsed;\r\n",
      "    \u001b[36mvoid\u001b[39;49;00m  (::clang::Decl::*method_pointer_ccaa41017a445efda8bd0d3dd3c1a637)(\u001b[34mclass\u001b[39;49;00m \u001b[04m\u001b[31;01m:\u001b[39;49;00m\u001b[04m\u001b[31;01m:\u001b[39;49;00m\u001b[04m\u001b[32mclang\u001b[39;49;00m::DeclContext *) = &::clang::Decl::setLexicalDeclContext;\r\n",
      "    \u001b[36mvoid\u001b[39;49;00m  (::clang::Decl::*method_pointer_5674e32d2ee656e9b7680b3ea9fb5736)() = &::clang::Decl::setLocalExternDecl;\r\n",
      "    \u001b[36mvoid\u001b[39;49;00m  (::clang::Decl::*method_pointer_ed72436729625246939d9e5f147f79a4)(\u001b[34mclass\u001b[39;49;00m \u001b[04m\u001b[31;01m:\u001b[39;49;00m\u001b[04m\u001b[31;01m:\u001b[39;49;00m\u001b[04m\u001b[32mclang\u001b[39;49;00m::SourceLocation ) = &::clang::Decl::setLocation;\r\n",
      "    \u001b[36mvoid\u001b[39;49;00m  (::clang::Decl::*method_pointer_1f842522ad61514483262f87f3054bb3)() = &::clang::Decl::setNonMemberOperator;\r\n",
      "    \u001b[36mvoid\u001b[39;49;00m  (::clang::Decl::*method_pointer_e747d7ea60ba5050a8002938de3319fd)(\u001b[36mbool\u001b[39;49;00m ) = &::clang::Decl::setObjectOfFriendDecl;\r\n",
      "    \u001b[36mvoid\u001b[39;49;00m  (::clang::Decl::*method_pointer_3e667d38b1165293982482b4b10a0daa)(\u001b[36mbool\u001b[39;49;00m ) = &::clang::Decl::setReferenced;\r\n",
      "    \u001b[36mvoid\u001b[39;49;00m  (::clang::Decl::*method_pointer_e8382280f3a25f27af56c4e074b62942)(\u001b[36mbool\u001b[39;49;00m ) = &::clang::Decl::setTopLevelDeclInObjCContainer;\r\n",
      "    \u001b[34mstruct\u001b[39;49;00m function_group\r\n",
      "    {\r\n",
      "        \u001b[34mstatic\u001b[39;49;00m \u001b[34mclass\u001b[39;49;00m \u001b[04m\u001b[31;01m:\u001b[39;49;00m\u001b[04m\u001b[31;01m:\u001b[39;49;00m\u001b[04m\u001b[32mboost\u001b[39;49;00m::python::str  function_2f57761bdd4557c4a0c6105a5a01623b(\u001b[34mclass\u001b[39;49;00m \u001b[04m\u001b[31;01m:\u001b[39;49;00m\u001b[04m\u001b[31;01m:\u001b[39;49;00m\u001b[04m\u001b[32mclang\u001b[39;49;00m::Decl * parameter_0)\r\n",
      "        { \u001b[34mreturn\u001b[39;49;00m ::clanglite::get_comment(parameter_0); }\r\n",
      "    };\r\n",
      "    boost::python::class_< autowig::Wrap_a6aedb4654a55a40aeecf4b1dc5fcc98, autowig::Held< autowig::Wrap_a6aedb4654a55a40aeecf4b1dc5fcc98 >::Type, boost::noncopyable > class_a6aedb4654a55a40aeecf4b1dc5fcc98(\u001b[33m\"\u001b[39;49;00m\u001b[33mDecl\u001b[39;49;00m\u001b[33m\"\u001b[39;49;00m, \u001b[33m\"\u001b[39;49;00m\u001b[33m\"\u001b[39;49;00m, boost::python::no_init);\r\n",
      "    class_a6aedb4654a55a40aeecf4b1dc5fcc98.def(\u001b[33m\"\u001b[39;49;00m\u001b[33menable_statistics\u001b[39;49;00m\u001b[33m\"\u001b[39;49;00m, method_pointer_0f6e3571c29659008d06ad454d81f205, \u001b[33m\"\u001b[39;49;00m\u001b[33m\"\u001b[39;49;00m);\r\n",
      "    class_a6aedb4654a55a40aeecf4b1dc5fcc98.def(\u001b[33m\"\u001b[39;49;00m\u001b[33mprint_stats\u001b[39;49;00m\u001b[33m\"\u001b[39;49;00m, method_pointer_e1d33990b9e8546ab1459c69ff49df93, \u001b[33m\"\u001b[39;49;00m\u001b[33m\"\u001b[39;49;00m);\r\n",
      "    class_a6aedb4654a55a40aeecf4b1dc5fcc98.def(\u001b[33m\"\u001b[39;49;00m\u001b[33madd\u001b[39;49;00m\u001b[33m\"\u001b[39;49;00m, method_pointer_e7abeb5a71415966bef3cfa7d34cae3a, \u001b[33m\"\u001b[39;49;00m\u001b[33m\"\u001b[39;49;00m);\r\n",
      "    class_a6aedb4654a55a40aeecf4b1dc5fcc98.def(\u001b[33m\"\u001b[39;49;00m\u001b[33mcan_be_weak_imported\u001b[39;49;00m\u001b[33m\"\u001b[39;49;00m, method_pointer_e200eabb7f7254c6888f4d96922d2d48, \u001b[33m\"\u001b[39;49;00m\u001b[33m\"\u001b[39;49;00m);\r\n",
      "    class_a6aedb4654a55a40aeecf4b1dc5fcc98.def(\u001b[33m\"\u001b[39;49;00m\u001b[33mcast_from_decl_context\u001b[39;49;00m\u001b[33m\"\u001b[39;49;00m, method_pointer_0d8523477a1f5776a4cb619a681ec2a6, boost::python::return_value_policy< boost::python::reference_existing_object >(), \u001b[33m\"\u001b[39;49;00m\u001b[33m\"\u001b[39;49;00m);\r\n",
      "    class_a6aedb4654a55a40aeecf4b1dc5fcc98.def(\u001b[33m\"\u001b[39;49;00m\u001b[33mcast_to_decl_context\u001b[39;49;00m\u001b[33m\"\u001b[39;49;00m, method_pointer_e049a91f84fd51d2bc8e4336db258c09, boost::python::return_value_policy< boost::python::reference_existing_object >(), \u001b[33m\"\u001b[39;49;00m\u001b[33m\"\u001b[39;49;00m);\r\n",
      "    class_a6aedb4654a55a40aeecf4b1dc5fcc98.def(\u001b[33m\"\u001b[39;49;00m\u001b[33mclassof_kind\u001b[39;49;00m\u001b[33m\"\u001b[39;49;00m, method_pointer_a0d8d18308515c56bd95414767172d60, \u001b[33m\"\u001b[39;49;00m\u001b[33m\"\u001b[39;49;00m);\r\n",
      "    class_a6aedb4654a55a40aeecf4b1dc5fcc98.def(\u001b[33m\"\u001b[39;49;00m\u001b[33mdrop_attrs\u001b[39;49;00m\u001b[33m\"\u001b[39;49;00m, method_pointer_fc38b50678d35d8ebe81fcced7853265, \u001b[33m\"\u001b[39;49;00m\u001b[33m\"\u001b[39;49;00m);\r\n",
      "    class_a6aedb4654a55a40aeecf4b1dc5fcc98.def(\u001b[33m\"\u001b[39;49;00m\u001b[33mdump\u001b[39;49;00m\u001b[33m\"\u001b[39;49;00m, method_pointer_7eba48e6e37c50a0872d99f7257c649e, \u001b[33m\"\u001b[39;49;00m\u001b[33m\"\u001b[39;49;00m);\r\n",
      "    class_a6aedb4654a55a40aeecf4b1dc5fcc98.def(\u001b[33m\"\u001b[39;49;00m\u001b[33mdump_color\u001b[39;49;00m\u001b[33m\"\u001b[39;49;00m, method_pointer_803e77bd960a5d32b030674eafe0c03c, \u001b[33m\"\u001b[39;49;00m\u001b[33m\"\u001b[39;49;00m);\r\n",
      "    class_a6aedb4654a55a40aeecf4b1dc5fcc98.def(\u001b[33m\"\u001b[39;49;00m\u001b[33mget_ast_context\u001b[39;49;00m\u001b[33m\"\u001b[39;49;00m, method_pointer_44ea1db27f315b4f8b355102284e2ce0, boost::python::return_internal_reference<>(), \u001b[33m\"\u001b[39;49;00m\u001b[33m\"\u001b[39;49;00m);\r\n",
      "    class_a6aedb4654a55a40aeecf4b1dc5fcc98.def(\u001b[33m\"\u001b[39;49;00m\u001b[33mget_access\u001b[39;49;00m\u001b[33m\"\u001b[39;49;00m, method_pointer_753d3b1f89195df7b1f46b379d4042f0, \u001b[33m\"\u001b[39;49;00m\u001b[33m\"\u001b[39;49;00m);\r\n",
      "    class_a6aedb4654a55a40aeecf4b1dc5fcc98.def(\u001b[33m\"\u001b[39;49;00m\u001b[33mget_access_unsafe\u001b[39;49;00m\u001b[33m\"\u001b[39;49;00m, method_pointer_b7e9a49b885f59dcabe47b6c36229b9f, \u001b[33m\"\u001b[39;49;00m\u001b[33m\"\u001b[39;49;00m);\r\n",
      "    class_a6aedb4654a55a40aeecf4b1dc5fcc98.def(\u001b[33m\"\u001b[39;49;00m\u001b[33mget_as_function\u001b[39;49;00m\u001b[33m\"\u001b[39;49;00m, method_pointer_a21553bea46355d0a3fc697d0b956b2e, boost::python::return_value_policy< boost::python::reference_existing_object >(), \u001b[33m\"\u001b[39;49;00m\u001b[33m\"\u001b[39;49;00m);\r\n",
      "    class_a6aedb4654a55a40aeecf4b1dc5fcc98.def(\u001b[33m\"\u001b[39;49;00m\u001b[33mget_as_function\u001b[39;49;00m\u001b[33m\"\u001b[39;49;00m, method_pointer_4a3f3faaa9cd5e5db09bcc18b12c78ff, boost::python::return_value_policy< boost::python::reference_existing_object >(), \u001b[33m\"\u001b[39;49;00m\u001b[33m\"\u001b[39;49;00m);\r\n",
      "    class_a6aedb4654a55a40aeecf4b1dc5fcc98.def(\u001b[33m\"\u001b[39;49;00m\u001b[33mget_body_r_brace\u001b[39;49;00m\u001b[33m\"\u001b[39;49;00m, method_pointer_e374e8c21bf15379bb6096d24871af35, \u001b[33m\"\u001b[39;49;00m\u001b[33m\"\u001b[39;49;00m);\r\n",
      "    class_a6aedb4654a55a40aeecf4b1dc5fcc98.def(\u001b[33m\"\u001b[39;49;00m\u001b[33mget_canonical_decl\u001b[39;49;00m\u001b[33m\"\u001b[39;49;00m, method_pointer_7328cf4fd6335d6c82c7594b0c7f697d, boost::python::return_value_policy< boost::python::reference_existing_object >(), \u001b[33m\"\u001b[39;49;00m\u001b[33m\"\u001b[39;49;00m);\r\n",
      "    class_a6aedb4654a55a40aeecf4b1dc5fcc98.def(\u001b[33m\"\u001b[39;49;00m\u001b[33mget_canonical_decl\u001b[39;49;00m\u001b[33m\"\u001b[39;49;00m, method_pointer_dd572f7a8fee5d25b756eddaeeff77aa, boost::python::return_value_policy< boost::python::reference_existing_object >(), \u001b[33m\"\u001b[39;49;00m\u001b[33m\"\u001b[39;49;00m);\r\n",
      "    class_a6aedb4654a55a40aeecf4b1dc5fcc98.def(\u001b[33m\"\u001b[39;49;00m\u001b[33mget_decl_context\u001b[39;49;00m\u001b[33m\"\u001b[39;49;00m, method_pointer_d90995ff4c6a5be58e91aa9a55cb099c, boost::python::return_value_policy< boost::python::reference_existing_object >(), \u001b[33m\"\u001b[39;49;00m\u001b[33m\"\u001b[39;49;00m);\r\n",
      "    class_a6aedb4654a55a40aeecf4b1dc5fcc98.def(\u001b[33m\"\u001b[39;49;00m\u001b[33mget_decl_context\u001b[39;49;00m\u001b[33m\"\u001b[39;49;00m, method_pointer_f83c7132ad7d5b809ffee4d5b3b39417, boost::python::return_value_policy< boost::python::reference_existing_object >(), \u001b[33m\"\u001b[39;49;00m\u001b[33m\"\u001b[39;49;00m);\r\n",
      "    class_a6aedb4654a55a40aeecf4b1dc5fcc98.def(\u001b[33m\"\u001b[39;49;00m\u001b[33mget_function_type\u001b[39;49;00m\u001b[33m\"\u001b[39;49;00m, method_pointer_05ccf2b9f87e5475aae388ba933e9c25, boost::python::return_value_policy< boost::python::reference_existing_object >(), \u001b[33m\"\u001b[39;49;00m\u001b[33m\"\u001b[39;49;00m);\r\n",
      "    class_a6aedb4654a55a40aeecf4b1dc5fcc98.def(\u001b[33m\"\u001b[39;49;00m\u001b[33mget_global_id\u001b[39;49;00m\u001b[33m\"\u001b[39;49;00m, method_pointer_c9438e9b799c596e97ab643feb0c41ac, \u001b[33m\"\u001b[39;49;00m\u001b[33m\"\u001b[39;49;00m);\r\n",
      "    class_a6aedb4654a55a40aeecf4b1dc5fcc98.def(\u001b[33m\"\u001b[39;49;00m\u001b[33mget_identifier_namespace\u001b[39;49;00m\u001b[33m\"\u001b[39;49;00m, method_pointer_acc1b59fe65150cf86f41bdbb44404fb, \u001b[33m\"\u001b[39;49;00m\u001b[33m\"\u001b[39;49;00m);\r\n",
      "    class_a6aedb4654a55a40aeecf4b1dc5fcc98.def(\u001b[33m\"\u001b[39;49;00m\u001b[33mget_identifier_namespace_for_kind\u001b[39;49;00m\u001b[33m\"\u001b[39;49;00m, method_pointer_40985e22393858518187149973d377e5, \u001b[33m\"\u001b[39;49;00m\u001b[33m\"\u001b[39;49;00m);\r\n",
      "    class_a6aedb4654a55a40aeecf4b1dc5fcc98.def(\u001b[33m\"\u001b[39;49;00m\u001b[33mget_kind\u001b[39;49;00m\u001b[33m\"\u001b[39;49;00m, method_pointer_ef132e3252135c639da31f640128850e, \u001b[33m\"\u001b[39;49;00m\u001b[33m\"\u001b[39;49;00m);\r\n",
      "    class_a6aedb4654a55a40aeecf4b1dc5fcc98.def(\u001b[33m\"\u001b[39;49;00m\u001b[33mget_lexical_decl_context\u001b[39;49;00m\u001b[33m\"\u001b[39;49;00m, method_pointer_7cd96b9b45dd5a56beefdc65797d6558, boost::python::return_value_policy< boost::python::reference_existing_object >(), \u001b[33m\"\u001b[39;49;00m\u001b[33m\"\u001b[39;49;00m);\r\n",
      "    class_a6aedb4654a55a40aeecf4b1dc5fcc98.def(\u001b[33m\"\u001b[39;49;00m\u001b[33mget_lexical_decl_context\u001b[39;49;00m\u001b[33m\"\u001b[39;49;00m, method_pointer_f0ae45faa90f54c794ae03d93175ad0c, boost::python::return_value_policy< boost::python::reference_existing_object >(), \u001b[33m\"\u001b[39;49;00m\u001b[33m\"\u001b[39;49;00m);\r\n",
      "    class_a6aedb4654a55a40aeecf4b1dc5fcc98.def(\u001b[33m\"\u001b[39;49;00m\u001b[33mget_loc_end\u001b[39;49;00m\u001b[33m\"\u001b[39;49;00m, method_pointer_77b1027b967a519a86d7007af1f1ac76, \u001b[33m\"\u001b[39;49;00m\u001b[33m\"\u001b[39;49;00m);\r\n",
      "    class_a6aedb4654a55a40aeecf4b1dc5fcc98.def(\u001b[33m\"\u001b[39;49;00m\u001b[33mget_loc_start\u001b[39;49;00m\u001b[33m\"\u001b[39;49;00m, method_pointer_e58a65651a9a5134ad16d00510a4f43c, \u001b[33m\"\u001b[39;49;00m\u001b[33m\"\u001b[39;49;00m);\r\n",
      "    class_a6aedb4654a55a40aeecf4b1dc5fcc98.def(\u001b[33m\"\u001b[39;49;00m\u001b[33mget_location\u001b[39;49;00m\u001b[33m\"\u001b[39;49;00m, method_pointer_829df40a405457d7a5b466a82e4e9a8a, \u001b[33m\"\u001b[39;49;00m\u001b[33m\"\u001b[39;49;00m);\r\n",
      "    class_a6aedb4654a55a40aeecf4b1dc5fcc98.def(\u001b[33m\"\u001b[39;49;00m\u001b[33mget_max_alignment\u001b[39;49;00m\u001b[33m\"\u001b[39;49;00m, method_pointer_7b555cd83940599aba60d8ba3534c284, \u001b[33m\"\u001b[39;49;00m\u001b[33m\"\u001b[39;49;00m);\r\n",
      "    class_a6aedb4654a55a40aeecf4b1dc5fcc98.def(\u001b[33m\"\u001b[39;49;00m\u001b[33mget_most_recent_decl\u001b[39;49;00m\u001b[33m\"\u001b[39;49;00m, method_pointer_980b4bd5ec495b75b506540ae5ac1f4d, boost::python::return_value_policy< boost::python::reference_existing_object >(), \u001b[33m\"\u001b[39;49;00m\u001b[33m\"\u001b[39;49;00m);\r\n",
      "    class_a6aedb4654a55a40aeecf4b1dc5fcc98.def(\u001b[33m\"\u001b[39;49;00m\u001b[33mget_most_recent_decl\u001b[39;49;00m\u001b[33m\"\u001b[39;49;00m, method_pointer_d4e9084157165aaa9bc70bf7588b2403, boost::python::return_value_policy< boost::python::reference_existing_object >(), \u001b[33m\"\u001b[39;49;00m\u001b[33m\"\u001b[39;49;00m);\r\n",
      "    class_a6aedb4654a55a40aeecf4b1dc5fcc98.def(\u001b[33m\"\u001b[39;49;00m\u001b[33mget_next_decl_in_context\u001b[39;49;00m\u001b[33m\"\u001b[39;49;00m, method_pointer_9a481600c3fb5ce6945b994c90bf835f, boost::python::return_value_policy< boost::python::reference_existing_object >(), \u001b[33m\"\u001b[39;49;00m\u001b[33m\"\u001b[39;49;00m);\r\n",
      "    class_a6aedb4654a55a40aeecf4b1dc5fcc98.def(\u001b[33m\"\u001b[39;49;00m\u001b[33mget_next_decl_in_context\u001b[39;49;00m\u001b[33m\"\u001b[39;49;00m, method_pointer_728cc61a1e5458adbbc72311d86f1eb6, boost::python::return_value_policy< boost::python::reference_existing_object >(), \u001b[33m\"\u001b[39;49;00m\u001b[33m\"\u001b[39;49;00m);\r\n",
      "    class_a6aedb4654a55a40aeecf4b1dc5fcc98.def(\u001b[33m\"\u001b[39;49;00m\u001b[33mget_non_closure_context\u001b[39;49;00m\u001b[33m\"\u001b[39;49;00m, method_pointer_8d2ac834c9e1596fafc8d27be3dfd474, boost::python::return_value_policy< boost::python::reference_existing_object >(), \u001b[33m\"\u001b[39;49;00m\u001b[33m\"\u001b[39;49;00m);\r\n",
      "    class_a6aedb4654a55a40aeecf4b1dc5fcc98.def(\u001b[33m\"\u001b[39;49;00m\u001b[33mget_non_closure_context\u001b[39;49;00m\u001b[33m\"\u001b[39;49;00m, method_pointer_ff9da602d8b054f9b59da76d4db56263, boost::python::return_value_policy< boost::python::reference_existing_object >(), \u001b[33m\"\u001b[39;49;00m\u001b[33m\"\u001b[39;49;00m);\r\n",
      "    class_a6aedb4654a55a40aeecf4b1dc5fcc98.def(\u001b[33m\"\u001b[39;49;00m\u001b[33mget_owning_module_id\u001b[39;49;00m\u001b[33m\"\u001b[39;49;00m, method_pointer_83ebce20e86c5b32a4f38db0f809a89f, \u001b[33m\"\u001b[39;49;00m\u001b[33m\"\u001b[39;49;00m);\r\n",
      "    class_a6aedb4654a55a40aeecf4b1dc5fcc98.def(\u001b[33m\"\u001b[39;49;00m\u001b[33mget_parent_function_or_method\u001b[39;49;00m\u001b[33m\"\u001b[39;49;00m, method_pointer_ddb1cd90b7b9516bbff48bfd5d75b4fa, boost::python::return_value_policy< boost::python::reference_existing_object >(), \u001b[33m\"\u001b[39;49;00m\u001b[33m\"\u001b[39;49;00m);\r\n",
      "    class_a6aedb4654a55a40aeecf4b1dc5fcc98.def(\u001b[33m\"\u001b[39;49;00m\u001b[33mget_parent_function_or_method\u001b[39;49;00m\u001b[33m\"\u001b[39;49;00m, method_pointer_ce338fc54a8453998fd72992c138383c, boost::python::return_value_policy< boost::python::reference_existing_object >(), \u001b[33m\"\u001b[39;49;00m\u001b[33m\"\u001b[39;49;00m);\r\n",
      "    class_a6aedb4654a55a40aeecf4b1dc5fcc98.def(\u001b[33m\"\u001b[39;49;00m\u001b[33mget_previous_decl\u001b[39;49;00m\u001b[33m\"\u001b[39;49;00m, method_pointer_856cd46d1d5254b0b1eacab1f2161c2d, boost::python::return_value_policy< boost::python::reference_existing_object >(), \u001b[33m\"\u001b[39;49;00m\u001b[33m\"\u001b[39;49;00m);\r\n",
      "    class_a6aedb4654a55a40aeecf4b1dc5fcc98.def(\u001b[33m\"\u001b[39;49;00m\u001b[33mget_previous_decl\u001b[39;49;00m\u001b[33m\"\u001b[39;49;00m, method_pointer_b3371f08247d5b63b94ba09aab0b60e9, boost::python::return_value_policy< boost::python::reference_existing_object >(), \u001b[33m\"\u001b[39;49;00m\u001b[33m\"\u001b[39;49;00m);\r\n",
      "    class_a6aedb4654a55a40aeecf4b1dc5fcc98.def(\u001b[33m\"\u001b[39;49;00m\u001b[33mget_translation_unit_decl\u001b[39;49;00m\u001b[33m\"\u001b[39;49;00m, method_pointer_1f61cfc3cc9c597195e4e43fc360d8e3, boost::python::return_value_policy< boost::python::reference_existing_object >(), \u001b[33m\"\u001b[39;49;00m\u001b[33m\"\u001b[39;49;00m);\r\n",
      "    class_a6aedb4654a55a40aeecf4b1dc5fcc98.def(\u001b[33m\"\u001b[39;49;00m\u001b[33mget_translation_unit_decl\u001b[39;49;00m\u001b[33m\"\u001b[39;49;00m, method_pointer_d258ed71ee025de78a370b9c4afa3910, boost::python::return_value_policy< boost::python::reference_existing_object >(), \u001b[33m\"\u001b[39;49;00m\u001b[33m\"\u001b[39;49;00m);\r\n",
      "    class_a6aedb4654a55a40aeecf4b1dc5fcc98.def(\u001b[33m\"\u001b[39;49;00m\u001b[33mhas_attrs\u001b[39;49;00m\u001b[33m\"\u001b[39;49;00m, method_pointer_21c21d26b85a5213a75a67fd0fb8affb, \u001b[33m\"\u001b[39;49;00m\u001b[33m\"\u001b[39;49;00m);\r\n",
      "    class_a6aedb4654a55a40aeecf4b1dc5fcc98.def(\u001b[33m\"\u001b[39;49;00m\u001b[33mhas_body\u001b[39;49;00m\u001b[33m\"\u001b[39;49;00m, method_pointer_9fb428bf9fed5b12b28d0d4a3fd0fe3a, \u001b[33m\"\u001b[39;49;00m\u001b[33m\"\u001b[39;49;00m);\r\n",
      "    class_a6aedb4654a55a40aeecf4b1dc5fcc98.def(\u001b[33m\"\u001b[39;49;00m\u001b[33mhas_tag_identifier_namespace\u001b[39;49;00m\u001b[33m\"\u001b[39;49;00m, method_pointer_f3b7f1e27d9e527b853b389b71bbff3c, \u001b[33m\"\u001b[39;49;00m\u001b[33m\"\u001b[39;49;00m);\r\n",
      "    class_a6aedb4654a55a40aeecf4b1dc5fcc98.def(\u001b[33m\"\u001b[39;49;00m\u001b[33mis_canonical_decl\u001b[39;49;00m\u001b[33m\"\u001b[39;49;00m, method_pointer_6b0441a394c75d4a86f4f8e4caf29398, \u001b[33m\"\u001b[39;49;00m\u001b[33m\"\u001b[39;49;00m);\r\n",
      "    class_a6aedb4654a55a40aeecf4b1dc5fcc98.def(\u001b[33m\"\u001b[39;49;00m\u001b[33mis_defined_outside_function_or_method\u001b[39;49;00m\u001b[33m\"\u001b[39;49;00m, method_pointer_4b6236f3878151a2b363418c7e52511d, \u001b[33m\"\u001b[39;49;00m\u001b[33m\"\u001b[39;49;00m);\r\n",
      "    class_a6aedb4654a55a40aeecf4b1dc5fcc98.def(\u001b[33m\"\u001b[39;49;00m\u001b[33mis_first_decl\u001b[39;49;00m\u001b[33m\"\u001b[39;49;00m, method_pointer_24e40f781150596ca7f5273a4c2f4522, \u001b[33m\"\u001b[39;49;00m\u001b[33m\"\u001b[39;49;00m);\r\n",
      "    class_a6aedb4654a55a40aeecf4b1dc5fcc98.def(\u001b[33m\"\u001b[39;49;00m\u001b[33mis_from_ast_file\u001b[39;49;00m\u001b[33m\"\u001b[39;49;00m, method_pointer_6c43696e2ec854c0bf5100dcd4699b4b, \u001b[33m\"\u001b[39;49;00m\u001b[33m\"\u001b[39;49;00m);\r\n",
      "    class_a6aedb4654a55a40aeecf4b1dc5fcc98.def(\u001b[33m\"\u001b[39;49;00m\u001b[33mis_function_or_function_template\u001b[39;49;00m\u001b[33m\"\u001b[39;49;00m, method_pointer_6319c723244856fb9e4b046e81e5aaed, \u001b[33m\"\u001b[39;49;00m\u001b[33m\"\u001b[39;49;00m);\r\n",
      "    class_a6aedb4654a55a40aeecf4b1dc5fcc98.def(\u001b[33m\"\u001b[39;49;00m\u001b[33mis_implicit\u001b[39;49;00m\u001b[33m\"\u001b[39;49;00m, method_pointer_d8939ccab0dd55f0b1838165f6e507fc, \u001b[33m\"\u001b[39;49;00m\u001b[33m\"\u001b[39;49;00m);\r\n",
      "    class_a6aedb4654a55a40aeecf4b1dc5fcc98.def(\u001b[33m\"\u001b[39;49;00m\u001b[33mis_in_anonymous_namespace\u001b[39;49;00m\u001b[33m\"\u001b[39;49;00m, method_pointer_86b1c0dfb67e5a4e9ea75753e6bb9858, \u001b[33m\"\u001b[39;49;00m\u001b[33m\"\u001b[39;49;00m);\r\n",
      "    class_a6aedb4654a55a40aeecf4b1dc5fcc98.def(\u001b[33m\"\u001b[39;49;00m\u001b[33mis_in_identifier_namespace\u001b[39;49;00m\u001b[33m\"\u001b[39;49;00m, method_pointer_90abe0be1b5055648974f6b1b7a80b24, \u001b[33m\"\u001b[39;49;00m\u001b[33m\"\u001b[39;49;00m);\r\n",
      "    class_a6aedb4654a55a40aeecf4b1dc5fcc98.def(\u001b[33m\"\u001b[39;49;00m\u001b[33mis_in_std_namespace\u001b[39;49;00m\u001b[33m\"\u001b[39;49;00m, method_pointer_0ef1773cac0a57dca4ede182647feff2, \u001b[33m\"\u001b[39;49;00m\u001b[33m\"\u001b[39;49;00m);\r\n",
      "    class_a6aedb4654a55a40aeecf4b1dc5fcc98.def(\u001b[33m\"\u001b[39;49;00m\u001b[33mis_invalid_decl\u001b[39;49;00m\u001b[33m\"\u001b[39;49;00m, method_pointer_6ecf32ec2ec45346a53b4e0dd086b63e, \u001b[33m\"\u001b[39;49;00m\u001b[33m\"\u001b[39;49;00m);\r\n",
      "    class_a6aedb4654a55a40aeecf4b1dc5fcc98.def(\u001b[33m\"\u001b[39;49;00m\u001b[33mis_lexically_within_function_or_method\u001b[39;49;00m\u001b[33m\"\u001b[39;49;00m, method_pointer_b6be3077529b54c4bf8716d9236685c6, \u001b[33m\"\u001b[39;49;00m\u001b[33m\"\u001b[39;49;00m);\r\n",
      "    class_a6aedb4654a55a40aeecf4b1dc5fcc98.def(\u001b[33m\"\u001b[39;49;00m\u001b[33mis_local_extern_decl\u001b[39;49;00m\u001b[33m\"\u001b[39;49;00m, method_pointer_61d8c6030a2257629a3593ccad2154df, \u001b[33m\"\u001b[39;49;00m\u001b[33m\"\u001b[39;49;00m);\r\n",
      "    class_a6aedb4654a55a40aeecf4b1dc5fcc98.def(\u001b[33m\"\u001b[39;49;00m\u001b[33mis_module_private\u001b[39;49;00m\u001b[33m\"\u001b[39;49;00m, method_pointer_c6061e30075354d9aa6c6dc491ec8537, \u001b[33m\"\u001b[39;49;00m\u001b[33m\"\u001b[39;49;00m);\r\n",
      "    class_a6aedb4654a55a40aeecf4b1dc5fcc98.def(\u001b[33m\"\u001b[39;49;00m\u001b[33mis_out_of_line\u001b[39;49;00m\u001b[33m\"\u001b[39;49;00m, method_pointer_1059b0f44c4658c88c8d38c45ce15404, \u001b[33m\"\u001b[39;49;00m\u001b[33m\"\u001b[39;49;00m);\r\n",
      "    class_a6aedb4654a55a40aeecf4b1dc5fcc98.def(\u001b[33m\"\u001b[39;49;00m\u001b[33mis_parameter_pack\u001b[39;49;00m\u001b[33m\"\u001b[39;49;00m, method_pointer_92446016c1f7560fb3447cd606932e33, \u001b[33m\"\u001b[39;49;00m\u001b[33m\"\u001b[39;49;00m);\r\n",
      "    class_a6aedb4654a55a40aeecf4b1dc5fcc98.def(\u001b[33m\"\u001b[39;49;00m\u001b[33mis_referenced\u001b[39;49;00m\u001b[33m\"\u001b[39;49;00m, method_pointer_d4af83f991275d50beba5adcaa574450, \u001b[33m\"\u001b[39;49;00m\u001b[33m\"\u001b[39;49;00m);\r\n",
      "    class_a6aedb4654a55a40aeecf4b1dc5fcc98.def(\u001b[33m\"\u001b[39;49;00m\u001b[33mis_tag_identifier_namespace\u001b[39;49;00m\u001b[33m\"\u001b[39;49;00m, method_pointer_6dcf03d0a1505056a33571cbb2032ab2, \u001b[33m\"\u001b[39;49;00m\u001b[33m\"\u001b[39;49;00m);\r\n",
      "    class_a6aedb4654a55a40aeecf4b1dc5fcc98.def(\u001b[33m\"\u001b[39;49;00m\u001b[33mis_template_decl\u001b[39;49;00m\u001b[33m\"\u001b[39;49;00m, method_pointer_251d6106b74d537dbd4f2dc7e84d4f2c, \u001b[33m\"\u001b[39;49;00m\u001b[33m\"\u001b[39;49;00m);\r\n",
      "    class_a6aedb4654a55a40aeecf4b1dc5fcc98.def(\u001b[33m\"\u001b[39;49;00m\u001b[33mis_template_parameter\u001b[39;49;00m\u001b[33m\"\u001b[39;49;00m, method_pointer_f10b07ca835e5899b09c5128ce5adac7, \u001b[33m\"\u001b[39;49;00m\u001b[33m\"\u001b[39;49;00m);\r\n",
      "    class_a6aedb4654a55a40aeecf4b1dc5fcc98.def(\u001b[33m\"\u001b[39;49;00m\u001b[33mis_template_parameter_pack\u001b[39;49;00m\u001b[33m\"\u001b[39;49;00m, method_pointer_d56f9a22924b56e18e58a31ac84af172, \u001b[33m\"\u001b[39;49;00m\u001b[33m\"\u001b[39;49;00m);\r\n",
      "    class_a6aedb4654a55a40aeecf4b1dc5fcc98.def(\u001b[33m\"\u001b[39;49;00m\u001b[33mis_this_declaration_referenced\u001b[39;49;00m\u001b[33m\"\u001b[39;49;00m, method_pointer_f7b98588012b5c6caf281ca413165218, \u001b[33m\"\u001b[39;49;00m\u001b[33m\"\u001b[39;49;00m);\r\n",
      "    class_a6aedb4654a55a40aeecf4b1dc5fcc98.def(\u001b[33m\"\u001b[39;49;00m\u001b[33mis_top_level_decl_in_obj_c_container\u001b[39;49;00m\u001b[33m\"\u001b[39;49;00m, method_pointer_74a590492b565fb5ae89cf2735e66163, \u001b[33m\"\u001b[39;49;00m\u001b[33m\"\u001b[39;49;00m);\r\n",
      "    class_a6aedb4654a55a40aeecf4b1dc5fcc98.def(\u001b[33m\"\u001b[39;49;00m\u001b[33mis_used\u001b[39;49;00m\u001b[33m\"\u001b[39;49;00m, method_pointer_fe38f7da1b875561a11196fb7608cd8c, \u001b[33m\"\u001b[39;49;00m\u001b[33m\"\u001b[39;49;00m);\r\n",
      "    class_a6aedb4654a55a40aeecf4b1dc5fcc98.def(\u001b[33m\"\u001b[39;49;00m\u001b[33mis_weak_imported\u001b[39;49;00m\u001b[33m\"\u001b[39;49;00m, method_pointer_480921ff84f05fb7ba00a4c38c2478fd, \u001b[33m\"\u001b[39;49;00m\u001b[33m\"\u001b[39;49;00m);\r\n",
      "    class_a6aedb4654a55a40aeecf4b1dc5fcc98.def(\u001b[33m\"\u001b[39;49;00m\u001b[33mmark_used\u001b[39;49;00m\u001b[33m\"\u001b[39;49;00m, method_pointer_88a9fa98d4515a259477670ce1f7b9fc, \u001b[33m\"\u001b[39;49;00m\u001b[33m\"\u001b[39;49;00m);\r\n",
      "    class_a6aedb4654a55a40aeecf4b1dc5fcc98.def(\u001b[33m\"\u001b[39;49;00m\u001b[33mset_access\u001b[39;49;00m\u001b[33m\"\u001b[39;49;00m, method_pointer_03197315308e56aca991b60a7dede286, \u001b[33m\"\u001b[39;49;00m\u001b[33m\"\u001b[39;49;00m);\r\n",
      "    class_a6aedb4654a55a40aeecf4b1dc5fcc98.def(\u001b[33m\"\u001b[39;49;00m\u001b[33mset_decl_context\u001b[39;49;00m\u001b[33m\"\u001b[39;49;00m, method_pointer_7328d8d92708536db0be85b8719b5eee, \u001b[33m\"\u001b[39;49;00m\u001b[33m\"\u001b[39;49;00m);\r\n",
      "    class_a6aedb4654a55a40aeecf4b1dc5fcc98.def(\u001b[33m\"\u001b[39;49;00m\u001b[33mset_implicit\u001b[39;49;00m\u001b[33m\"\u001b[39;49;00m, method_pointer_b40f24ee4be052ea9d923070b0fcacd3, \u001b[33m\"\u001b[39;49;00m\u001b[33m\"\u001b[39;49;00m);\r\n",
      "    class_a6aedb4654a55a40aeecf4b1dc5fcc98.def(\u001b[33m\"\u001b[39;49;00m\u001b[33mset_invalid_decl\u001b[39;49;00m\u001b[33m\"\u001b[39;49;00m, method_pointer_e848605664f35fc09b79c25bd964bf9f, \u001b[33m\"\u001b[39;49;00m\u001b[33m\"\u001b[39;49;00m);\r\n",
      "    class_a6aedb4654a55a40aeecf4b1dc5fcc98.def(\u001b[33m\"\u001b[39;49;00m\u001b[33mset_is_used\u001b[39;49;00m\u001b[33m\"\u001b[39;49;00m, method_pointer_8c717110d0ee57fb8718e4e62e032bf1, \u001b[33m\"\u001b[39;49;00m\u001b[33m\"\u001b[39;49;00m);\r\n",
      "    class_a6aedb4654a55a40aeecf4b1dc5fcc98.def(\u001b[33m\"\u001b[39;49;00m\u001b[33mset_lexical_decl_context\u001b[39;49;00m\u001b[33m\"\u001b[39;49;00m, method_pointer_ccaa41017a445efda8bd0d3dd3c1a637, \u001b[33m\"\u001b[39;49;00m\u001b[33m\"\u001b[39;49;00m);\r\n",
      "    class_a6aedb4654a55a40aeecf4b1dc5fcc98.def(\u001b[33m\"\u001b[39;49;00m\u001b[33mset_local_extern_decl\u001b[39;49;00m\u001b[33m\"\u001b[39;49;00m, method_pointer_5674e32d2ee656e9b7680b3ea9fb5736, \u001b[33m\"\u001b[39;49;00m\u001b[33m\"\u001b[39;49;00m);\r\n",
      "    class_a6aedb4654a55a40aeecf4b1dc5fcc98.def(\u001b[33m\"\u001b[39;49;00m\u001b[33mset_location\u001b[39;49;00m\u001b[33m\"\u001b[39;49;00m, method_pointer_ed72436729625246939d9e5f147f79a4, \u001b[33m\"\u001b[39;49;00m\u001b[33m\"\u001b[39;49;00m);\r\n",
      "    class_a6aedb4654a55a40aeecf4b1dc5fcc98.def(\u001b[33m\"\u001b[39;49;00m\u001b[33mset_non_member_operator\u001b[39;49;00m\u001b[33m\"\u001b[39;49;00m, method_pointer_1f842522ad61514483262f87f3054bb3, \u001b[33m\"\u001b[39;49;00m\u001b[33m\"\u001b[39;49;00m);\r\n",
      "    class_a6aedb4654a55a40aeecf4b1dc5fcc98.def(\u001b[33m\"\u001b[39;49;00m\u001b[33mset_object_of_friend_decl\u001b[39;49;00m\u001b[33m\"\u001b[39;49;00m, method_pointer_e747d7ea60ba5050a8002938de3319fd, \u001b[33m\"\u001b[39;49;00m\u001b[33m\"\u001b[39;49;00m);\r\n",
      "    class_a6aedb4654a55a40aeecf4b1dc5fcc98.def(\u001b[33m\"\u001b[39;49;00m\u001b[33mset_referenced\u001b[39;49;00m\u001b[33m\"\u001b[39;49;00m, method_pointer_3e667d38b1165293982482b4b10a0daa, \u001b[33m\"\u001b[39;49;00m\u001b[33m\"\u001b[39;49;00m);\r\n",
      "    class_a6aedb4654a55a40aeecf4b1dc5fcc98.def(\u001b[33m\"\u001b[39;49;00m\u001b[33mset_top_level_decl_in_obj_c_container\u001b[39;49;00m\u001b[33m\"\u001b[39;49;00m, method_pointer_e8382280f3a25f27af56c4e074b62942, \u001b[33m\"\u001b[39;49;00m\u001b[33m\"\u001b[39;49;00m);\r\n",
      "    class_a6aedb4654a55a40aeecf4b1dc5fcc98.staticmethod(\u001b[33m\"\u001b[39;49;00m\u001b[33mcast_from_decl_context\u001b[39;49;00m\u001b[33m\"\u001b[39;49;00m);\r\n",
      "    class_a6aedb4654a55a40aeecf4b1dc5fcc98.staticmethod(\u001b[33m\"\u001b[39;49;00m\u001b[33mcast_to_decl_context\u001b[39;49;00m\u001b[33m\"\u001b[39;49;00m);\r\n",
      "    class_a6aedb4654a55a40aeecf4b1dc5fcc98.staticmethod(\u001b[33m\"\u001b[39;49;00m\u001b[33menable_statistics\u001b[39;49;00m\u001b[33m\"\u001b[39;49;00m);\r\n",
      "    class_a6aedb4654a55a40aeecf4b1dc5fcc98.staticmethod(\u001b[33m\"\u001b[39;49;00m\u001b[33madd\u001b[39;49;00m\u001b[33m\"\u001b[39;49;00m);\r\n",
      "    class_a6aedb4654a55a40aeecf4b1dc5fcc98.staticmethod(\u001b[33m\"\u001b[39;49;00m\u001b[33mclassof_kind\u001b[39;49;00m\u001b[33m\"\u001b[39;49;00m);\r\n",
      "    class_a6aedb4654a55a40aeecf4b1dc5fcc98.staticmethod(\u001b[33m\"\u001b[39;49;00m\u001b[33mprint_stats\u001b[39;49;00m\u001b[33m\"\u001b[39;49;00m);\r\n",
      "    class_a6aedb4654a55a40aeecf4b1dc5fcc98.staticmethod(\u001b[33m\"\u001b[39;49;00m\u001b[33mget_identifier_namespace_for_kind\u001b[39;49;00m\u001b[33m\"\u001b[39;49;00m);\r\n",
      "    class_a6aedb4654a55a40aeecf4b1dc5fcc98.staticmethod(\u001b[33m\"\u001b[39;49;00m\u001b[33mis_tag_identifier_namespace\u001b[39;49;00m\u001b[33m\"\u001b[39;49;00m);\r\n",
      "    class_a6aedb4654a55a40aeecf4b1dc5fcc98.def(\u001b[33m\"\u001b[39;49;00m\u001b[33mget_comment\u001b[39;49;00m\u001b[33m\"\u001b[39;49;00m, function_group::function_2f57761bdd4557c4a0c6105a5a01623b, \u001b[33m\"\u001b[39;49;00m\u001b[33m\"\u001b[39;49;00m);\r\n",
      "    \u001b[34mif\u001b[39;49;00m(autowig::Held< \u001b[34mclass\u001b[39;49;00m \u001b[04m\u001b[31;01m:\u001b[39;49;00m\u001b[04m\u001b[31;01m:\u001b[39;49;00m\u001b[04m\u001b[32mclang\u001b[39;49;00m::Decl >::is_class)\r\n",
      "    {\r\n",
      "        boost::python::implicitly_convertible< autowig::Held< autowig::Wrap_a6aedb4654a55a40aeecf4b1dc5fcc98 >::Type, autowig::Held< \u001b[34mclass\u001b[39;49;00m \u001b[04m\u001b[31;01m:\u001b[39;49;00m\u001b[04m\u001b[31;01m:\u001b[39;49;00m\u001b[04m\u001b[32mclang\u001b[39;49;00m::Decl >::Type >();\r\n",
      "        boost::python::register_ptr_to_python< autowig::Held< \u001b[34mclass\u001b[39;49;00m \u001b[04m\u001b[31;01m:\u001b[39;49;00m\u001b[04m\u001b[31;01m:\u001b[39;49;00m\u001b[04m\u001b[32mclang\u001b[39;49;00m::Decl >::Type >();\r\n",
      "    }    \r\n",
      "\r\n",
      "}\r\n"
     ]
    }
   ],
   "source": [
    "if is_windows:\n",
    "    !pygmentize ..\\git\\ClangLite\\src\\py\\wrapper_a6aedb4654a55a40aeecf4b1dc5fcc98.cpp\n",
    "else:\n",
    "    !pygmentize ../git/ClangLite/src/py/wrapper_a6aedb4654a55a40aeecf4b1dc5fcc98.cpp"
   ]
  },
  {
   "cell_type": "markdown",
   "metadata": {},
   "source": [
    "Once the wrappers are written on the disk, the bingings must be compiled and installed.\n",
    "This can be done using available **Conda** recipes."
   ]
  },
  {
   "cell_type": "code",
   "execution_count": 13,
   "metadata": {
    "scrolled": true
   },
   "outputs": [
    {
     "name": "stdout",
     "output_type": "stream",
     "text": [
      "\n",
      "\n",
      "\n",
      "####################################################################################\n",
      "Source and build intermediates have been left in /Users/pfernique/.miniconda/conda-bld.\n",
      "There are currently 19 accumulated.\n",
      "To remove them, you can run the ```conda build purge``` command\n",
      "Fetching package metadata .................\n",
      "Solving package specifications: .\n",
      "\n",
      "Package plan for installation in environment /Users/pfernique/.miniconda/envs/FP17:\n",
      "\n",
      "The following packages will be SUPERSEDED by a higher-priority channel:\n",
      "\n",
      "    python-clanglite: 3.8.1-py27_0 statiskit --> 3.8.1-py27_0 local\n",
      "\n"
     ]
    }
   ],
   "source": [
    "if is_windows:\n",
    "    !conda build --python=%PYTHON_VERSION% ..\\git\\ClangLite\\bin\\conda\\python-clanglite -c statiskit -c conda-forge\n",
    "else:\n",
    "    !conda build --python=$PYTHON_VERSION ../git/ClangLite/bin/conda/python-clanglite -c statiskit -c conda-forge\n",
    "!conda install -y python-clanglite --use-local -c statiskit -c conda-forge --force"
   ]
  },
  {
   "cell_type": "markdown",
   "metadata": {},
   "source": [
    "Here is a report concerning objects wrapped using this notebook."
   ]
  },
  {
   "cell_type": "code",
   "execution_count": 14,
   "metadata": {},
   "outputs": [
    {
     "name": "stdout",
     "output_type": "stream",
     "text": [
      "Headers: 730 (283630 SLOC)\n",
      "Enumerations: 591 (1.02%)\n",
      "Variables: 2548 (0.0%)\n",
      "Functions: 19782 (0.01%)\n",
      "Classes: 2218 (6.36%)\n"
     ]
    }
   ],
   "source": [
    "import fp17\n",
    "fp17.report(asg)"
   ]
  }
 ],
 "metadata": {
  "anaconda-cloud": {},
  "kernelspec": {
   "display_name": "Python 2",
   "language": "python",
   "name": "python2"
  },
  "language_info": {
   "codemirror_mode": {
    "name": "ipython",
    "version": 2
   },
   "file_extension": ".py",
   "mimetype": "text/x-python",
   "name": "python",
   "nbconvert_exporter": "python",
   "pygments_lexer": "ipython2",
   "version": "2.7.13"
  },
  "toc": {
   "colors": {
    "hover_highlight": "#DAA520",
    "navigate_num": "#000000",
    "navigate_text": "#333333",
    "running_highlight": "#FF0000",
    "selected_highlight": "#FFD700",
    "sidebar_border": "#EEEEEE",
    "wrapper_background": "#FFFFFF"
   },
   "moveMenuLeft": true,
   "nav_menu": {
    "height": "45px",
    "width": "252px"
   },
   "navigate_menu": true,
   "number_sections": true,
   "sideBar": true,
   "threshold": 4,
   "toc_cell": false,
   "toc_section_display": "block",
   "toc_window_display": false,
   "widenNotebook": false
  }
 },
 "nbformat": 4,
 "nbformat_minor": 1
}
