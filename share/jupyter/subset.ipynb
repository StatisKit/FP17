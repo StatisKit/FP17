{
 "cells": [
  {
   "cell_type": "markdown",
   "metadata": {},
   "source": [
    "# Wrapping a subset of a very large library\n",
    "\n",
    "Sometimes, for a very large library, only a subset of available *C++* components is useful for end-users.\n",
    "Wrapping such libraries therefore requires **AutoWIG** to be able to consider only a subset of the *C++* components during the `Generate` step.\n",
    "The **Clang** library is a complete *C*/*C++* compiler.\n",
    "**Clang** is a great tool, but its stable *Python* interface (i.e., **libclang**) is lacking some useful features that are needed by **AutoWIG**.\n",
    "In particular, class template specializations are not available in the abstract syntax tree.\n",
    "Fortunately, most of the classes that are needed during the traversal of the *C++* abstract syntax tree are not template specializations.\n",
    "We therefore bootstrapped the **Clang** *Python* bindings using the `libclang` `parser` of **AutoWIG**.\n",
    "This new **Clang** *Python* interface is called **ClangLite** and is able to parse class template specializations.\n",
    "As for **libclang**, this interface is proposed only for a subset of the **Clang** library sufficient enough for proposing the new `clanglite` `parser`.\n",
    "\n",
    "\n",
    "We here aim at presenting how subsets of very large libraries can be wrappred.\n",
    "First, we need:\n",
    "\n",
    "* to detect if the operating system (OS) is a Windows OS or a Unix OS."
   ]
  },
  {
   "cell_type": "code",
   "execution_count": 1,
   "metadata": {},
   "outputs": [],
   "source": [
    "import platform\n",
    "is_windows = any(platform.win32_ver())"
   ]
  },
  {
   "cell_type": "markdown",
   "metadata": {},
   "source": [
    "* to detect the version of *Python* installed and to save it in the `PYTHON_VERSION` environment variable."
   ]
  },
  {
   "cell_type": "code",
   "execution_count": 2,
   "metadata": {},
   "outputs": [],
   "source": [
    "import os\n",
    "import sys\n",
    "os.environ['PYTHON_VERSION'] = str(sys.version_info.major) + '.' + str(sys.version_info.minor)"
   ]
  },
  {
   "cell_type": "markdown",
   "metadata": {},
   "source": [
    "* to import **AutoWIG**."
   ]
  },
  {
   "cell_type": "code",
   "execution_count": 3,
   "metadata": {},
   "outputs": [],
   "source": [
    "import autowig"
   ]
  },
  {
   "cell_type": "raw",
   "metadata": {},
   "source": [
    "Then, in addition to the **Clang** library, the **ClangLite** library has to be installed in order to have access to some functionalities.\n",
    "To do so, we use available **Conda** recipes."
   ]
  },
  {
   "cell_type": "raw",
   "metadata": {
    "scrolled": true
   },
   "source": [
    "if is_windows:\n",
    "    !conda build --python=%PYTHON_VERSION% ..\\git\\ClangLite\\bin\\conda\\libclanglite -c statiskit\n",
    "else:\n",
    "    !conda build --python=$PYTHON_VERSION ../git/ClangLite/bin/conda/libclanglite -c statiskit"
   ]
  },
  {
   "cell_type": "markdown",
   "metadata": {},
   "source": [
    "Once these preliminaries are done, we can proceed to the actual generation of wrappers for the **Clang** & **ClangLite** libraries.\n",
    "For this, we create an empty Abstract Semantic Graph (ASG)."
   ]
  },
  {
   "cell_type": "code",
   "execution_count": 4,
   "metadata": {},
   "outputs": [],
   "source": [
    "asg = autowig.AbstractSemanticGraph()"
   ]
  },
  {
   "cell_type": "markdown",
   "metadata": {},
   "source": [
    "We then parse the `tool.h` header of the **ClangLite** library with relevant compilation flags."
   ]
  },
  {
   "cell_type": "code",
   "execution_count": 5,
   "metadata": {
    "scrolled": true
   },
   "outputs": [
    {
     "name": "stderr",
     "output_type": "stream",
     "text": [
      "/home/pfernique/.miniconda2/envs/fp17/lib/python2.7/site-packages/clanglite/autowig_parser.py:844: Warning: \n",
      "  warnings.warn('', Warning)\n"
     ]
    },
    {
     "name": "stdout",
     "output_type": "stream",
     "text": [
      "CPU times: user 13min 26s, sys: 2.77 s, total: 13min 29s\n",
      "Wall time: 13min 59s\n"
     ]
    }
   ],
   "source": [
    "%%time\n",
    "\n",
    "try:\n",
    "    from path import path as Path\n",
    "except:\n",
    "    from path import Path\n",
    "prefix = Path(sys.prefix).abspath()\n",
    "if is_windows:\n",
    "    headers = [prefix/'Library'/'include'/'clanglite'/'tool.h']\n",
    "else:\n",
    "    headers = [prefix/'include'/'clanglite'/'tool.h']\n",
    "    \n",
    "import six\n",
    "if six.PY2:\n",
    "    try:\n",
    "        autowig.parser.plugin = 'libclang'\n",
    "        kwargs = dict(silent = True)\n",
    "    except:\n",
    "        autowig.parser.plugin = 'clanglite'\n",
    "        kwargs = dict()\n",
    "else:\n",
    "    kwargs = dict()\n",
    "    \n",
    "flags = ['-x', 'c++', '-std=c++11',\n",
    "         '-D__STDC_LIMIT_MACROS',\n",
    "         '-D__STDC_CONSTANT_MACROS']\n",
    "\n",
    "if is_windows:\n",
    "    flags.append('-I' + str((prefix/'Library'/'include').abspath()))\n",
    "    flags.append('-I' + str((prefix/'include').abspath()))\n",
    "else:\n",
    "    flags.append('-I' + str((prefix/'include').abspath()))\n",
    "    flags.append('-I' + str((prefix/'include'/'python' + os.environ['PYTHON_VERSION'] + 'm' * bool(os.environ['PYTHON_VERSION'] == '3.6')).abspath()))\n",
    "\n",
    "asg = autowig.parser(asg,\n",
    "                     headers,\n",
    "                     flags = flags,\n",
    "                     bootstrap = False,\n",
    "                     **kwargs)"
   ]
  },
  {
   "cell_type": "markdown",
   "metadata": {},
   "source": [
    "Since most of **AutoWIG** guidelines are respected in the **Clang** & **ClangLite** libraries, the `default` `controller` implementation could be suitable.\n",
    "Nevertheless, we need to force some *C++* components to be wrapped or not (in particular **Clang** components).\n",
    "We therefore implements a new `controller`."
   ]
  },
  {
   "cell_type": "code",
   "execution_count": 6,
   "metadata": {},
   "outputs": [],
   "source": [
    "def clanglite_controller(asg):\n",
    "    \n",
    "    for node in asg['::boost::python'].classes(nested = True):\n",
    "        node.is_copyable = True\n",
    "        \n",
    "    for node in asg.classes():\n",
    "        node.boost_python_export = False\n",
    "    for node in asg.functions(free=True):\n",
    "        node.boost_python_export = False\n",
    "    for node in asg.variables(free = True):\n",
    "        node.boost_python_export = False\n",
    "    for node in asg.enumerations():\n",
    "        node.boost_python_export = False\n",
    "    for node in asg.enumerators():\n",
    "        if node.parent.boost_python_export:\n",
    "            node.boost_python_export = False\n",
    "    for node in asg.typedefs():\n",
    "        node.boost_python_export = False\n",
    "            \n",
    "    from autowig.default_controller import refactoring\n",
    "    asg = refactoring(asg)\n",
    "\n",
    "    if autowig.parser.plugin == 'libclang':\n",
    "        for fct in asg.functions(free=False):\n",
    "            asg._nodes[fct._node]['_is_virtual'] = False\n",
    "            asg._nodes[fct._node]['_is_pure'] = False\n",
    "        asg['class ::clang::QualType'].is_abstract = False\n",
    "        asg['class ::clang::QualType'].is_copyable = True\n",
    "        asg['class ::llvm::StringRef'].is_abstract = False\n",
    "        asg['class ::llvm::StringRef'].is_copyable = True\n",
    "        asg['class ::clang::FileID'].is_abstract = False\n",
    "        asg['class ::clang::FileID'].is_copyable = True\n",
    "        asg['class ::clang::SourceLocation'].is_abstract = False\n",
    "        asg['class ::clang::SourceLocation'].is_copyable = True\n",
    "        asg['class ::clang::TemplateArgument'].is_abstract = False\n",
    "        asg['class ::clang::TemplateArgument'].is_copyable = True\n",
    "        for cls in ['::clang::FriendDecl', '::clang::CapturedDecl', '::clang::OMPThreadPrivateDecl',\n",
    "                    '::clang::NonTypeTemplateParmDecl', '::clang::TemplateArgumentList', '::clang::ImportDecl',\n",
    "                    '::clang::TemplateTemplateParmDecl', '::clang::CapturedDecl', '::clang::OMPThreadPrivateDecl',\n",
    "                    '::clang::NonTypeTemplateParmDecl', '::clang::TemplateArgumentList', '::clang::ImportDecl',\n",
    "                    '::clang::TemplateTemplateParmDecl']:\n",
    "            asg['class ' + cls].is_abstract = False\n",
    "        \n",
    "    asg['class ::boost::python::api::object'].boost_python_export = True\n",
    "    asg['class ::boost::python::list'].boost_python_export = True \n",
    "    asg['class ::boost::python::str'].boost_python_export = True \n",
    "        \n",
    "    subset = []\n",
    "    classes = [asg['class ::clang::QualType'],\n",
    "               asg['class ::clang::Type'],\n",
    "               asg['class ::clang::Decl']]\n",
    "    subset += classes\n",
    "    for cls in classes:\n",
    "        subset += cls.subclasses(recursive=True)\n",
    "    for cls in subset:\n",
    "        if not cls.globalname.strip('class ') in ['::clang::QualType',\n",
    "                                                  '::llvm::StringRef',\n",
    "                                                  '::clang::FileID',\n",
    "                                                  '::clang::SourceLocation',\n",
    "                                                  '::clang::TemplateArgument',\n",
    "                                                  '::clang::FriendDecl',\n",
    "                                                  '::clang::CapturedDecl',\n",
    "                                                  '::clang::OMPThreadPrivateDecl',\n",
    "                                                  '::clang::NonTypeTemplateParmDecl',\n",
    "                                                  '::clang::TemplateArgumentList',\n",
    "                                                  '::clang::ImportDecl',\n",
    "                                                  '::clang::TemplateTemplateParmDecl']:\n",
    "            cls.is_copyable = False\n",
    "        else:\n",
    "            cls.is_copyable = True\n",
    "    subset.append(asg['class ::llvm::StringRef'])\n",
    "\n",
    "    subset.append(asg['class ::clang::ASTUnit'])\n",
    "    subset.append(asg['class ::clang::ASTContext'])\n",
    "    subset.append(asg['class ::clang::SourceManager'])\n",
    "    subset.append(asg['class ::clang::FileID'])\n",
    "\n",
    "    subset.append(asg['class ::clang::SourceLocation'])\n",
    "\n",
    "    subset.append(asg['class ::clang::CXXBaseSpecifier'])\n",
    "    subset.append(asg['class ::clang::DeclContext'])\n",
    "    subset.append(asg['class ::clang::TemplateArgument'])\n",
    "\n",
    "    subset.append(asg['class ::clang::TemplateArgumentList'])\n",
    "    subset.append(asg['enum ::clang::Type::TypeClass'])\n",
    "    subset.append(asg['enum ::clang::AccessSpecifier'])\n",
    "    subset.append(asg['enum ::clang::LinkageSpecDecl::LanguageIDs'])\n",
    "    subset.append(asg['enum ::clang::BuiltinType::Kind'])\n",
    "    subset.append(asg['enum ::clang::TemplateArgument::ArgKind'])\n",
    "    subset.append(asg['enum ::clang::Decl::Kind'])\n",
    "    subset.extend(asg.nodes('::clanglite::build_ast_from_code_with_args'))\n",
    "\n",
    "    for node in subset:\n",
    "        node.boost_python_export = True\n",
    "        \n",
    "    for fct in asg['::clanglite'].functions():\n",
    "        if not fct.localname == 'build_ast_from_code_with_args':\n",
    "            fct.parent = fct.parameters[0].qualified_type.desugared_type.unqualified_type\n",
    "        fct.boost_python_export = True\n",
    "        \n",
    "    for mtd in asg['class ::clang::ASTContext'].methods(pattern='.*getSourceManager.*'):\n",
    "        if mtd.return_type.globalname == 'class ::clang::SourceManager &':\n",
    "                mtd.boost_python_export = True\n",
    "                break\n",
    "                \n",
    "    if autowig.parser.plugin == 'libclang':\n",
    "        for node in (asg.functions(pattern='.*(llvm|clang).*_(begin|end)')\n",
    "                     + asg.functions(pattern='::clang::CXXRecordDecl::getCaptureFields')\n",
    "                     + asg.functions(pattern='.*(llvm|clang).*getNameAsString')\n",
    "                     + asg.nodes('::clang::NamedDecl::getQualifiedNameAsString')\n",
    "                     + asg.functions(pattern='.*::clang::ObjCProtocolDecl')\n",
    "                     + asg.nodes('::clang::ObjCProtocolDecl::collectInheritedProtocolProperties')\n",
    "                     + asg.nodes('::clang::ASTUnit::LoadFromASTFile')\n",
    "                     + asg.nodes('::clang::ASTUnit::getCachedCompletionTypes')\n",
    "                     + asg.nodes('::clang::ASTUnit::getBufferForFile')\n",
    "                     + asg.nodes('::clang::CXXRecordDecl::getCaptureFields')\n",
    "                     + asg.nodes('::clang::ASTContext::SectionInfos')\n",
    "                     + asg.nodes('::clang::ASTContext::getAllocator')\n",
    "                     + asg.nodes('::clang::ASTContext::getObjCEncoding.*')\n",
    "                     + asg.nodes('::clang::ASTContext::getAllocator')\n",
    "                     + asg.nodes('::clang::QualType::getAsString')\n",
    "                     + asg.nodes('::clang::SourceLocation::printToString')\n",
    "                     + asg['class ::llvm::StringRef'].methods()):\n",
    "            node.boost_python_export = False\n",
    "            \n",
    "    if autowig.parser.plugin == 'clanglite':\n",
    "        for mtd in asg['class ::clang::Decl'].methods():\n",
    "            if mtd.localname == 'hasAttr':\n",
    "                mtd.boost_python_export = False\n",
    "                \n",
    "    import sys\n",
    "    try:\n",
    "        from path import path as Path\n",
    "    except:\n",
    "        from path import Path\n",
    "       \n",
    "    import platform\n",
    "    if any(platform.win32_ver()):\n",
    "        for header in (Path(sys.prefix)/'Library'/'include'/'clang').walkfiles('*.h'):\n",
    "            asg[header.abspath()].is_external_dependency = False\n",
    "    else:\n",
    "        for header in (Path(sys.prefix)/'include'/'clang').walkfiles('*.h'):\n",
    "            asg[header.abspath()].is_external_dependency = False\n",
    "    \n",
    "    return asg"
   ]
  },
  {
   "cell_type": "markdown",
   "metadata": {},
   "source": [
    "This `controller` is then dynamically registered and used on the ASG."
   ]
  },
  {
   "cell_type": "code",
   "execution_count": 7,
   "metadata": {},
   "outputs": [
    {
     "name": "stdout",
     "output_type": "stream",
     "text": [
      "CPU times: user 3min 27s, sys: 400 ms, total: 3min 28s\n",
      "Wall time: 3min 45s\n"
     ]
    }
   ],
   "source": [
    "%%time\n",
    "\n",
    "autowig.controller['clanglite'] = clanglite_controller\n",
    "autowig.controller.plugin = 'clanglite'\n",
    "asg = autowig.controller(asg)"
   ]
  },
  {
   "cell_type": "markdown",
   "metadata": {},
   "source": [
    "In order to wrap a subset of the **Clang** library, we need to select the `boost_python_pattern` `generator` implementation."
   ]
  },
  {
   "cell_type": "code",
   "execution_count": null,
   "metadata": {},
   "outputs": [
    {
     "name": "stdout",
     "output_type": "stream",
     "text": [
      "CPU times: user 1min 2s, sys: 124 ms, total: 1min 2s\n",
      "Wall time: 1min 2s\n"
     ]
    }
   ],
   "source": [
    "%%time\n",
    "\n",
    "autowig.generator.plugin = 'boost_python_pattern'\n",
    "wrappers = autowig.generator(asg,\n",
    "                             module = Path('.')/'..'/'git'/'ClangLite'/'src'/'py'/'_clanglite.cpp',\n",
    "                             decorator = Path('.')/'..'/'git'/'ClangLite'/'src'/'py'/'clanglite'/'_clanglite.py',\n",
    "                             closure = False)"
   ]
  },
  {
   "cell_type": "markdown",
   "metadata": {},
   "source": [
    "The wrappers are only generated in-memory.\n",
    "It is therefore needed to write them on the disk to complete the process."
   ]
  },
  {
   "cell_type": "code",
   "execution_count": null,
   "metadata": {},
   "outputs": [],
   "source": [
    "%%time\n",
    "\n",
    "wrappers.write()"
   ]
  },
  {
   "cell_type": "markdown",
   "metadata": {},
   "source": [
    "Here is the list of the generated wrappers (untracked files)."
   ]
  },
  {
   "cell_type": "code",
   "execution_count": null,
   "metadata": {},
   "outputs": [],
   "source": [
    "if is_windows:\n",
    "    !cd ..\\git\\ClangLite & git status\n",
    "else:\n",
    "    !cd ../git/ClangLite && git status"
   ]
  },
  {
   "cell_type": "markdown",
   "metadata": {},
   "source": [
    "And here, we present the wrappers generated for the `clang::Decl` class."
   ]
  },
  {
   "cell_type": "code",
   "execution_count": null,
   "metadata": {
    "scrolled": true
   },
   "outputs": [],
   "source": [
    "if is_windows:\n",
    "    !pygmentize ..\\git\\ClangLite\\src\\py\\wrapper_a6aedb4654a55a40aeecf4b1dc5fcc98.cpp\n",
    "else:\n",
    "    !pygmentize ../git/ClangLite/src/py/wrapper_a6aedb4654a55a40aeecf4b1dc5fcc98.cpp"
   ]
  },
  {
   "cell_type": "markdown",
   "metadata": {},
   "source": [
    "Once the wrappers are written on the disk, the bingings must be compiled and installed.\n",
    "This can be done using available **Conda** recipes."
   ]
  },
  {
   "cell_type": "code",
   "execution_count": null,
   "metadata": {
    "scrolled": true
   },
   "outputs": [],
   "source": [
    "if is_windows:\n",
    "    !conda build --python=%PYTHON_VERSION% ..\\git\\ClangLite\\bin\\conda\\python-clanglite -c statiskit\n",
    "else:\n",
    "    !conda build --python=$PYTHON_VERSION ../git/ClangLite/bin/conda/python-clanglite -c statiskit"
   ]
  },
  {
   "cell_type": "markdown",
   "metadata": {},
   "source": [
    "Here is a report concerning objects wrapped using this notebook."
   ]
  },
  {
   "cell_type": "code",
   "execution_count": null,
   "metadata": {},
   "outputs": [],
   "source": [
    "import fp17\n",
    "fp17.report(asg)"
   ]
  }
 ],
 "metadata": {
  "anaconda-cloud": {},
  "kernelspec": {
   "display_name": "Python 2",
   "language": "python",
   "name": "python2"
  },
  "language_info": {
   "codemirror_mode": {
    "name": "ipython",
    "version": 2
   },
   "file_extension": ".py",
   "mimetype": "text/x-python",
   "name": "python",
   "nbconvert_exporter": "python",
   "pygments_lexer": "ipython2",
   "version": "2.7.14"
  },
  "toc": {
   "colors": {
    "hover_highlight": "#DAA520",
    "navigate_num": "#000000",
    "navigate_text": "#333333",
    "running_highlight": "#FF0000",
    "selected_highlight": "#FFD700",
    "sidebar_border": "#EEEEEE",
    "wrapper_background": "#FFFFFF"
   },
   "moveMenuLeft": true,
   "nav_menu": {
    "height": "45px",
    "width": "252px"
   },
   "navigate_menu": true,
   "number_sections": true,
   "sideBar": true,
   "threshold": 4,
   "toc_cell": false,
   "toc_section_display": "block",
   "toc_window_display": false,
   "widenNotebook": false
  }
 },
 "nbformat": 4,
 "nbformat_minor": 1
}
